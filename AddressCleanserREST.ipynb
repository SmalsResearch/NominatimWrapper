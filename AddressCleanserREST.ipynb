{
 "cells": [
  {
   "cell_type": "code",
   "execution_count": 31,
   "metadata": {
    "ExecuteTime": {
     "end_time": "2022-12-15T12:41:43.216430Z",
     "start_time": "2022-12-15T12:41:43.195486Z"
    },
    "run_control": {
     "marked": true
    },
    "scrolled": true
   },
   "outputs": [],
   "source": [
    "from flask import Flask,  request,jsonify\n",
    "\n",
    "import pandas as pd\n",
    "\n",
    "import re\n",
    "\n",
    "import os\n",
    "\n",
    "from  importlib import reload\n",
    "import AddressCleanserUtils\n",
    "reload(AddressCleanserUtils)\n",
    "from AddressCleanserUtils import *\n",
    "\n",
    "from IPython.display import display\n",
    "\n",
    "import json\n",
    "\n",
    "import sys, traceback\n",
    "\n",
    "from datetime import datetime, timedelta\n",
    "import time\n"
   ]
  },
  {
   "cell_type": "code",
   "execution_count": 32,
   "metadata": {
    "ExecuteTime": {
     "end_time": "2022-12-15T12:41:45.471142Z",
     "start_time": "2022-12-15T12:41:45.466959Z"
    }
   },
   "outputs": [],
   "source": [
    "import config_REST\n",
    "reload(config_REST)\n",
    "from config_REST import *"
   ]
  },
  {
   "cell_type": "code",
   "execution_count": null,
   "metadata": {
    "ExecuteTime": {
     "end_time": "2020-11-20T14:53:41.993991Z",
     "start_time": "2020-11-20T14:53:41.983190Z"
    }
   },
   "outputs": [],
   "source": [
    "# AddressCleanserUtils.pbar.unregister()\n",
    "\n",
    "AddressCleanserUtils.with_dask         = False\n",
    "AddressCleanserUtils.check_results = True\n",
    "\n",
    "AddressCleanserUtils.addr_key_field  = addr_key_field\n",
    "\n",
    "AddressCleanserUtils.regex_replacements = regex_replacements\n",
    "\n",
    "AddressCleanserUtils.use_osm_parent = use_osm_parent \n",
    "\n"
   ]
  },
  {
   "cell_type": "code",
   "execution_count": null,
   "metadata": {
    "ExecuteTime": {
     "end_time": "2020-11-20T14:53:42.014872Z",
     "start_time": "2020-11-20T14:53:41.999560Z"
    }
   },
   "outputs": [],
   "source": [
    "import logging, os\n",
    "\n",
    "logger = logging.getLogger()\n",
    "\n",
    "# WARNING : no logs\n",
    "# INFO : a few logs\n",
    "# DEBUG : lots of logs\n",
    "\n",
    "\n",
    "env_log_level = os.getenv('LOG_LEVEL', \"MEDIUM\").upper().strip()\n",
    "if env_log_level == \"LOW\":\n",
    "    logger.setLevel(logging.WARNING)\n",
    "elif env_log_level == \"MEDIUM\":\n",
    "    logger.setLevel(logging.INFO)\n",
    "elif env_log_level == \"HIGH\":\n",
    "    logger.setLevel(logging.DEBUG)\n",
    "else :\n",
    "    print(f\"Unkown log level '{env_log_level}'. Should be LOW/MEDIUM/HIGH\")\n",
    "\n",
    "\n"
   ]
  },
  {
   "cell_type": "code",
   "execution_count": null,
   "metadata": {},
   "outputs": [],
   "source": [
    "with_timing = os.getenv('TIMING', \"NO\").upper().strip()\n",
    "if with_timing == \"NO\":\n",
    "    with_timing_info = False\n",
    "elif with_timing == \"YES\":\n",
    "    with_timing_info = True\n",
    "else: \n",
    "    print(f\"Unkown TIMING '{with_timing}'. Should be YES/NO\")\n",
    "    with_timing_info = False\n",
    "log(f\"TIMING: {with_timing_info} ({with_timing})\")"
   ]
  },
  {
   "cell_type": "code",
   "execution_count": null,
   "metadata": {},
   "outputs": [],
   "source": [
    "with_fastmode = os.getenv('FASTMODE', \"NO\").upper().strip()\n",
    "if with_fastmode == \"NO\":\n",
    "    fastmode = False\n",
    "elif with_fastmode == \"YES\":\n",
    "    fastmode = True\n",
    "else: \n",
    "    print(f\"Unkown FASTMODE '{with_fastmode}'. Should be YES/NO\")\n",
    "    fastmode = False\n",
    "log(f\"FASTMODE: {fastmode} ({with_fastmode})\")"
   ]
  },
  {
   "cell_type": "code",
   "execution_count": null,
   "metadata": {
    "ExecuteTime": {
     "end_time": "2020-11-20T14:53:42.032043Z",
     "start_time": "2020-11-20T14:53:42.020891Z"
    }
   },
   "outputs": [],
   "source": [
    "def get_init_df(data):\n",
    "    return pd.DataFrame([{addr_key_field : \"1\",\n",
    "                          street_field:   data[\"street\"],\n",
    "                          housenbr_field: data[\"housenumber\"],\n",
    "                          postcode_field: data[\"postcode\"],\n",
    "                          city_field:     data[\"city\"],\n",
    "                          country_field:  data[\"country\"]\n",
    "                          }])\n",
    "\n"
   ]
  },
  {
   "cell_type": "code",
   "execution_count": null,
   "metadata": {
    "ExecuteTime": {
     "end_time": "2020-11-20T14:53:42.058777Z",
     "start_time": "2020-11-20T14:53:42.041321Z"
    },
    "scrolled": true
   },
   "outputs": [],
   "source": [
    "def get_row_dict(row, orig=False):\n",
    "    if orig: \n",
    "        return row[\"osm_item_result\"]\n",
    "    else: \n",
    "        to_copy_field = [\"osm_id\", \"place_id\", \"lat\",\"lon\",\"display_name\", \"place_rank\", \"method\", \n",
    "                         \"extra_house_nbr\", \"in_house_nbr\", \"lpost_house_nbr\", \"lpost_unit\", \"reject_reason\", \"osm_addr_in\"] + list(collapse_params.keys())  + list(filter(lambda x: x.startswith(\"SIM\"), row.index))\n",
    "        res =  {}\n",
    "\n",
    "        for f in to_copy_field:\n",
    "            if f in row: \n",
    "                res[f] = row[f]\n",
    "\n",
    "        return res"
   ]
  },
  {
   "cell_type": "code",
   "execution_count": null,
   "metadata": {
    "ExecuteTime": {
     "end_time": "2020-11-20T14:53:42.102875Z",
     "start_time": "2020-11-20T14:53:42.094506Z"
    }
   },
   "outputs": [],
   "source": [
    "def format_res(res):\n",
    "    return list(res.fillna(\"\").apply(lambda row: get_row_dict(row, False), axis=1))"
   ]
  },
  {
   "cell_type": "code",
   "execution_count": 34,
   "metadata": {
    "ExecuteTime": {
     "end_time": "2022-12-15T12:42:20.360506Z",
     "start_time": "2022-12-15T12:42:20.355044Z"
    }
   },
   "outputs": [],
   "source": [
    "default_transformers_sequence = [ [\"orig\"],\n",
    "                          [\"regex[init]\"],\n",
    "                          [\"nonum\"],\n",
    "                          [\"libpostal\", \"regex[lpost]\"], \n",
    "                          [\"libpostal\", \"regex[lpost]\", \"nonum\"], \n",
    "                          [\"libpostal\", \"regex[lpost]\", \"photon\"], \n",
    "                          [\"libpostal\", \"regex[lpost]\", \"photon\", \"nonum\"], \n",
    "                          [\"photon\"],\n",
    "                          [\"photon\", \"nonum\"],\n",
    "                          [\"nostreet\"]\n",
    "                        ]\n",
    "\n",
    "\n",
    "transformers_sequence = os.getenv('TRANSFORMERS', default_transformers_sequence)\n",
    "\n",
    "if isinstance(transformers_sequence, str):\n",
    "    try:\n",
    "        transformers_sequence = json.loads(transformers_sequence)\n",
    "    except json.decoder.JSONDecodeError as er:\n",
    "        log(\"Cannot parse TRANSFORMERS parameter... uses the default one\")\n",
    "        transformers_sequence = default_transformers_sequence\n",
    "\n",
    "    \n",
    "    \n",
    "vlog(\"Transformers:\")\n",
    "vlog(transformers_sequence)"
   ]
  },
  {
   "cell_type": "code",
   "execution_count": 1,
   "metadata": {
    "ExecuteTime": {
     "end_time": "2022-06-16T09:27:22.310482Z",
     "start_time": "2022-06-16T09:27:22.304291Z"
    }
   },
   "outputs": [],
   "source": [
    "city_test_from = \"Bruxelles\"\n",
    "city_test_to = [\"Bruxelles\", \"Brussels\"]"
   ]
  },
  {
   "cell_type": "code",
   "execution_count": 2,
   "metadata": {
    "ExecuteTime": {
     "end_time": "2022-06-16T09:27:31.742253Z",
     "start_time": "2022-06-16T09:27:31.725137Z"
    }
   },
   "outputs": [
    {
     "data": {
      "text/plain": [
       "'bruxelles'"
      ]
     },
     "execution_count": 2,
     "metadata": {},
     "output_type": "execute_result"
    }
   ],
   "source": []
  },
  {
   "cell_type": "code",
   "execution_count": null,
   "metadata": {},
   "outputs": [],
   "source": [
    "# Check that Nominatim server is running properly\n",
    "# Adapt with the city of your choice!\n",
    "delay=5\n",
    "for i in range(10):\n",
    "    osm = None\n",
    "    try: \n",
    "        osm = get_osm(city_test_from)\n",
    "        assert city_test_to[0] in osm[0][\"namedetails\"][\"name:fr\"] \n",
    "\n",
    "        log(\"Nominatim working properly\")\n",
    "        break\n",
    "\n",
    "    except Exception as e: \n",
    "        log(\"Nominatim not up & running\")\n",
    "        log(f\"Try again in {delay} seconds\")\n",
    "        if osm is not None:\n",
    "            log(\"Answer:\")\n",
    "            log(osm)\n",
    "        \n",
    "        log(f\"Nominatim host: {AddressCleanserUtils.osm_host}\")\n",
    "        \n",
    "        #raise e\n",
    "        time.sleep(delay)\n",
    "if i == 9:\n",
    "    log(\"Nominatim not up & running !\")\n",
    "    log(f\"Nominatim: {AddressCleanserUtils.osm_host}\")"
   ]
  },
  {
   "cell_type": "code",
   "execution_count": null,
   "metadata": {},
   "outputs": [],
   "source": [
    "# Check that Libpostal is running properly\n",
    "delay=5\n",
    "for i in range(10):\n",
    "    lpost=None\n",
    "    try: \n",
    "        lpost = parse_address(city_test_from)\n",
    "        assert lpost[0][0].lower() == city_test_to[0].lower()\n",
    "        log(\"Libpostal working properly\")\n",
    "        break\n",
    "        \n",
    "    except Exception as e: \n",
    "        log(\"Libpostal not up & running \")\n",
    "        log(f\"Try again in {delay} seconds\")\n",
    "        if lpost is not None:\n",
    "            log(\"Answer:\")\n",
    "            log(lpost)\n",
    "            \n",
    "        time.sleep(delay)\n",
    "    #raise e\n",
    "if i == 9:\n",
    "    log(\"Libpostal not up & running !\")\n",
    "    log(f\"Libpostal: {AddressCleanserUtils.libpostal_host}\")\n",
    "    "
   ]
  },
  {
   "cell_type": "code",
   "execution_count": null,
   "metadata": {},
   "outputs": [],
   "source": [
    "# Check that Photon server is running properly\n",
    "delay=5\n",
    "for i in range(10):\n",
    "    try:\n",
    "        ph=\"\"\n",
    "        ph = get_photon(\"Bruxelles\")\n",
    "        assert city_test_to[0] in ph[\"features\"][0][\"properties\"][\"name\"] or city_test_to[1] in ph[\"features\"][0][\"properties\"][\"name\"] \n",
    "        log(\"Photon working properly\")\n",
    "        break\n",
    "\n",
    "\n",
    "    except Exception as e: \n",
    "        log(\"Photon not up & running \")\n",
    "        log(f\"Try again in {delay} seconds\")\n",
    "        log(ph)\n",
    "        time.sleep(delay)\n",
    "        \n",
    "        #raise e\n",
    "if i == 9:\n",
    "        log(\"Photon not up & running ! Start it with 'nohup java -jar photon-*.jar &'\")\n",
    "        log(f\"Photon host: {AddressCleanserUtils.photon_host}\")"
   ]
  },
  {
   "cell_type": "code",
   "execution_count": 40,
   "metadata": {
    "ExecuteTime": {
     "end_time": "2022-12-15T13:26:40.707409Z",
     "start_time": "2022-12-15T13:26:40.703412Z"
    }
   },
   "outputs": [
    {
     "data": {
      "text/plain": [
       "'352'"
      ]
     },
     "execution_count": 40,
     "metadata": {},
     "output_type": "execute_result"
    }
   ],
   "source": [
    "# re.sub(\"[^0-9]\", \"\", \"35A2\")"
   ]
  },
  {
   "cell_type": "code",
   "execution_count": 45,
   "metadata": {
    "ExecuteTime": {
     "end_time": "2022-12-15T13:27:55.881171Z",
     "start_time": "2022-12-15T13:27:55.878066Z"
    }
   },
   "outputs": [],
   "source": []
  },
  {
   "cell_type": "code",
   "execution_count": null,
   "metadata": {
    "ExecuteTime": {
     "end_time": "2021-10-12T09:35:33.973983Z",
     "start_time": "2021-10-12T09:35:33.957594Z"
    }
   },
   "outputs": [],
   "source": [
    "def format_osm_addr(osm_rec):\n",
    "    res = {\"method\":\"fast\"}\n",
    "    \n",
    "    for f in [\"display_name\", \"place_id\", \"lat\",\"lon\", \"place_rank\"]:\n",
    "        if f in osm_rec: \n",
    "            res[f] = osm_rec[f]\n",
    "        \n",
    "    for out_field in collapse_params:\n",
    "        res[out_field] = \"\"\n",
    "        for in_field in collapse_params[out_field]:\n",
    "            if in_field in osm_rec[\"address\"]:\n",
    "                res[out_field] = osm_rec[\"address\"][in_field]\n",
    "                break\n",
    "    return res\n",
    "        \n",
    "def add_lpost_house_number(addr_in, match, data):\n",
    "    lpost = get_lpost_house_number(addr_in)\n",
    "    match[\"in_house_nbr\"] = data[\"housenumber\"] if \"housenumber\" in data else \"\"\n",
    "    match[\"lpost_house_nbr\"] = lpost[0]\n",
    "    match[\"lpost_unit\"] = lpost[1]\n",
    "\n",
    "def process_address_fast(data, osm_structured=False, with_extra_house_number=True, retry_with_low_rank=True):\n",
    "    t = datetime.now()\n",
    "    \n",
    "    \n",
    "    addr_in = f\"{data['street']}, {data['housenumber']}, {data['postcode']} {data['city']}, {data['country']}\"\n",
    "    if osm_structured:\n",
    "        osm_res = get_osm_struc(street=     data['street'],\n",
    "                                housenumber=data['housenumber'],\n",
    "                                postcode=   data['postcode'],\n",
    "                                city=       data['city'],\n",
    "                                country=    data['country']\n",
    "                               )\n",
    "    else: \n",
    "        osm_res = get_osm(addr_in)\n",
    "    \n",
    "    update_timestats(\"fast > osm\", t)\n",
    "    \n",
    "    if len(osm_res) >0:\n",
    "        match = format_osm_addr(osm_res[0])\n",
    "        \n",
    "        if retry_with_low_rank and match[\"place_rank\"] < 30: # Try to clean housenumber to see if we can improved placerank\n",
    "            t2 = datetime.now()    \n",
    "            cleansed_housenbr = re.match(\"^([0-9]+)\", data['housenumber'])\n",
    "            if cleansed_housenbr: \n",
    "                cleansed_housenbr = cleansed_housenbr[0]\n",
    "            \n",
    "            if cleansed_housenbr != data['housenumber']:\n",
    "                \n",
    "                data_cleansed= data.copy()\n",
    "                data_cleansed['housenumber'] = cleansed_housenbr\n",
    "                osm_res_retry = process_address_fast(data_cleansed, \n",
    "                                                     osm_structured=osm_structured, \n",
    "                                                     with_extra_house_number=False,\n",
    "                                                     retry_with_low_rank = False)\n",
    "                if osm_res_retry and osm_res_retry[\"match\"][0][\"place_rank\"] == 30: # if place_rank is not improved, we keep the original result\n",
    "                    osm_res_retry[\"match\"][0][\"cleansed_house_nbr\"] = cleansed_housenbr\n",
    "                    if with_extra_house_number:\n",
    "                        add_lpost_house_number(addr_in, osm_res_retry[\"match\"][0], data)\n",
    "\n",
    "                    update_timestats(\"fast > retry\", t2)\n",
    "                    return osm_res_retry\n",
    "            \n",
    "            \n",
    "        \n",
    "        if with_extra_house_number:\n",
    "            add_lpost_house_number(addr_in, match, data)\n",
    "            \n",
    "            \n",
    "        match[\"osm_addr_in\"] = addr_in\n",
    "        res = {\"match\":  [match], \n",
    "               \"reject\": []}\n",
    "        \n",
    "        for osm_rec in osm_res[1:]:\n",
    "            r = format_osm_addr(osm_rec)\n",
    "            r[\"reject_reason\"]= \"tail\"\n",
    "            res[\"reject\"].append(r)\n",
    "        #log(res)\n",
    "        update_timestats(\"fast\", t)\n",
    "        return res\n",
    "        \n",
    "    update_timestats(\"fast\", t)\n",
    "    return None\n",
    "    \n",
    "    "
   ]
  },
  {
   "cell_type": "code",
   "execution_count": 38,
   "metadata": {
    "ExecuteTime": {
     "end_time": "2022-12-15T12:55:47.221338Z",
     "start_time": "2022-12-15T12:55:47.215842Z"
    }
   },
   "outputs": [
    {
     "data": {
      "text/plain": [
       "'56'"
      ]
     },
     "execution_count": 38,
     "metadata": {},
     "output_type": "execute_result"
    }
   ],
   "source": []
  },
  {
   "cell_type": "code",
   "execution_count": null,
   "metadata": {
    "ExecuteTime": {
     "end_time": "2020-11-20T14:53:42.146130Z",
     "start_time": "2020-11-20T14:53:42.110486Z"
    },
    "run_control": {
     "marked": false
    }
   },
   "outputs": [],
   "source": [
    "def process_address(data, check_results=True, osm_structured=False, with_extra_house_number=True):\n",
    "    vlog(f\"Will process {data}\")\n",
    "    t = datetime.now()\n",
    "    \n",
    "    if fastmode and not check_results: \n",
    "        vlog(\"Try fast mode\")\n",
    "        res = process_address_fast(data, osm_structured=osm_structured, with_extra_house_number=with_extra_house_number)\n",
    "        if res: \n",
    "            return res\n",
    "        vlog(\"No result in fast mode, go to full batch mode\")\n",
    "        \n",
    "    to_process_addresses = get_init_df(data)\n",
    "    #update_timestats(\"init_df\", t)\n",
    "    \n",
    "    vlog(\"Got dataframe\")\n",
    "    all_reject = pd.DataFrame()\n",
    "    for transformers in (transformers_sequence if not fastmode else transformers_sequence[1:] ) : # Assumes ['orig'] is always the first transf. sequence\n",
    "        vlog (\"--------------------------\")\n",
    "        vlog(\"| Transformers : \" + \";\".join(transformers))\n",
    "        vlog (\"--------------------------\")\n",
    "\n",
    "        try :\n",
    "            t = datetime.now()\n",
    "            osm_results, rejected, step_stats = transform_and_process(to_process_addresses, transformers, addr_key_field, \n",
    "                                                                      street_field=street_field, housenbr_field=housenbr_field, \n",
    "                                                                      postcode_field=postcode_field, city_field=city_field,\n",
    "                                                                      country_field=country_field,\n",
    "                                                                      check_results=check_results,\n",
    "                                                                      osm_structured=osm_structured)\n",
    "            update_timestats(\"t&p\", t)\n",
    "        except Exception as e: \n",
    "            log(f\"Error during processing : {e}\")\n",
    "            traceback.print_exc(file=sys.stdout)\n",
    "            return {\"error\": str(e)}\n",
    "        \n",
    "        all_reject = all_reject.append(rejected, sort=False)\n",
    "        \n",
    "        vlog(step_stats)\n",
    "        if osm_results.shape[0] > 0:\n",
    "            if with_extra_house_number :\n",
    "                osm_results = add_extra_house_number(osm_results, to_process_addresses, \n",
    "                                                     street_field=street_field, housenbr_field=housenbr_field,\n",
    "                                                     postcode_field=postcode_field, city_field=city_field)\n",
    "            t = datetime.now()\n",
    "            form_res =  format_res(osm_results)\n",
    "            form_rej = format_res(all_reject)\n",
    "            update_timestats(\"format_res\", t)\n",
    "            \n",
    "            return {\"match\": form_res, \"rejected\": form_rej }\n",
    "    \n",
    "    return {\"rejected\": format_res(all_reject)}\n"
   ]
  },
  {
   "cell_type": "code",
   "execution_count": null,
   "metadata": {
    "ExecuteTime": {
     "end_time": "2020-11-20T14:53:42.195476Z",
     "start_time": "2020-11-20T14:53:42.169219Z"
    }
   },
   "outputs": [],
   "source": [
    "def process_addresses(to_process_addresses, check_results=True, osm_structured=False, with_extra_house_number=True):\n",
    "    \n",
    "    all_reject = pd.DataFrame()\n",
    "    osm_addresses        = pd.DataFrame()\n",
    "    rejected_addresses   = pd.DataFrame()\n",
    "    \n",
    "    chunk = to_process_addresses.copy()\n",
    "    \n",
    "    for transformers in transformers_sequence:\n",
    "        vlog (\"--------------------------\")\n",
    "        log(f\"Transformers ({chunk.shape[0]:3} records): \" + \";\".join(transformers))\n",
    "        vlog (\"--------------------------\")\n",
    "\n",
    "        try :\n",
    "            osm_results, rejected, step_stats = transform_and_process(chunk, transformers, addr_key_field, \n",
    "                                                                      street_field=street_field, housenbr_field=housenbr_field, \n",
    "                                                                      postcode_field=postcode_field, city_field=city_field,\n",
    "                                                                      country_field=country_field,\n",
    "                                                                      check_results=check_results,\n",
    "                                                                      osm_structured=osm_structured)\n",
    "            \n",
    "            osm_addresses =      osm_addresses.append(osm_results, sort=False).drop_duplicates()\n",
    "            rejected_addresses = rejected_addresses.append(rejected, sort=False).drop_duplicates()\n",
    "            \n",
    "        except Exception as e: \n",
    "            osm_results = chunk[[addr_key_field]]\n",
    "            osm_results[\"method\"] = \"error on \" + \";\".join(transformers)\n",
    "            osm_addresses =      osm_addresses.append(osm_results, sort=False).drop_duplicates()\n",
    "            \n",
    "            log(f\"Error during processing : {e}\")\n",
    "            traceback.print_exc(file=sys.stdout)\n",
    "#             return {\"error\": str(e)}\n",
    "        \n",
    "        chunk  = chunk[~chunk[addr_key_field].isin(osm_results[addr_key_field])].copy()\n",
    "        \n",
    "        #all_reject = all_reject.append(rejected, sort=False)\n",
    "        if chunk.shape[0]==0:\n",
    "            break\n",
    "            \n",
    "        \n",
    "        vlog(step_stats)\n",
    "    if with_extra_house_number and osm_addresses.shape[0] > 0:\n",
    "        osm_addresses = add_extra_house_number(osm_addresses, to_process_addresses, \n",
    "                                               street_field=street_field, housenbr_field=housenbr_field,\n",
    "                                               postcode_field=postcode_field, city_field=city_field)\n",
    "          \n",
    "    #log(osm_addresses.method.value_counts())\n",
    "    return osm_addresses, rejected_addresses #{\"match\": format_res(osm_results), \"rejected\": format_res(all_reject)}\n",
    "    \n",
    "#     return pd.DataFrame()\n"
   ]
  },
  {
   "cell_type": "code",
   "execution_count": null,
   "metadata": {
    "ExecuteTime": {
     "end_time": "2020-11-20T14:53:42.265496Z",
     "start_time": "2020-11-20T14:53:42.211679Z"
    },
    "run_control": {
     "marked": false
    }
   },
   "outputs": [],
   "source": [
    "def get_arg(argname, def_val):\n",
    "    if argname in request.form: \n",
    "        return request.form[argname]\n",
    "    return request.args.get(argname, def_val)\n",
    "\n",
    "\n",
    "import sys\n",
    "\n",
    "app = Flask(__name__)\n",
    "\n",
    "@app.route('/search/', methods=['GET', 'POST'])\n",
    "def search():\n",
    "#     print(\"search!\")\n",
    "    t = datetime.now()\n",
    "    \n",
    "    for k in AddressCleanserUtils.timestats:\n",
    "        AddressCleanserUtils.timestats[k]=timedelta(0)\n",
    "        \n",
    "    data= {street_field   : get_arg(\"street\",      \"\"),\n",
    "           housenbr_field : get_arg(\"housenumber\", \"\"),\n",
    "           city_field     : get_arg(\"city\",        \"\"),\n",
    "           postcode_field : get_arg(\"postcode\",    \"\"),\n",
    "           country_field  : get_arg(\"country\",     \"\"),\n",
    "\n",
    "          }\n",
    "    no_reject = get_arg(\"no_reject\", False)\n",
    "    \n",
    "    if get_arg(\"check_result\", \"yes\") == \"no\":\n",
    "        check_results = False\n",
    "        log(\"Won't check OSM results\")\n",
    "    else:\n",
    "        check_results = True\n",
    "        log(\"Will check OSM results\")\n",
    "    \n",
    "    if get_arg(\"struct_osm\", \"no\") == \"no\":\n",
    "        osm_structured = False\n",
    "        log(\"Will call unstructured OSM\")\n",
    "    else:\n",
    "        osm_structured = True\n",
    "        log(\"Will call structured OSM\")\n",
    "    \n",
    "    if get_arg(\"extra_house_nbr\", \"yes\") == \"no\":\n",
    "        with_extra_house_number = False\n",
    "        vlog(\"Will skip extra house nbr\")\n",
    "    else:\n",
    "        with_extra_house_number = True\n",
    "        vlog(\"Will do extra house nbr\")\n",
    "    \n",
    "#     update_timestats(\"check_args\", t)\n",
    "    \n",
    "    res = process_address(data,\n",
    "                          check_results=check_results, \n",
    "                          osm_structured=osm_structured, \n",
    "                          with_extra_house_number= with_extra_house_number)\n",
    "    \n",
    "    log(f\"Input: {data}\")\n",
    "    log(f\"Result: {res}\")\n",
    "    log(f\"no_reject: {no_reject}\")\n",
    "   \n",
    "    update_timestats(\"global\", t)\n",
    "    \n",
    "\n",
    "    if with_timing_info: \n",
    "        res[\"timing\"] = {k: AddressCleanserUtils.timestats[k].total_seconds()*1000 for k in AddressCleanserUtils.timestats}\n",
    "    \n",
    "    if no_reject != False:\n",
    "        del res[\"rejected\"]\n",
    "    \n",
    "    \n",
    "    return jsonify(res)"
   ]
  },
  {
   "cell_type": "code",
   "execution_count": 24,
   "metadata": {
    "ExecuteTime": {
     "end_time": "2022-12-12T12:30:29.123546Z",
     "start_time": "2022-12-12T12:30:29.121267Z"
    }
   },
   "outputs": [],
   "source": [
    "# data_batch"
   ]
  },
  {
   "cell_type": "code",
   "execution_count": null,
   "metadata": {},
   "outputs": [],
   "source": [
    "def remove_empty_values(dct_lst):\n",
    "    # Remove empty values in a list of dict\n",
    "    return [{k: v for k, v in item.items() if not pd.isnull(v) and v != \"\"} for item in dct_lst]"
   ]
  },
  {
   "cell_type": "code",
   "execution_count": 47,
   "metadata": {
    "ExecuteTime": {
     "end_time": "2022-12-15T15:26:27.096916Z",
     "start_time": "2022-12-15T15:26:26.621751Z"
    },
    "scrolled": true
   },
   "outputs": [
    {
     "ename": "NameError",
     "evalue": "name 'app' is not defined",
     "output_type": "error",
     "traceback": [
      "\u001b[0;31m---------------------------------------------------------------------------\u001b[0m",
      "\u001b[0;31mNameError\u001b[0m                                 Traceback (most recent call last)",
      "Input \u001b[0;32mIn [47]\u001b[0m, in \u001b[0;36m<cell line: 3>\u001b[0;34m()\u001b[0m\n\u001b[1;32m      1\u001b[0m \u001b[38;5;66;03m# Call to this : curl -F media=@address_sample100.csv http://127.0.0.1:5000/batch/ -X POST -F mode=long\u001b[39;00m\n\u001b[0;32m----> 3\u001b[0m \u001b[38;5;129m@app\u001b[39m\u001b[38;5;241m.\u001b[39mroute(\u001b[38;5;124m'\u001b[39m\u001b[38;5;124m/batch/\u001b[39m\u001b[38;5;124m'\u001b[39m, methods\u001b[38;5;241m=\u001b[39m[\u001b[38;5;124m'\u001b[39m\u001b[38;5;124mPOST\u001b[39m\u001b[38;5;124m'\u001b[39m])\n\u001b[1;32m      4\u001b[0m \u001b[38;5;28;01mdef\u001b[39;00m \u001b[38;5;21mbatch\u001b[39m():\n\u001b[1;32m      5\u001b[0m     log(\u001b[38;5;124m\"\u001b[39m\u001b[38;5;124mbatch\u001b[39m\u001b[38;5;124m\"\u001b[39m)\n\u001b[1;32m      8\u001b[0m     mode \u001b[38;5;241m=\u001b[39m \u001b[38;5;124m\"\u001b[39m\u001b[38;5;124mshort\u001b[39m\u001b[38;5;124m\"\u001b[39m\n",
      "\u001b[0;31mNameError\u001b[0m: name 'app' is not defined"
     ]
    }
   ],
   "source": [
    "# Call to this : curl -F media=@address_sample100.csv http://127.0.0.1:5000/batch/ -X POST -F mode=long\n",
    "\n",
    "@app.route('/batch/', methods=['POST'])\n",
    "def batch():\n",
    "    log(\"batch\")\n",
    "    \n",
    "   \n",
    "    mode = \"short\"\n",
    "    if \"mode\" in request.form :\n",
    "        mode = request.form[\"mode\"]\n",
    "        if not mode in [\"geo\", \"short\", \"long\"]:\n",
    "            return f'[{{\"error\": \"Invalid mode {mode}\"}}]'\n",
    "        \n",
    "    with_reject = False\n",
    "    if \"with_rejected\" in request.form:\n",
    "        if request.form[\"with_rejected\"] == \"yes\":\n",
    "            with_reject = True\n",
    "            log(\"Will return rejects\")\n",
    "        elif request.form[\"with_rejected\"] != \"no\":\n",
    "            return f'[{{\"error\": \"Invalid with_rejected {request.form[\"with_rejected\"]}\"}}]'\n",
    "#           return ({\"error\": f\"Invalid with_rejected value : {request.form['with_rejected']}\"})\n",
    "\n",
    "    if get_arg(\"check_result\", \"yes\") == \"no\":\n",
    "        check_results = False\n",
    "        log(\"Won't check OSM results\")\n",
    "    else:\n",
    "        check_results = True\n",
    "        log(\"Will check OSM results\")\n",
    "        \n",
    "    if get_arg(\"struct_osm\", \"no\") == \"no\":\n",
    "        osm_structured = False\n",
    "        log(\"Will call unstructured OSM\")\n",
    "    else:\n",
    "        osm_structured = True\n",
    "        log(\"Will call structured OSM\")\n",
    "\n",
    "    if get_arg(\"extra_house_nbr\", \"yes\") == \"no\":\n",
    "        with_extra_house_number = False\n",
    "        vlog(\"Will skip extra house nbr\")\n",
    "    else:\n",
    "        with_extra_house_number = True\n",
    "        vlog(\"Will do extra house nbr\")\n",
    "    \n",
    "        \n",
    "        \n",
    "    key_name = (list(request.files.keys())[0])\n",
    "    \n",
    "    #print(request.files[0])\n",
    "    \n",
    "    df = pd.read_csv(request.files[key_name], dtype=str)\n",
    "    log(\"Input: \\n\" + df.to_string(max_rows=10))\n",
    "    \n",
    "    mandatory_fields = [street_field, housenbr_field , postcode_field , city_field, country_field, addr_key_field]\n",
    "    for field in mandatory_fields:\n",
    "        if field not in df: \n",
    "            return f\"[{{\\\"error\\\": \\\"Field \\'{field}\\' mandatory in file. All mandatory fields are {';'.join(mandatory_fields)}\\\"}}]\"\n",
    "\n",
    "    if df[df[addr_key_field].duplicated()].shape[0]>0:\n",
    "        return f\"[{{\\\"error\\\": \\\"Field \\'{field}\\' cannot contain duplicated values!\\\"}}]\"\n",
    "        \n",
    "    res, rejected_addresses = process_addresses(df,\n",
    "                                                check_results=check_results, \n",
    "                                                osm_structured=osm_structured,\n",
    "                                                with_extra_house_number= with_extra_house_number)\n",
    "    \n",
    "    \n",
    "    if type(res) == dict :\n",
    "        return {0:res}\n",
    "\n",
    "    \n",
    "    if res is None or res.shape[0] == 0:\n",
    "        return '[]'\n",
    "        \n",
    "    try: \n",
    "        if mode == \"geo\":\n",
    "            res = res[[addr_key_field,\"lat\", \"lon\", \"place_rank\", \"method\"]]\n",
    "        elif mode == \"short\":\n",
    "            res = df.merge(res)[[addr_key_field,\n",
    "                       \"lat\", \"lon\", \"place_rank\", \"method\", \"place_id\",\n",
    "                       \"addr_out_street\", \"addr_out_number\", \"in_house_nbr\", \"lpost_house_nbr\", \"lpost_unit\", \"addr_out_postcode\", \"addr_out_city\",   \"addr_out_country\" ]]\n",
    "        elif mode == \"long\":\n",
    "            res = df.merge(res)\n",
    "            \n",
    "       \n",
    "        if with_reject:\n",
    "            rejected_rec = rejected_addresses.groupby(addr_key_field).apply(lambda rec: remove_empty_values(rec.to_dict(orient=\"records\")) ).rename(\"rejected\").reset_index()\n",
    "            res = res.merge(rejected_rec, how=\"outer\")\n",
    "\n",
    "\n",
    "        res[\"lat\"] = res[\"lat\"].astype(float)\n",
    "        res[\"lon\"] = res[\"lon\"].astype(float)\n",
    "    except KeyError as e:\n",
    "        log(f\"Error during column selection: {e}\")\n",
    "        traceback.print_exc(file=sys.stdout)\n",
    "        \n",
    "    log(\"Output: \\n\"+res.iloc[:, 0:9].to_string(max_rows=9))\n",
    "    \n",
    "    return res.to_json(orient=\"records\")\n",
    "    #request.files:"
   ]
  }
 ],
 "metadata": {
  "kernelspec": {
   "display_name": "Python 3 (ipykernel)",
   "language": "python",
   "name": "python3"
  },
  "language_info": {
   "codemirror_mode": {
    "name": "ipython",
    "version": 3
   },
   "file_extension": ".py",
   "mimetype": "text/x-python",
   "name": "python",
   "nbconvert_exporter": "python",
   "pygments_lexer": "ipython3",
   "version": "3.9.12"
  },
  "toc": {
   "base_numbering": 1,
   "nav_menu": {},
   "number_sections": true,
   "sideBar": true,
   "skip_h1_title": false,
   "title_cell": "Table of Contents",
   "title_sidebar": "Contents",
   "toc_cell": false,
   "toc_position": {},
   "toc_section_display": true,
   "toc_window_display": false
  },
  "varInspector": {
   "cols": {
    "lenName": 16,
    "lenType": 16,
    "lenVar": 40
   },
   "kernels_config": {
    "python": {
     "delete_cmd_postfix": "",
     "delete_cmd_prefix": "del ",
     "library": "var_list.py",
     "varRefreshCmd": "print(var_dic_list())"
    },
    "r": {
     "delete_cmd_postfix": ") ",
     "delete_cmd_prefix": "rm(",
     "library": "var_list.r",
     "varRefreshCmd": "cat(var_dic_list()) "
    }
   },
   "types_to_exclude": [
    "module",
    "function",
    "builtin_function_or_method",
    "instance",
    "_Feature"
   ],
   "window_display": false
  }
 },
 "nbformat": 4,
 "nbformat_minor": 2
}
