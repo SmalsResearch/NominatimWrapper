{
 "cells": [
  {
   "cell_type": "code",
   "execution_count": 1,
   "metadata": {
    "ExecuteTime": {
     "end_time": "2019-11-13T08:27:54.439524Z",
     "start_time": "2019-11-13T08:27:46.150528Z"
    },
    "run_control": {
     "marked": true
    },
    "scrolled": true
   },
   "outputs": [
    {
     "name": "stderr",
     "output_type": "stream",
     "text": [
      "/home/anaconda3/lib/python3.7/site-packages/tqdm/autonotebook/__init__.py:14: TqdmExperimentalWarning: Using `tqdm.autonotebook.tqdm` in notebook mode. Use `tqdm.tqdm` instead to force console mode (e.g. in jupyter console)\n",
      "  \" (e.g. in jupyter console)\", TqdmExperimentalWarning)\n"
     ]
    }
   ],
   "source": [
    "from flask import Flask,  request,jsonify\n",
    "\n",
    "from postal.parser import parse_address"
   ]
  },
  {
   "cell_type": "code",
   "execution_count": 3,
   "metadata": {
    "ExecuteTime": {
     "end_time": "2019-11-13T08:27:54.484148Z",
     "start_time": "2019-11-13T08:27:54.481055Z"
    },
    "scrolled": true
   },
   "outputs": [],
   "source": [
    "# TO RUN : \n",
    "# jupyter nbconvert --to python LibpostalREST.ipynb\n",
    "# export  FLASK_APP=LibpostalREST.py ; export  FLASK_ENV=development ;  flask run --port 8080\n",
    "\n",
    "# OR : \n",
    "# gunicorn -w 2 -b 127.0.0.1:8080 wsgi_libpostal:app"
   ]
  },
  {
   "cell_type": "code",
   "execution_count": null,
   "metadata": {
    "run_control": {
     "marked": false
    }
   },
   "outputs": [],
   "source": [
    "def get_arg(argname, def_val):\n",
    "    if request.json and argname in request.json: \n",
    "        return request.json[argname]\n",
    "    \n",
    "    return request.values.get(argname, def_val)\n",
    "    \n",
    "\n",
    "app = Flask(__name__)\n",
    "\n",
    "@app.route('/parser', methods=['GET', 'POST'])\n",
    "def parser():\n",
    "    query = get_arg(\"query\", \"\")\n",
    "           \n",
    "    res = parse_address(str(query))\n",
    "    \n",
    "    return jsonify(res)\n"
   ]
  }
 ],
 "metadata": {
  "kernelspec": {
   "display_name": "Python 3 (ipykernel)",
   "language": "python",
   "name": "python3"
  },
  "language_info": {
   "codemirror_mode": {
    "name": "ipython",
    "version": 3
   },
   "file_extension": ".py",
   "mimetype": "text/x-python",
   "name": "python",
   "nbconvert_exporter": "python",
   "pygments_lexer": "ipython3",
   "version": "3.8.10"
  },
  "toc": {
   "base_numbering": 1,
   "nav_menu": {},
   "number_sections": true,
   "sideBar": true,
   "skip_h1_title": false,
   "title_cell": "Table of Contents",
   "title_sidebar": "Contents",
   "toc_cell": false,
   "toc_position": {},
   "toc_section_display": true,
   "toc_window_display": false
  },
  "varInspector": {
   "cols": {
    "lenName": 16,
    "lenType": 16,
    "lenVar": 40
   },
   "kernels_config": {
    "python": {
     "delete_cmd_postfix": "",
     "delete_cmd_prefix": "del ",
     "library": "var_list.py",
     "varRefreshCmd": "print(var_dic_list())"
    },
    "r": {
     "delete_cmd_postfix": ") ",
     "delete_cmd_prefix": "rm(",
     "library": "var_list.r",
     "varRefreshCmd": "cat(var_dic_list()) "
    }
   },
   "types_to_exclude": [
    "module",
    "function",
    "builtin_function_or_method",
    "instance",
    "_Feature"
   ],
   "window_display": false
  }
 },
 "nbformat": 4,
 "nbformat_minor": 2
}
