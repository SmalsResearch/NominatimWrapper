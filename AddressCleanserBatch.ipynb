{
 "cells": [
  {
   "cell_type": "code",
   "execution_count": null,
   "metadata": {
    "ExecuteTime": {
     "end_time": "2021-05-12T14:07:32.701789Z",
     "start_time": "2021-05-12T14:07:31.916494Z"
    },
    "run_control": {
     "marked": true
    }
   },
   "outputs": [],
   "source": [
    "import pandas as pd\n",
    "import urllib\n",
    "\n",
    "import numpy as np\n",
    "\n",
    "import json\n",
    "\n",
    "from tqdm.autonotebook import  tqdm\n",
    "\n",
    "#%matplotlib inline\n",
    "\n",
    "tqdm.pandas()#tqdm)\n",
    "\n",
    "\n",
    "# import jellyfish\n",
    "import dask.dataframe as dd\n",
    "\n",
    "# from dask.multiprocessing import get\n",
    "\n",
    "\n",
    "from importlib import reload\n",
    "\n",
    "import AddressCleanserUtils\n",
    "reload(AddressCleanserUtils)\n",
    "from AddressCleanserUtils import *\n",
    "\n",
    "# import multiprocessing\n",
    "import logging\n",
    "\n",
    "logger = logging.getLogger()\n",
    "logger.setLevel(logging.INFO)\n",
    "\n",
    "logging.getLogger(\"requests\").setLevel(logging.WARNING)\n",
    "logging.getLogger(\"urllib3\").setLevel(logging.WARNING)\n"
   ]
  },
  {
   "cell_type": "code",
   "execution_count": null,
   "metadata": {},
   "outputs": [],
   "source": []
  },
  {
   "cell_type": "code",
   "execution_count": null,
   "metadata": {
    "ExecuteTime": {
     "end_time": "2021-05-12T14:07:37.079325Z",
     "start_time": "2021-05-12T14:07:37.074056Z"
    }
   },
   "outputs": [],
   "source": [
    "starting_time = datetime.now()"
   ]
  },
  {
   "cell_type": "code",
   "execution_count": null,
   "metadata": {
    "ExecuteTime": {
     "end_time": "2021-05-12T14:07:38.050605Z",
     "start_time": "2021-05-12T14:07:38.036392Z"
    }
   },
   "outputs": [],
   "source": [
    "config_file = \"config_batch\"\n",
    "address_file = \"./address.csv.gz\"\n",
    "sample_size = None\n",
    "\n",
    "import sys, getopt\n",
    "opts, args = getopt.getopt(sys.argv[1:],\"f:c:a:s:vq\",[])\n",
    "\n",
    "for opt, arg in opts:\n",
    "    if opt == \"-c\":\n",
    "        config_file = arg\n",
    "        \n",
    "    if opt == \"-a\":\n",
    "        address_file = arg\n",
    "        \n",
    "    if opt == \"-f\":\n",
    "        print(\"Run in jupyter ...\", arg)\n",
    "        AddressCleanserUtils.within_jupyter=True\n",
    "        \n",
    "    if opt == \"-s\":\n",
    "        sample_size = int(arg)\n",
    "        \n",
    "    if opt == \"-v\": # Verbose\n",
    "        logger.setLevel(logging.DEBUG)\n",
    "        \n",
    "    if opt == \"-q\": # quiet\n",
    "        logger.setLevel(logging.WARNING)\n",
    "        "
   ]
  },
  {
   "cell_type": "code",
   "execution_count": null,
   "metadata": {
    "ExecuteTime": {
     "end_time": "2021-05-12T14:35:28.621862Z",
     "start_time": "2021-05-12T14:35:28.606978Z"
    },
    "run_control": {
     "marked": true
    }
   },
   "outputs": [],
   "source": [
    "if AddressCleanserUtils.within_jupyter :\n",
    "    log(\"Running in Jupyter, using hardcoded parameters\")\n",
    "#     config_file = \"config_best\"\n",
    "#     address_file = \"./best.csv.gz\"\n",
    "    config_file = \"config_batch\"\n",
    "    address_file = \"./address.csv.gz\"\n",
    "\n",
    "    sample_size = 10000\n",
    "    AddressCleanserUtils.photon_host = \"127.0.0.1:2322\"\n",
    "    AddressCleanserUtils.libpostal_host = \"172.18.0.3:6060\"\n",
    "\n",
    "# with_dask=False\n",
    "# %matplotlib inline"
   ]
  },
  {
   "cell_type": "code",
   "execution_count": null,
   "metadata": {
    "ExecuteTime": {
     "end_time": "2021-05-12T14:07:45.036318Z",
     "start_time": "2021-05-12T14:07:45.026953Z"
    },
    "run_control": {
     "marked": true
    },
    "scrolled": true
   },
   "outputs": [],
   "source": [
    "import importlib\n",
    "log(f\"Loading config file {config_file}\")\n",
    "config_module = importlib.import_module(config_file)\n"
   ]
  },
  {
   "cell_type": "code",
   "execution_count": null,
   "metadata": {
    "ExecuteTime": {
     "end_time": "2021-05-12T14:07:49.824748Z",
     "start_time": "2021-05-12T14:07:49.817201Z"
    }
   },
   "outputs": [],
   "source": [
    "# Check that some required variables are present in the configuration file\n",
    "\n",
    "field_names = [\"street_field\",\"housenbr_field\",\"city_field\",\"postcode_field\", \"country_field\", \"addr_key_field\"]\n",
    "#other_var_names = [\"photon_host\",\"osm_host\",\"libpostal_host\", \"regex_replacements\"]\n",
    "other_var_names = [\"regex_replacements\"]\n",
    "for var_name in field_names  + other_var_names:\n",
    "    assert var_name in dir(config_module), var_name + \" not defined in config module \" + config_file\n"
   ]
  },
  {
   "cell_type": "code",
   "execution_count": null,
   "metadata": {
    "ExecuteTime": {
     "end_time": "2020-01-07T10:05:18.255115Z",
     "start_time": "2020-01-07T10:05:18.245530Z"
    }
   },
   "outputs": [],
   "source": []
  },
  {
   "cell_type": "code",
   "execution_count": null,
   "metadata": {
    "ExecuteTime": {
     "end_time": "2021-05-12T14:07:53.730497Z",
     "start_time": "2021-05-12T14:07:53.720909Z"
    }
   },
   "outputs": [],
   "source": [
    "AddressCleanserUtils.street_field    = config_module.street_field\n",
    "AddressCleanserUtils.housenbr_field  = config_module.housenbr_field\n",
    "AddressCleanserUtils.city_field      = config_module.city_field\n",
    "AddressCleanserUtils.postcode_field  = config_module.postcode_field\n",
    "AddressCleanserUtils.country_field  = config_module.country_field\n",
    "\n",
    "AddressCleanserUtils.addr_key_field  = config_module.addr_key_field\n",
    "\n",
    "AddressCleanserUtils.regex_replacements = config_module.regex_replacements\n",
    "\n",
    "AddressCleanserUtils.use_osm_parent      = use_osm_parent\n",
    "AddressCleanserUtils.with_rest_libpostal = with_rest_libpostal"
   ]
  },
  {
   "cell_type": "code",
   "execution_count": null,
   "metadata": {
    "ExecuteTime": {
     "end_time": "2021-05-12T14:07:54.431066Z",
     "start_time": "2021-05-12T14:07:54.425684Z"
    }
   },
   "outputs": [],
   "source": [
    "AddressCleanserUtils.pbar.register()"
   ]
  },
  {
   "cell_type": "code",
   "execution_count": null,
   "metadata": {
    "ExecuteTime": {
     "end_time": "2021-05-12T14:07:55.436797Z",
     "start_time": "2021-05-12T14:07:55.369706Z"
    }
   },
   "outputs": [],
   "source": [
    "# Check that Nominatim server is running properly\n",
    "try: \n",
    "    osm = get_osm(\"Bruxelles\")\n",
    "    assert osm[0][\"namedetails\"][\"name:fr\"] == \"Bruxelles\"\n",
    "    \n",
    "    vlog(\"OSM working properly\")\n",
    "    \n",
    "    \n",
    "except Exception as e: \n",
    "    print(\"OSM not up & running\")\n",
    "    print(\"OSM host: \", AddressCleanserUtils.osm_host)\n",
    "    raise e\n"
   ]
  },
  {
   "cell_type": "code",
   "execution_count": null,
   "metadata": {
    "ExecuteTime": {
     "end_time": "2021-05-12T14:32:50.434093Z",
     "start_time": "2021-05-12T14:32:50.272754Z"
    },
    "scrolled": true
   },
   "outputs": [],
   "source": [
    "# In old version of Nominatim, page \"details.php\" could NOT return a JSON result, allowing to get place details from a place id\n",
    "# In newer version, this has been added, allowing to get details about the parent of a place\n",
    "# Is case \"use_osm_parent\" is true, check that \"details.php\" works correctly\n",
    "if AddressCleanserUtils.use_osm_parent:\n",
    "    try : \n",
    "        osm_det = get_osm_details(osm[0][\"place_id\"])\n",
    "        assert osm_det[\"place_id\"] == osm[0][\"place_id\"]\n",
    "\n",
    "        vlog(\"OSM details working properly\")\n",
    "\n",
    "    except Exception as e: \n",
    "        print(\"OSM details not working\")\n",
    "        print(\"OSM host: \", AddressCleanserUtils.osm_host)\n",
    "        raise e\n"
   ]
  },
  {
   "cell_type": "code",
   "execution_count": null,
   "metadata": {
    "ExecuteTime": {
     "end_time": "2021-05-12T14:33:39.668597Z",
     "start_time": "2021-05-12T14:33:39.271168Z"
    }
   },
   "outputs": [],
   "source": [
    "# Check that Photon server is running properly\n",
    "try: \n",
    "    ph = get_photon(\"Bruxelles\")\n",
    "    assert ph[\"features\"][0][\"properties\"][\"name\"] == \"Brussels\" \n",
    "    vlog(\"Photon working properly\")\n",
    "    \n",
    "    \n",
    "except Exception as e: \n",
    "    print(\"Photon not up & running ; Start it with 'nohup java -jar photon-*.jar &'\")\n",
    "    print(\"Photon host: \", AddressCleanserUtils.photon_host)\n",
    "    raise e\n"
   ]
  },
  {
   "cell_type": "code",
   "execution_count": null,
   "metadata": {
    "ExecuteTime": {
     "end_time": "2021-05-12T14:35:33.371864Z",
     "start_time": "2021-05-12T14:35:33.213987Z"
    }
   },
   "outputs": [],
   "source": [
    "# Check that Libpostal is running properly\n",
    "try: \n",
    "    lpost = parse_address(\"Bruxelles\")\n",
    "    assert lpost[0][0] == \"bruxelles\"\n",
    "    vlog(\"Libpostal working properly\")\n",
    "except Exception as e: \n",
    "    print(\"Libpostal not up & running \")\n",
    "    print(\"Libpostal: \", AddressCleanserUtils.libpostal_host)\n",
    "    raise e\n"
   ]
  },
  {
   "cell_type": "markdown",
   "metadata": {},
   "source": [
    "# Data preparation"
   ]
  },
  {
   "cell_type": "code",
   "execution_count": null,
   "metadata": {
    "ExecuteTime": {
     "end_time": "2021-05-12T14:10:20.042276Z",
     "start_time": "2021-05-12T14:08:17.446Z"
    },
    "scrolled": true
   },
   "outputs": [],
   "source": [
    "# Get the addresses dataframe. Config module has to contain a \"get_addresses(filename)\" function, returning a dataframe, with \n",
    "# column names defined by variables (defined in config module) : street_field, housenbr_field, city_field, postcode_field , addr_key_field\n",
    "\n",
    "log(\"Getting addresses\")\n",
    "addresses = config_module.get_addresses(address_file)\n",
    "log(f\"Got {addresses.shape[0]} addresses\")\n",
    "log(addresses)\n"
   ]
  },
  {
   "cell_type": "code",
   "execution_count": null,
   "metadata": {
    "ExecuteTime": {
     "end_time": "2020-05-04T07:50:20.551430Z",
     "start_time": "2020-05-04T07:50:20.080947Z"
    }
   },
   "outputs": [],
   "source": [
    "if sample_size and sample_size < addresses.shape[0]:\n",
    "    log(f\"Keep a sample of size {sample_size}\")\n",
    "    addresses = addresses.sample(sample_size)\n"
   ]
  },
  {
   "cell_type": "code",
   "execution_count": null,
   "metadata": {
    "ExecuteTime": {
     "end_time": "2020-05-04T07:50:20.562308Z",
     "start_time": "2020-05-04T07:50:20.554824Z"
    }
   },
   "outputs": [],
   "source": [
    "# Check that all required fields are present in addresses dataframe\n",
    "\n",
    "for field in field_names:\n",
    "    assert config_module.__getattribute__(field) in addresses, f\"Field {field} missing in data !\""
   ]
  },
  {
   "cell_type": "code",
   "execution_count": null,
   "metadata": {
    "ExecuteTime": {
     "end_time": "2020-05-04T07:50:20.583652Z",
     "start_time": "2020-05-04T07:50:20.568609Z"
    }
   },
   "outputs": [],
   "source": [
    "# Check that the address identifier defined in config_module.addr_key_field is unique\n",
    "assert addresses[addresses[config_module.addr_key_field].duplicated()].shape[0] == 0, \"Key should be unique\""
   ]
  },
  {
   "cell_type": "code",
   "execution_count": null,
   "metadata": {
    "ExecuteTime": {
     "end_time": "2020-05-04T07:50:20.934016Z",
     "start_time": "2020-05-04T07:50:20.589755Z"
    },
    "scrolled": true
   },
   "outputs": [],
   "source": [
    "vlog(\"Stripping and upper casing...\")\n",
    "addresses = addresses.apply(lambda col: col.fillna(\"\").astype(str).str.strip().str.upper() if col.dtype.kind=='O' else col.astype(str) )\n"
   ]
  },
  {
   "cell_type": "markdown",
   "metadata": {
    "ExecuteTime": {
     "end_time": "2019-09-19T14:13:50.525559Z",
     "start_time": "2019-09-19T14:13:50.521206Z"
    }
   },
   "source": [
    "# Main loop "
   ]
  },
  {
   "cell_type": "code",
   "execution_count": null,
   "metadata": {
    "ExecuteTime": {
     "end_time": "2020-05-04T07:50:20.947486Z",
     "start_time": "2020-05-04T07:50:20.937155Z"
    },
    "run_control": {
     "marked": false
    }
   },
   "outputs": [],
   "source": [
    "transformers_sequence = [ [\"orig\"],\n",
    "                          [\"regex[init]\"],\n",
    "                          [\"nonum\"],\n",
    "                          [\"libpostal\", \"regex[lpost]\"], \n",
    "                          [\"libpostal\", \"regex[lpost]\", \"nonum\"], \n",
    "                          [\"libpostal\", \"regex[lpost]\", \"photon\"], \n",
    "                          [\"libpostal\", \"regex[lpost]\", \"photon\", \"nonum\"], \n",
    "                          [\"photon\"],\n",
    "                          [\"photon\", \"nonum\"],\n",
    "                          [\"nostreet\"]\n",
    "                        ]"
   ]
  },
  {
   "cell_type": "code",
   "execution_count": null,
   "metadata": {
    "ExecuteTime": {
     "end_time": "2020-05-04T07:50:20.997269Z",
     "start_time": "2020-05-04T07:50:20.954009Z"
    }
   },
   "outputs": [],
   "source": [
    "def main_loop(chunk):\n",
    "    \"\"\"\n",
    "    Method \"main_loop\" processes the full cleansing sequence on a chunk of addresses : \n",
    "    - Apply a sequence of transformers (possibly empty)\n",
    "    - Sent the (transformed) addresses to Nominatim\n",
    "    - Parse and Check the results\n",
    "    - For the addresses with no (accepted) result, try the next sequence of transformers\n",
    "    \"\"\"\n",
    "    log(f\"Chunk size: {chunk.shape[0]}\")\n",
    "    \n",
    "    vlog(chunk)\n",
    "    osm_addresses        = pd.DataFrame()\n",
    "    rejected_addresses   = pd.DataFrame()\n",
    "    stats = []\n",
    "    \n",
    "    init_chunk_size = chunk.shape[0]\n",
    "    for transformers in transformers_sequence:\n",
    "\n",
    "        vlog(\"--------------------------\")\n",
    "        vlog(f\"| Transformers : { ';'.join(transformers) }\")\n",
    "        vlog(\"--------------------------\")\n",
    "\n",
    "#         display(chunk)\n",
    "        osm_results, rejected, step_stats = transform_and_process(chunk, transformers, config_module.addr_key_field, \n",
    "                                                                  config_module.street_field, config_module.housenbr_field, \n",
    "                                                                  config_module.city_field, config_module.postcode_field,\n",
    "                                                                  config_module.country_field, \n",
    "                                                                 check_osm_results=check_osm_results)\n",
    "\n",
    "        osm_addresses =      osm_addresses.append(osm_results, sort=False).drop_duplicates()\n",
    "        rejected_addresses = rejected_addresses.append(rejected, sort=False).drop_duplicates()\n",
    "\n",
    "        vlog(\"Results: \")\n",
    "        vlog(osm_results.head())\n",
    "        vlog(osm_results.shape)\n",
    "\n",
    "        vlog(f\"Match rate so far: {osm_addresses.shape[0] / init_chunk_size if init_chunk_size > 0 else '(empty chunk size)'}\")\n",
    "             \n",
    "        stats.append(step_stats)\n",
    "        vlog(step_stats)\n",
    "\n",
    "        chunk  = chunk[~chunk[config_module.addr_key_field].isin(osm_results[config_module.addr_key_field])].copy()\n",
    "\n",
    "        ts = AddressCleanserUtils.timestats\n",
    "        tot = np.sum([ts[key] for key in ts])\n",
    "        if tot.total_seconds()>0:\n",
    "            for key in ts: \n",
    "                vlog(f\"{key:12}: {ts[key]} ({100*ts[key]/tot:.3} %)\")\n",
    "             \n",
    "        vlog(\"\")\n",
    "        vlog(\"\")\n",
    "        vlog(\"####################\")\n",
    "        vlog(\"\")\n",
    "        vlog(\"\")\n",
    "        \n",
    "    log(\"Chunk results: \")\n",
    "    log(osm_addresses)\n",
    "    log(f\"Chunk match rate: {(osm_addresses.shape[0] / init_chunk_size) if init_chunk_size > 0 else '(empty chunk size)'}\")\n",
    "    log(pd.DataFrame(stats))\n",
    "    \n",
    "    return osm_addresses, rejected_addresses, stats     "
   ]
  },
  {
   "cell_type": "code",
   "execution_count": null,
   "metadata": {
    "ExecuteTime": {
     "end_time": "2020-01-13T14:20:05.783642Z",
     "start_time": "2020-01-13T14:20:05.772195Z"
    }
   },
   "outputs": [],
   "source": []
  },
  {
   "cell_type": "code",
   "execution_count": null,
   "metadata": {
    "ExecuteTime": {
     "end_time": "2020-05-04T07:50:21.018934Z",
     "start_time": "2020-05-04T07:50:21.004389Z"
    }
   },
   "outputs": [],
   "source": [
    "# Compute the number of chunks\n",
    "min_nb_chunks= 4\n",
    "\n",
    "if addresses.shape[0] > max_chunk_size * min_nb_chunks:\n",
    "    chunk_size = max_chunk_size\n",
    "    \n",
    "elif addresses.shape[0] < min_chunk_size * min_nb_chunks:\n",
    "    chunk_size = min_chunk_size\n",
    "else: \n",
    "    chunk_size = int(np.sqrt(max_chunk_size *min_chunk_size))\n",
    "log(f\"Chunk_size: {chunk_size}\")\n"
   ]
  },
  {
   "cell_type": "markdown",
   "metadata": {
    "ExecuteTime": {
     "end_time": "2020-01-13T14:16:43.016734Z",
     "start_time": "2020-01-13T14:16:42.988839Z"
    }
   },
   "source": [
    "Do the main processing, with dask or simply in sequential chunks. \n",
    "\n",
    "Processing a chunk may require at some point a huge amount of memory. A single chunk with a few millions addresses may result in memory error ; this is why we split the main addresses dataframe is smaller chunks.\n"
   ]
  },
  {
   "cell_type": "code",
   "execution_count": null,
   "metadata": {
    "ExecuteTime": {
     "end_time": "2020-05-04T08:03:00.426512Z",
     "start_time": "2020-05-04T07:50:21.025400Z"
    },
    "scrolled": true
   },
   "outputs": [],
   "source": [
    "stats = []\n",
    "\n",
    "\n",
    "if with_dask : \n",
    "    \n",
    "    from dask.diagnostics import Profiler, ResourceProfiler\n",
    "    \n",
    "    #AddressCleanserUtils.with_dask = False\n",
    "    \n",
    "    # Sorting : allow to increase the probability to have duplicates within a chunk\n",
    "    dd_to_process = dd.from_pandas(addresses.sort_values([config_module.postcode_field, config_module.street_field]).reset_index(drop=True), \n",
    "                                   chunksize=chunk_size)\n",
    "\n",
    "    dask_task = dd_to_process.map_partitions(main_loop)\n",
    "\n",
    "    with Profiler() as prof, ResourceProfiler() as rprof : \n",
    "        res =  dask_task.compute(scheduler='processes')\n",
    "\n",
    "    log(\"All chunks done, gather all results...\")\n",
    "    \n",
    "    osm_addresses      = pd.concat([chunk_osm_addresses      for (chunk_osm_addresses, _, _)      in res], sort=False)\n",
    "    rejected_addresses = pd.concat([chunk_rejected_addresses for (_, chunk_rejected_addresses, _) in res], sort=False)\n",
    "\n",
    "    for (_, _, chunk_stats) in res: \n",
    "        stats.extend(chunk_stats)\n",
    "\n",
    "    log(f\"Global match rate: { osm_addresses.shape[0]/addresses.shape[0] } \")\n",
    "\n",
    "else: \n",
    "    #AddressCleanserUtils.with_dask = True\n",
    "\n",
    "    osm_addresses        = pd.DataFrame()\n",
    "    rejected_addresses   = pd.DataFrame()\n",
    "\n",
    "    chunks_boundaries =  range(chunk_size, addresses.shape[0] , chunk_size)\n",
    "\n",
    "    for chunk in tqdm(np.array_split(addresses.sort_values([config_module.postcode_field, config_module.street_field]), chunks_boundaries)):\n",
    "\n",
    "\n",
    "        chunk_osm_addresses, chunk_rejected_addresses, chunk_stats = main_loop(chunk)\n",
    "\n",
    "\n",
    "        osm_addresses =      osm_addresses.append(chunk_osm_addresses, sort=False).drop_duplicates()\n",
    "        rejected_addresses = rejected_addresses.append(chunk_rejected_addresses, sort=False).drop_duplicates()\n",
    "\n",
    "        log(f\"Global match rate so far: {osm_addresses.shape[0]/addresses.shape[0]}\")\n",
    "        stats.extend(chunk_stats)\n"
   ]
  },
  {
   "cell_type": "code",
   "execution_count": null,
   "metadata": {
    "ExecuteTime": {
     "end_time": "2020-05-04T08:03:00.438245Z",
     "start_time": "2020-05-04T08:03:00.431779Z"
    }
   },
   "outputs": [],
   "source": [
    "# inclusion_test(\"NEU\", \"NEUCHATEAU\")"
   ]
  },
  {
   "cell_type": "code",
   "execution_count": null,
   "metadata": {
    "ExecuteTime": {
     "end_time": "2020-05-04T08:03:00.494220Z",
     "start_time": "2020-05-04T08:03:00.452819Z"
    }
   },
   "outputs": [],
   "source": [
    "addresses"
   ]
  },
  {
   "cell_type": "code",
   "execution_count": null,
   "metadata": {
    "ExecuteTime": {
     "end_time": "2020-05-04T08:03:00.510492Z",
     "start_time": "2020-05-04T08:03:00.504523Z"
    }
   },
   "outputs": [],
   "source": [
    "# get_osm(\"6840 NEUFCHÂTEAU\")"
   ]
  },
  {
   "cell_type": "code",
   "execution_count": null,
   "metadata": {
    "ExecuteTime": {
     "end_time": "2020-05-04T08:03:01.976991Z",
     "start_time": "2020-05-04T08:03:00.515675Z"
    }
   },
   "outputs": [],
   "source": [
    "if with_dask:\n",
    "    from dask.diagnostics import visualize\n",
    "    from bokeh.io import output_notebook, output_file\n",
    "    output_file(\"dask_stats.html\")\n",
    "    # output_notebook()\n",
    "    visualize([prof, rprof])"
   ]
  },
  {
   "cell_type": "code",
   "execution_count": null,
   "metadata": {
    "ExecuteTime": {
     "end_time": "2020-05-04T08:03:01.989962Z",
     "start_time": "2020-05-04T08:03:01.985179Z"
    }
   },
   "outputs": [],
   "source": [
    "# osm_addresses.SIM_street_which.value_counts() /osm_addresses.shape[0] #.plot.pie()"
   ]
  },
  {
   "cell_type": "markdown",
   "metadata": {},
   "source": [
    "# Rejected addresses"
   ]
  },
  {
   "cell_type": "markdown",
   "metadata": {},
   "source": [
    "Give some statistics about rejected adresses. \n",
    "\"rejected_addresses\" contains two types of rejected addresses : \n",
    "- rejected_addresses[\"reject_reason\"] == \"mismatch\" : by comparing field by field input address and output address, this addresses has been rejected\n",
    "- rejected_addresses[\"reject_reason\"] == \"tail\" : when OSM returns several results, only one is kept in \"osm_addresses\", all the others are put in rejected_addresses\n",
    "\n",
    "Note that an addresse may have been rejected at a specific step (for a giver sequence of transformer), but not at another one.\n",
    "\"rejected_addresses\" may then contain a lot of addresses for which a result has been accepted further on.\n",
    "\n",
    "\"rejected_addresses_final\" contains the only addresses for which all results have been rejected.\n"
   ]
  },
  {
   "cell_type": "code",
   "execution_count": null,
   "metadata": {
    "ExecuteTime": {
     "end_time": "2020-05-04T08:03:02.191846Z",
     "start_time": "2020-05-04T08:03:01.995934Z"
    },
    "scrolled": true
   },
   "outputs": [],
   "source": [
    "rejected_addresses_final =  rejected_addresses[rejected_addresses[\"reject_reason\"] == \"mismatch\"]\n",
    "\n",
    "rejected_addresses_final =  rejected_addresses_final[~rejected_addresses_final[config_module.addr_key_field].isin(osm_addresses[config_module.addr_key_field])]\n",
    "\n",
    "# Needed with check_with_transformed = True (but doesn't hurt if not)\n",
    "rejected_addresses_final = rejected_addresses_final.drop([config_module.street_field,\n",
    "                                                          config_module.housenbr_field,\n",
    "                                                          config_module.postcode_field,\n",
    "                                                          config_module.city_field,\n",
    "                                                          config_module.country_field],\n",
    "                                                          axis=1\n",
    "                                                        )\n",
    "\n",
    "# print(rejected_addresses.keys())\n",
    "# print(osm_addresses.keys())\n",
    "# print(rejected_addresses.keys() & osm_addresses.keys())\n",
    "\n",
    "rejected_addresses_final  = rejected_addresses_final.merge(addresses).sort_values([\"SIM_street\", config_module.addr_key_field])[[\"method\", \n",
    "    config_module.addr_key_field, \"osm_addr_in\", \n",
    "    config_module.street_field, config_module.housenbr_field, config_module.postcode_field, config_module.city_field,  config_module.country_field,  \n",
    "    \"addr_out_street\", \"addr_out_city\", \"addr_out_number\", \"addr_out_postcode\", \"addr_out_other\", \"SIM_street\", \"SIM_zip\"]].drop_duplicates()\n",
    "log(\"Rejected addresses: \")\n",
    "log(rejected_addresses_final)"
   ]
  },
  {
   "cell_type": "code",
   "execution_count": null,
   "metadata": {
    "ExecuteTime": {
     "end_time": "2020-05-04T08:03:02.206128Z",
     "start_time": "2020-05-04T08:03:02.196104Z"
    }
   },
   "outputs": [],
   "source": [
    "log(f\"Number of unique rejected addresses: {rejected_addresses_final[config_module.addr_key_field].nunique()}\")"
   ]
  },
  {
   "cell_type": "code",
   "execution_count": null,
   "metadata": {
    "ExecuteTime": {
     "end_time": "2020-05-04T08:03:02.230525Z",
     "start_time": "2020-05-04T08:03:02.212515Z"
    }
   },
   "outputs": [],
   "source": [
    "log(f\"Number of unique city-streets in rejected addresses: {rejected_addresses_final[[config_module.postcode_field, config_module.street_field]].drop_duplicates().shape[0]}\")\n"
   ]
  },
  {
   "cell_type": "code",
   "execution_count": null,
   "metadata": {
    "ExecuteTime": {
     "end_time": "2020-05-04T08:03:02.284209Z",
     "start_time": "2020-05-04T08:03:02.245209Z"
    }
   },
   "outputs": [],
   "source": [
    "rejected_addresses_final[rejected_addresses_final.addr_out_street.isnull()]"
   ]
  },
  {
   "cell_type": "code",
   "execution_count": null,
   "metadata": {
    "ExecuteTime": {
     "end_time": "2020-05-04T08:03:02.418511Z",
     "start_time": "2020-05-04T08:03:02.289926Z"
    },
    "scrolled": true
   },
   "outputs": [],
   "source": [
    "rejected_addresses_final[rejected_addresses_final.addr_out_street.notnull()]#.drop([\"method\"], axis=1).drop_duplicates()"
   ]
  },
  {
   "cell_type": "code",
   "execution_count": null,
   "metadata": {
    "ExecuteTime": {
     "end_time": "2020-05-04T08:03:03.015931Z",
     "start_time": "2020-05-04T08:03:02.423382Z"
    },
    "scrolled": true
   },
   "outputs": [],
   "source": [
    "# Swap street - city\n",
    "log(\"Rejected addresses, but where it might have a swap between street and city\")\n",
    "str_cmp= street_compare(rejected_addresses_final[config_module.street_field], rejected_addresses_final.addr_out_city)\n",
    "x= rejected_addresses_final[(str_cmp>0.5) & (rejected_addresses_final.addr_out_street.isnull()) & (rejected_addresses_final.SIM_zip >= 0.1)].drop_duplicates(subset=config_module.addr_key_field)\n",
    "log(x)\n",
    "log(f\"Number of unique addresses: {x[config_module.addr_key_field].nunique()}\")"
   ]
  },
  {
   "cell_type": "code",
   "execution_count": null,
   "metadata": {
    "ExecuteTime": {
     "end_time": "2020-05-04T08:03:03.125423Z",
     "start_time": "2020-05-04T08:03:03.023195Z"
    },
    "scrolled": true
   },
   "outputs": [],
   "source": [
    "# Other mismatches\n",
    "rejected_addresses_final[(str_cmp<=0.5) | (rejected_addresses_final.addr_out_street.notnull()) | (rejected_addresses_final.SIM_zip < 0.1)].drop_duplicates(subset=config_module.addr_key_field)"
   ]
  },
  {
   "cell_type": "markdown",
   "metadata": {},
   "source": [
    "# No match"
   ]
  },
  {
   "cell_type": "code",
   "execution_count": null,
   "metadata": {
    "ExecuteTime": {
     "end_time": "2020-05-04T08:03:03.187947Z",
     "start_time": "2020-05-04T08:03:03.130244Z"
    },
    "scrolled": true
   },
   "outputs": [],
   "source": [
    "log(\"Addresses with no match (but some matches where rejected)\")\n",
    "log(addresses[~addresses[config_module.addr_key_field].isin(osm_addresses[config_module.addr_key_field]) & addresses[config_module.addr_key_field].isin(rejected_addresses[config_module.addr_key_field])])\n"
   ]
  },
  {
   "cell_type": "code",
   "execution_count": null,
   "metadata": {
    "ExecuteTime": {
     "end_time": "2020-05-04T08:03:03.335612Z",
     "start_time": "2020-05-04T08:03:03.193805Z"
    },
    "scrolled": true
   },
   "outputs": [],
   "source": [
    "rejected_addresses"
   ]
  },
  {
   "cell_type": "code",
   "execution_count": null,
   "metadata": {
    "ExecuteTime": {
     "end_time": "2020-05-04T08:03:03.393142Z",
     "start_time": "2020-05-04T08:03:03.340507Z"
    }
   },
   "outputs": [],
   "source": [
    "log(\"Addresses with no match at all\")\n",
    "no_match = addresses[~addresses[config_module.addr_key_field].isin(osm_addresses[config_module.addr_key_field]) & ~addresses[config_module.addr_key_field].isin(rejected_addresses[config_module.addr_key_field])]\n",
    "log(no_match)"
   ]
  },
  {
   "cell_type": "code",
   "execution_count": null,
   "metadata": {
    "ExecuteTime": {
     "end_time": "2020-05-04T08:03:03.416097Z",
     "start_time": "2020-05-04T08:03:03.397305Z"
    },
    "scrolled": true
   },
   "outputs": [],
   "source": [
    "log(f\"Number of unique city-streets in no match addresses: {no_match[[config_module.postcode_field, config_module.street_field]].drop_duplicates().shape[0]}\")\n"
   ]
  },
  {
   "cell_type": "code",
   "execution_count": null,
   "metadata": {
    "ExecuteTime": {
     "end_time": "2020-05-04T08:03:03.447340Z",
     "start_time": "2020-05-04T08:03:03.420732Z"
    }
   },
   "outputs": [],
   "source": [
    "log(\"Main cities in no match addresses: \")\n",
    "log(no_match[config_module.city_field].value_counts().head(10))"
   ]
  },
  {
   "cell_type": "code",
   "execution_count": null,
   "metadata": {
    "ExecuteTime": {
     "end_time": "2020-05-04T08:03:03.470971Z",
     "start_time": "2020-05-04T08:03:03.451350Z"
    }
   },
   "outputs": [],
   "source": [
    "log(\"Main streets in no match addresses: \")\n",
    "log(no_match[config_module.street_field].value_counts().head(10))"
   ]
  },
  {
   "cell_type": "markdown",
   "metadata": {},
   "source": [
    "# Extra house number"
   ]
  },
  {
   "cell_type": "markdown",
   "metadata": {},
   "source": [
    "In many situation, OSM does not return a correct house number : \n",
    "- Either because the building is not known by OSM. In this case, house number is empty in result\n",
    "- Or because house number in input also contains information such as box, level...\n",
    "\n",
    "We then consider that house number is not reliable enough and compute our own house number field, named \"extra_house_nbr\""
   ]
  },
  {
   "cell_type": "code",
   "execution_count": null,
   "metadata": {
    "ExecuteTime": {
     "end_time": "2020-05-04T08:03:04.798171Z",
     "start_time": "2020-05-04T08:03:03.475468Z"
    },
    "scrolled": true
   },
   "outputs": [],
   "source": [
    "log(\"Add extra house number\")\n",
    "osm_addresses = add_extra_house_number(osm_addresses, addresses, street_field=config_module.street_field, housenbr_field=config_module.housenbr_field)"
   ]
  },
  {
   "cell_type": "code",
   "execution_count": null,
   "metadata": {
    "ExecuteTime": {
     "end_time": "2020-05-04T08:03:04.809639Z",
     "start_time": "2020-05-04T08:03:04.802702Z"
    },
    "scrolled": true
   },
   "outputs": [],
   "source": [
    "# osm_addresses.drop(\"extra_house_nbr\", axis=1, inplace=True)"
   ]
  },
  {
   "cell_type": "code",
   "execution_count": null,
   "metadata": {
    "ExecuteTime": {
     "end_time": "2020-05-04T08:03:04.838357Z",
     "start_time": "2020-05-04T08:03:04.816028Z"
    }
   },
   "outputs": [],
   "source": [
    "ex_hs_nb = osm_addresses[[config_module.addr_key_field, \"osm_addr_in\", \"extra_house_nbr\", \"addr_out_number\"]].replace(\"\", np.NaN)"
   ]
  },
  {
   "cell_type": "code",
   "execution_count": null,
   "metadata": {
    "ExecuteTime": {
     "end_time": "2020-05-04T08:03:04.884951Z",
     "start_time": "2020-05-04T08:03:04.842627Z"
    },
    "scrolled": true
   },
   "outputs": [],
   "source": [
    "log(\"Add new information: \")\n",
    "log(ex_hs_nb[ex_hs_nb.addr_out_number.isnull() & ex_hs_nb.extra_house_nbr.notnull()])"
   ]
  },
  {
   "cell_type": "code",
   "execution_count": null,
   "metadata": {
    "ExecuteTime": {
     "end_time": "2020-05-04T08:03:04.928088Z",
     "start_time": "2020-05-04T08:03:04.889201Z"
    }
   },
   "outputs": [],
   "source": [
    "log(\"No number at all: \")\n",
    "log(ex_hs_nb[ex_hs_nb.addr_out_number.isnull() & ex_hs_nb.extra_house_nbr.isnull()])"
   ]
  },
  {
   "cell_type": "code",
   "execution_count": null,
   "metadata": {
    "ExecuteTime": {
     "end_time": "2020-05-04T08:03:04.981754Z",
     "start_time": "2020-05-04T08:03:04.932257Z"
    },
    "scrolled": true
   },
   "outputs": [],
   "source": [
    "log(\"Agreed: \")\n",
    "log(ex_hs_nb[ex_hs_nb.addr_out_number.notnull() & ex_hs_nb.extra_house_nbr.notnull() & (ex_hs_nb.addr_out_number == ex_hs_nb.extra_house_nbr)])"
   ]
  },
  {
   "cell_type": "code",
   "execution_count": null,
   "metadata": {
    "ExecuteTime": {
     "end_time": "2020-05-04T08:03:05.034371Z",
     "start_time": "2020-05-04T08:03:04.985974Z"
    }
   },
   "outputs": [],
   "source": [
    "log(\"Disagreed: \")\n",
    "log(ex_hs_nb[ex_hs_nb.addr_out_number.notnull() & ex_hs_nb.extra_house_nbr.notnull() & (ex_hs_nb.addr_out_number != ex_hs_nb.extra_house_nbr)])"
   ]
  },
  {
   "cell_type": "code",
   "execution_count": null,
   "metadata": {
    "ExecuteTime": {
     "end_time": "2020-05-04T08:03:05.076548Z",
     "start_time": "2020-05-04T08:03:05.038991Z"
    }
   },
   "outputs": [],
   "source": [
    "log(\"Error: \") # There were no number in input, but OSM found one\n",
    "log(ex_hs_nb[ex_hs_nb.addr_out_number.notnull() & ex_hs_nb.extra_house_nbr.isnull()])"
   ]
  },
  {
   "cell_type": "code",
   "execution_count": null,
   "metadata": {
    "ExecuteTime": {
     "end_time": "2020-05-04T08:03:05.161984Z",
     "start_time": "2020-05-04T08:03:05.080928Z"
    },
    "run_control": {
     "marked": false
    }
   },
   "outputs": [],
   "source": [
    "extra_address_stats = {\n",
    "    \"New information\" : (ex_hs_nb.addr_out_number.isnull()  & ex_hs_nb.extra_house_nbr.notnull()).sum(),\n",
    "    \"No number at all\": (ex_hs_nb.addr_out_number.isnull()  & ex_hs_nb.extra_house_nbr.isnull() ).sum(),\n",
    "    \"Agree\"  :          (ex_hs_nb.addr_out_number.notnull() & ex_hs_nb.extra_house_nbr.notnull() & (ex_hs_nb.addr_out_number == ex_hs_nb.extra_house_nbr)).sum(),\n",
    "    \"Disagree\":         (ex_hs_nb.addr_out_number.notnull() & ex_hs_nb.extra_house_nbr.notnull() & (ex_hs_nb.addr_out_number != ex_hs_nb.extra_house_nbr)).sum(),\n",
    "    \"Error\" :           (ex_hs_nb.addr_out_number.notnull() & ex_hs_nb.extra_house_nbr.isnull()).sum()\n",
    "    \n",
    "}\n",
    "extra_address_stats = pd.DataFrame(extra_address_stats, index=[\"Count\"]).T\n",
    "log(extra_address_stats)"
   ]
  },
  {
   "cell_type": "code",
   "execution_count": null,
   "metadata": {
    "ExecuteTime": {
     "end_time": "2020-05-04T08:03:05.173745Z",
     "start_time": "2020-05-04T08:03:05.166948Z"
    },
    "scrolled": true
   },
   "outputs": [],
   "source": [
    "# extra_address_stats.Count.plot.pie(label=\"\",  autopct='%1.1f%%')"
   ]
  },
  {
   "cell_type": "code",
   "execution_count": null,
   "metadata": {
    "ExecuteTime": {
     "end_time": "2020-05-04T08:03:05.190718Z",
     "start_time": "2020-05-04T08:03:05.181887Z"
    }
   },
   "outputs": [],
   "source": [
    "assert extra_address_stats.Count.sum() == osm_addresses.shape[0]"
   ]
  },
  {
   "cell_type": "markdown",
   "metadata": {
    "ExecuteTime": {
     "start_time": "2019-08-21T07:49:37.320Z"
    }
   },
   "source": [
    "# Some stats"
   ]
  },
  {
   "cell_type": "code",
   "execution_count": null,
   "metadata": {
    "ExecuteTime": {
     "end_time": "2020-05-04T08:03:05.241292Z",
     "start_time": "2020-05-04T08:03:05.197478Z"
    }
   },
   "outputs": [],
   "source": [
    "_stats = pd.DataFrame(stats)[[\"method\",\"todo\", \"sent\", \"match\", \"match_26\", \"reject_rec\", \"reject_addr\", \"reject_mism\"]]\n",
    "_stats = _stats.reset_index().groupby(\"method\").sum().reset_index().sort_values(\"index\").drop(\"index\", axis=1)"
   ]
  },
  {
   "cell_type": "code",
   "execution_count": null,
   "metadata": {
    "ExecuteTime": {
     "end_time": "2020-05-04T08:03:05.267122Z",
     "start_time": "2020-05-04T08:03:05.246334Z"
    }
   },
   "outputs": [],
   "source": [
    "assert osm_addresses.shape[0] == _stats[\"match\"].sum()"
   ]
  },
  {
   "cell_type": "code",
   "execution_count": null,
   "metadata": {
    "ExecuteTime": {
     "end_time": "2020-05-04T08:03:05.284949Z",
     "start_time": "2020-05-04T08:03:05.273385Z"
    }
   },
   "outputs": [],
   "source": [
    "log(f\"Global match rate : {osm_addresses.shape[0]/addresses.shape[0]}\")"
   ]
  },
  {
   "cell_type": "code",
   "execution_count": null,
   "metadata": {
    "ExecuteTime": {
     "end_time": "2020-05-04T08:03:05.331136Z",
     "start_time": "2020-05-04T08:03:05.290449Z"
    }
   },
   "outputs": [],
   "source": [
    "rejected_count = rejected_addresses[~rejected_addresses[config_module.addr_key_field].isin(osm_addresses[config_module.addr_key_field])][config_module.addr_key_field].nunique()\n",
    "rejected_count\n",
    "\n",
    "nomatch_count = addresses[~addresses[config_module.addr_key_field].isin(osm_addresses[config_module.addr_key_field]) & ~addresses[config_module.addr_key_field].isin(rejected_addresses[config_module.addr_key_field])].shape[0]\n",
    "\n",
    "rejected_count, nomatch_count"
   ]
  },
  {
   "cell_type": "code",
   "execution_count": null,
   "metadata": {
    "ExecuteTime": {
     "end_time": "2020-05-04T08:03:05.342386Z",
     "start_time": "2020-05-04T08:03:05.335645Z"
    },
    "scrolled": true
   },
   "outputs": [],
   "source": [
    "#rejected_addresses[~rejected_addresses[config_module.addr_key_field].isin(osm_addresses[config_module.addr_key_field])]\n"
   ]
  },
  {
   "cell_type": "code",
   "execution_count": null,
   "metadata": {
    "ExecuteTime": {
     "end_time": "2020-05-04T08:03:05.355418Z",
     "start_time": "2020-05-04T08:03:05.348246Z"
    }
   },
   "outputs": [],
   "source": [
    "# osm_addresses[osm_addresses.EntityNumber == \"2.227.707.047\"]"
   ]
  },
  {
   "cell_type": "code",
   "execution_count": null,
   "metadata": {
    "ExecuteTime": {
     "end_time": "2020-05-04T08:03:05.371487Z",
     "start_time": "2020-05-04T08:03:05.361109Z"
    }
   },
   "outputs": [],
   "source": [
    "missing_address_count = addresses.shape[0] - osm_addresses.shape[0]\n",
    "\n",
    "assert rejected_count + nomatch_count == missing_address_count\n",
    "\n",
    "# print(\"Missing : \", missing_address_count)"
   ]
  },
  {
   "cell_type": "code",
   "execution_count": null,
   "metadata": {
    "ExecuteTime": {
     "end_time": "2020-05-04T08:03:05.403206Z",
     "start_time": "2020-05-04T08:03:05.377664Z"
    }
   },
   "outputs": [],
   "source": [
    "_stats = _stats.append(pd.DataFrame([{\"method\": \"reject\", \"todo\": rejected_count, \"match\": rejected_count},\n",
    "                              {\"method\": \"nomatch\", \"todo\": nomatch_count, \"match\": nomatch_count},\n",
    "                             ]), sort=False)"
   ]
  },
  {
   "cell_type": "code",
   "execution_count": null,
   "metadata": {
    "ExecuteTime": {
     "end_time": "2020-05-04T08:03:05.465590Z",
     "start_time": "2020-05-04T08:03:05.407817Z"
    }
   },
   "outputs": [],
   "source": [
    "_stats[\"match rate\"] = _stats[\"match\"]/_stats[\"sent\"]\n",
    "_stats[\"glob match rate\"] = _stats[\"match\"]/addresses.shape[0]\n",
    "\n",
    "log(_stats[_stats.match > 0])#.sort_values(\"match\", ascending=False)"
   ]
  },
  {
   "cell_type": "code",
   "execution_count": null,
   "metadata": {
    "ExecuteTime": {
     "end_time": "2020-05-04T08:03:05.490865Z",
     "start_time": "2020-05-04T08:03:05.485043Z"
    }
   },
   "outputs": [],
   "source": [
    "#"
   ]
  },
  {
   "cell_type": "code",
   "execution_count": null,
   "metadata": {
    "ExecuteTime": {
     "end_time": "2020-05-04T08:03:06.030356Z",
     "start_time": "2020-05-04T08:03:05.496411Z"
    },
    "scrolled": true
   },
   "outputs": [],
   "source": [
    "if AddressCleanserUtils.within_jupyter:\n",
    "    import matplotlib.pyplot as plt\n",
    "\n",
    "    _stats.set_index(\"method\").match.plot.pie()\n",
    "    plt.tight_layout()"
   ]
  },
  {
   "cell_type": "code",
   "execution_count": null,
   "metadata": {
    "ExecuteTime": {
     "end_time": "2020-05-04T08:03:06.066988Z",
     "start_time": "2020-05-04T08:03:06.034814Z"
    }
   },
   "outputs": [],
   "source": [
    "log(f\"Place ranks: \\n{osm_addresses.place_rank.value_counts().to_string()}\")"
   ]
  },
  {
   "cell_type": "code",
   "execution_count": null,
   "metadata": {
    "ExecuteTime": {
     "end_time": "2020-05-04T08:03:06.092869Z",
     "start_time": "2020-05-04T08:03:06.075135Z"
    }
   },
   "outputs": [],
   "source": [
    "osm_addresses.place_rank.value_counts() / osm_addresses.shape[0]"
   ]
  },
  {
   "cell_type": "code",
   "execution_count": null,
   "metadata": {
    "ExecuteTime": {
     "end_time": "2020-05-04T08:03:06.742502Z",
     "start_time": "2020-05-04T08:03:06.099979Z"
    }
   },
   "outputs": [],
   "source": [
    "if AddressCleanserUtils.within_jupyter:\n",
    "    osm_addresses.place_rank.value_counts().plot.bar()"
   ]
  },
  {
   "cell_type": "code",
   "execution_count": null,
   "metadata": {
    "ExecuteTime": {
     "end_time": "2020-05-04T08:03:07.068531Z",
     "start_time": "2020-05-04T08:03:06.747332Z"
    }
   },
   "outputs": [],
   "source": [
    "if AddressCleanserUtils.within_jupyter:\n",
    "    osm_addresses.place_rank.value_counts().plot.pie()"
   ]
  },
  {
   "cell_type": "code",
   "execution_count": null,
   "metadata": {
    "ExecuteTime": {
     "end_time": "2020-05-04T08:03:07.501649Z",
     "start_time": "2020-05-04T08:03:07.073512Z"
    }
   },
   "outputs": [],
   "source": [
    "if AddressCleanserUtils.within_jupyter:\n",
    "    osm_addresses.addr_out_number.isnull().value_counts().plot.bar()"
   ]
  },
  {
   "cell_type": "code",
   "execution_count": null,
   "metadata": {
    "ExecuteTime": {
     "end_time": "2020-05-04T08:03:07.891306Z",
     "start_time": "2020-05-04T08:03:07.506245Z"
    }
   },
   "outputs": [],
   "source": [
    "if AddressCleanserUtils.within_jupyter:\n",
    "    addresses[config_module.housenbr_field].isnull().value_counts().plot.bar()"
   ]
  },
  {
   "cell_type": "code",
   "execution_count": null,
   "metadata": {
    "ExecuteTime": {
     "end_time": "2020-05-04T08:03:07.929536Z",
     "start_time": "2020-05-04T08:03:07.921781Z"
    }
   },
   "outputs": [],
   "source": [
    "# Remark : only works when dask is not used \n",
    "# Gives times used of transformer, querying & processing osm, and checking results\n",
    "if not with_dask:\n",
    "    ts = AddressCleanserUtils.timestats\n",
    "    tot = np.sum([ts[key] for key in ts])\n",
    "    for key in ts: \n",
    "        log(f\"{key:12}: {ts[key]} ({100*ts[key]/tot:.3} %)\")"
   ]
  },
  {
   "cell_type": "code",
   "execution_count": null,
   "metadata": {
    "ExecuteTime": {
     "end_time": "2020-05-04T08:20:56.608825Z",
     "start_time": "2020-05-04T08:20:56.376787Z"
    }
   },
   "outputs": [],
   "source": [
    "log(\"Country statistics\")\n",
    "x = addresses.merge(osm_addresses, how=\"outer\") #[[config_module.country_field, \"addr_out_country\"]].value_counts()\n",
    "log(pd.crosstab(x[config_module.country_field].fillna(\"[none]\"), x[\"addr_out_country\"].fillna(\"[none]\"), margins=True))"
   ]
  },
  {
   "cell_type": "markdown",
   "metadata": {},
   "source": [
    "# Output"
   ]
  },
  {
   "cell_type": "code",
   "execution_count": null,
   "metadata": {
    "ExecuteTime": {
     "end_time": "2020-05-04T08:03:08.715134Z",
     "start_time": "2020-05-04T07:54:06.632Z"
    },
    "scrolled": true
   },
   "outputs": [],
   "source": [
    "output_folder = address_file.rsplit(\".\", 1)[0]\n",
    "\n",
    "import os\n",
    "\n",
    "try:\n",
    "    os.mkdir(output_folder)\n",
    "except OSError:\n",
    "    log (\"Creation of the directory %s failed\" % output_folder)\n",
    "else:\n",
    "    log (\"Successfully created the directory %s \" % output_folder)\n",
    "    \n",
    "    \n",
    "output_filename_xls = output_folder + \"/match.xlsx\"\n",
    "output_filename_pkl = output_folder + \"/match.pkl\"\n",
    "\n",
    "nomatch_filename = output_folder + \"/nomatch.xlsx\"\n",
    "\n",
    "reject_filename = output_folder + \"/reject.xlsx\"\n",
    "\n",
    "stats_filename = output_folder + \"/stats.xlsx\""
   ]
  },
  {
   "cell_type": "code",
   "execution_count": null,
   "metadata": {
    "ExecuteTime": {
     "end_time": "2020-05-04T08:03:08.717588Z",
     "start_time": "2020-05-04T07:54:06.636Z"
    },
    "scrolled": true
   },
   "outputs": [],
   "source": [
    "final_output = addresses.merge(osm_addresses, how=\"left\")\n",
    "\n",
    "\n",
    "log(f\"Writing results on {output_filename_xls} ...\")\n",
    "try: \n",
    "    final_output.to_excel(output_filename_xls)\n",
    "except Exception as e: \n",
    "    log(\"Failed ! \")\n",
    "    log(e)\n",
    "    \n",
    "log(f\"Writing results on {output_filename_pkl} ...\")\n",
    "try: \n",
    "    final_output.to_pickle(output_filename_pkl)\n",
    "except Exception as e: \n",
    "    log(\"Failed ! \")\n",
    "    log(e)\n",
    "    "
   ]
  },
  {
   "cell_type": "code",
   "execution_count": null,
   "metadata": {
    "ExecuteTime": {
     "end_time": "2020-04-17T13:22:09.269754Z",
     "start_time": "2020-04-17T13:22:09.246646Z"
    }
   },
   "outputs": [],
   "source": []
  },
  {
   "cell_type": "code",
   "execution_count": null,
   "metadata": {
    "ExecuteTime": {
     "end_time": "2020-05-04T08:03:08.720134Z",
     "start_time": "2020-05-04T07:54:06.643Z"
    }
   },
   "outputs": [],
   "source": [
    "log(f\"Writing rejected on {reject_filename} ...\")\n",
    "try: \n",
    "\n",
    "    rejected_addresses_final.sort_values([config_module.addr_key_field]).set_index([config_module.addr_key_field,\n",
    "                                                                               config_module.street_field,\n",
    "                                                                               config_module.housenbr_field,\n",
    "                                                                               config_module.postcode_field,\n",
    "                                                                               config_module.city_field,\n",
    "                                                                               config_module.country_field,\n",
    "                                                                               \"method\"]).to_excel(reject_filename)\n",
    "except Exception as e: \n",
    "    log(\"Failed ! \")\n",
    "    log(e)\n",
    "    \n",
    "\n",
    "log(f\"Writing nomatch on {nomatch_filename} ...\")\n",
    "try: \n",
    "    nomatch =  addresses[~addresses[config_module.addr_key_field].isin(osm_addresses[config_module.addr_key_field]) & ~addresses[config_module.addr_key_field].isin(rejected_addresses[config_module.addr_key_field])]\n",
    "    nomatch.to_excel(nomatch_filename)\n",
    "except Exception as e: \n",
    "    log(\"Failed ! \")\n",
    "    log(e)\n",
    "    "
   ]
  },
  {
   "cell_type": "code",
   "execution_count": null,
   "metadata": {
    "ExecuteTime": {
     "end_time": "2020-05-04T08:03:08.722529Z",
     "start_time": "2020-05-04T07:54:06.650Z"
    }
   },
   "outputs": [],
   "source": [
    "log(f\"Writing stats on {stats_filename} ...\")\n",
    "try: \n",
    "    with pd.ExcelWriter(stats_filename) as writer:\n",
    "        _stats.to_excel(writer, \"match_rate\")\n",
    "        \n",
    "        pr_vc = osm_addresses.place_rank.value_counts()\n",
    "        pr_vc = pd.concat([pr_vc, pr_vc/ osm_addresses.shape[0]], axis=1)\n",
    "        pr_vc.columns = [\"Count\", \"%\"]\n",
    "        pr_vc.to_excel(writer, \"place_rank\")\n",
    "\n",
    "except Exception as e: \n",
    "    log(\"Failed ! \")\n",
    "    log(e)\n",
    "    "
   ]
  },
  {
   "cell_type": "code",
   "execution_count": null,
   "metadata": {
    "ExecuteTime": {
     "end_time": "2020-05-04T08:03:08.725396Z",
     "start_time": "2020-05-04T07:54:06.655Z"
    },
    "scrolled": true
   },
   "outputs": [],
   "source": [
    "log(\"Done !\")\n",
    "log(f\"Total time : {datetime.now() - starting_time}\")"
   ]
  }
 ],
 "metadata": {
  "kernelspec": {
   "display_name": "Python 3 (ipykernel)",
   "language": "python",
   "name": "python3"
  },
  "language_info": {
   "codemirror_mode": {
    "name": "ipython",
    "version": 3
   },
   "file_extension": ".py",
   "mimetype": "text/x-python",
   "name": "python",
   "nbconvert_exporter": "python",
   "pygments_lexer": "ipython3",
   "version": "3.9.10"
  },
  "toc": {
   "base_numbering": 1,
   "nav_menu": {},
   "number_sections": true,
   "sideBar": true,
   "skip_h1_title": false,
   "title_cell": "Table of Contents",
   "title_sidebar": "Contents",
   "toc_cell": false,
   "toc_position": {
    "height": "862.4px",
    "left": "22px",
    "top": "110.8px",
    "width": "174.188px"
   },
   "toc_section_display": true,
   "toc_window_display": true
  },
  "varInspector": {
   "cols": {
    "lenName": 16,
    "lenType": 16,
    "lenVar": 40
   },
   "kernels_config": {
    "python": {
     "delete_cmd_postfix": "",
     "delete_cmd_prefix": "del ",
     "library": "var_list.py",
     "varRefreshCmd": "print(var_dic_list())"
    },
    "r": {
     "delete_cmd_postfix": ") ",
     "delete_cmd_prefix": "rm(",
     "library": "var_list.r",
     "varRefreshCmd": "cat(var_dic_list()) "
    }
   },
   "types_to_exclude": [
    "module",
    "function",
    "builtin_function_or_method",
    "instance",
    "_Feature"
   ],
   "window_display": false
  }
 },
 "nbformat": 4,
 "nbformat_minor": 2
}
