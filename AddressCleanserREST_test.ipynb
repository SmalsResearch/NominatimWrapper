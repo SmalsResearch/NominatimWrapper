{
 "cells": [
  {
   "cell_type": "code",
   "execution_count": 1,
   "metadata": {
    "ExecuteTime": {
     "end_time": "2022-11-24T15:18:29.850688Z",
     "start_time": "2022-11-24T15:18:28.606977Z"
    }
   },
   "outputs": [
    {
     "name": "stderr",
     "output_type": "stream",
     "text": [
      "/tmp/ipykernel_6191/3514129619.py:8: TqdmExperimentalWarning: Using `tqdm.autonotebook.tqdm` in notebook mode. Use `tqdm.tqdm` instead to force console mode (e.g. in jupyter console)\n",
      "  from tqdm.autonotebook import tqdm\n"
     ]
    }
   ],
   "source": [
    "import pandas as pd\n",
    "import urllib\n",
    "\n",
    "import numpy as np\n",
    "\n",
    "import json\n",
    "\n",
    "from tqdm.autonotebook import tqdm\n",
    "\n",
    "#%matplotlib inline\n",
    "\n",
    "tqdm.pandas()\n",
    "\n",
    "import dask.dataframe as dd\n",
    "\n",
    "from dask.multiprocessing import get\n",
    "from dask.diagnostics import ProgressBar\n",
    "\n",
    "from datetime import datetime\n",
    "import matplotlib.pyplot as plt\n",
    "\n",
    "from IPython.display import display\n"
   ]
  },
  {
   "cell_type": "code",
   "execution_count": 2,
   "metadata": {
    "ExecuteTime": {
     "end_time": "2022-11-24T15:18:29.942400Z",
     "start_time": "2022-11-24T15:18:29.852976Z"
    }
   },
   "outputs": [],
   "source": [
    "import urllib3"
   ]
  },
  {
   "cell_type": "code",
   "execution_count": 3,
   "metadata": {
    "ExecuteTime": {
     "end_time": "2022-11-24T15:18:29.946623Z",
     "start_time": "2022-11-24T15:18:29.944242Z"
    }
   },
   "outputs": [],
   "source": [
    "http = urllib3.PoolManager()"
   ]
  },
  {
   "cell_type": "code",
   "execution_count": 4,
   "metadata": {
    "ExecuteTime": {
     "end_time": "2022-11-24T15:18:30.011340Z",
     "start_time": "2022-11-24T15:18:29.948679Z"
    }
   },
   "outputs": [],
   "source": [
    "from config_batch import * "
   ]
  },
  {
   "cell_type": "markdown",
   "metadata": {
    "ExecuteTime": {
     "end_time": "2020-05-06T13:50:43.162875Z",
     "start_time": "2020-05-06T13:50:43.151794Z"
    }
   },
   "source": [
    "# Functions"
   ]
  },
  {
   "cell_type": "code",
   "execution_count": 5,
   "metadata": {
    "ExecuteTime": {
     "end_time": "2022-11-24T15:18:32.772701Z",
     "start_time": "2022-11-24T15:18:32.770226Z"
    }
   },
   "outputs": [],
   "source": [
    "ws_hostname = \"127.0.1.1\"\n",
    "ws_hostname = \"172.27.0.64\"\n",
    "\n",
    "# ws_hostname = \"192.168.1.3\"\n"
   ]
  },
  {
   "cell_type": "code",
   "execution_count": 83,
   "metadata": {
    "ExecuteTime": {
     "end_time": "2022-11-25T08:35:12.063783Z",
     "start_time": "2022-11-25T08:35:12.059065Z"
    }
   },
   "outputs": [],
   "source": [
    "def call_ws(addr_data, check_result=True, structured_osm=False): #lg = \"en,fr,nl\"\n",
    "    t = datetime.now()\n",
    "    \n",
    "    params = urllib.parse.urlencode({\"street\": addr_data[street_field],\n",
    "                                     \"housenumber\": addr_data[housenbr_field],\n",
    "                                     \"city\": addr_data[city_field],\n",
    "                                     \"postcode\": addr_data[postcode_field],\n",
    "                                     \"country\": addr_data[country_field],\n",
    "                                     \"check_result\" : \"yes\" if check_result else \"no\",\n",
    "                                     \"struct_osm\" : \"yes\" if structured_osm else \"no\"\n",
    "                                    })\n",
    "    url = f\"http://{ws_hostname}:5000/search/?{params}\"\n",
    "    \n",
    "#     print(url)\n",
    "    try:\n",
    "        with urllib.request.urlopen(url) as response:\n",
    "            res = response.read()\n",
    "            res = json.loads(res)\n",
    "#             print(res)\n",
    "            res[\"time\"] = (datetime.now() - t).total_seconds()\n",
    "            return res\n",
    "    except Exception as e:\n",
    "        return str(e)\n",
    "    "
   ]
  },
  {
   "cell_type": "code",
   "execution_count": 189,
   "metadata": {
    "ExecuteTime": {
     "end_time": "2022-12-12T12:23:52.424697Z",
     "start_time": "2022-12-12T12:23:52.415246Z"
    }
   },
   "outputs": [],
   "source": [
    "def call_ws_test(addr_data, check_result=True, structured_osm=False): #lg = \"en,fr,nl\"\n",
    "    t = datetime.now()\n",
    "    \n",
    "    params = urllib.parse.urlencode({\"street\": addr_data[street_field],\n",
    "                                     \"housenumber\": addr_data[housenbr_field],\n",
    "                                     \"city\": addr_data[city_field],\n",
    "                                     \"postcode\": addr_data[postcode_field],\n",
    "                                     \"country\": addr_data[country_field],\n",
    "                                     \"check_result\" : \"yes\" if check_result else \"no\",\n",
    "                                     \"struct_osm\" : \"yes\" if structured_osm else \"no\"\n",
    "                                    })\n",
    "    url = f\"http://{ws_hostname}:5000/search_async/?{params}\"\n",
    "    \n",
    "#     print(url)\n",
    "    try:\n",
    "        with urllib.request.urlopen(url) as response:\n",
    "            res = response.read()\n",
    "            res = json.loads(res)\n",
    "#             print(res)\n",
    "            res[\"time\"] = (datetime.now() - t).total_seconds()\n",
    "            return res\n",
    "    except Exception as e:\n",
    "        return str(e)\n",
    "    "
   ]
  },
  {
   "cell_type": "code",
   "execution_count": 64,
   "metadata": {
    "ExecuteTime": {
     "end_time": "2022-11-24T15:59:55.410481Z",
     "start_time": "2022-11-24T15:59:55.404200Z"
    }
   },
   "outputs": [],
   "source": [
    "def call_ws_batch(addr_data, mode=\"geo\", with_reject=False, check_result=True, structured_osm=False): #lg = \"en,fr,nl\"\n",
    "#     print(addr_data)\n",
    "#     print(addr_data.shape)\n",
    "#     print()\n",
    "    file_data = addr_data.rename(columns = {\n",
    "        street_field : \"street\",\n",
    "        housenbr_field: \"housenumber\",\n",
    "        postcode_field: \"postcode\",\n",
    "        city_field: \"city\",\n",
    "        country_field: \"country\",\n",
    "        addr_key_field : \"addr_key\"\n",
    "    }).to_csv(index=False)\n",
    "    \n",
    "    r = http.request(\n",
    "    'POST',\n",
    "    f'http://{ws_hostname}:5000/batch',\n",
    "    fields= { \n",
    "        'media': ('addresses.csv', file_data),\n",
    "        'mode': mode,\n",
    "        \"with_rejected\" : \"yes\" if with_reject else \"no\",\n",
    "        \"check_result\" : \"yes\" if check_result else \"no\",\n",
    "        \"struct_osm\" : \"yes\" if structured_osm else \"no\",\n",
    "        #\"extra_house_nbr\": \"no\"\n",
    "    })\n",
    "    \n",
    "    try:\n",
    "        res = pd.DataFrame(json.loads(r.data.decode('utf-8')))\n",
    "    except ValueError:\n",
    "        print(\"Cannot decode result:\")\n",
    "        print(r.data.decode('utf-8'))\n",
    "        print(json.loads(r.data.decode('utf-8')))\n",
    "        return \n",
    "#     display(res)\n",
    "    return res"
   ]
  },
  {
   "cell_type": "code",
   "execution_count": 9,
   "metadata": {
    "ExecuteTime": {
     "end_time": "2022-11-24T12:57:20.673506Z",
     "start_time": "2022-11-24T12:57:20.624277Z"
    }
   },
   "outputs": [],
   "source": [
    "def expand_json(addresses):\n",
    "    addresses[\"status\"]= addresses.json.apply(lambda d: \"error\" if \"error\" in d else \"match\" if \"match\" in d else \"rejected\")\n",
    "    addresses[\"time\"]  = addresses.json.apply(lambda d: d[\"time\"])\n",
    "\n",
    "    addresses[\"timing\"]  = addresses.json.apply(lambda d: d[\"timing\"] if \"timing\" in d else {})\n",
    "\n",
    "    addresses[\"method\"]= addresses.json.apply(lambda d: d[\"match\"][0][\"method\"] if len(d)>0 and \"match\" in d else \"none\")\n",
    "    \n",
    "    for field in [\"street\", \"number\", \"postcode\", \"city\"]:\n",
    "        addresses[field]= addresses.json.apply(lambda d: d[\"match\"][0][\"addr_out_\"+field] if len(d)>0 and \"match\" in d else \"\")\n",
    "    return "
   ]
  },
  {
   "cell_type": "markdown",
   "metadata": {},
   "source": [
    "# Calls"
   ]
  },
  {
   "cell_type": "markdown",
   "metadata": {
    "ExecuteTime": {
     "end_time": "2020-09-30T09:57:35.286293Z",
     "start_time": "2020-09-30T09:57:35.281457Z"
    }
   },
   "source": [
    "## Single address calls"
   ]
  },
  {
   "cell_type": "code",
   "execution_count": 229,
   "metadata": {
    "ExecuteTime": {
     "end_time": "2022-12-12T14:14:49.251227Z",
     "start_time": "2022-12-12T14:14:49.020180Z"
    },
    "scrolled": true
   },
   "outputs": [
    {
     "data": {
      "text/plain": [
       "{'match': [{'SIM_street_which': '',\n",
       "   'addr_out_city': 'Saint-Gilles - Sint-Gillis',\n",
       "   'addr_out_country': 'België / Belgique / Belgien',\n",
       "   'addr_out_number': '20',\n",
       "   'addr_out_postcode': '1060',\n",
       "   'addr_out_street': 'Avenue Fonsny - Fonsnylaan',\n",
       "   'display_name': '20, Avenue Fonsny - Fonsnylaan, Saint-Gilles - Sint-Gillis, Brussel-Hoofdstad - Bruxelles-Capitale, Région de Bruxelles-Capitale - Brussels Hoofdstedelijk Gewest, 1060, België / Belgique / Belgien',\n",
       "   'in_house_nbr': '20',\n",
       "   'lat': '50.8358677',\n",
       "   'lon': '4.3385087',\n",
       "   'lpost_house_nbr': '20',\n",
       "   'lpost_unit': '',\n",
       "   'method': 'orig',\n",
       "   'osm_addr_in': 'Av. Fonsny, 20, 1060 Saint-Gilles, Belgium',\n",
       "   'place_id': 182128,\n",
       "   'place_rank': 30}],\n",
       " 'rejected': [{'SIM_street': '',\n",
       "   'SIM_zip': '',\n",
       "   'addr_out_city': 'Saint-Gilles - Sint-Gillis',\n",
       "   'addr_out_country': 'België / Belgique / Belgien',\n",
       "   'addr_out_number': '20',\n",
       "   'addr_out_postcode': '1060',\n",
       "   'addr_out_street': 'Avenue Fonsny - Fonsnylaan',\n",
       "   'display_name': 'DAE (Smals), 20, Avenue Fonsny - Fonsnylaan, Saint-Gilles - Sint-Gillis, Brussel-Hoofdstad - Bruxelles-Capitale, Région de Bruxelles-Capitale - Brussels Hoofdstedelijk Gewest, 1060, België / Belgique / Belgien',\n",
       "   'lat': '50.8358216',\n",
       "   'lon': '4.3386884',\n",
       "   'method': 'orig',\n",
       "   'osm_addr_in': 'Av. Fonsny, 20, 1060 Saint-Gilles, Belgium',\n",
       "   'place_id': 178958,\n",
       "   'place_rank': 30,\n",
       "   'reject_reason': 'tail'}],\n",
       " 'timing': {'extra_hn': 81.081,\n",
       "  'extra_hn > lpost': 5.281,\n",
       "  'format_res': 9.483,\n",
       "  'global': 222.683,\n",
       "  'parse&split1': 2.897,\n",
       "  'parse&split2': 8.738,\n",
       "  'parse&split3': 9.886000000000001,\n",
       "  'parse&split4': 16.788999999999998,\n",
       "  'parse&split5': 18.75,\n",
       "  't&p': 127.37,\n",
       "  't&p > process': 118.018,\n",
       "  't&p > process > osm': 80.527,\n",
       "  't&p > process > osm_post': 32.525999999999996,\n",
       "  't&p > process > osm_post > parse&split': 27.869,\n",
       "  't&p > process > retry_low_rank': 0.858,\n",
       "  't&p > transformer': 6.898},\n",
       " 'time': 0.225627}"
      ]
     },
     "execution_count": 229,
     "metadata": {},
     "output_type": "execute_result"
    }
   ],
   "source": [
    "res=call_ws({street_field:   \"Av. Fonsny\", \\\n",
    "         housenbr_field: \"20\",\\\n",
    "         city_field:     \"Saint-Gilles\",\\\n",
    "         postcode_field: \"1060\",\\\n",
    "         country_field:  \"Belgium\"}, check_result=False, structured_osm=False)\n",
    "res"
   ]
  },
  {
   "cell_type": "code",
   "execution_count": 272,
   "metadata": {
    "ExecuteTime": {
     "end_time": "2022-12-12T15:29:38.430139Z",
     "start_time": "2022-12-12T15:29:38.427594Z"
    }
   },
   "outputs": [],
   "source": [
    "# sum(res[\"timing\"].values())"
   ]
  },
  {
   "cell_type": "markdown",
   "metadata": {},
   "source": [
    "## Batch calls (row by row)"
   ]
  },
  {
   "cell_type": "code",
   "execution_count": 223,
   "metadata": {
    "ExecuteTime": {
     "end_time": "2022-12-12T14:03:45.520737Z",
     "start_time": "2022-12-12T14:03:45.496992Z"
    }
   },
   "outputs": [
    {
     "data": {
      "text/html": [
       "<div>\n",
       "<style scoped>\n",
       "    .dataframe tbody tr th:only-of-type {\n",
       "        vertical-align: middle;\n",
       "    }\n",
       "\n",
       "    .dataframe tbody tr th {\n",
       "        vertical-align: top;\n",
       "    }\n",
       "\n",
       "    .dataframe thead th {\n",
       "        text-align: right;\n",
       "    }\n",
       "</style>\n",
       "<table border=\"1\" class=\"dataframe\">\n",
       "  <thead>\n",
       "    <tr style=\"text-align: right;\">\n",
       "      <th></th>\n",
       "      <th>addr_key</th>\n",
       "      <th>CountryFR</th>\n",
       "      <th>postcode</th>\n",
       "      <th>city</th>\n",
       "      <th>street</th>\n",
       "      <th>housenumber</th>\n",
       "    </tr>\n",
       "  </thead>\n",
       "  <tbody>\n",
       "    <tr>\n",
       "      <th>0</th>\n",
       "      <td>2762939</td>\n",
       "      <td>Belgique</td>\n",
       "      <td>2240</td>\n",
       "      <td>Zandhoven</td>\n",
       "      <td>Kriekenlaan</td>\n",
       "      <td>22</td>\n",
       "    </tr>\n",
       "    <tr>\n",
       "      <th>1</th>\n",
       "      <td>2253494</td>\n",
       "      <td>Belgique</td>\n",
       "      <td>8600</td>\n",
       "      <td>Diksmuide</td>\n",
       "      <td>Cardijnlaan(D)</td>\n",
       "      <td>*</td>\n",
       "    </tr>\n",
       "    <tr>\n",
       "      <th>2</th>\n",
       "      <td>1764140</td>\n",
       "      <td>Belgique</td>\n",
       "      <td>9860</td>\n",
       "      <td>Oosterzele</td>\n",
       "      <td>Poststraat</td>\n",
       "      <td>19</td>\n",
       "    </tr>\n",
       "    <tr>\n",
       "      <th>3</th>\n",
       "      <td>87070</td>\n",
       "      <td>Belgique</td>\n",
       "      <td>8300</td>\n",
       "      <td>Knokke-Heist</td>\n",
       "      <td>Sylvain Dupuisstraat</td>\n",
       "      <td>26</td>\n",
       "    </tr>\n",
       "    <tr>\n",
       "      <th>4</th>\n",
       "      <td>2261339</td>\n",
       "      <td>Belgique</td>\n",
       "      <td>3630</td>\n",
       "      <td>Maasmechelen</td>\n",
       "      <td>Oude Baan(M)</td>\n",
       "      <td>338</td>\n",
       "    </tr>\n",
       "    <tr>\n",
       "      <th>...</th>\n",
       "      <td>...</td>\n",
       "      <td>...</td>\n",
       "      <td>...</td>\n",
       "      <td>...</td>\n",
       "      <td>...</td>\n",
       "      <td>...</td>\n",
       "    </tr>\n",
       "    <tr>\n",
       "      <th>995</th>\n",
       "      <td>2720764</td>\n",
       "      <td>Belgique</td>\n",
       "      <td>5060</td>\n",
       "      <td>Sambreville</td>\n",
       "      <td>Rue du Wainage(VEL)</td>\n",
       "      <td>62</td>\n",
       "    </tr>\n",
       "    <tr>\n",
       "      <th>996</th>\n",
       "      <td>386196</td>\n",
       "      <td>Belgique</td>\n",
       "      <td>7520</td>\n",
       "      <td>Tournai</td>\n",
       "      <td>Chaussée de Tournai(R-C)</td>\n",
       "      <td>4</td>\n",
       "    </tr>\n",
       "    <tr>\n",
       "      <th>997</th>\n",
       "      <td>1474962</td>\n",
       "      <td>Belgique</td>\n",
       "      <td>7331</td>\n",
       "      <td>Saint-Ghislain</td>\n",
       "      <td>Rue Louis Caty(B)</td>\n",
       "      <td>32</td>\n",
       "    </tr>\n",
       "    <tr>\n",
       "      <th>998</th>\n",
       "      <td>2424889</td>\n",
       "      <td>Belgique</td>\n",
       "      <td>7090</td>\n",
       "      <td>Braine-le-Comte</td>\n",
       "      <td>Drève des Bouleaux</td>\n",
       "      <td>5</td>\n",
       "    </tr>\n",
       "    <tr>\n",
       "      <th>999</th>\n",
       "      <td>2751621</td>\n",
       "      <td>Belgique</td>\n",
       "      <td>4900</td>\n",
       "      <td>Spa</td>\n",
       "      <td>Rue Rogier</td>\n",
       "      <td>1</td>\n",
       "    </tr>\n",
       "  </tbody>\n",
       "</table>\n",
       "<p>1000 rows × 6 columns</p>\n",
       "</div>"
      ],
      "text/plain": [
       "     addr_key CountryFR postcode             city                    street  \\\n",
       "0     2762939  Belgique     2240        Zandhoven               Kriekenlaan   \n",
       "1     2253494  Belgique     8600        Diksmuide            Cardijnlaan(D)   \n",
       "2     1764140  Belgique     9860       Oosterzele                Poststraat   \n",
       "3       87070  Belgique     8300     Knokke-Heist      Sylvain Dupuisstraat   \n",
       "4     2261339  Belgique     3630     Maasmechelen              Oude Baan(M)   \n",
       "..        ...       ...      ...              ...                       ...   \n",
       "995   2720764  Belgique     5060      Sambreville       Rue du Wainage(VEL)   \n",
       "996    386196  Belgique     7520          Tournai  Chaussée de Tournai(R-C)   \n",
       "997   1474962  Belgique     7331   Saint-Ghislain         Rue Louis Caty(B)   \n",
       "998   2424889  Belgique     7090  Braine-le-Comte        Drève des Bouleaux   \n",
       "999   2751621  Belgique     4900              Spa                Rue Rogier   \n",
       "\n",
       "    housenumber  \n",
       "0            22  \n",
       "1             *  \n",
       "2            19  \n",
       "3            26  \n",
       "4           338  \n",
       "..          ...  \n",
       "995          62  \n",
       "996           4  \n",
       "997          32  \n",
       "998           5  \n",
       "999           1  \n",
       "\n",
       "[1000 rows x 6 columns]"
      ]
     },
     "execution_count": 223,
     "metadata": {},
     "output_type": "execute_result"
    }
   ],
   "source": [
    "addresses = get_addresses(\"address.csv.gz\")\n",
    "# addresses = addresses.sample(10000, replace=True).copy()\n",
    "addresses"
   ]
  },
  {
   "cell_type": "markdown",
   "metadata": {},
   "source": [
    "\n",
    "### Simple way"
   ]
  },
  {
   "cell_type": "code",
   "execution_count": 270,
   "metadata": {
    "ExecuteTime": {
     "end_time": "2022-12-12T15:29:36.723679Z",
     "start_time": "2022-12-12T15:27:23.967657Z"
    },
    "scrolled": true
   },
   "outputs": [
    {
     "data": {
      "application/vnd.jupyter.widget-view+json": {
       "model_id": "d80128ee5f33429cb4f86d7fea81f0b2",
       "version_major": 2,
       "version_minor": 0
      },
      "text/plain": [
       "  0%|          | 0/1000 [00:00<?, ?it/s]"
      ]
     },
     "metadata": {},
     "output_type": "display_data"
    },
    {
     "name": "stdout",
     "output_type": "stream",
     "text": [
      "132.750946 seconds, 7.532903004698738 it/s\n"
     ]
    }
   ],
   "source": [
    "t = datetime.now()\n",
    "addresses[\"json\"] = addresses.progress_apply(call_ws, check_result=False, structured_osm=False, axis=1)\n",
    "tot_time = (datetime.now() - t).total_seconds()\n",
    "print(f\"{tot_time} seconds, {addresses.shape[0]/tot_time} it/s\")\n",
    "# 5.14, 4.83 it/s\n",
    "# 2.08 8.92"
   ]
  },
  {
   "cell_type": "code",
   "execution_count": 52,
   "metadata": {
    "ExecuteTime": {
     "end_time": "2022-11-24T15:55:18.105442Z",
     "start_time": "2022-11-24T15:55:18.100279Z"
    },
    "scrolled": true
   },
   "outputs": [
    {
     "data": {
      "text/plain": [
       "{'match': [{'SIM_street_which': '',\n",
       "   'addr_out_city': 'Uccle - Ukkel',\n",
       "   'addr_out_country': 'België / Belgique / Belgien',\n",
       "   'addr_out_number': '55',\n",
       "   'addr_out_postcode': '1180',\n",
       "   'addr_out_street': 'Bosveldweg',\n",
       "   'display_name': '55, Bosveldweg, Churchill, Uccle - Ukkel, Brussel-Hoofdstad - Bruxelles-Capitale, Région de Bruxelles-Capitale - Brussels Hoofdstedelijk Gewest, 1180, België / Belgique / Belgien',\n",
       "   'in_house_nbr': '55',\n",
       "   'lat': '50.8076561',\n",
       "   'lon': '4.3605836415694705',\n",
       "   'lpost_house_nbr': '55',\n",
       "   'lpost_unit': '',\n",
       "   'method': 'orig',\n",
       "   'osm_addr_in': 'Bosveldweg, 55, 1180 Uccle, Belgique',\n",
       "   'place_id': 959618,\n",
       "   'place_rank': 30}],\n",
       " 'rejected': [],\n",
       " 'timing': {'checker': 0.0,\n",
       "  'libpostal': 0.0,\n",
       "  'osm': 0.015169,\n",
       "  'osm_post': 0.028245,\n",
       "  'photon': 0.0,\n",
       "  'transformer': 0.006084},\n",
       " 'time': 0.090027}"
      ]
     },
     "execution_count": 52,
     "metadata": {},
     "output_type": "execute_result"
    }
   ],
   "source": [
    "addresses.iloc[5].json"
   ]
  },
  {
   "cell_type": "code",
   "execution_count": 53,
   "metadata": {
    "ExecuteTime": {
     "end_time": "2022-11-24T15:55:28.447302Z",
     "start_time": "2022-11-24T15:55:28.443372Z"
    }
   },
   "outputs": [
    {
     "data": {
      "text/plain": [
       "0.049498"
      ]
     },
     "execution_count": 53,
     "metadata": {},
     "output_type": "execute_result"
    }
   ],
   "source": [
    "sum(addresses.iloc[5].json[\"timing\"].values())"
   ]
  },
  {
   "cell_type": "markdown",
   "metadata": {
    "ExecuteTime": {
     "end_time": "2020-09-30T10:03:50.368838Z",
     "start_time": "2020-09-30T10:03:50.364575Z"
    }
   },
   "source": [
    "### Using Dask"
   ]
  },
  {
   "cell_type": "code",
   "execution_count": 273,
   "metadata": {
    "ExecuteTime": {
     "end_time": "2022-12-12T15:30:45.872151Z",
     "start_time": "2022-12-12T15:30:20.322840Z"
    }
   },
   "outputs": [
    {
     "name": "stdout",
     "output_type": "stream",
     "text": [
      "[########################################] | 100% Completed | 25.5s\n",
      "25.543355 seconds, 39.14912508556531 it/s\n"
     ]
    }
   ],
   "source": [
    "t = datetime.now()\n",
    "dd_addresses = dd.from_pandas(addresses, npartitions=8)\n",
    "\n",
    "dask_task = dd_addresses.apply(call_ws, check_result=False, meta=('x', 'str'), axis=1)\n",
    "\n",
    "with ProgressBar(): \n",
    "    addresses[\"json\"] = dask_task.compute()\n",
    "    \n",
    "tot_time = (datetime.now() - t).total_seconds()\n",
    "print(f\"{tot_time} seconds, {addresses.shape[0]/tot_time} it/s\")"
   ]
  },
  {
   "cell_type": "code",
   "execution_count": null,
   "metadata": {},
   "outputs": [],
   "source": [
    "# 1000, 1 worker: 4m18\n",
    "# 4 workers, npart=4 : 1m20\n",
    "# 8 workers, npart=4 : 1m20\n",
    "# 8 workers, npart=8 : 44s\n",
    "\n",
    "# with checker=False:\n",
    "# 8 workers, npart=8 : 24s\n"
   ]
  },
  {
   "cell_type": "code",
   "execution_count": null,
   "metadata": {
    "ExecuteTime": {
     "end_time": "2021-05-07T13:19:27.725700Z",
     "start_time": "2021-05-07T13:19:27.686854Z"
    }
   },
   "outputs": [],
   "source": [
    "expand_json(addresses)"
   ]
  },
  {
   "cell_type": "code",
   "execution_count": 271,
   "metadata": {
    "ExecuteTime": {
     "end_time": "2022-12-12T15:29:36.731928Z",
     "start_time": "2022-12-12T15:29:36.726901Z"
    }
   },
   "outputs": [],
   "source": [
    "# addresses.json.loc[550]"
   ]
  },
  {
   "cell_type": "markdown",
   "metadata": {
    "ExecuteTime": {
     "end_time": "2020-09-30T10:09:38.533274Z",
     "start_time": "2020-09-30T10:09:38.528729Z"
    }
   },
   "source": [
    "## Batch calls (batch WS)"
   ]
  },
  {
   "cell_type": "code",
   "execution_count": 28,
   "metadata": {
    "ExecuteTime": {
     "end_time": "2022-11-24T15:36:04.537219Z",
     "start_time": "2022-11-24T15:36:04.402820Z"
    }
   },
   "outputs": [
    {
     "data": {
      "text/html": [
       "<div>\n",
       "<style scoped>\n",
       "    .dataframe tbody tr th:only-of-type {\n",
       "        vertical-align: middle;\n",
       "    }\n",
       "\n",
       "    .dataframe tbody tr th {\n",
       "        vertical-align: top;\n",
       "    }\n",
       "\n",
       "    .dataframe thead th {\n",
       "        text-align: right;\n",
       "    }\n",
       "</style>\n",
       "<table border=\"1\" class=\"dataframe\">\n",
       "  <thead>\n",
       "    <tr style=\"text-align: right;\">\n",
       "      <th></th>\n",
       "      <th>addr_key</th>\n",
       "      <th>CountryFR</th>\n",
       "      <th>postcode</th>\n",
       "      <th>city</th>\n",
       "      <th>street</th>\n",
       "      <th>housenumber</th>\n",
       "      <th>street</th>\n",
       "    </tr>\n",
       "  </thead>\n",
       "  <tbody>\n",
       "    <tr>\n",
       "      <th>0</th>\n",
       "      <td>2762939</td>\n",
       "      <td>Belgique</td>\n",
       "      <td></td>\n",
       "      <td></td>\n",
       "      <td>Kriekenlaan</td>\n",
       "      <td></td>\n",
       "      <td>Kriekenlaan, 22, 2240 Zandhoven, Belgique</td>\n",
       "    </tr>\n",
       "    <tr>\n",
       "      <th>1</th>\n",
       "      <td>2253494</td>\n",
       "      <td>Belgique</td>\n",
       "      <td></td>\n",
       "      <td></td>\n",
       "      <td>Cardijnlaan(D)</td>\n",
       "      <td></td>\n",
       "      <td>Cardijnlaan(D), *, 8600 Diksmuide, Belgique</td>\n",
       "    </tr>\n",
       "    <tr>\n",
       "      <th>2</th>\n",
       "      <td>1764140</td>\n",
       "      <td>Belgique</td>\n",
       "      <td></td>\n",
       "      <td></td>\n",
       "      <td>Poststraat</td>\n",
       "      <td></td>\n",
       "      <td>Poststraat, 19, 9860 Oosterzele, Belgique</td>\n",
       "    </tr>\n",
       "    <tr>\n",
       "      <th>3</th>\n",
       "      <td>87070</td>\n",
       "      <td>Belgique</td>\n",
       "      <td></td>\n",
       "      <td></td>\n",
       "      <td>Sylvain Dupuisstraat</td>\n",
       "      <td></td>\n",
       "      <td>Sylvain Dupuisstraat, 26, 8300 Knokke-Heist, B...</td>\n",
       "    </tr>\n",
       "    <tr>\n",
       "      <th>4</th>\n",
       "      <td>2261339</td>\n",
       "      <td>Belgique</td>\n",
       "      <td></td>\n",
       "      <td></td>\n",
       "      <td>Oude Baan(M)</td>\n",
       "      <td></td>\n",
       "      <td>Oude Baan(M), 338, 3630 Maasmechelen, Belgique</td>\n",
       "    </tr>\n",
       "    <tr>\n",
       "      <th>...</th>\n",
       "      <td>...</td>\n",
       "      <td>...</td>\n",
       "      <td>...</td>\n",
       "      <td>...</td>\n",
       "      <td>...</td>\n",
       "      <td>...</td>\n",
       "      <td>...</td>\n",
       "    </tr>\n",
       "    <tr>\n",
       "      <th>995</th>\n",
       "      <td>2720764</td>\n",
       "      <td>Belgique</td>\n",
       "      <td></td>\n",
       "      <td></td>\n",
       "      <td>Rue du Wainage(VEL)</td>\n",
       "      <td></td>\n",
       "      <td>Rue du Wainage(VEL), 62, 5060 Sambreville, Bel...</td>\n",
       "    </tr>\n",
       "    <tr>\n",
       "      <th>996</th>\n",
       "      <td>386196</td>\n",
       "      <td>Belgique</td>\n",
       "      <td></td>\n",
       "      <td></td>\n",
       "      <td>Chaussée de Tournai(R-C)</td>\n",
       "      <td></td>\n",
       "      <td>Chaussée de Tournai(R-C), 4, 7520 Tournai, Bel...</td>\n",
       "    </tr>\n",
       "    <tr>\n",
       "      <th>997</th>\n",
       "      <td>1474962</td>\n",
       "      <td>Belgique</td>\n",
       "      <td></td>\n",
       "      <td></td>\n",
       "      <td>Rue Louis Caty(B)</td>\n",
       "      <td></td>\n",
       "      <td>Rue Louis Caty(B), 32, 7331 Saint-Ghislain, Be...</td>\n",
       "    </tr>\n",
       "    <tr>\n",
       "      <th>998</th>\n",
       "      <td>2424889</td>\n",
       "      <td>Belgique</td>\n",
       "      <td></td>\n",
       "      <td></td>\n",
       "      <td>Drève des Bouleaux</td>\n",
       "      <td></td>\n",
       "      <td>Drève des Bouleaux, 5, 7090 Braine-le-Comte, B...</td>\n",
       "    </tr>\n",
       "    <tr>\n",
       "      <th>999</th>\n",
       "      <td>2751621</td>\n",
       "      <td>Belgique</td>\n",
       "      <td></td>\n",
       "      <td></td>\n",
       "      <td>Rue Rogier</td>\n",
       "      <td></td>\n",
       "      <td>Rue Rogier, 1, 4900 Spa, Belgique</td>\n",
       "    </tr>\n",
       "  </tbody>\n",
       "</table>\n",
       "<p>1000 rows × 7 columns</p>\n",
       "</div>"
      ],
      "text/plain": [
       "     addr_key CountryFR postcode city                    street housenumber  \\\n",
       "0     2762939  Belgique                             Kriekenlaan               \n",
       "1     2253494  Belgique                          Cardijnlaan(D)               \n",
       "2     1764140  Belgique                              Poststraat               \n",
       "3       87070  Belgique                    Sylvain Dupuisstraat               \n",
       "4     2261339  Belgique                            Oude Baan(M)               \n",
       "..        ...       ...      ...  ...                       ...         ...   \n",
       "995   2720764  Belgique                     Rue du Wainage(VEL)               \n",
       "996    386196  Belgique                Chaussée de Tournai(R-C)               \n",
       "997   1474962  Belgique                       Rue Louis Caty(B)               \n",
       "998   2424889  Belgique                      Drève des Bouleaux               \n",
       "999   2751621  Belgique                              Rue Rogier               \n",
       "\n",
       "                                                street  \n",
       "0            Kriekenlaan, 22, 2240 Zandhoven, Belgique  \n",
       "1          Cardijnlaan(D), *, 8600 Diksmuide, Belgique  \n",
       "2            Poststraat, 19, 9860 Oosterzele, Belgique  \n",
       "3    Sylvain Dupuisstraat, 26, 8300 Knokke-Heist, B...  \n",
       "4       Oude Baan(M), 338, 3630 Maasmechelen, Belgique  \n",
       "..                                                 ...  \n",
       "995  Rue du Wainage(VEL), 62, 5060 Sambreville, Bel...  \n",
       "996  Chaussée de Tournai(R-C), 4, 7520 Tournai, Bel...  \n",
       "997  Rue Louis Caty(B), 32, 7331 Saint-Ghislain, Be...  \n",
       "998  Drève des Bouleaux, 5, 7090 Braine-le-Comte, B...  \n",
       "999                  Rue Rogier, 1, 4900 Spa, Belgique  \n",
       "\n",
       "[1000 rows x 7 columns]"
      ]
     },
     "execution_count": 28,
     "metadata": {},
     "output_type": "execute_result"
    }
   ],
   "source": [
    "addresses = pd.read_csv(f\"../GISAnalytics/data/geocoding/kbo_1000_sample.csv\")\n",
    "addresses = addresses.rename(columns={\"Unnamed: 0\": addr_key_field, \"address\": street_field})\n",
    "addresses[city_field] = \"\"\n",
    "addresses[country_field] =  \"Belgique\"\n",
    "addresses[housenbr_field] = \"\"\n",
    "addresses[postcode_field]=\"\"\n",
    "addresses"
   ]
  },
  {
   "cell_type": "code",
   "execution_count": 187,
   "metadata": {
    "ExecuteTime": {
     "end_time": "2022-12-12T11:50:54.196650Z",
     "start_time": "2022-12-12T11:50:54.151778Z"
    },
    "scrolled": true
   },
   "outputs": [
    {
     "data": {
      "text/html": [
       "<div>\n",
       "<style scoped>\n",
       "    .dataframe tbody tr th:only-of-type {\n",
       "        vertical-align: middle;\n",
       "    }\n",
       "\n",
       "    .dataframe tbody tr th {\n",
       "        vertical-align: top;\n",
       "    }\n",
       "\n",
       "    .dataframe thead th {\n",
       "        text-align: right;\n",
       "    }\n",
       "</style>\n",
       "<table border=\"1\" class=\"dataframe\">\n",
       "  <thead>\n",
       "    <tr style=\"text-align: right;\">\n",
       "      <th></th>\n",
       "      <th>addr_key</th>\n",
       "      <th>CountryFR</th>\n",
       "      <th>postcode</th>\n",
       "      <th>city</th>\n",
       "      <th>street</th>\n",
       "      <th>housenumber</th>\n",
       "      <th>osm</th>\n",
       "      <th>address</th>\n",
       "      <th>json</th>\n",
       "    </tr>\n",
       "  </thead>\n",
       "  <tbody>\n",
       "    <tr>\n",
       "      <th>845</th>\n",
       "      <td>2160439</td>\n",
       "      <td>Belgique</td>\n",
       "      <td>4540</td>\n",
       "      <td>Amay</td>\n",
       "      <td>Avenue de Dieuze(AMP)</td>\n",
       "      <td>10</td>\n",
       "      <td>[]</td>\n",
       "      <td>Avenue de Dieuze(AMP), 10, 4540 Amay Belgique</td>\n",
       "      <td>{'match': [{'SIM_street_which': '', 'addr_out_...</td>\n",
       "    </tr>\n",
       "    <tr>\n",
       "      <th>951</th>\n",
       "      <td>3030707</td>\n",
       "      <td>Belgique</td>\n",
       "      <td>6200</td>\n",
       "      <td>Châtelet</td>\n",
       "      <td>Rue de Gilly</td>\n",
       "      <td>3</td>\n",
       "      <td>[{'place_id': 3066672, 'lat': '50.40920605', '...</td>\n",
       "      <td>Rue de Gilly, 3, 6200 Châtelet Belgique</td>\n",
       "      <td>{'match': [{'SIM_street_which': '', 'addr_out_...</td>\n",
       "    </tr>\n",
       "    <tr>\n",
       "      <th>298</th>\n",
       "      <td>717934</td>\n",
       "      <td>Belgique</td>\n",
       "      <td>3740</td>\n",
       "      <td>Bilzen</td>\n",
       "      <td>Zangerheistraat</td>\n",
       "      <td>31</td>\n",
       "      <td>[{'place_id': 3573074, 'lat': '50.88994245', '...</td>\n",
       "      <td>Zangerheistraat, 31, 3740 Bilzen Belgique</td>\n",
       "      <td>{'match': [{'SIM_street_which': '', 'addr_out_...</td>\n",
       "    </tr>\n",
       "    <tr>\n",
       "      <th>680</th>\n",
       "      <td>1796283</td>\n",
       "      <td>Belgique</td>\n",
       "      <td>3600</td>\n",
       "      <td>Genk</td>\n",
       "      <td>Oudasserstraat</td>\n",
       "      <td>33</td>\n",
       "      <td>[{'place_id': 440251, 'lat': '50.98279665', 'l...</td>\n",
       "      <td>Oudasserstraat, 33, 3600 Genk Belgique</td>\n",
       "      <td>{'match': [{'SIM_street_which': '', 'addr_out_...</td>\n",
       "    </tr>\n",
       "    <tr>\n",
       "      <th>611</th>\n",
       "      <td>2282957</td>\n",
       "      <td>Belgique</td>\n",
       "      <td>1800</td>\n",
       "      <td>Vilvoorde</td>\n",
       "      <td>Mechelsesteenweg</td>\n",
       "      <td>2A</td>\n",
       "      <td>[{'place_id': 1294956, 'lat': '50.9339683', 'l...</td>\n",
       "      <td>Mechelsesteenweg, 2A, 1800 Vilvoorde Belgique</td>\n",
       "      <td>{'match': [{'SIM_street_which': '', 'addr_out_...</td>\n",
       "    </tr>\n",
       "    <tr>\n",
       "      <th>...</th>\n",
       "      <td>...</td>\n",
       "      <td>...</td>\n",
       "      <td>...</td>\n",
       "      <td>...</td>\n",
       "      <td>...</td>\n",
       "      <td>...</td>\n",
       "      <td>...</td>\n",
       "      <td>...</td>\n",
       "      <td>...</td>\n",
       "    </tr>\n",
       "    <tr>\n",
       "      <th>323</th>\n",
       "      <td>2216417</td>\n",
       "      <td>Belgique</td>\n",
       "      <td>1790</td>\n",
       "      <td>Affligem</td>\n",
       "      <td>Tenbos</td>\n",
       "      <td>3</td>\n",
       "      <td>[{'place_id': 3491627, 'lat': '50.9058866', 'l...</td>\n",
       "      <td>Tenbos, 3, 1790 Affligem Belgique</td>\n",
       "      <td>{'match': [{'SIM_street_which': '', 'addr_out_...</td>\n",
       "    </tr>\n",
       "    <tr>\n",
       "      <th>315</th>\n",
       "      <td>2753787</td>\n",
       "      <td>Belgique</td>\n",
       "      <td>7711</td>\n",
       "      <td>Mouscron</td>\n",
       "      <td>Rue du Trieu(D)</td>\n",
       "      <td>144</td>\n",
       "      <td>[{'place_id': 403137, 'lat': '50.7237255', 'lo...</td>\n",
       "      <td>Rue du Trieu(D), 144, 7711 Mouscron Belgique</td>\n",
       "      <td>{'match': [{'SIM_street_which': '', 'addr_out_...</td>\n",
       "    </tr>\n",
       "    <tr>\n",
       "      <th>991</th>\n",
       "      <td>1741686</td>\n",
       "      <td>Belgique</td>\n",
       "      <td>2870</td>\n",
       "      <td>Puurs-Sint-Amands</td>\n",
       "      <td>Lelielaan</td>\n",
       "      <td>6</td>\n",
       "      <td>[{'place_id': 1903722, 'lat': '51.0473536', 'l...</td>\n",
       "      <td>Lelielaan, 6, 2870 Puurs-Sint-Amands Belgique</td>\n",
       "      <td>{'match': [{'SIM_street_which': '', 'addr_out_...</td>\n",
       "    </tr>\n",
       "    <tr>\n",
       "      <th>186</th>\n",
       "      <td>430222</td>\n",
       "      <td>Belgique</td>\n",
       "      <td>9230</td>\n",
       "      <td>Wetteren</td>\n",
       "      <td>Brusselsesteenweg</td>\n",
       "      <td>415</td>\n",
       "      <td>[{'place_id': 1868840, 'lat': '50.9918723', 'l...</td>\n",
       "      <td>Brusselsesteenweg, 415, 9230 Wetteren Belgique</td>\n",
       "      <td>{'match': [{'SIM_street_which': '', 'addr_out_...</td>\n",
       "    </tr>\n",
       "    <tr>\n",
       "      <th>56</th>\n",
       "      <td>2336097</td>\n",
       "      <td>Belgique</td>\n",
       "      <td>1070</td>\n",
       "      <td>Anderlecht</td>\n",
       "      <td>Place de Sainte-Adresse</td>\n",
       "      <td>6</td>\n",
       "      <td>[{'place_id': 1149170, 'lat': '50.8390617', 'l...</td>\n",
       "      <td>Place de Sainte-Adresse, 6, 1070 Anderlecht Be...</td>\n",
       "      <td>{'match': [{'SIM_street_which': '', 'addr_out_...</td>\n",
       "    </tr>\n",
       "  </tbody>\n",
       "</table>\n",
       "<p>1000 rows × 9 columns</p>\n",
       "</div>"
      ],
      "text/plain": [
       "     addr_key CountryFR postcode               city                   street  \\\n",
       "845   2160439  Belgique     4540               Amay    Avenue de Dieuze(AMP)   \n",
       "951   3030707  Belgique     6200           Châtelet             Rue de Gilly   \n",
       "298    717934  Belgique     3740             Bilzen          Zangerheistraat   \n",
       "680   1796283  Belgique     3600               Genk           Oudasserstraat   \n",
       "611   2282957  Belgique     1800          Vilvoorde         Mechelsesteenweg   \n",
       "..        ...       ...      ...                ...                      ...   \n",
       "323   2216417  Belgique     1790           Affligem                   Tenbos   \n",
       "315   2753787  Belgique     7711           Mouscron          Rue du Trieu(D)   \n",
       "991   1741686  Belgique     2870  Puurs-Sint-Amands                Lelielaan   \n",
       "186    430222  Belgique     9230           Wetteren        Brusselsesteenweg   \n",
       "56    2336097  Belgique     1070         Anderlecht  Place de Sainte-Adresse   \n",
       "\n",
       "    housenumber                                                osm  \\\n",
       "845          10                                                 []   \n",
       "951           3  [{'place_id': 3066672, 'lat': '50.40920605', '...   \n",
       "298          31  [{'place_id': 3573074, 'lat': '50.88994245', '...   \n",
       "680          33  [{'place_id': 440251, 'lat': '50.98279665', 'l...   \n",
       "611          2A  [{'place_id': 1294956, 'lat': '50.9339683', 'l...   \n",
       "..          ...                                                ...   \n",
       "323           3  [{'place_id': 3491627, 'lat': '50.9058866', 'l...   \n",
       "315         144  [{'place_id': 403137, 'lat': '50.7237255', 'lo...   \n",
       "991           6  [{'place_id': 1903722, 'lat': '51.0473536', 'l...   \n",
       "186         415  [{'place_id': 1868840, 'lat': '50.9918723', 'l...   \n",
       "56            6  [{'place_id': 1149170, 'lat': '50.8390617', 'l...   \n",
       "\n",
       "                                               address  \\\n",
       "845      Avenue de Dieuze(AMP), 10, 4540 Amay Belgique   \n",
       "951            Rue de Gilly, 3, 6200 Châtelet Belgique   \n",
       "298          Zangerheistraat, 31, 3740 Bilzen Belgique   \n",
       "680             Oudasserstraat, 33, 3600 Genk Belgique   \n",
       "611      Mechelsesteenweg, 2A, 1800 Vilvoorde Belgique   \n",
       "..                                                 ...   \n",
       "323                  Tenbos, 3, 1790 Affligem Belgique   \n",
       "315       Rue du Trieu(D), 144, 7711 Mouscron Belgique   \n",
       "991      Lelielaan, 6, 2870 Puurs-Sint-Amands Belgique   \n",
       "186     Brusselsesteenweg, 415, 9230 Wetteren Belgique   \n",
       "56   Place de Sainte-Adresse, 6, 1070 Anderlecht Be...   \n",
       "\n",
       "                                                  json  \n",
       "845  {'match': [{'SIM_street_which': '', 'addr_out_...  \n",
       "951  {'match': [{'SIM_street_which': '', 'addr_out_...  \n",
       "298  {'match': [{'SIM_street_which': '', 'addr_out_...  \n",
       "680  {'match': [{'SIM_street_which': '', 'addr_out_...  \n",
       "611  {'match': [{'SIM_street_which': '', 'addr_out_...  \n",
       "..                                                 ...  \n",
       "323  {'match': [{'SIM_street_which': '', 'addr_out_...  \n",
       "315  {'match': [{'SIM_street_which': '', 'addr_out_...  \n",
       "991  {'match': [{'SIM_street_which': '', 'addr_out_...  \n",
       "186  {'match': [{'SIM_street_which': '', 'addr_out_...  \n",
       "56   {'match': [{'SIM_street_which': '', 'addr_out_...  \n",
       "\n",
       "[1000 rows x 9 columns]"
      ]
     },
     "execution_count": 187,
     "metadata": {},
     "output_type": "execute_result"
    }
   ],
   "source": [
    "addresses"
   ]
  },
  {
   "cell_type": "markdown",
   "metadata": {
    "ExecuteTime": {
     "end_time": "2020-09-30T10:13:11.087024Z",
     "start_time": "2020-09-30T10:13:11.082413Z"
    }
   },
   "source": [
    "### Single block"
   ]
  },
  {
   "cell_type": "code",
   "execution_count": 274,
   "metadata": {
    "ExecuteTime": {
     "end_time": "2022-12-12T15:31:42.352532Z",
     "start_time": "2022-12-12T15:31:17.963926Z"
    },
    "scrolled": true
   },
   "outputs": [
    {
     "name": "stdout",
     "output_type": "stream",
     "text": [
      "24.384449 seconds, 41.009743545978836 it/s\n"
     ]
    }
   ],
   "source": [
    "# Only geocoding\n",
    "# addresses[\"StreetFR\"] = \"\"\n",
    "t = datetime.now()\n",
    "\n",
    "call_ws_batch(addresses[[addr_key_field, street_field, housenbr_field, postcode_field, city_field, country_field]], mode=\"geo\", check_result=False, structured_osm=True)\n",
    "\n",
    "tot_time = (datetime.now() - t).total_seconds()\n",
    "print(f\"{tot_time} seconds, {addresses.shape[0]/tot_time} it/s\")"
   ]
  },
  {
   "cell_type": "code",
   "execution_count": null,
   "metadata": {},
   "outputs": [],
   "source": []
  },
  {
   "cell_type": "code",
   "execution_count": 249,
   "metadata": {
    "ExecuteTime": {
     "end_time": "2022-12-12T14:37:55.117890Z",
     "start_time": "2022-12-12T14:37:24.690849Z"
    },
    "scrolled": true
   },
   "outputs": [
    {
     "data": {
      "text/html": [
       "<div>\n",
       "<style scoped>\n",
       "    .dataframe tbody tr th:only-of-type {\n",
       "        vertical-align: middle;\n",
       "    }\n",
       "\n",
       "    .dataframe tbody tr th {\n",
       "        vertical-align: top;\n",
       "    }\n",
       "\n",
       "    .dataframe thead th {\n",
       "        text-align: right;\n",
       "    }\n",
       "</style>\n",
       "<table border=\"1\" class=\"dataframe\">\n",
       "  <thead>\n",
       "    <tr style=\"text-align: right;\">\n",
       "      <th></th>\n",
       "      <th>addr_key</th>\n",
       "      <th>lat</th>\n",
       "      <th>lon</th>\n",
       "      <th>place_rank</th>\n",
       "      <th>method</th>\n",
       "      <th>place_id</th>\n",
       "      <th>addr_out_street</th>\n",
       "      <th>addr_out_number</th>\n",
       "      <th>in_house_nbr</th>\n",
       "      <th>lpost_house_nbr</th>\n",
       "      <th>lpost_unit</th>\n",
       "      <th>addr_out_postcode</th>\n",
       "      <th>addr_out_city</th>\n",
       "      <th>addr_out_country</th>\n",
       "    </tr>\n",
       "  </thead>\n",
       "  <tbody>\n",
       "    <tr>\n",
       "      <th>0</th>\n",
       "      <td>2762939</td>\n",
       "      <td>51.211615</td>\n",
       "      <td>4.649820</td>\n",
       "      <td>30.0</td>\n",
       "      <td>orig</td>\n",
       "      <td>1032308.0</td>\n",
       "      <td>Kriekenlaan</td>\n",
       "      <td>22</td>\n",
       "      <td>22</td>\n",
       "      <td>22</td>\n",
       "      <td></td>\n",
       "      <td>2240</td>\n",
       "      <td>Zandhoven</td>\n",
       "      <td>België / Belgique / Belgien</td>\n",
       "    </tr>\n",
       "    <tr>\n",
       "      <th>1</th>\n",
       "      <td>2253494</td>\n",
       "      <td>51.059548</td>\n",
       "      <td>2.870803</td>\n",
       "      <td>21.0</td>\n",
       "      <td>nostreet</td>\n",
       "      <td>4005124.0</td>\n",
       "      <td>None</td>\n",
       "      <td>None</td>\n",
       "      <td>*</td>\n",
       "      <td></td>\n",
       "      <td></td>\n",
       "      <td>8600</td>\n",
       "      <td>Diksmuide</td>\n",
       "      <td>België / Belgique / Belgien</td>\n",
       "    </tr>\n",
       "    <tr>\n",
       "      <th>2</th>\n",
       "      <td>1764140</td>\n",
       "      <td>50.924678</td>\n",
       "      <td>3.788056</td>\n",
       "      <td>26.0</td>\n",
       "      <td>orig</td>\n",
       "      <td>436186.0</td>\n",
       "      <td>Poststraat</td>\n",
       "      <td>None</td>\n",
       "      <td>19</td>\n",
       "      <td>19</td>\n",
       "      <td></td>\n",
       "      <td>9860</td>\n",
       "      <td>Issegem</td>\n",
       "      <td>België / Belgique / Belgien</td>\n",
       "    </tr>\n",
       "    <tr>\n",
       "      <th>3</th>\n",
       "      <td>87070</td>\n",
       "      <td>51.351333</td>\n",
       "      <td>3.285724</td>\n",
       "      <td>30.0</td>\n",
       "      <td>orig</td>\n",
       "      <td>3675084.0</td>\n",
       "      <td>Sylvain Dupuisstraat</td>\n",
       "      <td>24;26;28</td>\n",
       "      <td>26</td>\n",
       "      <td>26</td>\n",
       "      <td></td>\n",
       "      <td>8300</td>\n",
       "      <td>Knokke-Heist</td>\n",
       "      <td>België / Belgique / Belgien</td>\n",
       "    </tr>\n",
       "    <tr>\n",
       "      <th>4</th>\n",
       "      <td>2261339</td>\n",
       "      <td>50.977155</td>\n",
       "      <td>5.690444</td>\n",
       "      <td>26.0</td>\n",
       "      <td>orig</td>\n",
       "      <td>379663.0</td>\n",
       "      <td>Oude Baan</td>\n",
       "      <td>None</td>\n",
       "      <td>338</td>\n",
       "      <td></td>\n",
       "      <td>m 338</td>\n",
       "      <td>3630</td>\n",
       "      <td>Maasmechelen</td>\n",
       "      <td>België / Belgique / Belgien</td>\n",
       "    </tr>\n",
       "    <tr>\n",
       "      <th>...</th>\n",
       "      <td>...</td>\n",
       "      <td>...</td>\n",
       "      <td>...</td>\n",
       "      <td>...</td>\n",
       "      <td>...</td>\n",
       "      <td>...</td>\n",
       "      <td>...</td>\n",
       "      <td>...</td>\n",
       "      <td>...</td>\n",
       "      <td>...</td>\n",
       "      <td>...</td>\n",
       "      <td>...</td>\n",
       "      <td>...</td>\n",
       "      <td>...</td>\n",
       "    </tr>\n",
       "    <tr>\n",
       "      <th>995</th>\n",
       "      <td>2720764</td>\n",
       "      <td>50.462361</td>\n",
       "      <td>4.596458</td>\n",
       "      <td>30.0</td>\n",
       "      <td>regex[init]</td>\n",
       "      <td>2657266.0</td>\n",
       "      <td>Rue du Wainage</td>\n",
       "      <td>62</td>\n",
       "      <td>62</td>\n",
       "      <td>62</td>\n",
       "      <td></td>\n",
       "      <td>5060</td>\n",
       "      <td>Sambreville</td>\n",
       "      <td>België / Belgique / Belgien</td>\n",
       "    </tr>\n",
       "    <tr>\n",
       "      <th>996</th>\n",
       "      <td>386196</td>\n",
       "      <td>50.639445</td>\n",
       "      <td>3.349058</td>\n",
       "      <td>26.0</td>\n",
       "      <td>orig</td>\n",
       "      <td>1983533.0</td>\n",
       "      <td>Chaussée de Tournai</td>\n",
       "      <td>None</td>\n",
       "      <td>4</td>\n",
       "      <td>4</td>\n",
       "      <td></td>\n",
       "      <td>7520</td>\n",
       "      <td>Ramegnies-Chin</td>\n",
       "      <td>België / Belgique / Belgien</td>\n",
       "    </tr>\n",
       "    <tr>\n",
       "      <th>997</th>\n",
       "      <td>1474962</td>\n",
       "      <td>50.479737</td>\n",
       "      <td>3.838976</td>\n",
       "      <td>26.0</td>\n",
       "      <td>orig</td>\n",
       "      <td>432987.0</td>\n",
       "      <td>Rue Louis Caty</td>\n",
       "      <td>None</td>\n",
       "      <td>32</td>\n",
       "      <td>32</td>\n",
       "      <td></td>\n",
       "      <td>7331</td>\n",
       "      <td>Saint-Ghislain</td>\n",
       "      <td>België / Belgique / Belgien</td>\n",
       "    </tr>\n",
       "    <tr>\n",
       "      <th>998</th>\n",
       "      <td>2424889</td>\n",
       "      <td>50.606398</td>\n",
       "      <td>4.159495</td>\n",
       "      <td>26.0</td>\n",
       "      <td>orig</td>\n",
       "      <td>379561.0</td>\n",
       "      <td>Drève des Bouleaux</td>\n",
       "      <td>None</td>\n",
       "      <td>5</td>\n",
       "      <td>5</td>\n",
       "      <td></td>\n",
       "      <td>7090</td>\n",
       "      <td>Braine-le-Comte</td>\n",
       "      <td>België / Belgique / Belgien</td>\n",
       "    </tr>\n",
       "    <tr>\n",
       "      <th>999</th>\n",
       "      <td>2751621</td>\n",
       "      <td>50.491929</td>\n",
       "      <td>5.866972</td>\n",
       "      <td>30.0</td>\n",
       "      <td>orig</td>\n",
       "      <td>1868481.0</td>\n",
       "      <td>Rue Rogier</td>\n",
       "      <td>1</td>\n",
       "      <td>1</td>\n",
       "      <td>1</td>\n",
       "      <td></td>\n",
       "      <td>4900</td>\n",
       "      <td>Spa</td>\n",
       "      <td>België / Belgique / Belgien</td>\n",
       "    </tr>\n",
       "  </tbody>\n",
       "</table>\n",
       "<p>1000 rows × 14 columns</p>\n",
       "</div>"
      ],
      "text/plain": [
       "    addr_key        lat       lon  place_rank       method   place_id  \\\n",
       "0    2762939  51.211615  4.649820        30.0         orig  1032308.0   \n",
       "1    2253494  51.059548  2.870803        21.0     nostreet  4005124.0   \n",
       "2    1764140  50.924678  3.788056        26.0         orig   436186.0   \n",
       "3      87070  51.351333  3.285724        30.0         orig  3675084.0   \n",
       "4    2261339  50.977155  5.690444        26.0         orig   379663.0   \n",
       "..       ...        ...       ...         ...          ...        ...   \n",
       "995  2720764  50.462361  4.596458        30.0  regex[init]  2657266.0   \n",
       "996   386196  50.639445  3.349058        26.0         orig  1983533.0   \n",
       "997  1474962  50.479737  3.838976        26.0         orig   432987.0   \n",
       "998  2424889  50.606398  4.159495        26.0         orig   379561.0   \n",
       "999  2751621  50.491929  5.866972        30.0         orig  1868481.0   \n",
       "\n",
       "          addr_out_street addr_out_number in_house_nbr lpost_house_nbr  \\\n",
       "0             Kriekenlaan              22           22              22   \n",
       "1                    None            None            *                   \n",
       "2              Poststraat            None           19              19   \n",
       "3    Sylvain Dupuisstraat        24;26;28           26              26   \n",
       "4               Oude Baan            None          338                   \n",
       "..                    ...             ...          ...             ...   \n",
       "995        Rue du Wainage              62           62              62   \n",
       "996   Chaussée de Tournai            None            4               4   \n",
       "997        Rue Louis Caty            None           32              32   \n",
       "998    Drève des Bouleaux            None            5               5   \n",
       "999            Rue Rogier               1            1               1   \n",
       "\n",
       "    lpost_unit addr_out_postcode    addr_out_city             addr_out_country  \n",
       "0                           2240        Zandhoven  België / Belgique / Belgien  \n",
       "1                           8600        Diksmuide  België / Belgique / Belgien  \n",
       "2                           9860          Issegem  België / Belgique / Belgien  \n",
       "3                           8300     Knokke-Heist  België / Belgique / Belgien  \n",
       "4        m 338              3630     Maasmechelen  België / Belgique / Belgien  \n",
       "..         ...               ...              ...                          ...  \n",
       "995                         5060      Sambreville  België / Belgique / Belgien  \n",
       "996                         7520   Ramegnies-Chin  België / Belgique / Belgien  \n",
       "997                         7331   Saint-Ghislain  België / Belgique / Belgien  \n",
       "998                         7090  Braine-le-Comte  België / Belgique / Belgien  \n",
       "999                         4900              Spa  België / Belgique / Belgien  \n",
       "\n",
       "[1000 rows x 14 columns]"
      ]
     },
     "execution_count": 249,
     "metadata": {},
     "output_type": "execute_result"
    }
   ],
   "source": [
    "# Geocode + address\n",
    "call_ws_batch(addresses[[addr_key_field, street_field, housenbr_field, postcode_field, city_field, country_field]], mode=\"short\", check_result=False) "
   ]
  },
  {
   "cell_type": "code",
   "execution_count": null,
   "metadata": {
    "ExecuteTime": {
     "end_time": "2022-02-07T15:47:30.608532Z",
     "start_time": "2022-02-07T15:46:12.718161Z"
    },
    "scrolled": true
   },
   "outputs": [],
   "source": [
    "# Geocode + address, with rejected addresses\n",
    "call_ws_batch(addresses, mode=\"long\", with_reject=True)"
   ]
  },
  {
   "cell_type": "code",
   "execution_count": null,
   "metadata": {
    "ExecuteTime": {
     "end_time": "2022-02-07T15:40:19.848641Z",
     "start_time": "2022-02-07T15:40:18.354260Z"
    }
   },
   "outputs": [],
   "source": [
    "# call_ws_batch(addresses[addresses.EntityNumber.str.startswith(\"0554.81\")], mode=\"long\", with_reject=True)"
   ]
  },
  {
   "cell_type": "code",
   "execution_count": null,
   "metadata": {
    "ExecuteTime": {
     "end_time": "2022-02-07T14:05:04.468761Z",
     "start_time": "2022-02-07T14:05:04.422046Z"
    }
   },
   "outputs": [],
   "source": [
    "# a[a.in_house_nbr.str.upper() != a.lpost_house_nbr.str.upper()]"
   ]
  },
  {
   "cell_type": "markdown",
   "metadata": {
    "ExecuteTime": {
     "end_time": "2020-09-30T10:13:21.879291Z",
     "start_time": "2020-09-30T10:13:21.874241Z"
    }
   },
   "source": [
    "### Batch blocs"
   ]
  },
  {
   "cell_type": "code",
   "execution_count": 275,
   "metadata": {
    "ExecuteTime": {
     "end_time": "2022-12-12T15:31:51.098356Z",
     "start_time": "2022-12-12T15:31:51.093675Z"
    }
   },
   "outputs": [],
   "source": [
    "def call_ws_batch_chunks(addr_data, mode=\"geo\", with_reject=False, check_result=True, structured_osm=False, chunk_size=100): \n",
    "    ## TODO : find a better way with dask? It seems that map_partitions does not support function returning dataframes. \n",
    "\n",
    "    chunks = np.array_split(addr_data, addr_data.shape[0]//chunk_size)\n",
    "\n",
    "    res= [call_ws_batch(chunk, mode=mode, \n",
    "                        check_result=check_result, \n",
    "                        structured_osm=structured_osm) for chunk in tqdm(chunks)]\n",
    "    df_res = pd.concat(res, sort=False)\n",
    "    return df_res"
   ]
  },
  {
   "cell_type": "code",
   "execution_count": 277,
   "metadata": {
    "ExecuteTime": {
     "end_time": "2022-12-12T15:34:32.500749Z",
     "start_time": "2022-12-12T15:33:53.617832Z"
    },
    "scrolled": true
   },
   "outputs": [
    {
     "data": {
      "application/vnd.jupyter.widget-view+json": {
       "model_id": "b9abf7c830ae4652934896f1cef8b641",
       "version_major": 2,
       "version_minor": 0
      },
      "text/plain": [
       "  0%|          | 0/10 [00:00<?, ?it/s]"
      ]
     },
     "metadata": {},
     "output_type": "display_data"
    },
    {
     "name": "stdout",
     "output_type": "stream",
     "text": [
      "38.862636 seconds, 25.731656493913587 it/s\n"
     ]
    },
    {
     "data": {
      "text/html": [
       "<div>\n",
       "<style scoped>\n",
       "    .dataframe tbody tr th:only-of-type {\n",
       "        vertical-align: middle;\n",
       "    }\n",
       "\n",
       "    .dataframe tbody tr th {\n",
       "        vertical-align: top;\n",
       "    }\n",
       "\n",
       "    .dataframe thead th {\n",
       "        text-align: right;\n",
       "    }\n",
       "</style>\n",
       "<table border=\"1\" class=\"dataframe\">\n",
       "  <thead>\n",
       "    <tr style=\"text-align: right;\">\n",
       "      <th></th>\n",
       "      <th>addr_key</th>\n",
       "      <th>lat</th>\n",
       "      <th>lon</th>\n",
       "      <th>place_rank</th>\n",
       "      <th>method</th>\n",
       "      <th>place_id</th>\n",
       "      <th>addr_out_street</th>\n",
       "      <th>addr_out_number</th>\n",
       "      <th>in_house_nbr</th>\n",
       "      <th>lpost_house_nbr</th>\n",
       "      <th>lpost_unit</th>\n",
       "      <th>addr_out_postcode</th>\n",
       "      <th>addr_out_city</th>\n",
       "      <th>addr_out_country</th>\n",
       "    </tr>\n",
       "  </thead>\n",
       "  <tbody>\n",
       "    <tr>\n",
       "      <th>0</th>\n",
       "      <td>2762939</td>\n",
       "      <td>51.211615</td>\n",
       "      <td>4.649820</td>\n",
       "      <td>30.0</td>\n",
       "      <td>orig</td>\n",
       "      <td>1032308.0</td>\n",
       "      <td>Kriekenlaan</td>\n",
       "      <td>22</td>\n",
       "      <td>22</td>\n",
       "      <td>22</td>\n",
       "      <td></td>\n",
       "      <td>2240</td>\n",
       "      <td>Zandhoven</td>\n",
       "      <td>België / Belgique / Belgien</td>\n",
       "    </tr>\n",
       "    <tr>\n",
       "      <th>1</th>\n",
       "      <td>2253494</td>\n",
       "      <td>51.059548</td>\n",
       "      <td>2.870803</td>\n",
       "      <td>21.0</td>\n",
       "      <td>nostreet</td>\n",
       "      <td>4005124.0</td>\n",
       "      <td>None</td>\n",
       "      <td>None</td>\n",
       "      <td>*</td>\n",
       "      <td></td>\n",
       "      <td></td>\n",
       "      <td>8600</td>\n",
       "      <td>Diksmuide</td>\n",
       "      <td>België / Belgique / Belgien</td>\n",
       "    </tr>\n",
       "    <tr>\n",
       "      <th>2</th>\n",
       "      <td>1764140</td>\n",
       "      <td>50.924678</td>\n",
       "      <td>3.788056</td>\n",
       "      <td>26.0</td>\n",
       "      <td>orig</td>\n",
       "      <td>436186.0</td>\n",
       "      <td>Poststraat</td>\n",
       "      <td>None</td>\n",
       "      <td>19</td>\n",
       "      <td>19</td>\n",
       "      <td></td>\n",
       "      <td>9860</td>\n",
       "      <td>Issegem</td>\n",
       "      <td>België / Belgique / Belgien</td>\n",
       "    </tr>\n",
       "    <tr>\n",
       "      <th>3</th>\n",
       "      <td>87070</td>\n",
       "      <td>51.351333</td>\n",
       "      <td>3.285724</td>\n",
       "      <td>30.0</td>\n",
       "      <td>orig</td>\n",
       "      <td>3675084.0</td>\n",
       "      <td>Sylvain Dupuisstraat</td>\n",
       "      <td>24;26;28</td>\n",
       "      <td>26</td>\n",
       "      <td>26</td>\n",
       "      <td></td>\n",
       "      <td>8300</td>\n",
       "      <td>Knokke-Heist</td>\n",
       "      <td>België / Belgique / Belgien</td>\n",
       "    </tr>\n",
       "    <tr>\n",
       "      <th>4</th>\n",
       "      <td>2261339</td>\n",
       "      <td>50.977155</td>\n",
       "      <td>5.690444</td>\n",
       "      <td>26.0</td>\n",
       "      <td>orig</td>\n",
       "      <td>379663.0</td>\n",
       "      <td>Oude Baan</td>\n",
       "      <td>None</td>\n",
       "      <td>338</td>\n",
       "      <td></td>\n",
       "      <td>m 338</td>\n",
       "      <td>3630</td>\n",
       "      <td>Maasmechelen</td>\n",
       "      <td>België / Belgique / Belgien</td>\n",
       "    </tr>\n",
       "    <tr>\n",
       "      <th>...</th>\n",
       "      <td>...</td>\n",
       "      <td>...</td>\n",
       "      <td>...</td>\n",
       "      <td>...</td>\n",
       "      <td>...</td>\n",
       "      <td>...</td>\n",
       "      <td>...</td>\n",
       "      <td>...</td>\n",
       "      <td>...</td>\n",
       "      <td>...</td>\n",
       "      <td>...</td>\n",
       "      <td>...</td>\n",
       "      <td>...</td>\n",
       "      <td>...</td>\n",
       "    </tr>\n",
       "    <tr>\n",
       "      <th>95</th>\n",
       "      <td>2720764</td>\n",
       "      <td>50.462361</td>\n",
       "      <td>4.596458</td>\n",
       "      <td>30.0</td>\n",
       "      <td>regex[init]</td>\n",
       "      <td>2657266.0</td>\n",
       "      <td>Rue du Wainage</td>\n",
       "      <td>62</td>\n",
       "      <td>62</td>\n",
       "      <td>62</td>\n",
       "      <td></td>\n",
       "      <td>5060</td>\n",
       "      <td>Sambreville</td>\n",
       "      <td>België / Belgique / Belgien</td>\n",
       "    </tr>\n",
       "    <tr>\n",
       "      <th>96</th>\n",
       "      <td>386196</td>\n",
       "      <td>50.639445</td>\n",
       "      <td>3.349058</td>\n",
       "      <td>26.0</td>\n",
       "      <td>orig</td>\n",
       "      <td>1983533.0</td>\n",
       "      <td>Chaussée de Tournai</td>\n",
       "      <td>None</td>\n",
       "      <td>4</td>\n",
       "      <td>4</td>\n",
       "      <td></td>\n",
       "      <td>7520</td>\n",
       "      <td>Ramegnies-Chin</td>\n",
       "      <td>België / Belgique / Belgien</td>\n",
       "    </tr>\n",
       "    <tr>\n",
       "      <th>97</th>\n",
       "      <td>1474962</td>\n",
       "      <td>50.479737</td>\n",
       "      <td>3.838976</td>\n",
       "      <td>26.0</td>\n",
       "      <td>orig</td>\n",
       "      <td>432987.0</td>\n",
       "      <td>Rue Louis Caty</td>\n",
       "      <td>None</td>\n",
       "      <td>32</td>\n",
       "      <td>32</td>\n",
       "      <td></td>\n",
       "      <td>7331</td>\n",
       "      <td>Saint-Ghislain</td>\n",
       "      <td>België / Belgique / Belgien</td>\n",
       "    </tr>\n",
       "    <tr>\n",
       "      <th>98</th>\n",
       "      <td>2424889</td>\n",
       "      <td>50.606398</td>\n",
       "      <td>4.159495</td>\n",
       "      <td>26.0</td>\n",
       "      <td>orig</td>\n",
       "      <td>379561.0</td>\n",
       "      <td>Drève des Bouleaux</td>\n",
       "      <td>None</td>\n",
       "      <td>5</td>\n",
       "      <td>5</td>\n",
       "      <td></td>\n",
       "      <td>7090</td>\n",
       "      <td>Braine-le-Comte</td>\n",
       "      <td>België / Belgique / Belgien</td>\n",
       "    </tr>\n",
       "    <tr>\n",
       "      <th>99</th>\n",
       "      <td>2751621</td>\n",
       "      <td>50.491929</td>\n",
       "      <td>5.866972</td>\n",
       "      <td>30.0</td>\n",
       "      <td>orig</td>\n",
       "      <td>1868481.0</td>\n",
       "      <td>Rue Rogier</td>\n",
       "      <td>1</td>\n",
       "      <td>1</td>\n",
       "      <td>1</td>\n",
       "      <td></td>\n",
       "      <td>4900</td>\n",
       "      <td>Spa</td>\n",
       "      <td>België / Belgique / Belgien</td>\n",
       "    </tr>\n",
       "  </tbody>\n",
       "</table>\n",
       "<p>1000 rows × 14 columns</p>\n",
       "</div>"
      ],
      "text/plain": [
       "   addr_key        lat       lon  place_rank       method   place_id  \\\n",
       "0   2762939  51.211615  4.649820        30.0         orig  1032308.0   \n",
       "1   2253494  51.059548  2.870803        21.0     nostreet  4005124.0   \n",
       "2   1764140  50.924678  3.788056        26.0         orig   436186.0   \n",
       "3     87070  51.351333  3.285724        30.0         orig  3675084.0   \n",
       "4   2261339  50.977155  5.690444        26.0         orig   379663.0   \n",
       "..      ...        ...       ...         ...          ...        ...   \n",
       "95  2720764  50.462361  4.596458        30.0  regex[init]  2657266.0   \n",
       "96   386196  50.639445  3.349058        26.0         orig  1983533.0   \n",
       "97  1474962  50.479737  3.838976        26.0         orig   432987.0   \n",
       "98  2424889  50.606398  4.159495        26.0         orig   379561.0   \n",
       "99  2751621  50.491929  5.866972        30.0         orig  1868481.0   \n",
       "\n",
       "         addr_out_street addr_out_number in_house_nbr lpost_house_nbr  \\\n",
       "0            Kriekenlaan              22           22              22   \n",
       "1                   None            None            *                   \n",
       "2             Poststraat            None           19              19   \n",
       "3   Sylvain Dupuisstraat        24;26;28           26              26   \n",
       "4              Oude Baan            None          338                   \n",
       "..                   ...             ...          ...             ...   \n",
       "95        Rue du Wainage              62           62              62   \n",
       "96   Chaussée de Tournai            None            4               4   \n",
       "97        Rue Louis Caty            None           32              32   \n",
       "98    Drève des Bouleaux            None            5               5   \n",
       "99            Rue Rogier               1            1               1   \n",
       "\n",
       "   lpost_unit addr_out_postcode    addr_out_city             addr_out_country  \n",
       "0                          2240        Zandhoven  België / Belgique / Belgien  \n",
       "1                          8600        Diksmuide  België / Belgique / Belgien  \n",
       "2                          9860          Issegem  België / Belgique / Belgien  \n",
       "3                          8300     Knokke-Heist  België / Belgique / Belgien  \n",
       "4       m 338              3630     Maasmechelen  België / Belgique / Belgien  \n",
       "..        ...               ...              ...                          ...  \n",
       "95                         5060      Sambreville  België / Belgique / Belgien  \n",
       "96                         7520   Ramegnies-Chin  België / Belgique / Belgien  \n",
       "97                         7331   Saint-Ghislain  België / Belgique / Belgien  \n",
       "98                         7090  Braine-le-Comte  België / Belgique / Belgien  \n",
       "99                         4900              Spa  België / Belgique / Belgien  \n",
       "\n",
       "[1000 rows x 14 columns]"
      ]
     },
     "execution_count": 277,
     "metadata": {},
     "output_type": "execute_result"
    }
   ],
   "source": [
    "t = datetime.now()\n",
    "\n",
    "df_res = call_ws_batch_chunks(addresses, chunk_size=100, mode=\"short\", check_result=False)\n",
    "\n",
    "tot_time = (datetime.now() - t).total_seconds()\n",
    "print(f\"{tot_time} seconds, {addresses.shape[0]/tot_time} it/s\")\n",
    "\n",
    "df_res"
   ]
  },
  {
   "cell_type": "code",
   "execution_count": 300,
   "metadata": {
    "ExecuteTime": {
     "end_time": "2022-12-12T15:51:18.604724Z",
     "start_time": "2022-12-12T15:51:18.602232Z"
    }
   },
   "outputs": [],
   "source": [
    "# import dask.array as da\n",
    "\n",
    "# t = datetime.now()\n",
    "\n",
    "# chunks = np.array_split(addresses,addresses.shape[0]//100)\n",
    "\n",
    "# dd_addresses = da.from_array(chunks, chunks= (10, 100, 7))\n",
    "\n",
    "# dask_task = dd_addresses.apply(lambda a: print(display(a)) ,  meta=('x', 'str'), axis=1)\n",
    "\n",
    "# with ProgressBar(): \n",
    "#     addresses[\"json\"] = dask_task.compute()\n",
    "    \n",
    "# tot_time = (datetime.now() - t).total_seconds()\n",
    "# print(f\"{tot_time} seconds, {addresses.shape[0]/tot_time} it/s\")"
   ]
  },
  {
   "cell_type": "code",
   "execution_count": 301,
   "metadata": {
    "ExecuteTime": {
     "end_time": "2022-12-12T15:51:21.469171Z",
     "start_time": "2022-12-12T15:51:21.466835Z"
    }
   },
   "outputs": [],
   "source": [
    "# chunks[5]"
   ]
  },
  {
   "cell_type": "code",
   "execution_count": 299,
   "metadata": {
    "ExecuteTime": {
     "end_time": "2022-12-12T15:50:40.864705Z",
     "start_time": "2022-12-12T15:50:40.861850Z"
    },
    "scrolled": true
   },
   "outputs": [],
   "source": [
    "# dd_addresses = dd.from_pandas(addresses, npartitions=8)\n",
    "\n",
    "# dask_task = dd_addresses.apply(call_ws, check_result=False, meta=('x', 'str'), axis=1)\n",
    "\n",
    "# with ProgressBar(): \n",
    "#     addresses[\"json\"] = dask_task.compute()\n",
    "    \n",
    "# tot_time = (datetime.now() - t).total_seconds()\n",
    "# print(f\"{tot_time} seconds, {addresses.shape[0]/tot_time} it/s\")"
   ]
  },
  {
   "cell_type": "code",
   "execution_count": null,
   "metadata": {
    "ExecuteTime": {
     "end_time": "2022-02-07T15:26:45.597331Z",
     "start_time": "2022-02-07T15:26:45.589408Z"
    }
   },
   "outputs": [],
   "source": [
    "# df_res[df_res.addr_out_number.str.upper() != df_res.lpost_house_nbr.str.upper()]"
   ]
  },
  {
   "cell_type": "code",
   "execution_count": null,
   "metadata": {
    "ExecuteTime": {
     "end_time": "2022-02-07T15:26:55.720764Z",
     "start_time": "2022-02-07T15:26:55.707118Z"
    }
   },
   "outputs": [],
   "source": [
    "df_res.method.value_counts()"
   ]
  },
  {
   "cell_type": "markdown",
   "metadata": {},
   "source": [
    "## Comparing options"
   ]
  },
  {
   "cell_type": "code",
   "execution_count": null,
   "metadata": {
    "ExecuteTime": {
     "end_time": "2021-06-17T12:03:05.162160Z",
     "start_time": "2021-06-17T12:02:57.219437Z"
    }
   },
   "outputs": [],
   "source": [
    "addresses = get_addresses(\"address.csv.gz\")\n",
    "addresses = addresses[addresses[country_field] == \"Belgique\"]\n",
    "addresses = addresses.sample(10000).copy()"
   ]
  },
  {
   "cell_type": "code",
   "execution_count": null,
   "metadata": {
    "ExecuteTime": {
     "end_time": "2021-06-17T13:36:34.740473Z",
     "start_time": "2021-06-17T12:03:16.803891Z"
    },
    "scrolled": true
   },
   "outputs": [],
   "source": [
    "results = {}\n",
    "it_per_seconds=pd.DataFrame()\n",
    "\n",
    "for check_label in [\"check\", \"nocheck\"]:\n",
    "    for struct_label in [\"struct\", \"unstruct\" ]:\n",
    "        print(check_label, struct_label)\n",
    "        start=datetime.now()\n",
    "        \n",
    "        results[(check_label, struct_label)] = call_ws_batch_chunks(addresses, \n",
    "                                                                    mode=\"short\", \n",
    "                                                                    check_result   =  check_label == \"check\", \n",
    "                                                                    structured_osm =  struct_label == \"struct\")\n",
    "        \n",
    "        it_per_seconds.loc[check_label, struct_label] = addresses.shape[0] / (datetime.now()-start).total_seconds()\n",
    "print(\"Iterations per seconds:\")\n",
    "it_per_seconds"
   ]
  },
  {
   "cell_type": "code",
   "execution_count": null,
   "metadata": {
    "ExecuteTime": {
     "end_time": "2021-06-17T13:37:26.026243Z",
     "start_time": "2021-06-17T13:37:26.006959Z"
    }
   },
   "outputs": [],
   "source": [
    "print(\"Match rate\")\n",
    "pd.DataFrame({k1: {k2: results[(k1,k2)].shape[0]/addresses.shape[0] for k2 in [\"struct\", \"unstruct\"]} \n",
    "                  for k1 in  [\"check\",\"nocheck\"]})"
   ]
  },
  {
   "cell_type": "code",
   "execution_count": null,
   "metadata": {
    "ExecuteTime": {
     "end_time": "2021-06-17T13:37:36.864209Z",
     "start_time": "2021-06-17T13:37:36.760314Z"
    }
   },
   "outputs": [],
   "source": [
    "print(\"Match rate (without nostreet)\")\n",
    "pd.DataFrame({k1: {k2: results[(k1,k2)].query(\"method!='nostreet'\").shape[0]/addresses.shape[0] for k2 in [\"struct\", \"unstruct\"]} \n",
    "                  for k1 in  [\"check\",\"nocheck\"]})"
   ]
  },
  {
   "cell_type": "code",
   "execution_count": null,
   "metadata": {
    "ExecuteTime": {
     "end_time": "2021-06-17T13:37:44.762541Z",
     "start_time": "2021-06-17T13:37:44.687047Z"
    }
   },
   "outputs": [],
   "source": [
    "print(\"Unmatched addresses\")\n",
    "for k1 in results:\n",
    "    print(k1)\n",
    "    nomatch=addresses[~addresses[addr_key_field].isin(results[k1][\"addr_key\"])]\n",
    "    display(nomatch)\n",
    "    print(nomatch[country_field].value_counts())"
   ]
  },
  {
   "cell_type": "code",
   "execution_count": null,
   "metadata": {
    "ExecuteTime": {
     "end_time": "2021-06-17T13:37:55.438762Z",
     "start_time": "2021-06-17T13:37:53.973554Z"
    },
    "scrolled": true
   },
   "outputs": [],
   "source": [
    "vc_values = pd.DataFrame(columns=results.keys(), index=results.keys())\n",
    "\n",
    "for k1 in results:\n",
    "    vc_values.loc[k1, k1] = results[k1].shape[0]\n",
    "    for k2 in results:\n",
    "        if k1>k2:\n",
    "            r1=results[k1]\n",
    "            r2=results[k2]\n",
    "            mg = r1[[\"addr_key\", \"place_id\"]].merge(r2[[\"addr_key\", \"place_id\"]], on=\"addr_key\", how=\"outer\", indicator=True)\n",
    " \n",
    "            vc = mg._merge.value_counts()\n",
    "\n",
    "            mismatches = mg[mg.place_id_x != mg.place_id_y][[\"addr_key\"]]\n",
    "            mismatches = mismatches.merge(addresses.rename({addr_key_field:\"addr_key\"}, axis=1))\n",
    "            mismatches = mismatches.merge(r1[[\"addr_key\", \"addr_out_street\", \"addr_out_number\", \"extra_house_nbr\", \"addr_out_postcode\", \"addr_out_city\"]], on=\"addr_key\")\n",
    "            mismatches = mismatches.merge(r2[[\"addr_key\", \"addr_out_street\", \"addr_out_number\", \"extra_house_nbr\", \"addr_out_postcode\", \"addr_out_city\"]], on=\"addr_key\")\n",
    "            mismatches.columns = pd.MultiIndex.from_arrays([[\"Input\"]*6 + [f\"x:{k1}\"]*5 + [f\"y:{k2}\"]*5, mismatches.columns])\n",
    "\n",
    "            mismatch_values = mismatches[(mismatches[f\"x:{k1}\"].rename(lambda x: x.replace(\"_x\", \"\"), axis=1).fillna(\"\") != \n",
    "                                          mismatches[f\"y:{k2}\"].rename(lambda x: x.replace(\"_y\", \"\"), axis=1).fillna(\"\")).any(axis=1)]\n",
    "            \n",
    "            mismatch_values_no_nmbr = mismatches[(mismatches[f\"x:{k1}\"].rename(lambda x: x.replace(\"_x\", \"\"), axis=1).drop(\"addr_out_number\", axis=1).fillna(\"\") != \n",
    "                                                  mismatches[f\"y:{k2}\"].rename(lambda x: x.replace(\"_y\", \"\"), axis=1).drop(\"addr_out_number\", axis=1).fillna(\"\")).any(axis=1)]\n",
    "            \n",
    "            \n",
    "            vc_label = f\"{vc['both']} ({mismatches.shape[0]} - {mismatch_values.shape[0]} - {mismatch_values_no_nmbr.shape[0]}) / {vc['left_only']} / {vc['right_only']}\"\n",
    "            vc_values.loc[k1, k2]=vc_label\n",
    "\n",
    "                \n",
    "            print(f\"{k1} vs {k2}\")\n",
    "            print(vc_label)\n",
    "            print(\"-----------------------------\")\n",
    "            \n",
    "            print(f\"Only in {k1}\")\n",
    "            display(r1[r1.addr_key.isin(mg[mg._merge==\"left_only\"].addr_key)].merge(addresses.rename({addr_key_field:\"addr_key\"}, axis=1)))\n",
    "            \n",
    "            print(f\"Only in {k2}\")\n",
    "            display(r2[r2.addr_key.isin(mg[mg._merge==\"right_only\"].addr_key)].merge(addresses.rename({addr_key_field:\"addr_key\"}, axis=1)))\n",
    "            \n",
    "            print(\"Mismatch on place_id\")\n",
    "            display(mismatches)\n",
    "            \n",
    "            print(\"Mismatch on values\")\n",
    "            \n",
    "            display(mismatch_values)\n",
    "            \n",
    "            print(\"Mismatch on values (no nbr)\")\n",
    "            display(mismatch_values_no_nmbr)\n",
    "            \n",
    "            print(\"#######################\")\n",
    "            \n",
    "# display(vc_values.fillna(\"\"))"
   ]
  },
  {
   "cell_type": "code",
   "execution_count": null,
   "metadata": {
    "ExecuteTime": {
     "end_time": "2021-06-17T13:37:59.656028Z",
     "start_time": "2021-06-17T13:37:59.626031Z"
    }
   },
   "outputs": [],
   "source": [
    "print(\"Common in both (disagree on place_id - disagree on values - disagree on values, ignoring number) / results only for row / results only for columns\")\n",
    "vc_values.fillna(\"\")"
   ]
  },
  {
   "cell_type": "markdown",
   "metadata": {},
   "source": [
    "# tests"
   ]
  },
  {
   "cell_type": "code",
   "execution_count": 34,
   "metadata": {
    "ExecuteTime": {
     "end_time": "2022-11-24T15:40:55.868750Z",
     "start_time": "2022-11-24T15:40:55.863933Z"
    }
   },
   "outputs": [],
   "source": [
    "osm_host =\"172.27.0.64:8080\"\n",
    "def get_osm(addr, accept_language = \"\"): #lg = \"en,fr,nl\"\n",
    "    params = urllib.parse.urlencode({\"q\": addr,\n",
    "                                    \"format\":\"jsonv2\",\n",
    "                                    \"accept-language\":accept_language,\n",
    "                                    \"addressdetails\":\"1\",\n",
    "                                    \"namedetails\" : \"1\",\n",
    "                                    \"limit\": \"50\"\n",
    "                                    })\n",
    "    \n",
    "    url = \"http://%s/search.php?%s\"%(osm_host, params)\n",
    "#     print(f\"Call to OSM: {url}\")\n",
    "    try: \n",
    "        with urllib.request.urlopen(url) as response:\n",
    "            res = response.read()\n",
    "            res = json.loads(res)\n",
    "#             return res\n",
    "            return [ {field: item[field] for field in [\"place_id\", \"lat\", \"lon\", \"display_name\", \"address\", \"namedetails\", \"place_rank\", \"category\", \"type\"]} for item in res] \n",
    "    except Exception as e:\n",
    "        raise Exception (f\"Cannot get OSM results ({osm_host}): {e}\") "
   ]
  },
  {
   "cell_type": "code",
   "execution_count": 55,
   "metadata": {
    "ExecuteTime": {
     "end_time": "2022-11-24T13:51:33.386239Z",
     "start_time": "2022-11-24T13:51:26.447912Z"
    }
   },
   "outputs": [
    {
     "name": "stdout",
     "output_type": "stream",
     "text": [
      "8.57 ms ± 66 µs per loop (mean ± std. dev. of 7 runs, 100 loops each)\n"
     ]
    }
   ],
   "source": [
    "%timeit get_osm(\"Chaussée de Tervueren 59, 1160 Auderghem\")"
   ]
  },
  {
   "cell_type": "code",
   "execution_count": 87,
   "metadata": {
    "ExecuteTime": {
     "end_time": "2022-11-25T08:36:06.851866Z",
     "start_time": "2022-11-25T08:35:58.889572Z"
    }
   },
   "outputs": [
    {
     "name": "stdout",
     "output_type": "stream",
     "text": [
      "9.81 ms ± 118 µs per loop (mean ± std. dev. of 7 runs, 100 loops each)\n"
     ]
    }
   ],
   "source": [
    "%timeit get_osm(\"Av. Fonsny 20, 1060 Bruxelles\")"
   ]
  },
  {
   "cell_type": "code",
   "execution_count": 49,
   "metadata": {
    "ExecuteTime": {
     "end_time": "2022-11-24T15:46:10.514007Z",
     "start_time": "2022-11-24T15:45:54.520980Z"
    }
   },
   "outputs": [
    {
     "data": {
      "application/vnd.jupyter.widget-view+json": {
       "model_id": "f8908ebddc6e4e988967a55cfdb0436c",
       "version_major": 2,
       "version_minor": 0
      },
      "text/plain": [
       "  0%|          | 0/1000 [00:00<?, ?it/s]"
      ]
     },
     "metadata": {},
     "output_type": "display_data"
    }
   ],
   "source": [
    "addresses[\"osm\"] = addresses.address.progress_apply(get_osm)"
   ]
  },
  {
   "cell_type": "code",
   "execution_count": 45,
   "metadata": {
    "ExecuteTime": {
     "end_time": "2022-11-24T15:45:29.723556Z",
     "start_time": "2022-11-24T15:45:29.718272Z"
    }
   },
   "outputs": [],
   "source": [
    "addresses[\"address\"] = addresses[street_field]+\", \"+addresses[housenbr_field].fillna(\"\")+\", \" \\\n",
    "                            +addresses[postcode_field]+\" \"+addresses[city_field]+\" \"+addresses[country_field]"
   ]
  },
  {
   "cell_type": "code",
   "execution_count": 47,
   "metadata": {
    "ExecuteTime": {
     "end_time": "2022-11-24T15:45:33.232557Z",
     "start_time": "2022-11-24T15:45:33.230262Z"
    }
   },
   "outputs": [],
   "source": [
    "# addresses[addresses.address.isnull()]"
   ]
  },
  {
   "cell_type": "code",
   "execution_count": 124,
   "metadata": {
    "ExecuteTime": {
     "end_time": "2022-11-25T10:35:15.581102Z",
     "start_time": "2022-11-25T10:35:13.908468Z"
    }
   },
   "outputs": [
    {
     "name": "stdout",
     "output_type": "stream",
     "text": [
      "20.5 ms ± 165 µs per loop (mean ± std. dev. of 7 runs, 10 loops each)\n"
     ]
    }
   ],
   "source": [
    "%timeit call_ws_test({street_field:   \"Av. Fonsny\", \\\n",
    "         housenbr_field: \"20\",\\\n",
    "         city_field:     \"Saint-Gilles\",\\\n",
    "         postcode_field: \"1060\",\\\n",
    "         country_field:  \"Belgium\"}, check_result=False, structured_osm=False)\n",
    "# res"
   ]
  },
  {
   "cell_type": "code",
   "execution_count": 122,
   "metadata": {
    "ExecuteTime": {
     "end_time": "2022-11-25T10:35:06.485659Z",
     "start_time": "2022-11-25T10:35:06.457260Z"
    }
   },
   "outputs": [
    {
     "data": {
      "text/plain": [
       "{'res': [{'address': {'country': 'Belgique',\n",
       "    'country_code': 'be',\n",
       "    'county': 'Bruxelles-Capitale',\n",
       "    'house_number': '20',\n",
       "    'postcode': '1060',\n",
       "    'region': 'Bruxelles-Capitale',\n",
       "    'road': 'Avenue Fonsny',\n",
       "    'town': 'Saint-Gilles'},\n",
       "   'category': 'place',\n",
       "   'display_name': '20, Avenue Fonsny, Saint-Gilles, Bruxelles-Capitale, 1060, Belgique',\n",
       "   'lat': '50.8358677',\n",
       "   'lon': '4.3385087',\n",
       "   'namedetails': {},\n",
       "   'place_id': 182128,\n",
       "   'place_rank': 30,\n",
       "   'type': 'house'},\n",
       "  {'address': {'country': 'Belgique',\n",
       "    'country_code': 'be',\n",
       "    'county': 'Bruxelles-Capitale',\n",
       "    'house_number': '20',\n",
       "    'place': 'DAE (Smals)',\n",
       "    'postcode': '1060',\n",
       "    'region': 'Bruxelles-Capitale',\n",
       "    'road': 'Avenue Fonsny',\n",
       "    'town': 'Saint-Gilles'},\n",
       "   'category': 'place',\n",
       "   'display_name': 'DAE (Smals), 20, Avenue Fonsny, Saint-Gilles, Bruxelles-Capitale, 1060, Belgique',\n",
       "   'lat': '50.8358216',\n",
       "   'lon': '4.3386884',\n",
       "   'namedetails': {'name': 'DAE (Smals)'},\n",
       "   'place_id': 178958,\n",
       "   'place_rank': 30,\n",
       "   'type': 'house'}],\n",
       " 'timing': {'called direct': 21.070999999999998,\n",
       "  'df ready': 5.767,\n",
       "  'got init df': 1.596,\n",
       "  'start': 0.308},\n",
       " 'time': 0.023745}"
      ]
     },
     "execution_count": 122,
     "metadata": {},
     "output_type": "execute_result"
    }
   ],
   "source": [
    "call_ws_test({street_field:   \"Av. Fonsny\", \\\n",
    "         housenbr_field: \"20\",\\\n",
    "         city_field:     \"Saint-Gilles\",\\\n",
    "         postcode_field: \"1060\",\\\n",
    "         country_field:  \"Belgium\"}, check_result=False, structured_osm=False)\n",
    "# res"
   ]
  },
  {
   "cell_type": "code",
   "execution_count": 257,
   "metadata": {
    "ExecuteTime": {
     "end_time": "2022-12-12T15:06:17.166489Z",
     "start_time": "2022-12-12T15:06:17.037680Z"
    },
    "scrolled": true
   },
   "outputs": [
    {
     "data": {
      "text/plain": [
       "{'match': [{'SIM_street_which': '',\n",
       "   'addr_out_city': 'Saint-Gilles - Sint-Gillis',\n",
       "   'addr_out_country': 'België / Belgique / Belgien',\n",
       "   'addr_out_number': '20',\n",
       "   'addr_out_postcode': '1060',\n",
       "   'addr_out_street': 'Avenue Fonsny - Fonsnylaan',\n",
       "   'display_name': '20, Avenue Fonsny - Fonsnylaan, Saint-Gilles - Sint-Gillis, Brussel-Hoofdstad - Bruxelles-Capitale, Région de Bruxelles-Capitale - Brussels Hoofdstedelijk Gewest, 1060, België / Belgique / Belgien',\n",
       "   'in_house_nbr': '20',\n",
       "   'lat': '50.8358677',\n",
       "   'lon': '4.3385087',\n",
       "   'lpost_house_nbr': '20',\n",
       "   'lpost_unit': '',\n",
       "   'method': 'orig',\n",
       "   'osm_addr_in': 'Av. Fonsny, 20, 1060 Saint-Gilles, Belgium',\n",
       "   'place_id': 182128,\n",
       "   'place_rank': 30}],\n",
       " 'rejected': [{'SIM_street': '',\n",
       "   'SIM_zip': '',\n",
       "   'addr_out_city': 'Saint-Gilles - Sint-Gillis',\n",
       "   'addr_out_country': 'België / Belgique / Belgien',\n",
       "   'addr_out_number': '20',\n",
       "   'addr_out_postcode': '1060',\n",
       "   'addr_out_street': 'Avenue Fonsny - Fonsnylaan',\n",
       "   'display_name': 'DAE (Smals), 20, Avenue Fonsny - Fonsnylaan, Saint-Gilles - Sint-Gillis, Brussel-Hoofdstad - Bruxelles-Capitale, Région de Bruxelles-Capitale - Brussels Hoofdstedelijk Gewest, 1060, België / Belgique / Belgien',\n",
       "   'lat': '50.8358216',\n",
       "   'lon': '4.3386884',\n",
       "   'method': 'orig',\n",
       "   'osm_addr_in': 'Av. Fonsny, 20, 1060 Saint-Gilles, Belgium',\n",
       "   'place_id': 178958,\n",
       "   'place_rank': 30,\n",
       "   'reject_reason': 'tail'}],\n",
       " 'timing': {'extra_hn': 16.465,\n",
       "  'extra_hn > lpost': 5.4159999999999995,\n",
       "  'format_res': 7.936,\n",
       "  'global': 119.999,\n",
       "  't&p': 90.336,\n",
       "  't&p > process': 75.49300000000001,\n",
       "  't&p > process > osm': 32.912,\n",
       "  't&p > process > osm_post': 37.557,\n",
       "  't&p > process > osm_post > parse&split': 32.771,\n",
       "  't&p > process > retry_low_rank': 0.763,\n",
       "  't&p > transformer': 12.687000000000001},\n",
       " 'time': 0.123463}"
      ]
     },
     "execution_count": 257,
     "metadata": {},
     "output_type": "execute_result"
    }
   ],
   "source": [
    "# %timeit \n",
    "res =call_ws({street_field:   \"Av. Fonsny\", \\\n",
    "         housenbr_field: \"20\",\\\n",
    "         city_field:     \"Saint-Gilles\",\\\n",
    "         postcode_field: \"1060\",\\\n",
    "         country_field:  \"Belgium\"}, check_result=False, structured_osm=False)\n",
    "res"
   ]
  },
  {
   "cell_type": "code",
   "execution_count": 214,
   "metadata": {
    "ExecuteTime": {
     "end_time": "2022-12-12T12:40:41.594199Z",
     "start_time": "2022-12-12T12:40:41.533243Z"
    }
   },
   "outputs": [
    {
     "data": {
      "text/plain": [
       "{'key': 4537490478458538424, 'time': 0.007811}"
      ]
     },
     "execution_count": 214,
     "metadata": {},
     "output_type": "execute_result"
    }
   ],
   "source": [
    "call_ws_test({street_field:   \"Av. Fonsny\", \\\n",
    "         housenbr_field: \"20\",\\\n",
    "         city_field:     \"Saint-Gilles\",\\\n",
    "         postcode_field: \"1060\",\\\n",
    "         country_field:  \"Belgium\"})"
   ]
  },
  {
   "cell_type": "code",
   "execution_count": 215,
   "metadata": {
    "ExecuteTime": {
     "end_time": "2022-12-12T13:04:41.213554Z",
     "start_time": "2022-12-12T13:04:34.770051Z"
    }
   },
   "outputs": [
    {
     "data": {
      "application/vnd.jupyter.widget-view+json": {
       "model_id": "5d739c1036854b3c92726ccb139144d0",
       "version_major": 2,
       "version_minor": 0
      },
      "text/plain": [
       "  0%|          | 0/1000 [00:00<?, ?it/s]"
      ]
     },
     "metadata": {},
     "output_type": "display_data"
    },
    {
     "data": {
      "text/plain": [
       "845    {'key': -7446963526649159374, 'time': 0.011174}\n",
       "951       {'key': 762473121338280903, 'time': 0.00671}\n",
       "298     {'key': 9144190004510795113, 'time': 0.006501}\n",
       "680    {'key': -4959491702206956535, 'time': 0.006234}\n",
       "611    {'key': -1344177550255083595, 'time': 0.006133}\n",
       "                            ...                       \n",
       "323    {'key': -8613962303765128288, 'time': 0.006017}\n",
       "315    {'key': -8327614734770250404, 'time': 0.005897}\n",
       "991     {'key': 7750053913333578829, 'time': 0.005916}\n",
       "186    {'key': -5417820216234844161, 'time': 0.005949}\n",
       "56      {'key': 7125128659801556648, 'time': 0.006021}\n",
       "Length: 1000, dtype: object"
      ]
     },
     "execution_count": 215,
     "metadata": {},
     "output_type": "execute_result"
    }
   ],
   "source": [
    "addresses.progress_apply(call_ws_test, check_result=False, structured_osm=False, axis=1)"
   ]
  },
  {
   "cell_type": "code",
   "execution_count": 172,
   "metadata": {
    "ExecuteTime": {
     "end_time": "2022-11-25T13:05:30.845823Z",
     "start_time": "2022-11-25T13:05:30.840884Z"
    }
   },
   "outputs": [
    {
     "data": {
      "text/plain": [
       "141.40799999999996"
      ]
     },
     "execution_count": 172,
     "metadata": {},
     "output_type": "execute_result"
    }
   ],
   "source": [
    "tm =res[\"timing\"] \n",
    "sum(res[\"timing\"].values()) - res[\"timing\"][\"global\"]"
   ]
  },
  {
   "cell_type": "code",
   "execution_count": 173,
   "metadata": {
    "ExecuteTime": {
     "end_time": "2022-11-25T13:06:19.177509Z",
     "start_time": "2022-11-25T13:06:19.173672Z"
    }
   },
   "outputs": [
    {
     "data": {
      "text/plain": [
       "84.55499999999999"
      ]
     },
     "execution_count": 173,
     "metadata": {},
     "output_type": "execute_result"
    }
   ],
   "source": [
    "tm[\"init_df\"] + tm[\"t&p\"] + tm[\"extra_hn\"] + tm[\"format_res\"]"
   ]
  }
 ],
 "metadata": {
  "kernelspec": {
   "display_name": "Python 3 (ipykernel)",
   "language": "python",
   "name": "python3"
  },
  "language_info": {
   "codemirror_mode": {
    "name": "ipython",
    "version": 3
   },
   "file_extension": ".py",
   "mimetype": "text/x-python",
   "name": "python",
   "nbconvert_exporter": "python",
   "pygments_lexer": "ipython3",
   "version": "3.9.12"
  },
  "toc": {
   "base_numbering": 1,
   "nav_menu": {},
   "number_sections": true,
   "sideBar": true,
   "skip_h1_title": false,
   "title_cell": "Table of Contents",
   "title_sidebar": "Contents",
   "toc_cell": false,
   "toc_position": {
    "height": "calc(100% - 180px)",
    "left": "10px",
    "top": "150px",
    "width": "304px"
   },
   "toc_section_display": true,
   "toc_window_display": true
  },
  "varInspector": {
   "cols": {
    "lenName": 16,
    "lenType": 16,
    "lenVar": 40
   },
   "kernels_config": {
    "python": {
     "delete_cmd_postfix": "",
     "delete_cmd_prefix": "del ",
     "library": "var_list.py",
     "varRefreshCmd": "print(var_dic_list())"
    },
    "r": {
     "delete_cmd_postfix": ") ",
     "delete_cmd_prefix": "rm(",
     "library": "var_list.r",
     "varRefreshCmd": "cat(var_dic_list()) "
    }
   },
   "types_to_exclude": [
    "module",
    "function",
    "builtin_function_or_method",
    "instance",
    "_Feature"
   ],
   "window_display": false
  }
 },
 "nbformat": 4,
 "nbformat_minor": 2
}
