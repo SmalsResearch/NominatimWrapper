{
 "cells": [
  {
   "cell_type": "code",
   "execution_count": 1,
   "metadata": {
    "ExecuteTime": {
     "end_time": "2022-02-24T10:23:38.339489Z",
     "start_time": "2022-02-24T10:23:32.558461Z"
    }
   },
   "outputs": [
    {
     "name": "stderr",
     "output_type": "stream",
     "text": [
      "<ipython-input-1-5cfb607d7a2e>:8: TqdmExperimentalWarning: Using `tqdm.autonotebook.tqdm` in notebook mode. Use `tqdm.tqdm` instead to force console mode (e.g. in jupyter console)\n",
      "  from tqdm.autonotebook import tqdm\n"
     ]
    }
   ],
   "source": [
    "import pandas as pd\n",
    "import urllib\n",
    "\n",
    "import numpy as np\n",
    "\n",
    "import json\n",
    "\n",
    "from tqdm.autonotebook import tqdm\n",
    "\n",
    "#%matplotlib inline\n",
    "\n",
    "tqdm.pandas()\n",
    "\n",
    "import dask.dataframe as dd\n",
    "\n",
    "from dask.multiprocessing import get\n",
    "from dask.diagnostics import ProgressBar\n",
    "\n",
    "from datetime import datetime\n",
    "import matplotlib.pyplot as plt\n",
    "\n",
    "from IPython.display import display\n"
   ]
  },
  {
   "cell_type": "code",
   "execution_count": 2,
   "metadata": {
    "ExecuteTime": {
     "end_time": "2022-02-24T10:23:39.118878Z",
     "start_time": "2022-02-24T10:23:38.343091Z"
    }
   },
   "outputs": [],
   "source": [
    "import urllib3"
   ]
  },
  {
   "cell_type": "code",
   "execution_count": 3,
   "metadata": {
    "ExecuteTime": {
     "end_time": "2022-02-24T10:23:39.127588Z",
     "start_time": "2022-02-24T10:23:39.123284Z"
    }
   },
   "outputs": [],
   "source": [
    "http = urllib3.PoolManager()"
   ]
  },
  {
   "cell_type": "code",
   "execution_count": 4,
   "metadata": {
    "ExecuteTime": {
     "end_time": "2022-02-24T10:23:39.531236Z",
     "start_time": "2022-02-24T10:23:39.130623Z"
    }
   },
   "outputs": [],
   "source": [
    "from config_batch import * "
   ]
  },
  {
   "cell_type": "markdown",
   "metadata": {
    "ExecuteTime": {
     "end_time": "2020-05-06T13:50:43.162875Z",
     "start_time": "2020-05-06T13:50:43.151794Z"
    }
   },
   "source": [
    "# Functions"
   ]
  },
  {
   "cell_type": "code",
   "execution_count": 5,
   "metadata": {
    "ExecuteTime": {
     "end_time": "2022-02-24T10:23:39.864894Z",
     "start_time": "2022-02-24T10:23:39.534843Z"
    }
   },
   "outputs": [],
   "source": [
    "ws_hostname = \"127.0.1.1\"\n",
    "ws_hostname = \"10.1.0.45\"\n",
    "\n",
    "# ws_hostname = \"192.168.1.3\"\n"
   ]
  },
  {
   "cell_type": "code",
   "execution_count": 6,
   "metadata": {
    "ExecuteTime": {
     "end_time": "2022-02-24T10:23:40.156013Z",
     "start_time": "2022-02-24T10:23:39.869065Z"
    }
   },
   "outputs": [],
   "source": [
    "def call_ws(addr_data, check_result=True, structured_osm=False): #lg = \"en,fr,nl\"\n",
    "    t = datetime.now()\n",
    "    \n",
    "    params = urllib.parse.urlencode({\"street\": addr_data[street_field],\n",
    "                                     \"housenumber\": addr_data[housenbr_field],\n",
    "                                     \"city\": addr_data[city_field],\n",
    "                                     \"postcode\": addr_data[postcode_field],\n",
    "                                     \"country\": addr_data[country_field],\n",
    "                                     \"check_result\" : \"yes\" if check_result else \"no\",\n",
    "                                     \"struct_osm\" : \"yes\" if structured_osm else \"no\"\n",
    "                                    })\n",
    "    url = f\"http://{ws_hostname}:5000/search/?{params}\"\n",
    "#     print(url)\n",
    "    try:\n",
    "        with urllib.request.urlopen(url) as response:\n",
    "            res = response.read()\n",
    "            res = json.loads(res)\n",
    "#             print(res)\n",
    "            res[\"time\"] = datetime.now() - t\n",
    "            return res\n",
    "    except Exception as e:\n",
    "        return str(e)\n",
    "    "
   ]
  },
  {
   "cell_type": "code",
   "execution_count": 25,
   "metadata": {
    "ExecuteTime": {
     "end_time": "2022-02-24T10:42:00.798507Z",
     "start_time": "2022-02-24T10:42:00.784995Z"
    }
   },
   "outputs": [],
   "source": [
    "def call_ws_batch(addr_data, mode=\"geo\", with_reject=False, check_result=True, structured_osm=False): #lg = \"en,fr,nl\"\n",
    "#     print(addr_data)\n",
    "#     print(addr_data.shape)\n",
    "#     print()\n",
    "    file_data = addr_data.rename(columns = {\n",
    "        street_field : \"street\",\n",
    "        housenbr_field: \"housenumber\",\n",
    "        postcode_field: \"postcode\",\n",
    "        city_field: \"city\",\n",
    "        country_field: \"country\",\n",
    "        addr_key_field : \"addr_key\"\n",
    "    }).to_csv(index=False)\n",
    "    \n",
    "    r = http.request(\n",
    "    'POST',\n",
    "    f'http://{ws_hostname}:5000/batch',\n",
    "    fields= { \n",
    "        'media': ('addresses.csv', file_data),\n",
    "        'mode': mode,\n",
    "        \"with_rejected\" : \"yes\" if with_reject else \"no\",\n",
    "        \"check_result\" : \"yes\" if check_result else \"no\",\n",
    "        \"struct_osm\" : \"yes\" if structured_osm else \"no\",\n",
    "        #\"extra_house_nbr\": \"no\"\n",
    "    })\n",
    "    \n",
    "    try:\n",
    "        res = pd.DataFrame(json.loads(r.data.decode('utf-8')))\n",
    "    except ValueError:\n",
    "        print(\"Cannot decode result:\")\n",
    "        print(r.data.decode('utf-8'))\n",
    "        print(json.loads(r.data.decode('utf-8')))\n",
    "        return \n",
    "#     display(res)\n",
    "    return res"
   ]
  },
  {
   "cell_type": "code",
   "execution_count": 8,
   "metadata": {
    "ExecuteTime": {
     "end_time": "2022-02-24T10:23:40.934269Z",
     "start_time": "2022-02-24T10:23:40.573529Z"
    }
   },
   "outputs": [],
   "source": [
    "def expand_json(addresses):\n",
    "    addresses[\"status\"]= addresses.json.apply(lambda d: \"error\" if \"error\" in d else \"match\" if \"match\" in d else \"rejected\")\n",
    "    addresses[\"time\"]  = addresses.json.apply(lambda d: d[\"time\"])\n",
    "\n",
    "    addresses[\"timing\"]  = addresses.json.apply(lambda d: d[\"timing\"] if \"timing\" in d else {})\n",
    "\n",
    "    addresses[\"method\"]= addresses.json.apply(lambda d: d[\"match\"][0][\"method\"] if len(d)>0 and \"match\" in d else \"none\")\n",
    "    \n",
    "    for field in [\"street\", \"number\", \"postcode\", \"city\"]:\n",
    "        addresses[field]= addresses.json.apply(lambda d: d[\"match\"][0][\"addr_out_\"+field] if len(d)>0 and \"match\" in d else \"\")\n",
    "    return "
   ]
  },
  {
   "cell_type": "markdown",
   "metadata": {},
   "source": [
    "# Calls"
   ]
  },
  {
   "cell_type": "markdown",
   "metadata": {
    "ExecuteTime": {
     "end_time": "2020-09-30T09:57:35.286293Z",
     "start_time": "2020-09-30T09:57:35.281457Z"
    }
   },
   "source": [
    "## Single address calls"
   ]
  },
  {
   "cell_type": "code",
   "execution_count": 9,
   "metadata": {
    "ExecuteTime": {
     "end_time": "2022-02-24T10:23:42.184726Z",
     "start_time": "2022-02-24T10:23:41.800752Z"
    },
    "scrolled": false
   },
   "outputs": [
    {
     "data": {
      "text/plain": [
       "{'match': [{'SIM_city': 0.46153846153846156,\n",
       "   'SIM_house_nbr': 0.0,\n",
       "   'SIM_street': 1.0,\n",
       "   'SIM_street_which': 'addr_out_street',\n",
       "   'SIM_zip': 1.0,\n",
       "   'addr_out_city': 'Saint-Gilles - Sint-Gillis',\n",
       "   'addr_out_country': 'België / Belgique / Belgien',\n",
       "   'addr_out_number': '20',\n",
       "   'addr_out_postcode': '1060',\n",
       "   'addr_out_street': 'Avenue Fonsny - Fonsnylaan',\n",
       "   'display_name': 'DAE (Smals), 20, Avenue Fonsny - Fonsnylaan, Saint-Gilles - Sint-Gillis, Brussel-Hoofdstad - Bruxelles-Capitale, Région de Bruxelles-Capitale - Brussels Hoofdstedelijk Gewest, 1060, België / Belgique / Belgien',\n",
       "   'in_house_nbr': '20 bus 22',\n",
       "   'lat': '50.8358216',\n",
       "   'lon': '4.3386884',\n",
       "   'lpost_house_nbr': '20',\n",
       "   'lpost_unit': 'bus 22',\n",
       "   'method': 'orig',\n",
       "   'osm_addr_in': 'Av. Fonsny, 20 bus 22, 1060 Saint-Gilles, Belgium',\n",
       "   'place_id': 173261,\n",
       "   'place_rank': 30}],\n",
       " 'rejected': [{'SIM_city': 0.46153846153846156,\n",
       "   'SIM_house_nbr': 0.0,\n",
       "   'SIM_street': 1.0,\n",
       "   'SIM_street_which': 'addr_out_street',\n",
       "   'SIM_zip': 1.0,\n",
       "   'addr_out_city': 'Saint-Gilles - Sint-Gillis',\n",
       "   'addr_out_country': 'België / Belgique / Belgien',\n",
       "   'addr_out_number': '20',\n",
       "   'addr_out_postcode': '1060',\n",
       "   'addr_out_street': 'Avenue Fonsny - Fonsnylaan',\n",
       "   'display_name': '20, Avenue Fonsny - Fonsnylaan, Saint-Gilles - Sint-Gillis, Brussel-Hoofdstad - Bruxelles-Capitale, Région de Bruxelles-Capitale - Brussels Hoofdstedelijk Gewest, 1060, België / Belgique / Belgien',\n",
       "   'lat': '50.8358677',\n",
       "   'lon': '4.3385087',\n",
       "   'method': 'orig',\n",
       "   'osm_addr_in': 'Av. Fonsny, 20 bus 22, 1060 Saint-Gilles, Belgium',\n",
       "   'place_id': 189853,\n",
       "   'place_rank': 30,\n",
       "   'reject_reason': 'tail'}],\n",
       " 'time': datetime.timedelta(microseconds=371173)}"
      ]
     },
     "execution_count": 9,
     "metadata": {},
     "output_type": "execute_result"
    }
   ],
   "source": [
    "call_ws({street_field:   \"Av. Fonsny\", \n",
    "         housenbr_field: \"20 bus 22\",\n",
    "         city_field:     \"Saint-Gilles\",\n",
    "         postcode_field: \"1060\",\n",
    "         country_field:  \"Belgium\"}, check_result=True, structured_osm=False)"
   ]
  },
  {
   "cell_type": "code",
   "execution_count": null,
   "metadata": {
    "ExecuteTime": {
     "end_time": "2022-02-07T12:58:07.797440Z",
     "start_time": "2022-02-07T12:58:07.193295Z"
    }
   },
   "outputs": [],
   "source": [
    "call_ws({street_field:   \"\", \n",
    "         housenbr_field: \"\",\n",
    "         city_field:     \"Dinant\",\n",
    "         postcode_field: \"5500\",\n",
    "         country_field:  \"Belgium\"}, check_result=True, structured_osm=True)"
   ]
  },
  {
   "cell_type": "code",
   "execution_count": null,
   "metadata": {
    "ExecuteTime": {
     "end_time": "2021-06-17T09:52:14.990191Z",
     "start_time": "2021-06-17T09:52:14.302196Z"
    }
   },
   "outputs": [],
   "source": []
  },
  {
   "cell_type": "code",
   "execution_count": null,
   "metadata": {
    "ExecuteTime": {
     "end_time": "2021-06-17T09:52:24.783819Z",
     "start_time": "2021-06-17T09:52:24.239460Z"
    }
   },
   "outputs": [],
   "source": []
  },
  {
   "cell_type": "markdown",
   "metadata": {},
   "source": [
    "## Batch calls (row by row)"
   ]
  },
  {
   "cell_type": "code",
   "execution_count": 136,
   "metadata": {
    "ExecuteTime": {
     "end_time": "2022-02-08T14:55:18.494595Z",
     "start_time": "2022-02-08T14:55:12.236795Z"
    }
   },
   "outputs": [],
   "source": [
    "addresses = get_addresses(\"address.csv.gz\")\n",
    "addresses = addresses.sample(1000).copy()"
   ]
  },
  {
   "cell_type": "markdown",
   "metadata": {},
   "source": [
    "### Simple way"
   ]
  },
  {
   "cell_type": "code",
   "execution_count": 149,
   "metadata": {
    "ExecuteTime": {
     "end_time": "2022-02-08T15:29:07.300778Z",
     "start_time": "2022-02-08T15:18:13.345222Z"
    },
    "scrolled": true
   },
   "outputs": [
    {
     "data": {
      "application/vnd.jupyter.widget-view+json": {
       "model_id": "538a07b625214a9490b8af416b7d29e6",
       "version_major": 2,
       "version_minor": 0
      },
      "text/plain": [
       "  0%|          | 0/1000 [00:00<?, ?it/s]"
      ]
     },
     "metadata": {},
     "output_type": "display_data"
    }
   ],
   "source": [
    "addresses[\"json\"] = addresses.progress_apply(call_ws, check_result=False, structured_osm=False, axis=1)"
   ]
  },
  {
   "cell_type": "code",
   "execution_count": null,
   "metadata": {
    "ExecuteTime": {
     "end_time": "2022-02-07T14:00:40.900718Z",
     "start_time": "2022-02-07T14:00:40.895795Z"
    }
   },
   "outputs": [],
   "source": [
    "# addresses\n"
   ]
  },
  {
   "cell_type": "markdown",
   "metadata": {
    "ExecuteTime": {
     "end_time": "2020-09-30T10:03:50.368838Z",
     "start_time": "2020-09-30T10:03:50.364575Z"
    }
   },
   "source": [
    "### Using Dask"
   ]
  },
  {
   "cell_type": "code",
   "execution_count": null,
   "metadata": {
    "ExecuteTime": {
     "end_time": "2022-02-07T14:01:13.098903Z",
     "start_time": "2022-02-07T14:00:43.600936Z"
    }
   },
   "outputs": [],
   "source": [
    "dd_addresses = dd.from_pandas(addresses, npartitions=4)\n",
    "\n",
    "dask_task = dd_addresses.apply(call_ws, meta=('x', 'str'), axis=1)\n",
    "\n",
    "with ProgressBar(): \n",
    "    addresses[\"json\"] = dask_task.compute()"
   ]
  },
  {
   "cell_type": "code",
   "execution_count": null,
   "metadata": {
    "ExecuteTime": {
     "end_time": "2021-05-07T13:19:27.725700Z",
     "start_time": "2021-05-07T13:19:27.686854Z"
    }
   },
   "outputs": [],
   "source": [
    "expand_json(addresses)"
   ]
  },
  {
   "cell_type": "code",
   "execution_count": null,
   "metadata": {
    "ExecuteTime": {
     "end_time": "2021-05-07T13:20:16.966340Z",
     "start_time": "2021-05-07T13:20:16.714942Z"
    }
   },
   "outputs": [],
   "source": [
    "addresses"
   ]
  },
  {
   "cell_type": "markdown",
   "metadata": {
    "ExecuteTime": {
     "end_time": "2020-09-30T10:09:38.533274Z",
     "start_time": "2020-09-30T10:09:38.528729Z"
    }
   },
   "source": [
    "## Batch calls (batch WS)"
   ]
  },
  {
   "cell_type": "code",
   "execution_count": 10,
   "metadata": {
    "ExecuteTime": {
     "end_time": "2022-02-24T10:23:54.276373Z",
     "start_time": "2022-02-24T10:23:53.471917Z"
    }
   },
   "outputs": [
    {
     "data": {
      "text/html": [
       "<div>\n",
       "<style scoped>\n",
       "    .dataframe tbody tr th:only-of-type {\n",
       "        vertical-align: middle;\n",
       "    }\n",
       "\n",
       "    .dataframe tbody tr th {\n",
       "        vertical-align: top;\n",
       "    }\n",
       "\n",
       "    .dataframe thead th {\n",
       "        text-align: right;\n",
       "    }\n",
       "</style>\n",
       "<table border=\"1\" class=\"dataframe\">\n",
       "  <thead>\n",
       "    <tr style=\"text-align: right;\">\n",
       "      <th></th>\n",
       "      <th>EntityNumber</th>\n",
       "      <th>StreetFR</th>\n",
       "      <th>MunicipalityFR</th>\n",
       "      <th>CountryFR</th>\n",
       "      <th>HouseNumber</th>\n",
       "      <th>Zipcode</th>\n",
       "    </tr>\n",
       "  </thead>\n",
       "  <tbody>\n",
       "    <tr>\n",
       "      <th>0</th>\n",
       "      <td>2762939</td>\n",
       "      <td>Kriekenlaan, 22, 2240 Zandhoven, Belgique</td>\n",
       "      <td></td>\n",
       "      <td>Belgique</td>\n",
       "      <td></td>\n",
       "      <td></td>\n",
       "    </tr>\n",
       "    <tr>\n",
       "      <th>1</th>\n",
       "      <td>2253494</td>\n",
       "      <td>Cardijnlaan(D), *, 8600 Diksmuide, Belgique</td>\n",
       "      <td></td>\n",
       "      <td>Belgique</td>\n",
       "      <td></td>\n",
       "      <td></td>\n",
       "    </tr>\n",
       "    <tr>\n",
       "      <th>2</th>\n",
       "      <td>1764140</td>\n",
       "      <td>Poststraat, 19, 9860 Oosterzele, Belgique</td>\n",
       "      <td></td>\n",
       "      <td>Belgique</td>\n",
       "      <td></td>\n",
       "      <td></td>\n",
       "    </tr>\n",
       "    <tr>\n",
       "      <th>3</th>\n",
       "      <td>87070</td>\n",
       "      <td>Sylvain Dupuisstraat, 26, 8300 Knokke-Heist, B...</td>\n",
       "      <td></td>\n",
       "      <td>Belgique</td>\n",
       "      <td></td>\n",
       "      <td></td>\n",
       "    </tr>\n",
       "    <tr>\n",
       "      <th>4</th>\n",
       "      <td>2261339</td>\n",
       "      <td>Oude Baan(M), 338, 3630 Maasmechelen, Belgique</td>\n",
       "      <td></td>\n",
       "      <td>Belgique</td>\n",
       "      <td></td>\n",
       "      <td></td>\n",
       "    </tr>\n",
       "    <tr>\n",
       "      <th>...</th>\n",
       "      <td>...</td>\n",
       "      <td>...</td>\n",
       "      <td>...</td>\n",
       "      <td>...</td>\n",
       "      <td>...</td>\n",
       "      <td>...</td>\n",
       "    </tr>\n",
       "    <tr>\n",
       "      <th>995</th>\n",
       "      <td>2720764</td>\n",
       "      <td>Rue du Wainage(VEL), 62, 5060 Sambreville, Bel...</td>\n",
       "      <td></td>\n",
       "      <td>Belgique</td>\n",
       "      <td></td>\n",
       "      <td></td>\n",
       "    </tr>\n",
       "    <tr>\n",
       "      <th>996</th>\n",
       "      <td>386196</td>\n",
       "      <td>Chaussée de Tournai(R-C), 4, 7520 Tournai, Bel...</td>\n",
       "      <td></td>\n",
       "      <td>Belgique</td>\n",
       "      <td></td>\n",
       "      <td></td>\n",
       "    </tr>\n",
       "    <tr>\n",
       "      <th>997</th>\n",
       "      <td>1474962</td>\n",
       "      <td>Rue Louis Caty(B), 32, 7331 Saint-Ghislain, Be...</td>\n",
       "      <td></td>\n",
       "      <td>Belgique</td>\n",
       "      <td></td>\n",
       "      <td></td>\n",
       "    </tr>\n",
       "    <tr>\n",
       "      <th>998</th>\n",
       "      <td>2424889</td>\n",
       "      <td>Drève des Bouleaux, 5, 7090 Braine-le-Comte, B...</td>\n",
       "      <td></td>\n",
       "      <td>Belgique</td>\n",
       "      <td></td>\n",
       "      <td></td>\n",
       "    </tr>\n",
       "    <tr>\n",
       "      <th>999</th>\n",
       "      <td>2751621</td>\n",
       "      <td>Rue Rogier, 1, 4900 Spa, Belgique</td>\n",
       "      <td></td>\n",
       "      <td>Belgique</td>\n",
       "      <td></td>\n",
       "      <td></td>\n",
       "    </tr>\n",
       "  </tbody>\n",
       "</table>\n",
       "<p>1000 rows × 6 columns</p>\n",
       "</div>"
      ],
      "text/plain": [
       "     EntityNumber                                           StreetFR  \\\n",
       "0         2762939          Kriekenlaan, 22, 2240 Zandhoven, Belgique   \n",
       "1         2253494        Cardijnlaan(D), *, 8600 Diksmuide, Belgique   \n",
       "2         1764140          Poststraat, 19, 9860 Oosterzele, Belgique   \n",
       "3           87070  Sylvain Dupuisstraat, 26, 8300 Knokke-Heist, B...   \n",
       "4         2261339     Oude Baan(M), 338, 3630 Maasmechelen, Belgique   \n",
       "..            ...                                                ...   \n",
       "995       2720764  Rue du Wainage(VEL), 62, 5060 Sambreville, Bel...   \n",
       "996        386196  Chaussée de Tournai(R-C), 4, 7520 Tournai, Bel...   \n",
       "997       1474962  Rue Louis Caty(B), 32, 7331 Saint-Ghislain, Be...   \n",
       "998       2424889  Drève des Bouleaux, 5, 7090 Braine-le-Comte, B...   \n",
       "999       2751621                  Rue Rogier, 1, 4900 Spa, Belgique   \n",
       "\n",
       "    MunicipalityFR CountryFR HouseNumber Zipcode  \n",
       "0                   Belgique                      \n",
       "1                   Belgique                      \n",
       "2                   Belgique                      \n",
       "3                   Belgique                      \n",
       "4                   Belgique                      \n",
       "..             ...       ...         ...     ...  \n",
       "995                 Belgique                      \n",
       "996                 Belgique                      \n",
       "997                 Belgique                      \n",
       "998                 Belgique                      \n",
       "999                 Belgique                      \n",
       "\n",
       "[1000 rows x 6 columns]"
      ]
     },
     "execution_count": 10,
     "metadata": {},
     "output_type": "execute_result"
    }
   ],
   "source": [
    "addresses = pd.read_csv(f\"../GISAnalytics/data/geocoding/kbo_1000_sample.csv\")\n",
    "addresses = addresses.rename(columns={\"Unnamed: 0\": addr_key_field, \"address\": street_field})\n",
    "addresses[city_field] = \"\"\n",
    "addresses[country_field] =  \"Belgique\"\n",
    "addresses[housenbr_field] = \"\"\n",
    "addresses[postcode_field]=\"\"\n",
    "addresses"
   ]
  },
  {
   "cell_type": "code",
   "execution_count": 137,
   "metadata": {
    "ExecuteTime": {
     "end_time": "2022-02-08T14:55:27.080766Z",
     "start_time": "2022-02-08T14:55:27.051744Z"
    }
   },
   "outputs": [
    {
     "data": {
      "text/html": [
       "<div>\n",
       "<style scoped>\n",
       "    .dataframe tbody tr th:only-of-type {\n",
       "        vertical-align: middle;\n",
       "    }\n",
       "\n",
       "    .dataframe tbody tr th {\n",
       "        vertical-align: top;\n",
       "    }\n",
       "\n",
       "    .dataframe thead th {\n",
       "        text-align: right;\n",
       "    }\n",
       "</style>\n",
       "<table border=\"1\" class=\"dataframe\">\n",
       "  <thead>\n",
       "    <tr style=\"text-align: right;\">\n",
       "      <th></th>\n",
       "      <th>EntityNumber</th>\n",
       "      <th>CountryFR</th>\n",
       "      <th>Zipcode</th>\n",
       "      <th>MunicipalityFR</th>\n",
       "      <th>StreetFR</th>\n",
       "      <th>HouseNumber</th>\n",
       "    </tr>\n",
       "  </thead>\n",
       "  <tbody>\n",
       "    <tr>\n",
       "      <th>1693620</th>\n",
       "      <td>2.006.998.987</td>\n",
       "      <td>Belgique</td>\n",
       "      <td>9750</td>\n",
       "      <td>Kruisem</td>\n",
       "      <td>Alfred Amelotstraat</td>\n",
       "      <td>22</td>\n",
       "    </tr>\n",
       "    <tr>\n",
       "      <th>2245463</th>\n",
       "      <td>2.159.185.851</td>\n",
       "      <td>Belgique</td>\n",
       "      <td>8790</td>\n",
       "      <td>Waregem</td>\n",
       "      <td>Kalkhoevestraat</td>\n",
       "      <td>1</td>\n",
       "    </tr>\n",
       "    <tr>\n",
       "      <th>641094</th>\n",
       "      <td>0627.942.168</td>\n",
       "      <td>Belgique</td>\n",
       "      <td>1080</td>\n",
       "      <td>Molenbeek-Saint-Jean</td>\n",
       "      <td>Avenue du Condor</td>\n",
       "      <td>19</td>\n",
       "    </tr>\n",
       "    <tr>\n",
       "      <th>1896185</th>\n",
       "      <td>2.064.435.063</td>\n",
       "      <td>Belgique</td>\n",
       "      <td>8800</td>\n",
       "      <td>Roeselare</td>\n",
       "      <td>Noordstraat</td>\n",
       "      <td>197</td>\n",
       "    </tr>\n",
       "    <tr>\n",
       "      <th>2729264</th>\n",
       "      <td>2.241.540.138</td>\n",
       "      <td>Belgique</td>\n",
       "      <td>2990</td>\n",
       "      <td>Wuustwezel</td>\n",
       "      <td>Bredabaan (Gooreind)</td>\n",
       "      <td>23/4</td>\n",
       "    </tr>\n",
       "    <tr>\n",
       "      <th>...</th>\n",
       "      <td>...</td>\n",
       "      <td>...</td>\n",
       "      <td>...</td>\n",
       "      <td>...</td>\n",
       "      <td>...</td>\n",
       "      <td>...</td>\n",
       "    </tr>\n",
       "    <tr>\n",
       "      <th>3097222</th>\n",
       "      <td>2.285.822.024</td>\n",
       "      <td>Belgique</td>\n",
       "      <td>5030</td>\n",
       "      <td>Gembloux</td>\n",
       "      <td>Rue Camille-Cals, Ernage</td>\n",
       "      <td>28</td>\n",
       "    </tr>\n",
       "    <tr>\n",
       "      <th>180091</th>\n",
       "      <td>0434.204.464</td>\n",
       "      <td>Belgique</td>\n",
       "      <td>1180</td>\n",
       "      <td>Uccle</td>\n",
       "      <td>Rue du Roetaert</td>\n",
       "      <td>40</td>\n",
       "    </tr>\n",
       "    <tr>\n",
       "      <th>2524886</th>\n",
       "      <td>2.210.605.452</td>\n",
       "      <td>Belgique</td>\n",
       "      <td>1020</td>\n",
       "      <td>Bruxelles</td>\n",
       "      <td>Rue Marie-Christine</td>\n",
       "      <td>153</td>\n",
       "    </tr>\n",
       "    <tr>\n",
       "      <th>2520632</th>\n",
       "      <td>2.209.879.437</td>\n",
       "      <td>Belgique</td>\n",
       "      <td>1080</td>\n",
       "      <td>Molenbeek-Saint-Jean</td>\n",
       "      <td>Rue Picard</td>\n",
       "      <td>57</td>\n",
       "    </tr>\n",
       "    <tr>\n",
       "      <th>1842119</th>\n",
       "      <td>2.049.104.610</td>\n",
       "      <td>Belgique</td>\n",
       "      <td>7700</td>\n",
       "      <td>Mouscron</td>\n",
       "      <td>Rue des Pélerins</td>\n",
       "      <td>127</td>\n",
       "    </tr>\n",
       "  </tbody>\n",
       "</table>\n",
       "<p>1000 rows × 6 columns</p>\n",
       "</div>"
      ],
      "text/plain": [
       "          EntityNumber CountryFR Zipcode        MunicipalityFR  \\\n",
       "1693620  2.006.998.987  Belgique    9750               Kruisem   \n",
       "2245463  2.159.185.851  Belgique    8790               Waregem   \n",
       "641094    0627.942.168  Belgique    1080  Molenbeek-Saint-Jean   \n",
       "1896185  2.064.435.063  Belgique    8800             Roeselare   \n",
       "2729264  2.241.540.138  Belgique    2990            Wuustwezel   \n",
       "...                ...       ...     ...                   ...   \n",
       "3097222  2.285.822.024  Belgique    5030              Gembloux   \n",
       "180091    0434.204.464  Belgique    1180                 Uccle   \n",
       "2524886  2.210.605.452  Belgique    1020             Bruxelles   \n",
       "2520632  2.209.879.437  Belgique    1080  Molenbeek-Saint-Jean   \n",
       "1842119  2.049.104.610  Belgique    7700              Mouscron   \n",
       "\n",
       "                         StreetFR HouseNumber  \n",
       "1693620       Alfred Amelotstraat          22  \n",
       "2245463           Kalkhoevestraat           1  \n",
       "641094           Avenue du Condor          19  \n",
       "1896185               Noordstraat         197  \n",
       "2729264      Bredabaan (Gooreind)        23/4  \n",
       "...                           ...         ...  \n",
       "3097222  Rue Camille-Cals, Ernage          28  \n",
       "180091            Rue du Roetaert          40  \n",
       "2524886       Rue Marie-Christine         153  \n",
       "2520632                Rue Picard          57  \n",
       "1842119          Rue des Pélerins         127  \n",
       "\n",
       "[1000 rows x 6 columns]"
      ]
     },
     "execution_count": 137,
     "metadata": {},
     "output_type": "execute_result"
    }
   ],
   "source": [
    "addresses"
   ]
  },
  {
   "cell_type": "markdown",
   "metadata": {
    "ExecuteTime": {
     "end_time": "2020-09-30T10:13:11.087024Z",
     "start_time": "2020-09-30T10:13:11.082413Z"
    }
   },
   "source": [
    "### Single block"
   ]
  },
  {
   "cell_type": "code",
   "execution_count": 26,
   "metadata": {
    "ExecuteTime": {
     "end_time": "2022-02-24T10:44:24.447942Z",
     "start_time": "2022-02-24T10:42:16.047632Z"
    },
    "scrolled": true
   },
   "outputs": [
    {
     "data": {
      "text/html": [
       "<div>\n",
       "<style scoped>\n",
       "    .dataframe tbody tr th:only-of-type {\n",
       "        vertical-align: middle;\n",
       "    }\n",
       "\n",
       "    .dataframe tbody tr th {\n",
       "        vertical-align: top;\n",
       "    }\n",
       "\n",
       "    .dataframe thead th {\n",
       "        text-align: right;\n",
       "    }\n",
       "</style>\n",
       "<table border=\"1\" class=\"dataframe\">\n",
       "  <thead>\n",
       "    <tr style=\"text-align: right;\">\n",
       "      <th></th>\n",
       "      <th>addr_key</th>\n",
       "      <th>lat</th>\n",
       "      <th>lon</th>\n",
       "      <th>place_rank</th>\n",
       "      <th>method</th>\n",
       "    </tr>\n",
       "  </thead>\n",
       "  <tbody>\n",
       "    <tr>\n",
       "      <th>0</th>\n",
       "      <td>1002214</td>\n",
       "      <td>50.821627</td>\n",
       "      <td>3.168548</td>\n",
       "      <td>30.0</td>\n",
       "      <td>libpostal+regex[lpost]+photon</td>\n",
       "    </tr>\n",
       "    <tr>\n",
       "      <th>1</th>\n",
       "      <td>1003571</td>\n",
       "      <td>51.130720</td>\n",
       "      <td>4.296507</td>\n",
       "      <td>26.0</td>\n",
       "      <td>libpostal+regex[lpost]+photon</td>\n",
       "    </tr>\n",
       "    <tr>\n",
       "      <th>2</th>\n",
       "      <td>1011436</td>\n",
       "      <td>50.695095</td>\n",
       "      <td>4.676402</td>\n",
       "      <td>30.0</td>\n",
       "      <td>libpostal+regex[lpost]+photon</td>\n",
       "    </tr>\n",
       "    <tr>\n",
       "      <th>3</th>\n",
       "      <td>1011475</td>\n",
       "      <td>50.819275</td>\n",
       "      <td>4.386580</td>\n",
       "      <td>30.0</td>\n",
       "      <td>libpostal+regex[lpost]+photon</td>\n",
       "    </tr>\n",
       "    <tr>\n",
       "      <th>4</th>\n",
       "      <td>1018679</td>\n",
       "      <td>51.003970</td>\n",
       "      <td>5.047784</td>\n",
       "      <td>30.0</td>\n",
       "      <td>libpostal+regex[lpost]+photon</td>\n",
       "    </tr>\n",
       "    <tr>\n",
       "      <th>...</th>\n",
       "      <td>...</td>\n",
       "      <td>...</td>\n",
       "      <td>...</td>\n",
       "      <td>...</td>\n",
       "      <td>...</td>\n",
       "    </tr>\n",
       "    <tr>\n",
       "      <th>980</th>\n",
       "      <td>3075050</td>\n",
       "      <td>50.613286</td>\n",
       "      <td>5.940212</td>\n",
       "      <td>26.0</td>\n",
       "      <td>photon</td>\n",
       "    </tr>\n",
       "    <tr>\n",
       "      <th>981</th>\n",
       "      <td>558959</td>\n",
       "      <td>50.763989</td>\n",
       "      <td>3.730486</td>\n",
       "      <td>26.0</td>\n",
       "      <td>photon</td>\n",
       "    </tr>\n",
       "    <tr>\n",
       "      <th>982</th>\n",
       "      <td>647118</td>\n",
       "      <td>50.846113</td>\n",
       "      <td>4.436441</td>\n",
       "      <td>26.0</td>\n",
       "      <td>photon</td>\n",
       "    </tr>\n",
       "    <tr>\n",
       "      <th>983</th>\n",
       "      <td>940484</td>\n",
       "      <td>50.348816</td>\n",
       "      <td>4.857279</td>\n",
       "      <td>26.0</td>\n",
       "      <td>photon</td>\n",
       "    </tr>\n",
       "    <tr>\n",
       "      <th>984</th>\n",
       "      <td>2668959</td>\n",
       "      <td>51.153141</td>\n",
       "      <td>5.390905</td>\n",
       "      <td>26.0</td>\n",
       "      <td>photon+nonum</td>\n",
       "    </tr>\n",
       "  </tbody>\n",
       "</table>\n",
       "<p>985 rows × 5 columns</p>\n",
       "</div>"
      ],
      "text/plain": [
       "    addr_key        lat       lon  place_rank                         method\n",
       "0    1002214  50.821627  3.168548        30.0  libpostal+regex[lpost]+photon\n",
       "1    1003571  51.130720  4.296507        26.0  libpostal+regex[lpost]+photon\n",
       "2    1011436  50.695095  4.676402        30.0  libpostal+regex[lpost]+photon\n",
       "3    1011475  50.819275  4.386580        30.0  libpostal+regex[lpost]+photon\n",
       "4    1018679  51.003970  5.047784        30.0  libpostal+regex[lpost]+photon\n",
       "..       ...        ...       ...         ...                            ...\n",
       "980  3075050  50.613286  5.940212        26.0                         photon\n",
       "981   558959  50.763989  3.730486        26.0                         photon\n",
       "982   647118  50.846113  4.436441        26.0                         photon\n",
       "983   940484  50.348816  4.857279        26.0                         photon\n",
       "984  2668959  51.153141  5.390905        26.0                   photon+nonum\n",
       "\n",
       "[985 rows x 5 columns]"
      ]
     },
     "execution_count": 26,
     "metadata": {},
     "output_type": "execute_result"
    }
   ],
   "source": [
    "# Only geocoding\n",
    "# addresses[\"StreetFR\"] = \"\"\n",
    "call_ws_batch(addresses, mode=\"geo\", check_result=True, structured_osm=True)"
   ]
  },
  {
   "cell_type": "code",
   "execution_count": 144,
   "metadata": {
    "ExecuteTime": {
     "end_time": "2022-02-08T15:03:23.833458Z",
     "start_time": "2022-02-08T14:58:21.714468Z"
    },
    "scrolled": true
   },
   "outputs": [
    {
     "data": {
      "text/html": [
       "<div>\n",
       "<style scoped>\n",
       "    .dataframe tbody tr th:only-of-type {\n",
       "        vertical-align: middle;\n",
       "    }\n",
       "\n",
       "    .dataframe tbody tr th {\n",
       "        vertical-align: top;\n",
       "    }\n",
       "\n",
       "    .dataframe thead th {\n",
       "        text-align: right;\n",
       "    }\n",
       "</style>\n",
       "<table border=\"1\" class=\"dataframe\">\n",
       "  <thead>\n",
       "    <tr style=\"text-align: right;\">\n",
       "      <th></th>\n",
       "      <th>addr_key</th>\n",
       "      <th>lat</th>\n",
       "      <th>lon</th>\n",
       "      <th>place_rank</th>\n",
       "      <th>method</th>\n",
       "      <th>place_id</th>\n",
       "      <th>addr_out_street</th>\n",
       "      <th>addr_out_number</th>\n",
       "      <th>in_house_nbr</th>\n",
       "      <th>lpost_house_nbr</th>\n",
       "      <th>lpost_unit</th>\n",
       "      <th>addr_out_postcode</th>\n",
       "      <th>addr_out_city</th>\n",
       "      <th>addr_out_country</th>\n",
       "    </tr>\n",
       "  </thead>\n",
       "  <tbody>\n",
       "    <tr>\n",
       "      <th>0</th>\n",
       "      <td>2762939</td>\n",
       "      <td>51.211615</td>\n",
       "      <td>4.649820</td>\n",
       "      <td>30.0</td>\n",
       "      <td>libpostal+regex[lpost]+photon</td>\n",
       "      <td>992278.0</td>\n",
       "      <td>Kriekenlaan</td>\n",
       "      <td>22</td>\n",
       "      <td>None</td>\n",
       "      <td>22</td>\n",
       "      <td></td>\n",
       "      <td>2240</td>\n",
       "      <td>Zandhoven</td>\n",
       "      <td>België / Belgique / Belgien</td>\n",
       "    </tr>\n",
       "    <tr>\n",
       "      <th>1</th>\n",
       "      <td>2253494</td>\n",
       "      <td>51.022370</td>\n",
       "      <td>2.860610</td>\n",
       "      <td>26.0</td>\n",
       "      <td>libpostal+regex[lpost]+photon</td>\n",
       "      <td>289768.0</td>\n",
       "      <td>Cardijnlaan</td>\n",
       "      <td>None</td>\n",
       "      <td>None</td>\n",
       "      <td></td>\n",
       "      <td></td>\n",
       "      <td>8600</td>\n",
       "      <td>Diksmuide</td>\n",
       "      <td>België / Belgique / Belgien</td>\n",
       "    </tr>\n",
       "    <tr>\n",
       "      <th>2</th>\n",
       "      <td>1764140</td>\n",
       "      <td>50.924678</td>\n",
       "      <td>3.788056</td>\n",
       "      <td>26.0</td>\n",
       "      <td>libpostal+regex[lpost]+photon</td>\n",
       "      <td>413714.0</td>\n",
       "      <td>Poststraat</td>\n",
       "      <td>None</td>\n",
       "      <td>None</td>\n",
       "      <td>19</td>\n",
       "      <td></td>\n",
       "      <td>9860</td>\n",
       "      <td>Balegem</td>\n",
       "      <td>België / Belgique / Belgien</td>\n",
       "    </tr>\n",
       "    <tr>\n",
       "      <th>3</th>\n",
       "      <td>87070</td>\n",
       "      <td>51.351599</td>\n",
       "      <td>3.286075</td>\n",
       "      <td>26.0</td>\n",
       "      <td>libpostal+regex[lpost]+photon</td>\n",
       "      <td>403430.0</td>\n",
       "      <td>Sylvain Dupuisstraat</td>\n",
       "      <td>None</td>\n",
       "      <td>None</td>\n",
       "      <td>26</td>\n",
       "      <td></td>\n",
       "      <td>8300</td>\n",
       "      <td>Knokke-Heist</td>\n",
       "      <td>België / Belgique / Belgien</td>\n",
       "    </tr>\n",
       "    <tr>\n",
       "      <th>4</th>\n",
       "      <td>2261339</td>\n",
       "      <td>50.977155</td>\n",
       "      <td>5.690444</td>\n",
       "      <td>26.0</td>\n",
       "      <td>libpostal+regex[lpost]+photon</td>\n",
       "      <td>387798.0</td>\n",
       "      <td>Oude Baan</td>\n",
       "      <td>None</td>\n",
       "      <td>None</td>\n",
       "      <td></td>\n",
       "      <td>m 338</td>\n",
       "      <td>3630</td>\n",
       "      <td>Maasmechelen</td>\n",
       "      <td>België / Belgique / Belgien</td>\n",
       "    </tr>\n",
       "    <tr>\n",
       "      <th>...</th>\n",
       "      <td>...</td>\n",
       "      <td>...</td>\n",
       "      <td>...</td>\n",
       "      <td>...</td>\n",
       "      <td>...</td>\n",
       "      <td>...</td>\n",
       "      <td>...</td>\n",
       "      <td>...</td>\n",
       "      <td>...</td>\n",
       "      <td>...</td>\n",
       "      <td>...</td>\n",
       "      <td>...</td>\n",
       "      <td>...</td>\n",
       "      <td>...</td>\n",
       "    </tr>\n",
       "    <tr>\n",
       "      <th>995</th>\n",
       "      <td>2720764</td>\n",
       "      <td>50.462361</td>\n",
       "      <td>4.596458</td>\n",
       "      <td>30.0</td>\n",
       "      <td>libpostal+regex[lpost]+photon</td>\n",
       "      <td>2624288.0</td>\n",
       "      <td>Rue du Wainage</td>\n",
       "      <td>62</td>\n",
       "      <td>None</td>\n",
       "      <td>62</td>\n",
       "      <td></td>\n",
       "      <td>5060</td>\n",
       "      <td>Sambreville</td>\n",
       "      <td>België / Belgique / Belgien</td>\n",
       "    </tr>\n",
       "    <tr>\n",
       "      <th>996</th>\n",
       "      <td>386196</td>\n",
       "      <td>50.561071</td>\n",
       "      <td>3.424308</td>\n",
       "      <td>30.0</td>\n",
       "      <td>libpostal+regex[lpost]+photon</td>\n",
       "      <td>3530216.0</td>\n",
       "      <td>Chaussée de Tournai</td>\n",
       "      <td>4</td>\n",
       "      <td>None</td>\n",
       "      <td>4</td>\n",
       "      <td></td>\n",
       "      <td>7641</td>\n",
       "      <td>Bruyelle</td>\n",
       "      <td>België / Belgique / Belgien</td>\n",
       "    </tr>\n",
       "    <tr>\n",
       "      <th>997</th>\n",
       "      <td>1474962</td>\n",
       "      <td>50.479737</td>\n",
       "      <td>3.838976</td>\n",
       "      <td>26.0</td>\n",
       "      <td>libpostal+regex[lpost]+photon</td>\n",
       "      <td>418941.0</td>\n",
       "      <td>Rue Louis Caty</td>\n",
       "      <td>None</td>\n",
       "      <td>None</td>\n",
       "      <td>32</td>\n",
       "      <td></td>\n",
       "      <td>7331</td>\n",
       "      <td>Saint-Ghislain</td>\n",
       "      <td>België / Belgique / Belgien</td>\n",
       "    </tr>\n",
       "    <tr>\n",
       "      <th>998</th>\n",
       "      <td>2424889</td>\n",
       "      <td>50.606398</td>\n",
       "      <td>4.159495</td>\n",
       "      <td>26.0</td>\n",
       "      <td>libpostal+regex[lpost]+photon</td>\n",
       "      <td>313717.0</td>\n",
       "      <td>Drève des Bouleaux</td>\n",
       "      <td>None</td>\n",
       "      <td>None</td>\n",
       "      <td>5</td>\n",
       "      <td></td>\n",
       "      <td>7090</td>\n",
       "      <td>Braine-Le-Comte</td>\n",
       "      <td>België / Belgique / Belgien</td>\n",
       "    </tr>\n",
       "    <tr>\n",
       "      <th>999</th>\n",
       "      <td>2751621</td>\n",
       "      <td>50.491929</td>\n",
       "      <td>5.866972</td>\n",
       "      <td>30.0</td>\n",
       "      <td>libpostal+regex[lpost]+photon</td>\n",
       "      <td>1799803.0</td>\n",
       "      <td>Rue Rogier</td>\n",
       "      <td>1</td>\n",
       "      <td>None</td>\n",
       "      <td>1</td>\n",
       "      <td></td>\n",
       "      <td>4900</td>\n",
       "      <td>Spa</td>\n",
       "      <td>België / Belgique / Belgien</td>\n",
       "    </tr>\n",
       "  </tbody>\n",
       "</table>\n",
       "<p>1000 rows × 14 columns</p>\n",
       "</div>"
      ],
      "text/plain": [
       "    addr_key        lat       lon  place_rank                         method  \\\n",
       "0    2762939  51.211615  4.649820        30.0  libpostal+regex[lpost]+photon   \n",
       "1    2253494  51.022370  2.860610        26.0  libpostal+regex[lpost]+photon   \n",
       "2    1764140  50.924678  3.788056        26.0  libpostal+regex[lpost]+photon   \n",
       "3      87070  51.351599  3.286075        26.0  libpostal+regex[lpost]+photon   \n",
       "4    2261339  50.977155  5.690444        26.0  libpostal+regex[lpost]+photon   \n",
       "..       ...        ...       ...         ...                            ...   \n",
       "995  2720764  50.462361  4.596458        30.0  libpostal+regex[lpost]+photon   \n",
       "996   386196  50.561071  3.424308        30.0  libpostal+regex[lpost]+photon   \n",
       "997  1474962  50.479737  3.838976        26.0  libpostal+regex[lpost]+photon   \n",
       "998  2424889  50.606398  4.159495        26.0  libpostal+regex[lpost]+photon   \n",
       "999  2751621  50.491929  5.866972        30.0  libpostal+regex[lpost]+photon   \n",
       "\n",
       "      place_id       addr_out_street addr_out_number in_house_nbr  \\\n",
       "0     992278.0           Kriekenlaan              22         None   \n",
       "1     289768.0           Cardijnlaan            None         None   \n",
       "2     413714.0            Poststraat            None         None   \n",
       "3     403430.0  Sylvain Dupuisstraat            None         None   \n",
       "4     387798.0             Oude Baan            None         None   \n",
       "..         ...                   ...             ...          ...   \n",
       "995  2624288.0        Rue du Wainage              62         None   \n",
       "996  3530216.0   Chaussée de Tournai               4         None   \n",
       "997   418941.0        Rue Louis Caty            None         None   \n",
       "998   313717.0    Drève des Bouleaux            None         None   \n",
       "999  1799803.0            Rue Rogier               1         None   \n",
       "\n",
       "    lpost_house_nbr lpost_unit addr_out_postcode    addr_out_city  \\\n",
       "0                22                         2240        Zandhoven   \n",
       "1                                           8600        Diksmuide   \n",
       "2                19                         9860          Balegem   \n",
       "3                26                         8300     Knokke-Heist   \n",
       "4                        m 338              3630     Maasmechelen   \n",
       "..              ...        ...               ...              ...   \n",
       "995              62                         5060      Sambreville   \n",
       "996               4                         7641         Bruyelle   \n",
       "997              32                         7331   Saint-Ghislain   \n",
       "998               5                         7090  Braine-Le-Comte   \n",
       "999               1                         4900              Spa   \n",
       "\n",
       "                addr_out_country  \n",
       "0    België / Belgique / Belgien  \n",
       "1    België / Belgique / Belgien  \n",
       "2    België / Belgique / Belgien  \n",
       "3    België / Belgique / Belgien  \n",
       "4    België / Belgique / Belgien  \n",
       "..                           ...  \n",
       "995  België / Belgique / Belgien  \n",
       "996  België / Belgique / Belgien  \n",
       "997  België / Belgique / Belgien  \n",
       "998  België / Belgique / Belgien  \n",
       "999  België / Belgique / Belgien  \n",
       "\n",
       "[1000 rows x 14 columns]"
      ]
     },
     "execution_count": 144,
     "metadata": {},
     "output_type": "execute_result"
    }
   ],
   "source": [
    "# Geocode + address\n",
    "call_ws_batch(addresses, mode=\"short\") "
   ]
  },
  {
   "cell_type": "code",
   "execution_count": null,
   "metadata": {
    "ExecuteTime": {
     "end_time": "2022-02-07T15:47:30.608532Z",
     "start_time": "2022-02-07T15:46:12.718161Z"
    },
    "scrolled": true
   },
   "outputs": [],
   "source": [
    "# Geocode + address, with rejected addresses\n",
    "call_ws_batch(addresses, mode=\"long\", with_reject=True)"
   ]
  },
  {
   "cell_type": "code",
   "execution_count": null,
   "metadata": {
    "ExecuteTime": {
     "end_time": "2022-02-07T15:40:19.848641Z",
     "start_time": "2022-02-07T15:40:18.354260Z"
    }
   },
   "outputs": [],
   "source": [
    "# call_ws_batch(addresses[addresses.EntityNumber.str.startswith(\"0554.81\")], mode=\"long\", with_reject=True)"
   ]
  },
  {
   "cell_type": "code",
   "execution_count": null,
   "metadata": {
    "ExecuteTime": {
     "end_time": "2022-02-07T14:05:04.468761Z",
     "start_time": "2022-02-07T14:05:04.422046Z"
    }
   },
   "outputs": [],
   "source": [
    "# a[a.in_house_nbr.str.upper() != a.lpost_house_nbr.str.upper()]"
   ]
  },
  {
   "cell_type": "markdown",
   "metadata": {
    "ExecuteTime": {
     "end_time": "2020-09-30T10:13:21.879291Z",
     "start_time": "2020-09-30T10:13:21.874241Z"
    }
   },
   "source": [
    "### Batch blocs"
   ]
  },
  {
   "cell_type": "code",
   "execution_count": null,
   "metadata": {
    "ExecuteTime": {
     "end_time": "2022-02-07T14:06:28.135930Z",
     "start_time": "2022-02-07T14:06:28.125697Z"
    }
   },
   "outputs": [],
   "source": [
    "def call_ws_batch_chunks(addr_data, mode=\"geo\", with_reject=False, check_result=True, structured_osm=False, chunk_size=100): \n",
    "    ## TODO : find a better way with dask? It seems that map_partitions does not support function returning dataframes. \n",
    "\n",
    "    chunks = np.array_split(addr_data, addr_data.shape[0]//chunk_size)\n",
    "\n",
    "    res= [call_ws_batch(chunk, mode=mode, \n",
    "                        check_result=check_result, \n",
    "                        structured_osm=structured_osm) for chunk in tqdm(chunks)]\n",
    "    df_res = pd.concat(res, sort=False)\n",
    "    return df_res"
   ]
  },
  {
   "cell_type": "code",
   "execution_count": 146,
   "metadata": {
    "ExecuteTime": {
     "end_time": "2022-02-08T15:14:43.160106Z",
     "start_time": "2022-02-08T15:10:25.974476Z"
    }
   },
   "outputs": [
    {
     "data": {
      "application/vnd.jupyter.widget-view+json": {
       "model_id": "4e407e63661b4ea1bf2284aa5c999a59",
       "version_major": 2,
       "version_minor": 0
      },
      "text/plain": [
       "  0%|          | 0/10 [00:00<?, ?it/s]"
      ]
     },
     "metadata": {},
     "output_type": "display_data"
    },
    {
     "data": {
      "text/html": [
       "<div>\n",
       "<style scoped>\n",
       "    .dataframe tbody tr th:only-of-type {\n",
       "        vertical-align: middle;\n",
       "    }\n",
       "\n",
       "    .dataframe tbody tr th {\n",
       "        vertical-align: top;\n",
       "    }\n",
       "\n",
       "    .dataframe thead th {\n",
       "        text-align: right;\n",
       "    }\n",
       "</style>\n",
       "<table border=\"1\" class=\"dataframe\">\n",
       "  <thead>\n",
       "    <tr style=\"text-align: right;\">\n",
       "      <th></th>\n",
       "      <th>addr_key</th>\n",
       "      <th>lat</th>\n",
       "      <th>lon</th>\n",
       "      <th>place_rank</th>\n",
       "      <th>method</th>\n",
       "      <th>place_id</th>\n",
       "      <th>addr_out_street</th>\n",
       "      <th>addr_out_number</th>\n",
       "      <th>in_house_nbr</th>\n",
       "      <th>lpost_house_nbr</th>\n",
       "      <th>lpost_unit</th>\n",
       "      <th>addr_out_postcode</th>\n",
       "      <th>addr_out_city</th>\n",
       "      <th>addr_out_country</th>\n",
       "    </tr>\n",
       "  </thead>\n",
       "  <tbody>\n",
       "    <tr>\n",
       "      <th>0</th>\n",
       "      <td>2762939</td>\n",
       "      <td>51.211615</td>\n",
       "      <td>4.649820</td>\n",
       "      <td>30.0</td>\n",
       "      <td>libpostal+regex[lpost]+photon</td>\n",
       "      <td>992278.0</td>\n",
       "      <td>Kriekenlaan</td>\n",
       "      <td>22</td>\n",
       "      <td>None</td>\n",
       "      <td>22</td>\n",
       "      <td></td>\n",
       "      <td>2240</td>\n",
       "      <td>Zandhoven</td>\n",
       "      <td>België / Belgique / Belgien</td>\n",
       "    </tr>\n",
       "    <tr>\n",
       "      <th>1</th>\n",
       "      <td>2253494</td>\n",
       "      <td>51.022370</td>\n",
       "      <td>2.860610</td>\n",
       "      <td>26.0</td>\n",
       "      <td>libpostal+regex[lpost]+photon</td>\n",
       "      <td>289768.0</td>\n",
       "      <td>Cardijnlaan</td>\n",
       "      <td>None</td>\n",
       "      <td>None</td>\n",
       "      <td></td>\n",
       "      <td></td>\n",
       "      <td>8600</td>\n",
       "      <td>Diksmuide</td>\n",
       "      <td>België / Belgique / Belgien</td>\n",
       "    </tr>\n",
       "    <tr>\n",
       "      <th>2</th>\n",
       "      <td>1764140</td>\n",
       "      <td>50.924678</td>\n",
       "      <td>3.788056</td>\n",
       "      <td>26.0</td>\n",
       "      <td>libpostal+regex[lpost]+photon</td>\n",
       "      <td>413714.0</td>\n",
       "      <td>Poststraat</td>\n",
       "      <td>None</td>\n",
       "      <td>None</td>\n",
       "      <td>19</td>\n",
       "      <td></td>\n",
       "      <td>9860</td>\n",
       "      <td>Balegem</td>\n",
       "      <td>België / Belgique / Belgien</td>\n",
       "    </tr>\n",
       "    <tr>\n",
       "      <th>3</th>\n",
       "      <td>87070</td>\n",
       "      <td>51.351599</td>\n",
       "      <td>3.286075</td>\n",
       "      <td>26.0</td>\n",
       "      <td>libpostal+regex[lpost]+photon</td>\n",
       "      <td>403430.0</td>\n",
       "      <td>Sylvain Dupuisstraat</td>\n",
       "      <td>None</td>\n",
       "      <td>None</td>\n",
       "      <td>26</td>\n",
       "      <td></td>\n",
       "      <td>8300</td>\n",
       "      <td>Knokke-Heist</td>\n",
       "      <td>België / Belgique / Belgien</td>\n",
       "    </tr>\n",
       "    <tr>\n",
       "      <th>4</th>\n",
       "      <td>2261339</td>\n",
       "      <td>50.977155</td>\n",
       "      <td>5.690444</td>\n",
       "      <td>26.0</td>\n",
       "      <td>libpostal+regex[lpost]+photon</td>\n",
       "      <td>387798.0</td>\n",
       "      <td>Oude Baan</td>\n",
       "      <td>None</td>\n",
       "      <td>None</td>\n",
       "      <td></td>\n",
       "      <td>m 338</td>\n",
       "      <td>3630</td>\n",
       "      <td>Maasmechelen</td>\n",
       "      <td>België / Belgique / Belgien</td>\n",
       "    </tr>\n",
       "    <tr>\n",
       "      <th>...</th>\n",
       "      <td>...</td>\n",
       "      <td>...</td>\n",
       "      <td>...</td>\n",
       "      <td>...</td>\n",
       "      <td>...</td>\n",
       "      <td>...</td>\n",
       "      <td>...</td>\n",
       "      <td>...</td>\n",
       "      <td>...</td>\n",
       "      <td>...</td>\n",
       "      <td>...</td>\n",
       "      <td>...</td>\n",
       "      <td>...</td>\n",
       "      <td>...</td>\n",
       "    </tr>\n",
       "    <tr>\n",
       "      <th>95</th>\n",
       "      <td>2720764</td>\n",
       "      <td>50.462361</td>\n",
       "      <td>4.596458</td>\n",
       "      <td>30.0</td>\n",
       "      <td>libpostal+regex[lpost]+photon</td>\n",
       "      <td>2624288.0</td>\n",
       "      <td>Rue du Wainage</td>\n",
       "      <td>62</td>\n",
       "      <td>None</td>\n",
       "      <td>62</td>\n",
       "      <td></td>\n",
       "      <td>5060</td>\n",
       "      <td>Sambreville</td>\n",
       "      <td>België / Belgique / Belgien</td>\n",
       "    </tr>\n",
       "    <tr>\n",
       "      <th>96</th>\n",
       "      <td>386196</td>\n",
       "      <td>50.648278</td>\n",
       "      <td>3.343255</td>\n",
       "      <td>26.0</td>\n",
       "      <td>libpostal+regex[lpost]+photon</td>\n",
       "      <td>307555.0</td>\n",
       "      <td>Chaussée de Tournai</td>\n",
       "      <td>None</td>\n",
       "      <td>None</td>\n",
       "      <td>4</td>\n",
       "      <td></td>\n",
       "      <td>7520</td>\n",
       "      <td>Ramegnies-Chin</td>\n",
       "      <td>België / Belgique / Belgien</td>\n",
       "    </tr>\n",
       "    <tr>\n",
       "      <th>97</th>\n",
       "      <td>1474962</td>\n",
       "      <td>50.479737</td>\n",
       "      <td>3.838976</td>\n",
       "      <td>26.0</td>\n",
       "      <td>libpostal+regex[lpost]+photon</td>\n",
       "      <td>418941.0</td>\n",
       "      <td>Rue Louis Caty</td>\n",
       "      <td>None</td>\n",
       "      <td>None</td>\n",
       "      <td>32</td>\n",
       "      <td></td>\n",
       "      <td>7331</td>\n",
       "      <td>Saint-Ghislain</td>\n",
       "      <td>België / Belgique / Belgien</td>\n",
       "    </tr>\n",
       "    <tr>\n",
       "      <th>98</th>\n",
       "      <td>2424889</td>\n",
       "      <td>50.606398</td>\n",
       "      <td>4.159495</td>\n",
       "      <td>26.0</td>\n",
       "      <td>libpostal+regex[lpost]+photon</td>\n",
       "      <td>313717.0</td>\n",
       "      <td>Drève des Bouleaux</td>\n",
       "      <td>None</td>\n",
       "      <td>None</td>\n",
       "      <td>5</td>\n",
       "      <td></td>\n",
       "      <td>7090</td>\n",
       "      <td>Braine-Le-Comte</td>\n",
       "      <td>België / Belgique / Belgien</td>\n",
       "    </tr>\n",
       "    <tr>\n",
       "      <th>99</th>\n",
       "      <td>2751621</td>\n",
       "      <td>50.491929</td>\n",
       "      <td>5.866972</td>\n",
       "      <td>30.0</td>\n",
       "      <td>libpostal+regex[lpost]+photon</td>\n",
       "      <td>1799803.0</td>\n",
       "      <td>Rue Rogier</td>\n",
       "      <td>1</td>\n",
       "      <td>None</td>\n",
       "      <td>1</td>\n",
       "      <td></td>\n",
       "      <td>4900</td>\n",
       "      <td>Spa</td>\n",
       "      <td>België / Belgique / Belgien</td>\n",
       "    </tr>\n",
       "  </tbody>\n",
       "</table>\n",
       "<p>1000 rows × 14 columns</p>\n",
       "</div>"
      ],
      "text/plain": [
       "   addr_key        lat       lon  place_rank                         method  \\\n",
       "0   2762939  51.211615  4.649820        30.0  libpostal+regex[lpost]+photon   \n",
       "1   2253494  51.022370  2.860610        26.0  libpostal+regex[lpost]+photon   \n",
       "2   1764140  50.924678  3.788056        26.0  libpostal+regex[lpost]+photon   \n",
       "3     87070  51.351599  3.286075        26.0  libpostal+regex[lpost]+photon   \n",
       "4   2261339  50.977155  5.690444        26.0  libpostal+regex[lpost]+photon   \n",
       "..      ...        ...       ...         ...                            ...   \n",
       "95  2720764  50.462361  4.596458        30.0  libpostal+regex[lpost]+photon   \n",
       "96   386196  50.648278  3.343255        26.0  libpostal+regex[lpost]+photon   \n",
       "97  1474962  50.479737  3.838976        26.0  libpostal+regex[lpost]+photon   \n",
       "98  2424889  50.606398  4.159495        26.0  libpostal+regex[lpost]+photon   \n",
       "99  2751621  50.491929  5.866972        30.0  libpostal+regex[lpost]+photon   \n",
       "\n",
       "     place_id       addr_out_street addr_out_number in_house_nbr  \\\n",
       "0    992278.0           Kriekenlaan              22         None   \n",
       "1    289768.0           Cardijnlaan            None         None   \n",
       "2    413714.0            Poststraat            None         None   \n",
       "3    403430.0  Sylvain Dupuisstraat            None         None   \n",
       "4    387798.0             Oude Baan            None         None   \n",
       "..        ...                   ...             ...          ...   \n",
       "95  2624288.0        Rue du Wainage              62         None   \n",
       "96   307555.0   Chaussée de Tournai            None         None   \n",
       "97   418941.0        Rue Louis Caty            None         None   \n",
       "98   313717.0    Drève des Bouleaux            None         None   \n",
       "99  1799803.0            Rue Rogier               1         None   \n",
       "\n",
       "   lpost_house_nbr lpost_unit addr_out_postcode    addr_out_city  \\\n",
       "0               22                         2240        Zandhoven   \n",
       "1                                          8600        Diksmuide   \n",
       "2               19                         9860          Balegem   \n",
       "3               26                         8300     Knokke-Heist   \n",
       "4                       m 338              3630     Maasmechelen   \n",
       "..             ...        ...               ...              ...   \n",
       "95              62                         5060      Sambreville   \n",
       "96               4                         7520   Ramegnies-Chin   \n",
       "97              32                         7331   Saint-Ghislain   \n",
       "98               5                         7090  Braine-Le-Comte   \n",
       "99               1                         4900              Spa   \n",
       "\n",
       "               addr_out_country  \n",
       "0   België / Belgique / Belgien  \n",
       "1   België / Belgique / Belgien  \n",
       "2   België / Belgique / Belgien  \n",
       "3   België / Belgique / Belgien  \n",
       "4   België / Belgique / Belgien  \n",
       "..                          ...  \n",
       "95  België / Belgique / Belgien  \n",
       "96  België / Belgique / Belgien  \n",
       "97  België / Belgique / Belgien  \n",
       "98  België / Belgique / Belgien  \n",
       "99  België / Belgique / Belgien  \n",
       "\n",
       "[1000 rows x 14 columns]"
      ]
     },
     "execution_count": 146,
     "metadata": {},
     "output_type": "execute_result"
    }
   ],
   "source": [
    "df_res = call_ws_batch_chunks(addresses, chunk_size=100, mode=\"short\", check_result=False)\n",
    "df_res"
   ]
  },
  {
   "cell_type": "code",
   "execution_count": 129,
   "metadata": {
    "ExecuteTime": {
     "end_time": "2022-02-08T08:32:48.879639Z",
     "start_time": "2022-02-08T08:32:48.838859Z"
    }
   },
   "outputs": [
    {
     "data": {
      "text/html": [
       "<div>\n",
       "<style scoped>\n",
       "    .dataframe tbody tr th:only-of-type {\n",
       "        vertical-align: middle;\n",
       "    }\n",
       "\n",
       "    .dataframe tbody tr th {\n",
       "        vertical-align: top;\n",
       "    }\n",
       "\n",
       "    .dataframe thead th {\n",
       "        text-align: right;\n",
       "    }\n",
       "</style>\n",
       "<table border=\"1\" class=\"dataframe\">\n",
       "  <thead>\n",
       "    <tr style=\"text-align: right;\">\n",
       "      <th></th>\n",
       "      <th>addr_key</th>\n",
       "      <th>country</th>\n",
       "      <th>postcode</th>\n",
       "      <th>city</th>\n",
       "      <th>street</th>\n",
       "      <th>housenumber</th>\n",
       "      <th>osm_addr_in</th>\n",
       "      <th>place_id</th>\n",
       "      <th>lat</th>\n",
       "      <th>lon</th>\n",
       "      <th>...</th>\n",
       "      <th>addr_out_city</th>\n",
       "      <th>addr_out_number</th>\n",
       "      <th>addr_out_country</th>\n",
       "      <th>addr_out_postcode</th>\n",
       "      <th>addr_out_other</th>\n",
       "      <th>retry_on_26</th>\n",
       "      <th>method</th>\n",
       "      <th>in_house_nbr</th>\n",
       "      <th>lpost_house_nbr</th>\n",
       "      <th>lpost_unit</th>\n",
       "    </tr>\n",
       "  </thead>\n",
       "  <tbody>\n",
       "    <tr>\n",
       "      <th>54</th>\n",
       "      <td>0413.300.172</td>\n",
       "      <td>Belgique</td>\n",
       "      <td>1040</td>\n",
       "      <td>Etterbeek</td>\n",
       "      <td>Rue Gray</td>\n",
       "      <td>96-102</td>\n",
       "      <td>Rue Gray, , 1040 Etterbeek, Belgique</td>\n",
       "      <td>993722.0</td>\n",
       "      <td>50.834601</td>\n",
       "      <td>4.379528</td>\n",
       "      <td>...</td>\n",
       "      <td>Etterbeek</td>\n",
       "      <td>None</td>\n",
       "      <td>België / Belgique / Belgien</td>\n",
       "      <td>1040</td>\n",
       "      <td>Région de Bruxelles-Capitale - Brussels Hoofds...</td>\n",
       "      <td>None</td>\n",
       "      <td>nonum</td>\n",
       "      <td>96-102</td>\n",
       "      <td>96-102</td>\n",
       "      <td></td>\n",
       "    </tr>\n",
       "    <tr>\n",
       "      <th>26</th>\n",
       "      <td>2.268.632.238</td>\n",
       "      <td>Belgique</td>\n",
       "      <td>1490</td>\n",
       "      <td>Court-Saint-Etienne</td>\n",
       "      <td>Rue de Limauge</td>\n",
       "      <td>27B</td>\n",
       "      <td>Rue de Limauge, , 1490 Court-Saint-Etienne, Be...</td>\n",
       "      <td>1227319.0</td>\n",
       "      <td>50.652189</td>\n",
       "      <td>4.531798</td>\n",
       "      <td>...</td>\n",
       "      <td>Court-Saint-Étienne</td>\n",
       "      <td>None</td>\n",
       "      <td>België / Belgique / Belgien</td>\n",
       "      <td>1341</td>\n",
       "      <td>Wallonie</td>\n",
       "      <td>None</td>\n",
       "      <td>nonum</td>\n",
       "      <td>27B</td>\n",
       "      <td>27b</td>\n",
       "      <td></td>\n",
       "    </tr>\n",
       "    <tr>\n",
       "      <th>19</th>\n",
       "      <td>0873.101.156</td>\n",
       "      <td>Belgique</td>\n",
       "      <td>2870</td>\n",
       "      <td>Puurs</td>\n",
       "      <td>Stationsstraat</td>\n",
       "      <td>10EA</td>\n",
       "      <td>Stationsstraat, , 2870 Puurs, Belgique</td>\n",
       "      <td>275030.0</td>\n",
       "      <td>51.077196</td>\n",
       "      <td>4.281867</td>\n",
       "      <td>...</td>\n",
       "      <td>Puurs-Sint-Amands</td>\n",
       "      <td>None</td>\n",
       "      <td>België / Belgique / Belgien</td>\n",
       "      <td>2870</td>\n",
       "      <td>Vlaanderen</td>\n",
       "      <td>None</td>\n",
       "      <td>nonum</td>\n",
       "      <td>10EA</td>\n",
       "      <td>10ea</td>\n",
       "      <td></td>\n",
       "    </tr>\n",
       "    <tr>\n",
       "      <th>88</th>\n",
       "      <td>0418.246.380</td>\n",
       "      <td>Belgique</td>\n",
       "      <td>6040</td>\n",
       "      <td>Charleroi</td>\n",
       "      <td>Allée Verte</td>\n",
       "      <td>SN</td>\n",
       "      <td>Allée Verte, , 6040 Charleroi, Belgique</td>\n",
       "      <td>438902.0</td>\n",
       "      <td>50.430774</td>\n",
       "      <td>4.413761</td>\n",
       "      <td>...</td>\n",
       "      <td>Jumet</td>\n",
       "      <td>None</td>\n",
       "      <td>België / Belgique / Belgien</td>\n",
       "      <td>6040</td>\n",
       "      <td>Wallonie</td>\n",
       "      <td>None</td>\n",
       "      <td>nonum</td>\n",
       "      <td>SN</td>\n",
       "      <td>sn</td>\n",
       "      <td></td>\n",
       "    </tr>\n",
       "    <tr>\n",
       "      <th>37</th>\n",
       "      <td>2.225.645.204</td>\n",
       "      <td>Belgique</td>\n",
       "      <td>7050</td>\n",
       "      <td>Jurbise</td>\n",
       "      <td>Chemin des Vachers(EL)</td>\n",
       "      <td>8</td>\n",
       "      <td>Chemin des Vachers(EL), , 7050 Jurbise, Belgique</td>\n",
       "      <td>533291.0</td>\n",
       "      <td>50.511001</td>\n",
       "      <td>3.921121</td>\n",
       "      <td>...</td>\n",
       "      <td>Jurbise</td>\n",
       "      <td>None</td>\n",
       "      <td>België / Belgique / Belgien</td>\n",
       "      <td>7050</td>\n",
       "      <td>Jurbise - Wallonie</td>\n",
       "      <td>None</td>\n",
       "      <td>nonum</td>\n",
       "      <td>8</td>\n",
       "      <td>8</td>\n",
       "      <td></td>\n",
       "    </tr>\n",
       "    <tr>\n",
       "      <th>17</th>\n",
       "      <td>0713.751.734</td>\n",
       "      <td>Belgique</td>\n",
       "      <td>9820</td>\n",
       "      <td>Merelbeke</td>\n",
       "      <td>Guldensporenpark</td>\n",
       "      <td>2 Gebouw A</td>\n",
       "      <td>Guldensporenpark, , 9820 Merelbeke, Belgique</td>\n",
       "      <td>764489.0</td>\n",
       "      <td>51.004196</td>\n",
       "      <td>3.754740</td>\n",
       "      <td>...</td>\n",
       "      <td>Merelbeke</td>\n",
       "      <td>None</td>\n",
       "      <td>België / Belgique / Belgien</td>\n",
       "      <td>9820</td>\n",
       "      <td>Vlaanderen</td>\n",
       "      <td>None</td>\n",
       "      <td>nonum</td>\n",
       "      <td>2 Gebouw A</td>\n",
       "      <td>2</td>\n",
       "      <td></td>\n",
       "    </tr>\n",
       "  </tbody>\n",
       "</table>\n",
       "<p>6 rows × 31 columns</p>\n",
       "</div>"
      ],
      "text/plain": [
       "         addr_key   country postcode                 city  \\\n",
       "54   0413.300.172  Belgique     1040            Etterbeek   \n",
       "26  2.268.632.238  Belgique     1490  Court-Saint-Etienne   \n",
       "19   0873.101.156  Belgique     2870                Puurs   \n",
       "88   0418.246.380  Belgique     6040            Charleroi   \n",
       "37  2.225.645.204  Belgique     7050              Jurbise   \n",
       "17   0713.751.734  Belgique     9820            Merelbeke   \n",
       "\n",
       "                    street housenumber  \\\n",
       "54                Rue Gray      96-102   \n",
       "26          Rue de Limauge         27B   \n",
       "19          Stationsstraat        10EA   \n",
       "88             Allée Verte          SN   \n",
       "37  Chemin des Vachers(EL)           8   \n",
       "17        Guldensporenpark  2 Gebouw A   \n",
       "\n",
       "                                          osm_addr_in   place_id        lat  \\\n",
       "54               Rue Gray, , 1040 Etterbeek, Belgique   993722.0  50.834601   \n",
       "26  Rue de Limauge, , 1490 Court-Saint-Etienne, Be...  1227319.0  50.652189   \n",
       "19             Stationsstraat, , 2870 Puurs, Belgique   275030.0  51.077196   \n",
       "88            Allée Verte, , 6040 Charleroi, Belgique   438902.0  50.430774   \n",
       "37   Chemin des Vachers(EL), , 7050 Jurbise, Belgique   533291.0  50.511001   \n",
       "17       Guldensporenpark, , 9820 Merelbeke, Belgique   764489.0  51.004196   \n",
       "\n",
       "         lon  ...        addr_out_city addr_out_number  \\\n",
       "54  4.379528  ...            Etterbeek            None   \n",
       "26  4.531798  ...  Court-Saint-Étienne            None   \n",
       "19  4.281867  ...    Puurs-Sint-Amands            None   \n",
       "88  4.413761  ...                Jumet            None   \n",
       "37  3.921121  ...              Jurbise            None   \n",
       "17  3.754740  ...            Merelbeke            None   \n",
       "\n",
       "               addr_out_country addr_out_postcode  \\\n",
       "54  België / Belgique / Belgien              1040   \n",
       "26  België / Belgique / Belgien              1341   \n",
       "19  België / Belgique / Belgien              2870   \n",
       "88  België / Belgique / Belgien              6040   \n",
       "37  België / Belgique / Belgien              7050   \n",
       "17  België / Belgique / Belgien              9820   \n",
       "\n",
       "                                       addr_out_other retry_on_26  method  \\\n",
       "54  Région de Bruxelles-Capitale - Brussels Hoofds...        None   nonum   \n",
       "26                                           Wallonie        None   nonum   \n",
       "19                                         Vlaanderen        None   nonum   \n",
       "88                                           Wallonie        None   nonum   \n",
       "37                                 Jurbise - Wallonie        None   nonum   \n",
       "17                                         Vlaanderen        None   nonum   \n",
       "\n",
       "    in_house_nbr  lpost_house_nbr  lpost_unit  \n",
       "54        96-102           96-102              \n",
       "26           27B              27b              \n",
       "19          10EA             10ea              \n",
       "88            SN               sn              \n",
       "37             8                8              \n",
       "17    2 Gebouw A                2              \n",
       "\n",
       "[6 rows x 31 columns]"
      ]
     },
     "execution_count": 129,
     "metadata": {},
     "output_type": "execute_result"
    }
   ],
   "source": [
    "df_res[df_res.method==\"nonum\"].sort_values(\"postcode\")\n"
   ]
  },
  {
   "cell_type": "code",
   "execution_count": null,
   "metadata": {
    "ExecuteTime": {
     "end_time": "2022-02-07T15:22:38.711742Z",
     "start_time": "2022-02-07T15:22:38.653408Z"
    },
    "scrolled": true
   },
   "outputs": [],
   "source": [
    "df_res[df_res.in_house_nbr.str.upper() != df_res.lpost_house_nbr.str.upper()]"
   ]
  },
  {
   "cell_type": "code",
   "execution_count": null,
   "metadata": {
    "ExecuteTime": {
     "end_time": "2022-02-07T15:26:45.597331Z",
     "start_time": "2022-02-07T15:26:45.589408Z"
    }
   },
   "outputs": [],
   "source": [
    "# df_res[df_res.addr_out_number.str.upper() != df_res.lpost_house_nbr.str.upper()]"
   ]
  },
  {
   "cell_type": "code",
   "execution_count": null,
   "metadata": {
    "ExecuteTime": {
     "end_time": "2022-02-07T15:26:55.720764Z",
     "start_time": "2022-02-07T15:26:55.707118Z"
    }
   },
   "outputs": [],
   "source": [
    "df_res.method.value_counts()"
   ]
  },
  {
   "cell_type": "markdown",
   "metadata": {},
   "source": [
    "## Comparing options"
   ]
  },
  {
   "cell_type": "code",
   "execution_count": null,
   "metadata": {
    "ExecuteTime": {
     "end_time": "2021-06-17T12:03:05.162160Z",
     "start_time": "2021-06-17T12:02:57.219437Z"
    }
   },
   "outputs": [],
   "source": [
    "addresses = get_addresses(\"address.csv.gz\")\n",
    "addresses = addresses[addresses[country_field] == \"Belgique\"]\n",
    "addresses = addresses.sample(10000).copy()"
   ]
  },
  {
   "cell_type": "code",
   "execution_count": null,
   "metadata": {
    "ExecuteTime": {
     "end_time": "2021-06-17T13:36:34.740473Z",
     "start_time": "2021-06-17T12:03:16.803891Z"
    },
    "scrolled": true
   },
   "outputs": [],
   "source": [
    "results = {}\n",
    "it_per_seconds=pd.DataFrame()\n",
    "\n",
    "for check_label in [\"check\", \"nocheck\"]:\n",
    "    for struct_label in [\"struct\", \"unstruct\" ]:\n",
    "        print(check_label, struct_label)\n",
    "        start=datetime.now()\n",
    "        \n",
    "        results[(check_label, struct_label)] = call_ws_batch_chunks(addresses, \n",
    "                                                                    mode=\"short\", \n",
    "                                                                    check_result   =  check_label == \"check\", \n",
    "                                                                    structured_osm =  struct_label == \"struct\")\n",
    "        \n",
    "        it_per_seconds.loc[check_label, struct_label] = addresses.shape[0] / (datetime.now()-start).total_seconds()\n",
    "print(\"Iterations per seconds:\")\n",
    "it_per_seconds"
   ]
  },
  {
   "cell_type": "code",
   "execution_count": null,
   "metadata": {
    "ExecuteTime": {
     "end_time": "2021-06-17T13:37:26.026243Z",
     "start_time": "2021-06-17T13:37:26.006959Z"
    }
   },
   "outputs": [],
   "source": [
    "print(\"Match rate\")\n",
    "pd.DataFrame({k1: {k2: results[(k1,k2)].shape[0]/addresses.shape[0] for k2 in [\"struct\", \"unstruct\"]} \n",
    "                  for k1 in  [\"check\",\"nocheck\"]})"
   ]
  },
  {
   "cell_type": "code",
   "execution_count": null,
   "metadata": {
    "ExecuteTime": {
     "end_time": "2021-06-17T13:37:36.864209Z",
     "start_time": "2021-06-17T13:37:36.760314Z"
    }
   },
   "outputs": [],
   "source": [
    "print(\"Match rate (without nostreet)\")\n",
    "pd.DataFrame({k1: {k2: results[(k1,k2)].query(\"method!='nostreet'\").shape[0]/addresses.shape[0] for k2 in [\"struct\", \"unstruct\"]} \n",
    "                  for k1 in  [\"check\",\"nocheck\"]})"
   ]
  },
  {
   "cell_type": "code",
   "execution_count": null,
   "metadata": {
    "ExecuteTime": {
     "end_time": "2021-06-17T13:37:44.762541Z",
     "start_time": "2021-06-17T13:37:44.687047Z"
    }
   },
   "outputs": [],
   "source": [
    "print(\"Unmatched addresses\")\n",
    "for k1 in results:\n",
    "    print(k1)\n",
    "    nomatch=addresses[~addresses[addr_key_field].isin(results[k1][\"addr_key\"])]\n",
    "    display(nomatch)\n",
    "    print(nomatch[country_field].value_counts())"
   ]
  },
  {
   "cell_type": "code",
   "execution_count": null,
   "metadata": {
    "ExecuteTime": {
     "end_time": "2021-06-17T13:37:55.438762Z",
     "start_time": "2021-06-17T13:37:53.973554Z"
    },
    "scrolled": true
   },
   "outputs": [],
   "source": [
    "vc_values = pd.DataFrame(columns=results.keys(), index=results.keys())\n",
    "\n",
    "for k1 in results:\n",
    "    vc_values.loc[k1, k1] = results[k1].shape[0]\n",
    "    for k2 in results:\n",
    "        if k1>k2:\n",
    "            r1=results[k1]\n",
    "            r2=results[k2]\n",
    "            mg = r1[[\"addr_key\", \"place_id\"]].merge(r2[[\"addr_key\", \"place_id\"]], on=\"addr_key\", how=\"outer\", indicator=True)\n",
    " \n",
    "            vc = mg._merge.value_counts()\n",
    "\n",
    "            mismatches = mg[mg.place_id_x != mg.place_id_y][[\"addr_key\"]]\n",
    "            mismatches = mismatches.merge(addresses.rename({addr_key_field:\"addr_key\"}, axis=1))\n",
    "            mismatches = mismatches.merge(r1[[\"addr_key\", \"addr_out_street\", \"addr_out_number\", \"extra_house_nbr\", \"addr_out_postcode\", \"addr_out_city\"]], on=\"addr_key\")\n",
    "            mismatches = mismatches.merge(r2[[\"addr_key\", \"addr_out_street\", \"addr_out_number\", \"extra_house_nbr\", \"addr_out_postcode\", \"addr_out_city\"]], on=\"addr_key\")\n",
    "            mismatches.columns = pd.MultiIndex.from_arrays([[\"Input\"]*6 + [f\"x:{k1}\"]*5 + [f\"y:{k2}\"]*5, mismatches.columns])\n",
    "\n",
    "            mismatch_values = mismatches[(mismatches[f\"x:{k1}\"].rename(lambda x: x.replace(\"_x\", \"\"), axis=1).fillna(\"\") != \n",
    "                                          mismatches[f\"y:{k2}\"].rename(lambda x: x.replace(\"_y\", \"\"), axis=1).fillna(\"\")).any(axis=1)]\n",
    "            \n",
    "            mismatch_values_no_nmbr = mismatches[(mismatches[f\"x:{k1}\"].rename(lambda x: x.replace(\"_x\", \"\"), axis=1).drop(\"addr_out_number\", axis=1).fillna(\"\") != \n",
    "                                                  mismatches[f\"y:{k2}\"].rename(lambda x: x.replace(\"_y\", \"\"), axis=1).drop(\"addr_out_number\", axis=1).fillna(\"\")).any(axis=1)]\n",
    "            \n",
    "            \n",
    "            vc_label = f\"{vc['both']} ({mismatches.shape[0]} - {mismatch_values.shape[0]} - {mismatch_values_no_nmbr.shape[0]}) / {vc['left_only']} / {vc['right_only']}\"\n",
    "            vc_values.loc[k1, k2]=vc_label\n",
    "\n",
    "                \n",
    "            print(f\"{k1} vs {k2}\")\n",
    "            print(vc_label)\n",
    "            print(\"-----------------------------\")\n",
    "            \n",
    "            print(f\"Only in {k1}\")\n",
    "            display(r1[r1.addr_key.isin(mg[mg._merge==\"left_only\"].addr_key)].merge(addresses.rename({addr_key_field:\"addr_key\"}, axis=1)))\n",
    "            \n",
    "            print(f\"Only in {k2}\")\n",
    "            display(r2[r2.addr_key.isin(mg[mg._merge==\"right_only\"].addr_key)].merge(addresses.rename({addr_key_field:\"addr_key\"}, axis=1)))\n",
    "            \n",
    "            print(\"Mismatch on place_id\")\n",
    "            display(mismatches)\n",
    "            \n",
    "            print(\"Mismatch on values\")\n",
    "            \n",
    "            display(mismatch_values)\n",
    "            \n",
    "            print(\"Mismatch on values (no nbr)\")\n",
    "            display(mismatch_values_no_nmbr)\n",
    "            \n",
    "            print(\"#######################\")\n",
    "            \n",
    "# display(vc_values.fillna(\"\"))"
   ]
  },
  {
   "cell_type": "code",
   "execution_count": null,
   "metadata": {
    "ExecuteTime": {
     "end_time": "2021-06-17T13:37:59.656028Z",
     "start_time": "2021-06-17T13:37:59.626031Z"
    }
   },
   "outputs": [],
   "source": [
    "print(\"Common in both (disagree on place_id - disagree on values - disagree on values, ignoring number) / results only for row / results only for columns\")\n",
    "vc_values.fillna(\"\")"
   ]
  },
  {
   "cell_type": "code",
   "execution_count": null,
   "metadata": {},
   "outputs": [],
   "source": []
  }
 ],
 "metadata": {
  "kernelspec": {
   "display_name": "Python 3",
   "language": "python",
   "name": "python3"
  },
  "language_info": {
   "codemirror_mode": {
    "name": "ipython",
    "version": 3
   },
   "file_extension": ".py",
   "mimetype": "text/x-python",
   "name": "python",
   "nbconvert_exporter": "python",
   "pygments_lexer": "ipython3",
   "version": "3.8.10"
  },
  "toc": {
   "base_numbering": 1,
   "nav_menu": {},
   "number_sections": true,
   "sideBar": true,
   "skip_h1_title": false,
   "title_cell": "Table of Contents",
   "title_sidebar": "Contents",
   "toc_cell": false,
   "toc_position": {
    "height": "calc(100% - 180px)",
    "left": "10px",
    "top": "150px",
    "width": "304px"
   },
   "toc_section_display": true,
   "toc_window_display": true
  },
  "varInspector": {
   "cols": {
    "lenName": 16,
    "lenType": 16,
    "lenVar": 40
   },
   "kernels_config": {
    "python": {
     "delete_cmd_postfix": "",
     "delete_cmd_prefix": "del ",
     "library": "var_list.py",
     "varRefreshCmd": "print(var_dic_list())"
    },
    "r": {
     "delete_cmd_postfix": ") ",
     "delete_cmd_prefix": "rm(",
     "library": "var_list.r",
     "varRefreshCmd": "cat(var_dic_list()) "
    }
   },
   "types_to_exclude": [
    "module",
    "function",
    "builtin_function_or_method",
    "instance",
    "_Feature"
   ],
   "window_display": false
  }
 },
 "nbformat": 4,
 "nbformat_minor": 2
}
