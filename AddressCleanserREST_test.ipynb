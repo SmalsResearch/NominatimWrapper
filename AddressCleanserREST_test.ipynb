{
 "cells": [
  {
   "cell_type": "code",
   "execution_count": 1,
   "metadata": {
    "ExecuteTime": {
     "end_time": "2022-12-15T10:39:14.439271Z",
     "start_time": "2022-12-15T10:39:13.115085Z"
    }
   },
   "outputs": [
    {
     "name": "stderr",
     "output_type": "stream",
     "text": [
      "/tmp/ipykernel_177493/3514129619.py:8: TqdmExperimentalWarning: Using `tqdm.autonotebook.tqdm` in notebook mode. Use `tqdm.tqdm` instead to force console mode (e.g. in jupyter console)\n",
      "  from tqdm.autonotebook import tqdm\n"
     ]
    }
   ],
   "source": [
    "import pandas as pd\n",
    "import urllib\n",
    "\n",
    "import numpy as np\n",
    "\n",
    "import json\n",
    "\n",
    "from tqdm.autonotebook import tqdm\n",
    "\n",
    "#%matplotlib inline\n",
    "\n",
    "tqdm.pandas()\n",
    "\n",
    "import dask.dataframe as dd\n",
    "\n",
    "from dask.multiprocessing import get\n",
    "from dask.diagnostics import ProgressBar\n",
    "\n",
    "from datetime import datetime\n",
    "import matplotlib.pyplot as plt\n",
    "\n",
    "from IPython.display import display\n"
   ]
  },
  {
   "cell_type": "code",
   "execution_count": 2,
   "metadata": {
    "ExecuteTime": {
     "end_time": "2022-12-15T10:39:16.844111Z",
     "start_time": "2022-12-15T10:39:16.753119Z"
    }
   },
   "outputs": [],
   "source": [
    "import urllib3"
   ]
  },
  {
   "cell_type": "code",
   "execution_count": 3,
   "metadata": {
    "ExecuteTime": {
     "end_time": "2022-12-15T10:39:17.043143Z",
     "start_time": "2022-12-15T10:39:17.040575Z"
    }
   },
   "outputs": [],
   "source": [
    "http = urllib3.PoolManager()"
   ]
  },
  {
   "cell_type": "code",
   "execution_count": 5,
   "metadata": {
    "ExecuteTime": {
     "end_time": "2022-12-15T10:39:30.246539Z",
     "start_time": "2022-12-15T10:39:30.242328Z"
    }
   },
   "outputs": [],
   "source": [
    "from config_batch import * "
   ]
  },
  {
   "cell_type": "markdown",
   "metadata": {
    "ExecuteTime": {
     "end_time": "2020-05-06T13:50:43.162875Z",
     "start_time": "2020-05-06T13:50:43.151794Z"
    }
   },
   "source": [
    "# Functions"
   ]
  },
  {
   "cell_type": "code",
   "execution_count": 6,
   "metadata": {
    "ExecuteTime": {
     "end_time": "2022-12-15T10:39:31.588365Z",
     "start_time": "2022-12-15T10:39:31.585736Z"
    }
   },
   "outputs": [],
   "source": [
    "ws_hostname = \"127.0.1.1\"\n",
    "ws_hostname = \"172.27.0.64\"\n",
    "\n",
    "# ws_hostname = \"192.168.1.3\"\n"
   ]
  },
  {
   "cell_type": "code",
   "execution_count": 7,
   "metadata": {
    "ExecuteTime": {
     "end_time": "2022-12-15T10:39:31.902822Z",
     "start_time": "2022-12-15T10:39:31.897804Z"
    }
   },
   "outputs": [],
   "source": [
    "def call_ws(addr_data, check_result=True, structured_osm=False): #lg = \"en,fr,nl\"\n",
    "    t = datetime.now()\n",
    "    \n",
    "    params = urllib.parse.urlencode({\"street\": addr_data[street_field],\n",
    "                                     \"housenumber\": addr_data[housenbr_field],\n",
    "                                     \"city\": addr_data[city_field],\n",
    "                                     \"postcode\": addr_data[postcode_field],\n",
    "                                     \"country\": addr_data[country_field],\n",
    "                                     \"check_result\" : \"yes\" if check_result else \"no\",\n",
    "                                     \"struct_osm\" : \"yes\" if structured_osm else \"no\"\n",
    "                                    })\n",
    "    url = f\"http://{ws_hostname}:5000/search/?{params}\"\n",
    "    \n",
    "#     print(url)\n",
    "    try:\n",
    "        with urllib.request.urlopen(url) as response:\n",
    "            res = response.read()\n",
    "            res = json.loads(res)\n",
    "#             print(res)\n",
    "            res[\"time\"] = (datetime.now() - t).total_seconds()\n",
    "            return res\n",
    "    except Exception as e:\n",
    "        return str(e)\n",
    "    "
   ]
  },
  {
   "cell_type": "code",
   "execution_count": 9,
   "metadata": {
    "ExecuteTime": {
     "end_time": "2022-12-15T10:39:32.389386Z",
     "start_time": "2022-12-15T10:39:32.383942Z"
    }
   },
   "outputs": [],
   "source": [
    "def call_ws_batch(addr_data, mode=\"geo\", with_reject=False, check_result=True, structured_osm=False): #lg = \"en,fr,nl\"\n",
    "#     print(addr_data)\n",
    "#     print(addr_data.shape)\n",
    "#     print()\n",
    "    file_data = addr_data.rename(columns = {\n",
    "        street_field : \"street\",\n",
    "        housenbr_field: \"housenumber\",\n",
    "        postcode_field: \"postcode\",\n",
    "        city_field: \"city\",\n",
    "        country_field: \"country\",\n",
    "        addr_key_field : \"addr_key\"\n",
    "    }).to_csv(index=False)\n",
    "    \n",
    "    r = http.request(\n",
    "    'POST',\n",
    "    f'http://{ws_hostname}:5000/batch',\n",
    "    fields= { \n",
    "        'media': ('addresses.csv', file_data),\n",
    "        'mode': mode,\n",
    "        \"with_rejected\" : \"yes\" if with_reject else \"no\",\n",
    "        \"check_result\" : \"yes\" if check_result else \"no\",\n",
    "        \"struct_osm\" : \"yes\" if structured_osm else \"no\",\n",
    "        #\"extra_house_nbr\": \"no\"\n",
    "    })\n",
    "    \n",
    "    try:\n",
    "        res = pd.DataFrame(json.loads(r.data.decode('utf-8')))\n",
    "    except ValueError:\n",
    "        print(\"Cannot decode result:\")\n",
    "        print(r.data.decode('utf-8'))\n",
    "        print(json.loads(r.data.decode('utf-8')))\n",
    "        return \n",
    "#     display(res)\n",
    "    return res"
   ]
  },
  {
   "cell_type": "code",
   "execution_count": 62,
   "metadata": {
    "ExecuteTime": {
     "end_time": "2022-12-15T11:50:30.821834Z",
     "start_time": "2022-12-15T11:50:30.815560Z"
    }
   },
   "outputs": [],
   "source": [
    "def expand_json(addresses):\n",
    "    addresses[\"status\"]= addresses.json.apply(lambda d: \"error\" if \"error\" in d else \"match\" if \"match\" in d else \"rejected\")\n",
    "    addresses[\"time\"]  = addresses.json.apply(lambda d: d[\"time\"])\n",
    "\n",
    "    addresses[\"timing\"]  = addresses.json.apply(lambda d: d[\"timing\"] if \"timing\" in d else {})\n",
    "\n",
    "    addresses[\"method\"]= addresses.json.apply(lambda d: d[\"match\"][0][\"method\"] if len(d)>0 and \"match\" in d else \"none\")\n",
    "    \n",
    "    for field in [\"street\", \"number\", \"postcode\", \"city\"]:\n",
    "        addresses[\"addr_out_\"+field]= addresses.json.apply(lambda d: d[\"match\"][0][\"addr_out_\"+field] if len(d)>0 and \"match\" in d else \"\")\n",
    "    return "
   ]
  },
  {
   "cell_type": "markdown",
   "metadata": {},
   "source": [
    "# Calls"
   ]
  },
  {
   "cell_type": "markdown",
   "metadata": {
    "ExecuteTime": {
     "end_time": "2020-09-30T09:57:35.286293Z",
     "start_time": "2020-09-30T09:57:35.281457Z"
    }
   },
   "source": [
    "## Single address calls"
   ]
  },
  {
   "cell_type": "code",
   "execution_count": 337,
   "metadata": {
    "ExecuteTime": {
     "end_time": "2022-12-15T15:08:40.513876Z",
     "start_time": "2022-12-15T15:08:40.465434Z"
    },
    "scrolled": true
   },
   "outputs": [
    {
     "data": {
      "text/plain": [
       "{'match': [{'addr_out_city': 'Saint-Gilles - Sint-Gillis',\n",
       "   'addr_out_country': 'België / Belgique / Belgien',\n",
       "   'addr_out_number': '20',\n",
       "   'addr_out_postcode': '1060',\n",
       "   'addr_out_street': 'Avenue Fonsny - Fonsnylaan',\n",
       "   'display_name': '20, Avenue Fonsny - Fonsnylaan, Saint-Gilles - Sint-Gillis, Brussel-Hoofdstad - Bruxelles-Capitale, Région de Bruxelles-Capitale - Brussels Hoofdstedelijk Gewest, 1060, België / Belgique / Belgien',\n",
       "   'in_house_nbr': '20',\n",
       "   'lat': '50.8358677',\n",
       "   'lon': '4.3385087',\n",
       "   'lpost_house_nbr': '20',\n",
       "   'lpost_unit': '',\n",
       "   'method': 'fast',\n",
       "   'osm_addr_in': 'Av. Fonsny, 20, 1060 Saint-Gilles, Belgium',\n",
       "   'place_id': 182128,\n",
       "   'place_rank': 30}],\n",
       " 'reject': [{'addr_out_city': 'Saint-Gilles - Sint-Gillis',\n",
       "   'addr_out_country': 'België / Belgique / Belgien',\n",
       "   'addr_out_number': '20',\n",
       "   'addr_out_postcode': '1060',\n",
       "   'addr_out_street': 'Avenue Fonsny - Fonsnylaan',\n",
       "   'display_name': 'DAE (Smals), 20, Avenue Fonsny - Fonsnylaan, Saint-Gilles - Sint-Gillis, Brussel-Hoofdstad - Bruxelles-Capitale, Région de Bruxelles-Capitale - Brussels Hoofdstedelijk Gewest, 1060, België / Belgique / Belgien',\n",
       "   'lat': '50.8358216',\n",
       "   'lon': '4.3386884',\n",
       "   'method': 'fast',\n",
       "   'place_id': 178958,\n",
       "   'place_rank': 30,\n",
       "   'reject_reason': 'tail'}],\n",
       " 'timing': {'fast': 37.665, 'fast > osm': 31.775, 'global': 38.1},\n",
       " 'time': 0.042532}"
      ]
     },
     "execution_count": 337,
     "metadata": {},
     "output_type": "execute_result"
    }
   ],
   "source": [
    "res=call_ws({street_field:   \"Av. Fonsny\", \\\n",
    "         housenbr_field: \"20\",\\\n",
    "         city_field:     \"Saint-Gilles\",\\\n",
    "         postcode_field: \"1060\",\\\n",
    "         country_field:  \"Belgium\"}, check_result=False, structured_osm=False)\n",
    "res"
   ]
  },
  {
   "cell_type": "markdown",
   "metadata": {},
   "source": [
    "## Batch calls (row by row)"
   ]
  },
  {
   "cell_type": "code",
   "execution_count": 363,
   "metadata": {
    "ExecuteTime": {
     "end_time": "2022-12-15T16:00:12.788609Z",
     "start_time": "2022-12-15T16:00:12.760446Z"
    }
   },
   "outputs": [
    {
     "data": {
      "text/html": [
       "<div>\n",
       "<style scoped>\n",
       "    .dataframe tbody tr th:only-of-type {\n",
       "        vertical-align: middle;\n",
       "    }\n",
       "\n",
       "    .dataframe tbody tr th {\n",
       "        vertical-align: top;\n",
       "    }\n",
       "\n",
       "    .dataframe thead th {\n",
       "        text-align: right;\n",
       "    }\n",
       "</style>\n",
       "<table border=\"1\" class=\"dataframe\">\n",
       "  <thead>\n",
       "    <tr style=\"text-align: right;\">\n",
       "      <th></th>\n",
       "      <th>addr_key</th>\n",
       "      <th>CountryFR</th>\n",
       "      <th>postcode</th>\n",
       "      <th>city</th>\n",
       "      <th>street</th>\n",
       "      <th>housenumber</th>\n",
       "    </tr>\n",
       "  </thead>\n",
       "  <tbody>\n",
       "    <tr>\n",
       "      <th>0</th>\n",
       "      <td>2762939</td>\n",
       "      <td>Belgique</td>\n",
       "      <td>2240</td>\n",
       "      <td>Zandhoven</td>\n",
       "      <td>Kriekenlaan</td>\n",
       "      <td>22</td>\n",
       "    </tr>\n",
       "    <tr>\n",
       "      <th>1</th>\n",
       "      <td>2253494</td>\n",
       "      <td>Belgique</td>\n",
       "      <td>8600</td>\n",
       "      <td>Diksmuide</td>\n",
       "      <td>Cardijnlaan(D)</td>\n",
       "      <td>*</td>\n",
       "    </tr>\n",
       "    <tr>\n",
       "      <th>2</th>\n",
       "      <td>1764140</td>\n",
       "      <td>Belgique</td>\n",
       "      <td>9860</td>\n",
       "      <td>Oosterzele</td>\n",
       "      <td>Poststraat</td>\n",
       "      <td>19</td>\n",
       "    </tr>\n",
       "    <tr>\n",
       "      <th>3</th>\n",
       "      <td>87070</td>\n",
       "      <td>Belgique</td>\n",
       "      <td>8300</td>\n",
       "      <td>Knokke-Heist</td>\n",
       "      <td>Sylvain Dupuisstraat</td>\n",
       "      <td>26</td>\n",
       "    </tr>\n",
       "    <tr>\n",
       "      <th>4</th>\n",
       "      <td>2261339</td>\n",
       "      <td>Belgique</td>\n",
       "      <td>3630</td>\n",
       "      <td>Maasmechelen</td>\n",
       "      <td>Oude Baan(M)</td>\n",
       "      <td>338</td>\n",
       "    </tr>\n",
       "    <tr>\n",
       "      <th>...</th>\n",
       "      <td>...</td>\n",
       "      <td>...</td>\n",
       "      <td>...</td>\n",
       "      <td>...</td>\n",
       "      <td>...</td>\n",
       "      <td>...</td>\n",
       "    </tr>\n",
       "    <tr>\n",
       "      <th>995</th>\n",
       "      <td>2720764</td>\n",
       "      <td>Belgique</td>\n",
       "      <td>5060</td>\n",
       "      <td>Sambreville</td>\n",
       "      <td>Rue du Wainage(VEL)</td>\n",
       "      <td>62</td>\n",
       "    </tr>\n",
       "    <tr>\n",
       "      <th>996</th>\n",
       "      <td>386196</td>\n",
       "      <td>Belgique</td>\n",
       "      <td>7520</td>\n",
       "      <td>Tournai</td>\n",
       "      <td>Chaussée de Tournai(R-C)</td>\n",
       "      <td>4</td>\n",
       "    </tr>\n",
       "    <tr>\n",
       "      <th>997</th>\n",
       "      <td>1474962</td>\n",
       "      <td>Belgique</td>\n",
       "      <td>7331</td>\n",
       "      <td>Saint-Ghislain</td>\n",
       "      <td>Rue Louis Caty(B)</td>\n",
       "      <td>32</td>\n",
       "    </tr>\n",
       "    <tr>\n",
       "      <th>998</th>\n",
       "      <td>2424889</td>\n",
       "      <td>Belgique</td>\n",
       "      <td>7090</td>\n",
       "      <td>Braine-le-Comte</td>\n",
       "      <td>Drève des Bouleaux</td>\n",
       "      <td>5</td>\n",
       "    </tr>\n",
       "    <tr>\n",
       "      <th>999</th>\n",
       "      <td>2751621</td>\n",
       "      <td>Belgique</td>\n",
       "      <td>4900</td>\n",
       "      <td>Spa</td>\n",
       "      <td>Rue Rogier</td>\n",
       "      <td>1</td>\n",
       "    </tr>\n",
       "  </tbody>\n",
       "</table>\n",
       "<p>1000 rows × 6 columns</p>\n",
       "</div>"
      ],
      "text/plain": [
       "    addr_key CountryFR postcode             city                    street  \\\n",
       "0    2762939  Belgique     2240        Zandhoven               Kriekenlaan   \n",
       "1    2253494  Belgique     8600        Diksmuide            Cardijnlaan(D)   \n",
       "2    1764140  Belgique     9860       Oosterzele                Poststraat   \n",
       "3      87070  Belgique     8300     Knokke-Heist      Sylvain Dupuisstraat   \n",
       "4    2261339  Belgique     3630     Maasmechelen              Oude Baan(M)   \n",
       "..       ...       ...      ...              ...                       ...   \n",
       "995  2720764  Belgique     5060      Sambreville       Rue du Wainage(VEL)   \n",
       "996   386196  Belgique     7520          Tournai  Chaussée de Tournai(R-C)   \n",
       "997  1474962  Belgique     7331   Saint-Ghislain         Rue Louis Caty(B)   \n",
       "998  2424889  Belgique     7090  Braine-le-Comte        Drève des Bouleaux   \n",
       "999  2751621  Belgique     4900              Spa                Rue Rogier   \n",
       "\n",
       "    housenumber  \n",
       "0            22  \n",
       "1             *  \n",
       "2            19  \n",
       "3            26  \n",
       "4           338  \n",
       "..          ...  \n",
       "995          62  \n",
       "996           4  \n",
       "997          32  \n",
       "998           5  \n",
       "999           1  \n",
       "\n",
       "[1000 rows x 6 columns]"
      ]
     },
     "execution_count": 363,
     "metadata": {},
     "output_type": "execute_result"
    }
   ],
   "source": [
    "# KBO dataset\n",
    "addresses = get_addresses(\"address.csv.gz\")\n",
    "# addresses = addresses.sample(10000, replace=True).copy()\n",
    "addresses[\"addr_key\"] = addresses[\"addr_key\"].astype(str)\n",
    "addresses"
   ]
  },
  {
   "cell_type": "code",
   "execution_count": 264,
   "metadata": {
    "ExecuteTime": {
     "end_time": "2022-12-15T14:21:25.048625Z",
     "start_time": "2022-12-15T14:21:25.030116Z"
    },
    "scrolled": true
   },
   "outputs": [
    {
     "data": {
      "text/html": [
       "<div>\n",
       "<style scoped>\n",
       "    .dataframe tbody tr th:only-of-type {\n",
       "        vertical-align: middle;\n",
       "    }\n",
       "\n",
       "    .dataframe tbody tr th {\n",
       "        vertical-align: top;\n",
       "    }\n",
       "\n",
       "    .dataframe thead th {\n",
       "        text-align: right;\n",
       "    }\n",
       "</style>\n",
       "<table border=\"1\" class=\"dataframe\">\n",
       "  <thead>\n",
       "    <tr style=\"text-align: right;\">\n",
       "      <th></th>\n",
       "      <th>street</th>\n",
       "      <th>housenumber</th>\n",
       "      <th>city</th>\n",
       "      <th>postcode</th>\n",
       "      <th>CountryFR</th>\n",
       "      <th>addr_key</th>\n",
       "    </tr>\n",
       "  </thead>\n",
       "  <tbody>\n",
       "    <tr>\n",
       "      <th>0</th>\n",
       "      <td>Chaussée de Namur</td>\n",
       "      <td>198</td>\n",
       "      <td>LEUZE</td>\n",
       "      <td>5310</td>\n",
       "      <td>Belgique</td>\n",
       "      <td>0</td>\n",
       "    </tr>\n",
       "    <tr>\n",
       "      <th>1</th>\n",
       "      <td>Rue de la Halle</td>\n",
       "      <td>11</td>\n",
       "      <td>NAMUR</td>\n",
       "      <td>5000</td>\n",
       "      <td>Belgique</td>\n",
       "      <td>1</td>\n",
       "    </tr>\n",
       "    <tr>\n",
       "      <th>2</th>\n",
       "      <td>Avenue Jacques Sermon</td>\n",
       "      <td>38</td>\n",
       "      <td>GANSHOREN</td>\n",
       "      <td>1083</td>\n",
       "      <td>Belgique</td>\n",
       "      <td>2</td>\n",
       "    </tr>\n",
       "    <tr>\n",
       "      <th>3</th>\n",
       "      <td>rue du Centre</td>\n",
       "      <td>200</td>\n",
       "      <td>WAIMES</td>\n",
       "      <td>4950</td>\n",
       "      <td>Belgique</td>\n",
       "      <td>3</td>\n",
       "    </tr>\n",
       "    <tr>\n",
       "      <th>4</th>\n",
       "      <td>Kleine Waterstraat</td>\n",
       "      <td>9</td>\n",
       "      <td>HULSHOUT</td>\n",
       "      <td>2235</td>\n",
       "      <td>Belgique</td>\n",
       "      <td>4</td>\n",
       "    </tr>\n",
       "    <tr>\n",
       "      <th>...</th>\n",
       "      <td>...</td>\n",
       "      <td>...</td>\n",
       "      <td>...</td>\n",
       "      <td>...</td>\n",
       "      <td>...</td>\n",
       "      <td>...</td>\n",
       "    </tr>\n",
       "    <tr>\n",
       "      <th>995</th>\n",
       "      <td>Rue Americaine</td>\n",
       "      <td>90</td>\n",
       "      <td>IXELLES</td>\n",
       "      <td>1050</td>\n",
       "      <td>Belgique</td>\n",
       "      <td>995</td>\n",
       "    </tr>\n",
       "    <tr>\n",
       "      <th>996</th>\n",
       "      <td>Kloosterstraat</td>\n",
       "      <td>60</td>\n",
       "      <td>EKEREN</td>\n",
       "      <td>2180</td>\n",
       "      <td>Belgique</td>\n",
       "      <td>996</td>\n",
       "    </tr>\n",
       "    <tr>\n",
       "      <th>997</th>\n",
       "      <td>Markt</td>\n",
       "      <td>13</td>\n",
       "      <td>BALEN</td>\n",
       "      <td>2490</td>\n",
       "      <td>Belgique</td>\n",
       "      <td>997</td>\n",
       "    </tr>\n",
       "    <tr>\n",
       "      <th>998</th>\n",
       "      <td>Lange Lobroekstraat</td>\n",
       "      <td>65</td>\n",
       "      <td>ANVERS</td>\n",
       "      <td>2060</td>\n",
       "      <td>Belgique</td>\n",
       "      <td>998</td>\n",
       "    </tr>\n",
       "    <tr>\n",
       "      <th>999</th>\n",
       "      <td>Borgval</td>\n",
       "      <td>7</td>\n",
       "      <td>BRUXELLES CENTRE</td>\n",
       "      <td>1000</td>\n",
       "      <td>Belgique</td>\n",
       "      <td>999</td>\n",
       "    </tr>\n",
       "  </tbody>\n",
       "</table>\n",
       "<p>1000 rows × 6 columns</p>\n",
       "</div>"
      ],
      "text/plain": [
       "                    street housenumber              city postcode CountryFR  \\\n",
       "0        Chaussée de Namur         198             LEUZE     5310  Belgique   \n",
       "1          Rue de la Halle          11             NAMUR     5000  Belgique   \n",
       "2    Avenue Jacques Sermon          38         GANSHOREN     1083  Belgique   \n",
       "3            rue du Centre         200            WAIMES     4950  Belgique   \n",
       "4       Kleine Waterstraat           9          HULSHOUT     2235  Belgique   \n",
       "..                     ...         ...               ...      ...       ...   \n",
       "995         Rue Americaine          90           IXELLES     1050  Belgique   \n",
       "996         Kloosterstraat          60            EKEREN     2180  Belgique   \n",
       "997                  Markt          13             BALEN     2490  Belgique   \n",
       "998    Lange Lobroekstraat          65            ANVERS     2060  Belgique   \n",
       "999                Borgval           7  BRUXELLES CENTRE     1000  Belgique   \n",
       "\n",
       "    addr_key  \n",
       "0          0  \n",
       "1          1  \n",
       "2          2  \n",
       "3          3  \n",
       "4          4  \n",
       "..       ...  \n",
       "995      995  \n",
       "996      996  \n",
       "997      997  \n",
       "998      998  \n",
       "999      999  \n",
       "\n",
       "[1000 rows x 6 columns]"
      ]
     },
     "execution_count": 264,
     "metadata": {},
     "output_type": "execute_result"
    }
   ],
   "source": [
    "addresses = get_addresses(\"../GISAnalytics/data/geocoding/resto_1000_sample.csv.gz\")\n",
    "# addresses = get_addresses(\"../GISAnalytics/data/geocoding/best_1000_sample.csv.gz\")\n",
    "addresses[\"addr_key\"] = addresses.index.astype(str)\n",
    "addresses"
   ]
  },
  {
   "cell_type": "code",
   "execution_count": 349,
   "metadata": {
    "ExecuteTime": {
     "end_time": "2022-12-15T15:17:32.667086Z",
     "start_time": "2022-12-15T15:17:32.628709Z"
    }
   },
   "outputs": [],
   "source": [
    "addresses = pd.concat([\n",
    "    get_addresses(\"../GISAnalytics/data/geocoding/resto_1000_sample.csv.gz\"),\n",
    "    get_addresses(\"../GISAnalytics/data/geocoding/best_1000_sample.csv.gz\"),\n",
    "    get_addresses(\"address.csv.gz\")])\n",
    "addresses = addresses.reset_index(drop=True)\n",
    "addresses[\"addr_key\"] = addresses.index.astype(str)"
   ]
  },
  {
   "cell_type": "code",
   "execution_count": 312,
   "metadata": {
    "ExecuteTime": {
     "end_time": "2022-12-15T14:53:40.223272Z",
     "start_time": "2022-12-15T14:53:40.221034Z"
    }
   },
   "outputs": [],
   "source": [
    "# addresses = addresses[addresses.addr_key.isin([ \"2078829\"])]#\"1622\",\n",
    "# addresses"
   ]
  },
  {
   "cell_type": "markdown",
   "metadata": {},
   "source": [
    "\n",
    "### Simple way"
   ]
  },
  {
   "cell_type": "code",
   "execution_count": 338,
   "metadata": {
    "ExecuteTime": {
     "end_time": "2022-12-15T15:08:59.579311Z",
     "start_time": "2022-12-15T15:08:54.018181Z"
    },
    "scrolled": true
   },
   "outputs": [
    {
     "data": {
      "application/vnd.jupyter.widget-view+json": {
       "model_id": "23604330e019406bbc04b1628a357421",
       "version_major": 2,
       "version_minor": 0
      },
      "text/plain": [
       "  0%|          | 0/10000 [00:00<?, ?it/s]"
      ]
     },
     "metadata": {},
     "output_type": "display_data"
    },
    {
     "ename": "KeyboardInterrupt",
     "evalue": "",
     "output_type": "error",
     "traceback": [
      "\u001b[0;31m---------------------------------------------------------------------------\u001b[0m",
      "\u001b[0;31mKeyboardInterrupt\u001b[0m                         Traceback (most recent call last)",
      "Input \u001b[0;32mIn [338]\u001b[0m, in \u001b[0;36m<cell line: 4>\u001b[0;34m()\u001b[0m\n\u001b[1;32m      1\u001b[0m addresses_seq \u001b[38;5;241m=\u001b[39m addresses\u001b[38;5;241m.\u001b[39mcopy()\n\u001b[1;32m      3\u001b[0m t \u001b[38;5;241m=\u001b[39m datetime\u001b[38;5;241m.\u001b[39mnow()\n\u001b[0;32m----> 4\u001b[0m addresses_seq[\u001b[38;5;124m\"\u001b[39m\u001b[38;5;124mjson\u001b[39m\u001b[38;5;124m\"\u001b[39m] \u001b[38;5;241m=\u001b[39m \u001b[43maddresses_seq\u001b[49m\u001b[38;5;241;43m.\u001b[39;49m\u001b[43mfillna\u001b[49m\u001b[43m(\u001b[49m\u001b[38;5;124;43m\"\u001b[39;49m\u001b[38;5;124;43m\"\u001b[39;49m\u001b[43m)\u001b[49m\u001b[38;5;241;43m.\u001b[39;49m\u001b[43mprogress_apply\u001b[49m\u001b[43m(\u001b[49m\u001b[43mcall_ws\u001b[49m\u001b[43m,\u001b[49m\u001b[43m \u001b[49m\u001b[43mcheck_result\u001b[49m\u001b[38;5;241;43m=\u001b[39;49m\u001b[38;5;28;43;01mFalse\u001b[39;49;00m\u001b[43m,\u001b[49m\u001b[43m \u001b[49m\u001b[43mstructured_osm\u001b[49m\u001b[38;5;241;43m=\u001b[39;49m\u001b[38;5;28;43;01mFalse\u001b[39;49;00m\u001b[43m,\u001b[49m\u001b[43m \u001b[49m\u001b[43maxis\u001b[49m\u001b[38;5;241;43m=\u001b[39;49m\u001b[38;5;241;43m1\u001b[39;49m\u001b[43m)\u001b[49m\n\u001b[1;32m      5\u001b[0m tot_time \u001b[38;5;241m=\u001b[39m (datetime\u001b[38;5;241m.\u001b[39mnow() \u001b[38;5;241m-\u001b[39m t)\u001b[38;5;241m.\u001b[39mtotal_seconds()\n\u001b[1;32m      6\u001b[0m \u001b[38;5;28mprint\u001b[39m(\u001b[38;5;124mf\u001b[39m\u001b[38;5;124m\"\u001b[39m\u001b[38;5;132;01m{\u001b[39;00mtot_time\u001b[38;5;132;01m:\u001b[39;00m\u001b[38;5;124m.2f\u001b[39m\u001b[38;5;132;01m}\u001b[39;00m\u001b[38;5;124m seconds, \u001b[39m\u001b[38;5;132;01m{\u001b[39;00maddresses_seq\u001b[38;5;241m.\u001b[39mshape[\u001b[38;5;241m0\u001b[39m]\u001b[38;5;241m/\u001b[39mtot_time\u001b[38;5;132;01m:\u001b[39;00m\u001b[38;5;124m.2f\u001b[39m\u001b[38;5;132;01m}\u001b[39;00m\u001b[38;5;124m it/s\u001b[39m\u001b[38;5;124m\"\u001b[39m)\n",
      "File \u001b[0;32m~/anaconda3/lib/python3.9/site-packages/tqdm/std.py:814\u001b[0m, in \u001b[0;36mtqdm.pandas.<locals>.inner_generator.<locals>.inner\u001b[0;34m(df, func, *args, **kwargs)\u001b[0m\n\u001b[1;32m    811\u001b[0m \u001b[38;5;66;03m# Apply the provided function (in **kwargs)\u001b[39;00m\n\u001b[1;32m    812\u001b[0m \u001b[38;5;66;03m# on the df using our wrapper (which provides bar updating)\u001b[39;00m\n\u001b[1;32m    813\u001b[0m \u001b[38;5;28;01mtry\u001b[39;00m:\n\u001b[0;32m--> 814\u001b[0m     \u001b[38;5;28;01mreturn\u001b[39;00m \u001b[38;5;28;43mgetattr\u001b[39;49m\u001b[43m(\u001b[49m\u001b[43mdf\u001b[49m\u001b[43m,\u001b[49m\u001b[43m \u001b[49m\u001b[43mdf_function\u001b[49m\u001b[43m)\u001b[49m\u001b[43m(\u001b[49m\u001b[43mwrapper\u001b[49m\u001b[43m,\u001b[49m\u001b[43m \u001b[49m\u001b[38;5;241;43m*\u001b[39;49m\u001b[38;5;241;43m*\u001b[39;49m\u001b[43mkwargs\u001b[49m\u001b[43m)\u001b[49m\n\u001b[1;32m    815\u001b[0m \u001b[38;5;28;01mfinally\u001b[39;00m:\n\u001b[1;32m    816\u001b[0m     t\u001b[38;5;241m.\u001b[39mclose()\n",
      "File \u001b[0;32m~/anaconda3/lib/python3.9/site-packages/pandas/core/frame.py:8839\u001b[0m, in \u001b[0;36mDataFrame.apply\u001b[0;34m(self, func, axis, raw, result_type, args, **kwargs)\u001b[0m\n\u001b[1;32m   8828\u001b[0m \u001b[38;5;28;01mfrom\u001b[39;00m \u001b[38;5;21;01mpandas\u001b[39;00m\u001b[38;5;21;01m.\u001b[39;00m\u001b[38;5;21;01mcore\u001b[39;00m\u001b[38;5;21;01m.\u001b[39;00m\u001b[38;5;21;01mapply\u001b[39;00m \u001b[38;5;28;01mimport\u001b[39;00m frame_apply\n\u001b[1;32m   8830\u001b[0m op \u001b[38;5;241m=\u001b[39m frame_apply(\n\u001b[1;32m   8831\u001b[0m     \u001b[38;5;28mself\u001b[39m,\n\u001b[1;32m   8832\u001b[0m     func\u001b[38;5;241m=\u001b[39mfunc,\n\u001b[0;32m   (...)\u001b[0m\n\u001b[1;32m   8837\u001b[0m     kwargs\u001b[38;5;241m=\u001b[39mkwargs,\n\u001b[1;32m   8838\u001b[0m )\n\u001b[0;32m-> 8839\u001b[0m \u001b[38;5;28;01mreturn\u001b[39;00m \u001b[43mop\u001b[49m\u001b[38;5;241;43m.\u001b[39;49m\u001b[43mapply\u001b[49m\u001b[43m(\u001b[49m\u001b[43m)\u001b[49m\u001b[38;5;241m.\u001b[39m__finalize__(\u001b[38;5;28mself\u001b[39m, method\u001b[38;5;241m=\u001b[39m\u001b[38;5;124m\"\u001b[39m\u001b[38;5;124mapply\u001b[39m\u001b[38;5;124m\"\u001b[39m)\n",
      "File \u001b[0;32m~/anaconda3/lib/python3.9/site-packages/pandas/core/apply.py:727\u001b[0m, in \u001b[0;36mFrameApply.apply\u001b[0;34m(self)\u001b[0m\n\u001b[1;32m    724\u001b[0m \u001b[38;5;28;01melif\u001b[39;00m \u001b[38;5;28mself\u001b[39m\u001b[38;5;241m.\u001b[39mraw:\n\u001b[1;32m    725\u001b[0m     \u001b[38;5;28;01mreturn\u001b[39;00m \u001b[38;5;28mself\u001b[39m\u001b[38;5;241m.\u001b[39mapply_raw()\n\u001b[0;32m--> 727\u001b[0m \u001b[38;5;28;01mreturn\u001b[39;00m \u001b[38;5;28;43mself\u001b[39;49m\u001b[38;5;241;43m.\u001b[39;49m\u001b[43mapply_standard\u001b[49m\u001b[43m(\u001b[49m\u001b[43m)\u001b[49m\n",
      "File \u001b[0;32m~/anaconda3/lib/python3.9/site-packages/pandas/core/apply.py:851\u001b[0m, in \u001b[0;36mFrameApply.apply_standard\u001b[0;34m(self)\u001b[0m\n\u001b[1;32m    850\u001b[0m \u001b[38;5;28;01mdef\u001b[39;00m \u001b[38;5;21mapply_standard\u001b[39m(\u001b[38;5;28mself\u001b[39m):\n\u001b[0;32m--> 851\u001b[0m     results, res_index \u001b[38;5;241m=\u001b[39m \u001b[38;5;28;43mself\u001b[39;49m\u001b[38;5;241;43m.\u001b[39;49m\u001b[43mapply_series_generator\u001b[49m\u001b[43m(\u001b[49m\u001b[43m)\u001b[49m\n\u001b[1;32m    853\u001b[0m     \u001b[38;5;66;03m# wrap results\u001b[39;00m\n\u001b[1;32m    854\u001b[0m     \u001b[38;5;28;01mreturn\u001b[39;00m \u001b[38;5;28mself\u001b[39m\u001b[38;5;241m.\u001b[39mwrap_results(results, res_index)\n",
      "File \u001b[0;32m~/anaconda3/lib/python3.9/site-packages/pandas/core/apply.py:867\u001b[0m, in \u001b[0;36mFrameApply.apply_series_generator\u001b[0;34m(self)\u001b[0m\n\u001b[1;32m    864\u001b[0m \u001b[38;5;28;01mwith\u001b[39;00m option_context(\u001b[38;5;124m\"\u001b[39m\u001b[38;5;124mmode.chained_assignment\u001b[39m\u001b[38;5;124m\"\u001b[39m, \u001b[38;5;28;01mNone\u001b[39;00m):\n\u001b[1;32m    865\u001b[0m     \u001b[38;5;28;01mfor\u001b[39;00m i, v \u001b[38;5;129;01min\u001b[39;00m \u001b[38;5;28menumerate\u001b[39m(series_gen):\n\u001b[1;32m    866\u001b[0m         \u001b[38;5;66;03m# ignore SettingWithCopy here in case the user mutates\u001b[39;00m\n\u001b[0;32m--> 867\u001b[0m         results[i] \u001b[38;5;241m=\u001b[39m \u001b[38;5;28;43mself\u001b[39;49m\u001b[38;5;241;43m.\u001b[39;49m\u001b[43mf\u001b[49m\u001b[43m(\u001b[49m\u001b[43mv\u001b[49m\u001b[43m)\u001b[49m\n\u001b[1;32m    868\u001b[0m         \u001b[38;5;28;01mif\u001b[39;00m \u001b[38;5;28misinstance\u001b[39m(results[i], ABCSeries):\n\u001b[1;32m    869\u001b[0m             \u001b[38;5;66;03m# If we have a view on v, we need to make a copy because\u001b[39;00m\n\u001b[1;32m    870\u001b[0m             \u001b[38;5;66;03m#  series_generator will swap out the underlying data\u001b[39;00m\n\u001b[1;32m    871\u001b[0m             results[i] \u001b[38;5;241m=\u001b[39m results[i]\u001b[38;5;241m.\u001b[39mcopy(deep\u001b[38;5;241m=\u001b[39m\u001b[38;5;28;01mFalse\u001b[39;00m)\n",
      "File \u001b[0;32m~/anaconda3/lib/python3.9/site-packages/pandas/core/apply.py:138\u001b[0m, in \u001b[0;36mApply.__init__.<locals>.f\u001b[0;34m(x)\u001b[0m\n\u001b[1;32m    137\u001b[0m \u001b[38;5;28;01mdef\u001b[39;00m \u001b[38;5;21mf\u001b[39m(x):\n\u001b[0;32m--> 138\u001b[0m     \u001b[38;5;28;01mreturn\u001b[39;00m \u001b[43mfunc\u001b[49m\u001b[43m(\u001b[49m\u001b[43mx\u001b[49m\u001b[43m,\u001b[49m\u001b[43m \u001b[49m\u001b[38;5;241;43m*\u001b[39;49m\u001b[43margs\u001b[49m\u001b[43m,\u001b[49m\u001b[43m \u001b[49m\u001b[38;5;241;43m*\u001b[39;49m\u001b[38;5;241;43m*\u001b[39;49m\u001b[43mkwargs\u001b[49m\u001b[43m)\u001b[49m\n",
      "File \u001b[0;32m~/anaconda3/lib/python3.9/site-packages/tqdm/std.py:809\u001b[0m, in \u001b[0;36mtqdm.pandas.<locals>.inner_generator.<locals>.inner.<locals>.wrapper\u001b[0;34m(*args, **kwargs)\u001b[0m\n\u001b[1;32m    803\u001b[0m \u001b[38;5;28;01mdef\u001b[39;00m \u001b[38;5;21mwrapper\u001b[39m(\u001b[38;5;241m*\u001b[39margs, \u001b[38;5;241m*\u001b[39m\u001b[38;5;241m*\u001b[39mkwargs):\n\u001b[1;32m    804\u001b[0m     \u001b[38;5;66;03m# update tbar correctly\u001b[39;00m\n\u001b[1;32m    805\u001b[0m     \u001b[38;5;66;03m# it seems `pandas apply` calls `func` twice\u001b[39;00m\n\u001b[1;32m    806\u001b[0m     \u001b[38;5;66;03m# on the first column/row to decide whether it can\u001b[39;00m\n\u001b[1;32m    807\u001b[0m     \u001b[38;5;66;03m# take a fast or slow code path; so stop when t.total==t.n\u001b[39;00m\n\u001b[1;32m    808\u001b[0m     t\u001b[38;5;241m.\u001b[39mupdate(n\u001b[38;5;241m=\u001b[39m\u001b[38;5;241m1\u001b[39m \u001b[38;5;28;01mif\u001b[39;00m \u001b[38;5;129;01mnot\u001b[39;00m t\u001b[38;5;241m.\u001b[39mtotal \u001b[38;5;129;01mor\u001b[39;00m t\u001b[38;5;241m.\u001b[39mn \u001b[38;5;241m<\u001b[39m t\u001b[38;5;241m.\u001b[39mtotal \u001b[38;5;28;01melse\u001b[39;00m \u001b[38;5;241m0\u001b[39m)\n\u001b[0;32m--> 809\u001b[0m     \u001b[38;5;28;01mreturn\u001b[39;00m \u001b[43mfunc\u001b[49m\u001b[43m(\u001b[49m\u001b[38;5;241;43m*\u001b[39;49m\u001b[43margs\u001b[49m\u001b[43m,\u001b[49m\u001b[43m \u001b[49m\u001b[38;5;241;43m*\u001b[39;49m\u001b[38;5;241;43m*\u001b[39;49m\u001b[43mkwargs\u001b[49m\u001b[43m)\u001b[49m\n",
      "Input \u001b[0;32mIn [7]\u001b[0m, in \u001b[0;36mcall_ws\u001b[0;34m(addr_data, check_result, structured_osm)\u001b[0m\n\u001b[1;32m     14\u001b[0m \u001b[38;5;66;03m#     print(url)\u001b[39;00m\n\u001b[1;32m     15\u001b[0m     \u001b[38;5;28;01mtry\u001b[39;00m:\n\u001b[0;32m---> 16\u001b[0m         \u001b[38;5;28;01mwith\u001b[39;00m \u001b[43murllib\u001b[49m\u001b[38;5;241;43m.\u001b[39;49m\u001b[43mrequest\u001b[49m\u001b[38;5;241;43m.\u001b[39;49m\u001b[43murlopen\u001b[49m\u001b[43m(\u001b[49m\u001b[43murl\u001b[49m\u001b[43m)\u001b[49m \u001b[38;5;28;01mas\u001b[39;00m response:\n\u001b[1;32m     17\u001b[0m             res \u001b[38;5;241m=\u001b[39m response\u001b[38;5;241m.\u001b[39mread()\n\u001b[1;32m     18\u001b[0m             res \u001b[38;5;241m=\u001b[39m json\u001b[38;5;241m.\u001b[39mloads(res)\n",
      "File \u001b[0;32m~/anaconda3/lib/python3.9/urllib/request.py:214\u001b[0m, in \u001b[0;36murlopen\u001b[0;34m(url, data, timeout, cafile, capath, cadefault, context)\u001b[0m\n\u001b[1;32m    212\u001b[0m \u001b[38;5;28;01melse\u001b[39;00m:\n\u001b[1;32m    213\u001b[0m     opener \u001b[38;5;241m=\u001b[39m _opener\n\u001b[0;32m--> 214\u001b[0m \u001b[38;5;28;01mreturn\u001b[39;00m \u001b[43mopener\u001b[49m\u001b[38;5;241;43m.\u001b[39;49m\u001b[43mopen\u001b[49m\u001b[43m(\u001b[49m\u001b[43murl\u001b[49m\u001b[43m,\u001b[49m\u001b[43m \u001b[49m\u001b[43mdata\u001b[49m\u001b[43m,\u001b[49m\u001b[43m \u001b[49m\u001b[43mtimeout\u001b[49m\u001b[43m)\u001b[49m\n",
      "File \u001b[0;32m~/anaconda3/lib/python3.9/urllib/request.py:517\u001b[0m, in \u001b[0;36mOpenerDirector.open\u001b[0;34m(self, fullurl, data, timeout)\u001b[0m\n\u001b[1;32m    514\u001b[0m     req \u001b[38;5;241m=\u001b[39m meth(req)\n\u001b[1;32m    516\u001b[0m sys\u001b[38;5;241m.\u001b[39maudit(\u001b[38;5;124m'\u001b[39m\u001b[38;5;124murllib.Request\u001b[39m\u001b[38;5;124m'\u001b[39m, req\u001b[38;5;241m.\u001b[39mfull_url, req\u001b[38;5;241m.\u001b[39mdata, req\u001b[38;5;241m.\u001b[39mheaders, req\u001b[38;5;241m.\u001b[39mget_method())\n\u001b[0;32m--> 517\u001b[0m response \u001b[38;5;241m=\u001b[39m \u001b[38;5;28;43mself\u001b[39;49m\u001b[38;5;241;43m.\u001b[39;49m\u001b[43m_open\u001b[49m\u001b[43m(\u001b[49m\u001b[43mreq\u001b[49m\u001b[43m,\u001b[49m\u001b[43m \u001b[49m\u001b[43mdata\u001b[49m\u001b[43m)\u001b[49m\n\u001b[1;32m    519\u001b[0m \u001b[38;5;66;03m# post-process response\u001b[39;00m\n\u001b[1;32m    520\u001b[0m meth_name \u001b[38;5;241m=\u001b[39m protocol\u001b[38;5;241m+\u001b[39m\u001b[38;5;124m\"\u001b[39m\u001b[38;5;124m_response\u001b[39m\u001b[38;5;124m\"\u001b[39m\n",
      "File \u001b[0;32m~/anaconda3/lib/python3.9/urllib/request.py:534\u001b[0m, in \u001b[0;36mOpenerDirector._open\u001b[0;34m(self, req, data)\u001b[0m\n\u001b[1;32m    531\u001b[0m     \u001b[38;5;28;01mreturn\u001b[39;00m result\n\u001b[1;32m    533\u001b[0m protocol \u001b[38;5;241m=\u001b[39m req\u001b[38;5;241m.\u001b[39mtype\n\u001b[0;32m--> 534\u001b[0m result \u001b[38;5;241m=\u001b[39m \u001b[38;5;28;43mself\u001b[39;49m\u001b[38;5;241;43m.\u001b[39;49m\u001b[43m_call_chain\u001b[49m\u001b[43m(\u001b[49m\u001b[38;5;28;43mself\u001b[39;49m\u001b[38;5;241;43m.\u001b[39;49m\u001b[43mhandle_open\u001b[49m\u001b[43m,\u001b[49m\u001b[43m \u001b[49m\u001b[43mprotocol\u001b[49m\u001b[43m,\u001b[49m\u001b[43m \u001b[49m\u001b[43mprotocol\u001b[49m\u001b[43m \u001b[49m\u001b[38;5;241;43m+\u001b[39;49m\n\u001b[1;32m    535\u001b[0m \u001b[43m                          \u001b[49m\u001b[38;5;124;43m'\u001b[39;49m\u001b[38;5;124;43m_open\u001b[39;49m\u001b[38;5;124;43m'\u001b[39;49m\u001b[43m,\u001b[49m\u001b[43m \u001b[49m\u001b[43mreq\u001b[49m\u001b[43m)\u001b[49m\n\u001b[1;32m    536\u001b[0m \u001b[38;5;28;01mif\u001b[39;00m result:\n\u001b[1;32m    537\u001b[0m     \u001b[38;5;28;01mreturn\u001b[39;00m result\n",
      "File \u001b[0;32m~/anaconda3/lib/python3.9/urllib/request.py:494\u001b[0m, in \u001b[0;36mOpenerDirector._call_chain\u001b[0;34m(self, chain, kind, meth_name, *args)\u001b[0m\n\u001b[1;32m    492\u001b[0m \u001b[38;5;28;01mfor\u001b[39;00m handler \u001b[38;5;129;01min\u001b[39;00m handlers:\n\u001b[1;32m    493\u001b[0m     func \u001b[38;5;241m=\u001b[39m \u001b[38;5;28mgetattr\u001b[39m(handler, meth_name)\n\u001b[0;32m--> 494\u001b[0m     result \u001b[38;5;241m=\u001b[39m \u001b[43mfunc\u001b[49m\u001b[43m(\u001b[49m\u001b[38;5;241;43m*\u001b[39;49m\u001b[43margs\u001b[49m\u001b[43m)\u001b[49m\n\u001b[1;32m    495\u001b[0m     \u001b[38;5;28;01mif\u001b[39;00m result \u001b[38;5;129;01mis\u001b[39;00m \u001b[38;5;129;01mnot\u001b[39;00m \u001b[38;5;28;01mNone\u001b[39;00m:\n\u001b[1;32m    496\u001b[0m         \u001b[38;5;28;01mreturn\u001b[39;00m result\n",
      "File \u001b[0;32m~/anaconda3/lib/python3.9/urllib/request.py:1375\u001b[0m, in \u001b[0;36mHTTPHandler.http_open\u001b[0;34m(self, req)\u001b[0m\n\u001b[1;32m   1374\u001b[0m \u001b[38;5;28;01mdef\u001b[39;00m \u001b[38;5;21mhttp_open\u001b[39m(\u001b[38;5;28mself\u001b[39m, req):\n\u001b[0;32m-> 1375\u001b[0m     \u001b[38;5;28;01mreturn\u001b[39;00m \u001b[38;5;28;43mself\u001b[39;49m\u001b[38;5;241;43m.\u001b[39;49m\u001b[43mdo_open\u001b[49m\u001b[43m(\u001b[49m\u001b[43mhttp\u001b[49m\u001b[38;5;241;43m.\u001b[39;49m\u001b[43mclient\u001b[49m\u001b[38;5;241;43m.\u001b[39;49m\u001b[43mHTTPConnection\u001b[49m\u001b[43m,\u001b[49m\u001b[43m \u001b[49m\u001b[43mreq\u001b[49m\u001b[43m)\u001b[49m\n",
      "File \u001b[0;32m~/anaconda3/lib/python3.9/urllib/request.py:1350\u001b[0m, in \u001b[0;36mAbstractHTTPHandler.do_open\u001b[0;34m(self, http_class, req, **http_conn_args)\u001b[0m\n\u001b[1;32m   1348\u001b[0m     \u001b[38;5;28;01mexcept\u001b[39;00m \u001b[38;5;167;01mOSError\u001b[39;00m \u001b[38;5;28;01mas\u001b[39;00m err: \u001b[38;5;66;03m# timeout error\u001b[39;00m\n\u001b[1;32m   1349\u001b[0m         \u001b[38;5;28;01mraise\u001b[39;00m URLError(err)\n\u001b[0;32m-> 1350\u001b[0m     r \u001b[38;5;241m=\u001b[39m \u001b[43mh\u001b[49m\u001b[38;5;241;43m.\u001b[39;49m\u001b[43mgetresponse\u001b[49m\u001b[43m(\u001b[49m\u001b[43m)\u001b[49m\n\u001b[1;32m   1351\u001b[0m \u001b[38;5;28;01mexcept\u001b[39;00m:\n\u001b[1;32m   1352\u001b[0m     h\u001b[38;5;241m.\u001b[39mclose()\n",
      "File \u001b[0;32m~/anaconda3/lib/python3.9/http/client.py:1377\u001b[0m, in \u001b[0;36mHTTPConnection.getresponse\u001b[0;34m(self)\u001b[0m\n\u001b[1;32m   1375\u001b[0m \u001b[38;5;28;01mtry\u001b[39;00m:\n\u001b[1;32m   1376\u001b[0m     \u001b[38;5;28;01mtry\u001b[39;00m:\n\u001b[0;32m-> 1377\u001b[0m         \u001b[43mresponse\u001b[49m\u001b[38;5;241;43m.\u001b[39;49m\u001b[43mbegin\u001b[49m\u001b[43m(\u001b[49m\u001b[43m)\u001b[49m\n\u001b[1;32m   1378\u001b[0m     \u001b[38;5;28;01mexcept\u001b[39;00m \u001b[38;5;167;01mConnectionError\u001b[39;00m:\n\u001b[1;32m   1379\u001b[0m         \u001b[38;5;28mself\u001b[39m\u001b[38;5;241m.\u001b[39mclose()\n",
      "File \u001b[0;32m~/anaconda3/lib/python3.9/http/client.py:320\u001b[0m, in \u001b[0;36mHTTPResponse.begin\u001b[0;34m(self)\u001b[0m\n\u001b[1;32m    318\u001b[0m \u001b[38;5;66;03m# read until we get a non-100 response\u001b[39;00m\n\u001b[1;32m    319\u001b[0m \u001b[38;5;28;01mwhile\u001b[39;00m \u001b[38;5;28;01mTrue\u001b[39;00m:\n\u001b[0;32m--> 320\u001b[0m     version, status, reason \u001b[38;5;241m=\u001b[39m \u001b[38;5;28;43mself\u001b[39;49m\u001b[38;5;241;43m.\u001b[39;49m\u001b[43m_read_status\u001b[49m\u001b[43m(\u001b[49m\u001b[43m)\u001b[49m\n\u001b[1;32m    321\u001b[0m     \u001b[38;5;28;01mif\u001b[39;00m status \u001b[38;5;241m!=\u001b[39m CONTINUE:\n\u001b[1;32m    322\u001b[0m         \u001b[38;5;28;01mbreak\u001b[39;00m\n",
      "File \u001b[0;32m~/anaconda3/lib/python3.9/http/client.py:281\u001b[0m, in \u001b[0;36mHTTPResponse._read_status\u001b[0;34m(self)\u001b[0m\n\u001b[1;32m    280\u001b[0m \u001b[38;5;28;01mdef\u001b[39;00m \u001b[38;5;21m_read_status\u001b[39m(\u001b[38;5;28mself\u001b[39m):\n\u001b[0;32m--> 281\u001b[0m     line \u001b[38;5;241m=\u001b[39m \u001b[38;5;28mstr\u001b[39m(\u001b[38;5;28;43mself\u001b[39;49m\u001b[38;5;241;43m.\u001b[39;49m\u001b[43mfp\u001b[49m\u001b[38;5;241;43m.\u001b[39;49m\u001b[43mreadline\u001b[49m\u001b[43m(\u001b[49m\u001b[43m_MAXLINE\u001b[49m\u001b[43m \u001b[49m\u001b[38;5;241;43m+\u001b[39;49m\u001b[43m \u001b[49m\u001b[38;5;241;43m1\u001b[39;49m\u001b[43m)\u001b[49m, \u001b[38;5;124m\"\u001b[39m\u001b[38;5;124miso-8859-1\u001b[39m\u001b[38;5;124m\"\u001b[39m)\n\u001b[1;32m    282\u001b[0m     \u001b[38;5;28;01mif\u001b[39;00m \u001b[38;5;28mlen\u001b[39m(line) \u001b[38;5;241m>\u001b[39m _MAXLINE:\n\u001b[1;32m    283\u001b[0m         \u001b[38;5;28;01mraise\u001b[39;00m LineTooLong(\u001b[38;5;124m\"\u001b[39m\u001b[38;5;124mstatus line\u001b[39m\u001b[38;5;124m\"\u001b[39m)\n",
      "File \u001b[0;32m~/anaconda3/lib/python3.9/socket.py:704\u001b[0m, in \u001b[0;36mSocketIO.readinto\u001b[0;34m(self, b)\u001b[0m\n\u001b[1;32m    702\u001b[0m \u001b[38;5;28;01mwhile\u001b[39;00m \u001b[38;5;28;01mTrue\u001b[39;00m:\n\u001b[1;32m    703\u001b[0m     \u001b[38;5;28;01mtry\u001b[39;00m:\n\u001b[0;32m--> 704\u001b[0m         \u001b[38;5;28;01mreturn\u001b[39;00m \u001b[38;5;28;43mself\u001b[39;49m\u001b[38;5;241;43m.\u001b[39;49m\u001b[43m_sock\u001b[49m\u001b[38;5;241;43m.\u001b[39;49m\u001b[43mrecv_into\u001b[49m\u001b[43m(\u001b[49m\u001b[43mb\u001b[49m\u001b[43m)\u001b[49m\n\u001b[1;32m    705\u001b[0m     \u001b[38;5;28;01mexcept\u001b[39;00m timeout:\n\u001b[1;32m    706\u001b[0m         \u001b[38;5;28mself\u001b[39m\u001b[38;5;241m.\u001b[39m_timeout_occurred \u001b[38;5;241m=\u001b[39m \u001b[38;5;28;01mTrue\u001b[39;00m\n",
      "\u001b[0;31mKeyboardInterrupt\u001b[0m: "
     ]
    }
   ],
   "source": [
    "addresses_seq = addresses.copy()\n",
    "\n",
    "t = datetime.now()\n",
    "addresses_seq[\"json\"] = addresses_seq.fillna(\"\").progress_apply(call_ws, check_result=False, structured_osm=False, axis=1)\n",
    "tot_time = (datetime.now() - t).total_seconds()\n",
    "print(f\"{tot_time:.2f} seconds, {addresses_seq.shape[0]/tot_time:.2f} it/s\")\n",
    "# KBO dataset:\n",
    "# Normal mode: 128.78 seconds, 7.77 it/s\n",
    "# Fastmode:     68.80 seconds, 14.54 it/s\n",
    "\n",
    "#Resto dataset: \n",
    "# Normal mode: 145.73 seconds, 6.86 it/s\n",
    "# Fast mode:    82.99 seconds, 12.05 it/s\n",
    "\n",
    "# Best dataset:\n",
    "# Normal mode: 108.53 seconds, 9.21 it/s\n",
    "# Fast mode: 37.44 seconds, 26.71 it/s"
   ]
  },
  {
   "cell_type": "code",
   "execution_count": 315,
   "metadata": {
    "ExecuteTime": {
     "end_time": "2022-12-15T14:56:38.983461Z",
     "start_time": "2022-12-15T14:56:38.924331Z"
    },
    "scrolled": true
   },
   "outputs": [
    {
     "data": {
      "text/html": [
       "<div>\n",
       "<style scoped>\n",
       "    .dataframe tbody tr th:only-of-type {\n",
       "        vertical-align: middle;\n",
       "    }\n",
       "\n",
       "    .dataframe tbody tr th {\n",
       "        vertical-align: top;\n",
       "    }\n",
       "\n",
       "    .dataframe thead th {\n",
       "        text-align: right;\n",
       "    }\n",
       "</style>\n",
       "<table border=\"1\" class=\"dataframe\">\n",
       "  <thead>\n",
       "    <tr style=\"text-align: right;\">\n",
       "      <th></th>\n",
       "      <th>addr_key</th>\n",
       "      <th>CountryFR</th>\n",
       "      <th>postcode</th>\n",
       "      <th>city</th>\n",
       "      <th>street</th>\n",
       "      <th>housenumber</th>\n",
       "      <th>json</th>\n",
       "      <th>status</th>\n",
       "      <th>time</th>\n",
       "      <th>timing</th>\n",
       "      <th>method</th>\n",
       "      <th>addr_out_street</th>\n",
       "      <th>addr_out_number</th>\n",
       "      <th>addr_out_postcode</th>\n",
       "      <th>addr_out_city</th>\n",
       "    </tr>\n",
       "  </thead>\n",
       "  <tbody>\n",
       "    <tr>\n",
       "      <th>0</th>\n",
       "      <td>2762939</td>\n",
       "      <td>Belgique</td>\n",
       "      <td>2240</td>\n",
       "      <td>Zandhoven</td>\n",
       "      <td>Kriekenlaan</td>\n",
       "      <td>22</td>\n",
       "      <td>{'match': [{'addr_out_city': 'Zandhoven', 'add...</td>\n",
       "      <td>match</td>\n",
       "      <td>2.418637</td>\n",
       "      <td>{'fast': 23.936, 'fast &gt; osm': 18.311, 'global...</td>\n",
       "      <td>fast</td>\n",
       "      <td>Kriekenlaan</td>\n",
       "      <td>22</td>\n",
       "      <td>2240</td>\n",
       "      <td>Zandhoven</td>\n",
       "    </tr>\n",
       "    <tr>\n",
       "      <th>1</th>\n",
       "      <td>2253494</td>\n",
       "      <td>Belgique</td>\n",
       "      <td>8600</td>\n",
       "      <td>Diksmuide</td>\n",
       "      <td>Cardijnlaan(D)</td>\n",
       "      <td>*</td>\n",
       "      <td>{'match': [{'SIM_street_which': '', 'addr_out_...</td>\n",
       "      <td>match</td>\n",
       "      <td>1.520868</td>\n",
       "      <td>{''t&amp;p &gt; transformer &gt; libpostal': 114.104, ''...</td>\n",
       "      <td>nostreet</td>\n",
       "      <td></td>\n",
       "      <td></td>\n",
       "      <td>8600</td>\n",
       "      <td>Diksmuide</td>\n",
       "    </tr>\n",
       "    <tr>\n",
       "      <th>2</th>\n",
       "      <td>1764140</td>\n",
       "      <td>Belgique</td>\n",
       "      <td>9860</td>\n",
       "      <td>Oosterzele</td>\n",
       "      <td>Poststraat</td>\n",
       "      <td>19</td>\n",
       "      <td>{'match': [{'addr_out_city': 'Issegem', 'addr_...</td>\n",
       "      <td>match</td>\n",
       "      <td>0.033189</td>\n",
       "      <td>{''t&amp;p &gt; transformer &gt; libpostal': 0.0, ''t&amp;p ...</td>\n",
       "      <td>fast</td>\n",
       "      <td>Poststraat</td>\n",
       "      <td></td>\n",
       "      <td>9860</td>\n",
       "      <td>Issegem</td>\n",
       "    </tr>\n",
       "    <tr>\n",
       "      <th>3</th>\n",
       "      <td>87070</td>\n",
       "      <td>Belgique</td>\n",
       "      <td>8300</td>\n",
       "      <td>Knokke-Heist</td>\n",
       "      <td>Sylvain Dupuisstraat</td>\n",
       "      <td>26</td>\n",
       "      <td>{'match': [{'addr_out_city': 'Knokke-Heist', '...</td>\n",
       "      <td>match</td>\n",
       "      <td>0.025125</td>\n",
       "      <td>{'fast': 21.195, 'fast &gt; osm': 16.195999999999...</td>\n",
       "      <td>fast</td>\n",
       "      <td>Sylvain Dupuisstraat</td>\n",
       "      <td>24;26;28</td>\n",
       "      <td>8300</td>\n",
       "      <td>Knokke-Heist</td>\n",
       "    </tr>\n",
       "    <tr>\n",
       "      <th>4</th>\n",
       "      <td>2261339</td>\n",
       "      <td>Belgique</td>\n",
       "      <td>3630</td>\n",
       "      <td>Maasmechelen</td>\n",
       "      <td>Oude Baan(M)</td>\n",
       "      <td>338</td>\n",
       "      <td>{'match': [{'addr_out_city': 'Maasmechelen', '...</td>\n",
       "      <td>match</td>\n",
       "      <td>0.092662</td>\n",
       "      <td>{'fast': 89.84100000000001, 'fast &gt; osm': 84.8...</td>\n",
       "      <td>fast</td>\n",
       "      <td>Oude Baan</td>\n",
       "      <td></td>\n",
       "      <td>3630</td>\n",
       "      <td>Maasmechelen</td>\n",
       "    </tr>\n",
       "    <tr>\n",
       "      <th>...</th>\n",
       "      <td>...</td>\n",
       "      <td>...</td>\n",
       "      <td>...</td>\n",
       "      <td>...</td>\n",
       "      <td>...</td>\n",
       "      <td>...</td>\n",
       "      <td>...</td>\n",
       "      <td>...</td>\n",
       "      <td>...</td>\n",
       "      <td>...</td>\n",
       "      <td>...</td>\n",
       "      <td>...</td>\n",
       "      <td>...</td>\n",
       "      <td>...</td>\n",
       "      <td>...</td>\n",
       "    </tr>\n",
       "    <tr>\n",
       "      <th>995</th>\n",
       "      <td>2720764</td>\n",
       "      <td>Belgique</td>\n",
       "      <td>5060</td>\n",
       "      <td>Sambreville</td>\n",
       "      <td>Rue du Wainage(VEL)</td>\n",
       "      <td>62</td>\n",
       "      <td>{'match': [{'SIM_street_which': '', 'addr_out_...</td>\n",
       "      <td>match</td>\n",
       "      <td>0.152240</td>\n",
       "      <td>{''t&amp;p &gt; transformer &gt; libpostal': 0.0, ''t&amp;p ...</td>\n",
       "      <td>regex[init]</td>\n",
       "      <td>Rue du Wainage</td>\n",
       "      <td>62</td>\n",
       "      <td>5060</td>\n",
       "      <td>Sambreville</td>\n",
       "    </tr>\n",
       "    <tr>\n",
       "      <th>996</th>\n",
       "      <td>386196</td>\n",
       "      <td>Belgique</td>\n",
       "      <td>7520</td>\n",
       "      <td>Tournai</td>\n",
       "      <td>Chaussée de Tournai(R-C)</td>\n",
       "      <td>4</td>\n",
       "      <td>{'match': [{'addr_out_city': 'Ramegnies-Chin',...</td>\n",
       "      <td>match</td>\n",
       "      <td>0.078074</td>\n",
       "      <td>{''t&amp;p &gt; transformer &gt; libpostal': 0.0, ''t&amp;p ...</td>\n",
       "      <td>fast</td>\n",
       "      <td>Chaussée de Tournai</td>\n",
       "      <td></td>\n",
       "      <td>7520</td>\n",
       "      <td>Ramegnies-Chin</td>\n",
       "    </tr>\n",
       "    <tr>\n",
       "      <th>997</th>\n",
       "      <td>1474962</td>\n",
       "      <td>Belgique</td>\n",
       "      <td>7331</td>\n",
       "      <td>Saint-Ghislain</td>\n",
       "      <td>Rue Louis Caty(B)</td>\n",
       "      <td>32</td>\n",
       "      <td>{'match': [{'addr_out_city': 'Saint-Ghislain',...</td>\n",
       "      <td>match</td>\n",
       "      <td>0.048020</td>\n",
       "      <td>{''t&amp;p &gt; transformer &gt; libpostal': 0.0, ''t&amp;p ...</td>\n",
       "      <td>fast</td>\n",
       "      <td>Rue Louis Caty</td>\n",
       "      <td></td>\n",
       "      <td>7331</td>\n",
       "      <td>Saint-Ghislain</td>\n",
       "    </tr>\n",
       "    <tr>\n",
       "      <th>998</th>\n",
       "      <td>2424889</td>\n",
       "      <td>Belgique</td>\n",
       "      <td>7090</td>\n",
       "      <td>Braine-le-Comte</td>\n",
       "      <td>Drève des Bouleaux</td>\n",
       "      <td>5</td>\n",
       "      <td>{'match': [{'addr_out_city': 'Braine-le-Comte'...</td>\n",
       "      <td>match</td>\n",
       "      <td>0.033540</td>\n",
       "      <td>{''t&amp;p &gt; transformer &gt; libpostal': 0.0, ''t&amp;p ...</td>\n",
       "      <td>fast</td>\n",
       "      <td>Drève des Bouleaux</td>\n",
       "      <td></td>\n",
       "      <td>7090</td>\n",
       "      <td>Braine-le-Comte</td>\n",
       "    </tr>\n",
       "    <tr>\n",
       "      <th>999</th>\n",
       "      <td>2751621</td>\n",
       "      <td>Belgique</td>\n",
       "      <td>4900</td>\n",
       "      <td>Spa</td>\n",
       "      <td>Rue Rogier</td>\n",
       "      <td>1</td>\n",
       "      <td>{'match': [{'addr_out_city': 'Spa', 'addr_out_...</td>\n",
       "      <td>match</td>\n",
       "      <td>0.021801</td>\n",
       "      <td>{''t&amp;p &gt; transformer &gt; libpostal': 0.0, ''t&amp;p ...</td>\n",
       "      <td>fast</td>\n",
       "      <td>Rue Rogier</td>\n",
       "      <td>1</td>\n",
       "      <td>4900</td>\n",
       "      <td>Spa</td>\n",
       "    </tr>\n",
       "  </tbody>\n",
       "</table>\n",
       "<p>1000 rows × 15 columns</p>\n",
       "</div>"
      ],
      "text/plain": [
       "    addr_key CountryFR postcode             city                    street  \\\n",
       "0    2762939  Belgique     2240        Zandhoven               Kriekenlaan   \n",
       "1    2253494  Belgique     8600        Diksmuide            Cardijnlaan(D)   \n",
       "2    1764140  Belgique     9860       Oosterzele                Poststraat   \n",
       "3      87070  Belgique     8300     Knokke-Heist      Sylvain Dupuisstraat   \n",
       "4    2261339  Belgique     3630     Maasmechelen              Oude Baan(M)   \n",
       "..       ...       ...      ...              ...                       ...   \n",
       "995  2720764  Belgique     5060      Sambreville       Rue du Wainage(VEL)   \n",
       "996   386196  Belgique     7520          Tournai  Chaussée de Tournai(R-C)   \n",
       "997  1474962  Belgique     7331   Saint-Ghislain         Rue Louis Caty(B)   \n",
       "998  2424889  Belgique     7090  Braine-le-Comte        Drève des Bouleaux   \n",
       "999  2751621  Belgique     4900              Spa                Rue Rogier   \n",
       "\n",
       "    housenumber                                               json status  \\\n",
       "0            22  {'match': [{'addr_out_city': 'Zandhoven', 'add...  match   \n",
       "1             *  {'match': [{'SIM_street_which': '', 'addr_out_...  match   \n",
       "2            19  {'match': [{'addr_out_city': 'Issegem', 'addr_...  match   \n",
       "3            26  {'match': [{'addr_out_city': 'Knokke-Heist', '...  match   \n",
       "4           338  {'match': [{'addr_out_city': 'Maasmechelen', '...  match   \n",
       "..          ...                                                ...    ...   \n",
       "995          62  {'match': [{'SIM_street_which': '', 'addr_out_...  match   \n",
       "996           4  {'match': [{'addr_out_city': 'Ramegnies-Chin',...  match   \n",
       "997          32  {'match': [{'addr_out_city': 'Saint-Ghislain',...  match   \n",
       "998           5  {'match': [{'addr_out_city': 'Braine-le-Comte'...  match   \n",
       "999           1  {'match': [{'addr_out_city': 'Spa', 'addr_out_...  match   \n",
       "\n",
       "         time                                             timing       method  \\\n",
       "0    2.418637  {'fast': 23.936, 'fast > osm': 18.311, 'global...         fast   \n",
       "1    1.520868  {''t&p > transformer > libpostal': 114.104, ''...     nostreet   \n",
       "2    0.033189  {''t&p > transformer > libpostal': 0.0, ''t&p ...         fast   \n",
       "3    0.025125  {'fast': 21.195, 'fast > osm': 16.195999999999...         fast   \n",
       "4    0.092662  {'fast': 89.84100000000001, 'fast > osm': 84.8...         fast   \n",
       "..        ...                                                ...          ...   \n",
       "995  0.152240  {''t&p > transformer > libpostal': 0.0, ''t&p ...  regex[init]   \n",
       "996  0.078074  {''t&p > transformer > libpostal': 0.0, ''t&p ...         fast   \n",
       "997  0.048020  {''t&p > transformer > libpostal': 0.0, ''t&p ...         fast   \n",
       "998  0.033540  {''t&p > transformer > libpostal': 0.0, ''t&p ...         fast   \n",
       "999  0.021801  {''t&p > transformer > libpostal': 0.0, ''t&p ...         fast   \n",
       "\n",
       "          addr_out_street addr_out_number addr_out_postcode    addr_out_city  \n",
       "0             Kriekenlaan              22              2240        Zandhoven  \n",
       "1                                                      8600        Diksmuide  \n",
       "2              Poststraat                              9860          Issegem  \n",
       "3    Sylvain Dupuisstraat        24;26;28              8300     Knokke-Heist  \n",
       "4               Oude Baan                              3630     Maasmechelen  \n",
       "..                    ...             ...               ...              ...  \n",
       "995        Rue du Wainage              62              5060      Sambreville  \n",
       "996   Chaussée de Tournai                              7520   Ramegnies-Chin  \n",
       "997        Rue Louis Caty                              7331   Saint-Ghislain  \n",
       "998    Drève des Bouleaux                              7090  Braine-le-Comte  \n",
       "999            Rue Rogier               1              4900              Spa  \n",
       "\n",
       "[1000 rows x 15 columns]"
      ]
     },
     "execution_count": 315,
     "metadata": {},
     "output_type": "execute_result"
    }
   ],
   "source": [
    "expand_json(addresses_seq)\n",
    "addresses_seq"
   ]
  },
  {
   "cell_type": "code",
   "execution_count": 150,
   "metadata": {
    "ExecuteTime": {
     "end_time": "2022-12-15T12:45:47.828354Z",
     "start_time": "2022-12-15T12:45:47.820442Z"
    }
   },
   "outputs": [
    {
     "data": {
      "text/plain": [
       "fast                             979\n",
       "libpostal+regex[lpost]+photon     11\n",
       "nostreet                           7\n",
       "regex[init]                        2\n",
       "nonum                              1\n",
       "Name: method, dtype: int64"
      ]
     },
     "execution_count": 150,
     "metadata": {},
     "output_type": "execute_result"
    }
   ],
   "source": [
    "addresses_seq.method.value_counts()"
   ]
  },
  {
   "cell_type": "markdown",
   "metadata": {
    "ExecuteTime": {
     "end_time": "2020-09-30T10:03:50.368838Z",
     "start_time": "2020-09-30T10:03:50.364575Z"
    }
   },
   "source": [
    "### Using Dask"
   ]
  },
  {
   "cell_type": "code",
   "execution_count": 229,
   "metadata": {
    "ExecuteTime": {
     "end_time": "2022-12-15T13:54:42.065292Z",
     "start_time": "2022-12-15T13:54:42.062144Z"
    }
   },
   "outputs": [],
   "source": [
    "addresses_dask = addresses.copy()"
   ]
  },
  {
   "cell_type": "code",
   "execution_count": 372,
   "metadata": {
    "ExecuteTime": {
     "end_time": "2022-12-15T16:05:35.191366Z",
     "start_time": "2022-12-15T16:05:17.631644Z"
    }
   },
   "outputs": [
    {
     "name": "stdout",
     "output_type": "stream",
     "text": [
      "[########################################] | 100% Completed | 17.5s\n",
      "17.55 seconds, 56.97 it/s\n"
     ]
    }
   ],
   "source": [
    "t = datetime.now()\n",
    "dd_addresses = dd.from_pandas(addresses_dask, npartitions=8)\n",
    "\n",
    "dask_task = dd_addresses.apply(call_ws, check_result=False, meta=('x', 'str'), axis=1)\n",
    "\n",
    "with ProgressBar(): \n",
    "    addresses_dask[\"json\"] = dask_task.compute()\n",
    "    \n",
    "tot_time = (datetime.now() - t).total_seconds()\n",
    "print(f\"{tot_time:.2f} seconds, {addresses_dask.shape[0]/tot_time:.2f} it/s\")\n",
    "# KBO dataset:\n",
    "# Normal mode: 24.52 seconds, 40.79 it/s\n",
    "# Fastmode:    15.81 seconds, 63.27 it/s\n",
    "\n",
    "\n",
    "# Resto dataset:\n",
    "# Normal mode: 27.86 seconds, 35.89 it/s\n",
    "# Fast mode:   18.44 seconds, 54.23 it/s\n",
    "\n",
    "# Best dataset: \n",
    "# Normal mode: 16.11 seconds, 62.07 it/s\n",
    "# Fast mode:    9.76 seconds, 102.42 it/s"
   ]
  },
  {
   "cell_type": "code",
   "execution_count": 90,
   "metadata": {
    "ExecuteTime": {
     "end_time": "2022-12-15T12:03:26.279768Z",
     "start_time": "2022-12-15T12:03:26.276747Z"
    }
   },
   "outputs": [],
   "source": [
    "# 1000, 1 worker: 4m18\n",
    "# 4 workers, npart=4 : 1m20\n",
    "# 8 workers, npart=4 : 1m20\n",
    "# 8 workers, npart=8 : 44s\n",
    "\n",
    "# with checker=False:\n",
    "# 8 workers, npart=8 : 24s\n"
   ]
  },
  {
   "cell_type": "code",
   "execution_count": 370,
   "metadata": {
    "ExecuteTime": {
     "end_time": "2022-12-15T16:03:59.761207Z",
     "start_time": "2022-12-15T16:03:59.705752Z"
    },
    "scrolled": true
   },
   "outputs": [
    {
     "data": {
      "text/html": [
       "<div>\n",
       "<style scoped>\n",
       "    .dataframe tbody tr th:only-of-type {\n",
       "        vertical-align: middle;\n",
       "    }\n",
       "\n",
       "    .dataframe tbody tr th {\n",
       "        vertical-align: top;\n",
       "    }\n",
       "\n",
       "    .dataframe thead th {\n",
       "        text-align: right;\n",
       "    }\n",
       "</style>\n",
       "<table border=\"1\" class=\"dataframe\">\n",
       "  <thead>\n",
       "    <tr style=\"text-align: right;\">\n",
       "      <th></th>\n",
       "      <th>street</th>\n",
       "      <th>housenumber</th>\n",
       "      <th>city</th>\n",
       "      <th>postcode</th>\n",
       "      <th>CountryFR</th>\n",
       "      <th>addr_key</th>\n",
       "      <th>json</th>\n",
       "      <th>status</th>\n",
       "      <th>time</th>\n",
       "      <th>timing</th>\n",
       "      <th>method</th>\n",
       "      <th>addr_out_street</th>\n",
       "      <th>addr_out_number</th>\n",
       "      <th>addr_out_postcode</th>\n",
       "      <th>addr_out_city</th>\n",
       "    </tr>\n",
       "  </thead>\n",
       "  <tbody>\n",
       "    <tr>\n",
       "      <th>0</th>\n",
       "      <td>Chaussée de Namur</td>\n",
       "      <td>198</td>\n",
       "      <td>LEUZE</td>\n",
       "      <td>5310</td>\n",
       "      <td>Belgique</td>\n",
       "      <td>0</td>\n",
       "      <td>{'match': [{'addr_out_city': 'Leuze', 'addr_ou...</td>\n",
       "      <td>match</td>\n",
       "      <td>0.030375</td>\n",
       "      <td>{''t&amp;p &gt; transformer &gt; libpostal': 0.0, ''t&amp;p ...</td>\n",
       "      <td>fast</td>\n",
       "      <td>Chaussée de Namur</td>\n",
       "      <td>198</td>\n",
       "      <td>5310</td>\n",
       "      <td>Leuze</td>\n",
       "    </tr>\n",
       "    <tr>\n",
       "      <th>1</th>\n",
       "      <td>Rue de la Halle</td>\n",
       "      <td>11</td>\n",
       "      <td>NAMUR</td>\n",
       "      <td>5000</td>\n",
       "      <td>Belgique</td>\n",
       "      <td>1</td>\n",
       "      <td>{'match': [{'addr_out_city': 'Namur', 'addr_ou...</td>\n",
       "      <td>match</td>\n",
       "      <td>0.032265</td>\n",
       "      <td>{''t&amp;p &gt; transformer &gt; libpostal': 0.0, ''t&amp;p ...</td>\n",
       "      <td>fast</td>\n",
       "      <td>Rue de la Halle</td>\n",
       "      <td></td>\n",
       "      <td>5000</td>\n",
       "      <td>Namur</td>\n",
       "    </tr>\n",
       "    <tr>\n",
       "      <th>2</th>\n",
       "      <td>Avenue Jacques Sermon</td>\n",
       "      <td>38</td>\n",
       "      <td>GANSHOREN</td>\n",
       "      <td>1083</td>\n",
       "      <td>Belgique</td>\n",
       "      <td>2</td>\n",
       "      <td>{'match': [{'addr_out_city': 'Ganshoren', 'add...</td>\n",
       "      <td>match</td>\n",
       "      <td>0.035799</td>\n",
       "      <td>{''t&amp;p &gt; transformer &gt; libpostal': 0.0, ''t&amp;p ...</td>\n",
       "      <td>fast</td>\n",
       "      <td>Avenue Jacques Sermon - Jacques Sermonlaan</td>\n",
       "      <td>38</td>\n",
       "      <td>1083</td>\n",
       "      <td>Ganshoren</td>\n",
       "    </tr>\n",
       "    <tr>\n",
       "      <th>3</th>\n",
       "      <td>rue du Centre</td>\n",
       "      <td>200</td>\n",
       "      <td>WAIMES</td>\n",
       "      <td>4950</td>\n",
       "      <td>Belgique</td>\n",
       "      <td>3</td>\n",
       "      <td>{'match': [{'addr_out_city': 'Waimes', 'addr_o...</td>\n",
       "      <td>match</td>\n",
       "      <td>0.045275</td>\n",
       "      <td>{''t&amp;p &gt; transformer &gt; libpostal': 0.0, ''t&amp;p ...</td>\n",
       "      <td>fast</td>\n",
       "      <td>Rue du Centre</td>\n",
       "      <td></td>\n",
       "      <td>4950</td>\n",
       "      <td>Waimes</td>\n",
       "    </tr>\n",
       "    <tr>\n",
       "      <th>4</th>\n",
       "      <td>Kleine Waterstraat</td>\n",
       "      <td>9</td>\n",
       "      <td>HULSHOUT</td>\n",
       "      <td>2235</td>\n",
       "      <td>Belgique</td>\n",
       "      <td>4</td>\n",
       "      <td>{'match': [{'addr_out_city': 'Hulshout', 'addr...</td>\n",
       "      <td>match</td>\n",
       "      <td>0.030662</td>\n",
       "      <td>{''t&amp;p &gt; transformer &gt; libpostal': 0.0, ''t&amp;p ...</td>\n",
       "      <td>fast</td>\n",
       "      <td>Kleine Waterstraat</td>\n",
       "      <td>9</td>\n",
       "      <td>2235</td>\n",
       "      <td>Hulshout</td>\n",
       "    </tr>\n",
       "    <tr>\n",
       "      <th>...</th>\n",
       "      <td>...</td>\n",
       "      <td>...</td>\n",
       "      <td>...</td>\n",
       "      <td>...</td>\n",
       "      <td>...</td>\n",
       "      <td>...</td>\n",
       "      <td>...</td>\n",
       "      <td>...</td>\n",
       "      <td>...</td>\n",
       "      <td>...</td>\n",
       "      <td>...</td>\n",
       "      <td>...</td>\n",
       "      <td>...</td>\n",
       "      <td>...</td>\n",
       "      <td>...</td>\n",
       "    </tr>\n",
       "    <tr>\n",
       "      <th>995</th>\n",
       "      <td>Rue Americaine</td>\n",
       "      <td>90</td>\n",
       "      <td>IXELLES</td>\n",
       "      <td>1050</td>\n",
       "      <td>Belgique</td>\n",
       "      <td>995</td>\n",
       "      <td>{'match': [{'addr_out_city': 'Ixelles - Elsene...</td>\n",
       "      <td>match</td>\n",
       "      <td>0.029608</td>\n",
       "      <td>{''t&amp;p &gt; transformer &gt; libpostal': 0.0, ''t&amp;p ...</td>\n",
       "      <td>fast</td>\n",
       "      <td>Rue Américaine - Amerikaanse straat</td>\n",
       "      <td></td>\n",
       "      <td>1050</td>\n",
       "      <td>Ixelles - Elsene</td>\n",
       "    </tr>\n",
       "    <tr>\n",
       "      <th>996</th>\n",
       "      <td>Kloosterstraat</td>\n",
       "      <td>60</td>\n",
       "      <td>EKEREN</td>\n",
       "      <td>2180</td>\n",
       "      <td>Belgique</td>\n",
       "      <td>996</td>\n",
       "      <td>{'match': [{'addr_out_city': 'Ekeren', 'addr_o...</td>\n",
       "      <td>match</td>\n",
       "      <td>0.024305</td>\n",
       "      <td>{''t&amp;p &gt; transformer &gt; libpostal': 0.0, ''t&amp;p ...</td>\n",
       "      <td>fast</td>\n",
       "      <td>Kloosterstraat</td>\n",
       "      <td>60</td>\n",
       "      <td>2180</td>\n",
       "      <td>Ekeren</td>\n",
       "    </tr>\n",
       "    <tr>\n",
       "      <th>997</th>\n",
       "      <td>Markt</td>\n",
       "      <td>13</td>\n",
       "      <td>BALEN</td>\n",
       "      <td>2490</td>\n",
       "      <td>Belgique</td>\n",
       "      <td>997</td>\n",
       "      <td>{'match': [{'addr_out_city': 'Balen', 'addr_ou...</td>\n",
       "      <td>match</td>\n",
       "      <td>0.022344</td>\n",
       "      <td>{''t&amp;p &gt; transformer &gt; libpostal': 0.0, ''t&amp;p ...</td>\n",
       "      <td>fast</td>\n",
       "      <td>Markt</td>\n",
       "      <td>13</td>\n",
       "      <td>2490</td>\n",
       "      <td>Balen</td>\n",
       "    </tr>\n",
       "    <tr>\n",
       "      <th>998</th>\n",
       "      <td>Lange Lobroekstraat</td>\n",
       "      <td>65</td>\n",
       "      <td>ANVERS</td>\n",
       "      <td>2060</td>\n",
       "      <td>Belgique</td>\n",
       "      <td>998</td>\n",
       "      <td>{'match': [{'addr_out_city': 'Antwerpen', 'add...</td>\n",
       "      <td>match</td>\n",
       "      <td>0.022515</td>\n",
       "      <td>{''t&amp;p &gt; transformer &gt; libpostal': 0.0, ''t&amp;p ...</td>\n",
       "      <td>fast</td>\n",
       "      <td>Lange Lobroekstraat</td>\n",
       "      <td>65</td>\n",
       "      <td>2060</td>\n",
       "      <td>Antwerpen</td>\n",
       "    </tr>\n",
       "    <tr>\n",
       "      <th>999</th>\n",
       "      <td>Borgval</td>\n",
       "      <td>7</td>\n",
       "      <td>BRUXELLES CENTRE</td>\n",
       "      <td>1000</td>\n",
       "      <td>Belgique</td>\n",
       "      <td>999</td>\n",
       "      <td>{'match': [{'addr_out_city': 'Bruxelles - Brus...</td>\n",
       "      <td>match</td>\n",
       "      <td>0.019360</td>\n",
       "      <td>{''t&amp;p &gt; transformer &gt; libpostal': 0.0, ''t&amp;p ...</td>\n",
       "      <td>fast</td>\n",
       "      <td>Borgval - Borgwal</td>\n",
       "      <td>7</td>\n",
       "      <td>1000</td>\n",
       "      <td>Bruxelles - Brussel</td>\n",
       "    </tr>\n",
       "  </tbody>\n",
       "</table>\n",
       "<p>1000 rows × 15 columns</p>\n",
       "</div>"
      ],
      "text/plain": [
       "                    street housenumber              city postcode CountryFR  \\\n",
       "0        Chaussée de Namur         198             LEUZE     5310  Belgique   \n",
       "1          Rue de la Halle          11             NAMUR     5000  Belgique   \n",
       "2    Avenue Jacques Sermon          38         GANSHOREN     1083  Belgique   \n",
       "3            rue du Centre         200            WAIMES     4950  Belgique   \n",
       "4       Kleine Waterstraat           9          HULSHOUT     2235  Belgique   \n",
       "..                     ...         ...               ...      ...       ...   \n",
       "995         Rue Americaine          90           IXELLES     1050  Belgique   \n",
       "996         Kloosterstraat          60            EKEREN     2180  Belgique   \n",
       "997                  Markt          13             BALEN     2490  Belgique   \n",
       "998    Lange Lobroekstraat          65            ANVERS     2060  Belgique   \n",
       "999                Borgval           7  BRUXELLES CENTRE     1000  Belgique   \n",
       "\n",
       "    addr_key                                               json status  \\\n",
       "0          0  {'match': [{'addr_out_city': 'Leuze', 'addr_ou...  match   \n",
       "1          1  {'match': [{'addr_out_city': 'Namur', 'addr_ou...  match   \n",
       "2          2  {'match': [{'addr_out_city': 'Ganshoren', 'add...  match   \n",
       "3          3  {'match': [{'addr_out_city': 'Waimes', 'addr_o...  match   \n",
       "4          4  {'match': [{'addr_out_city': 'Hulshout', 'addr...  match   \n",
       "..       ...                                                ...    ...   \n",
       "995      995  {'match': [{'addr_out_city': 'Ixelles - Elsene...  match   \n",
       "996      996  {'match': [{'addr_out_city': 'Ekeren', 'addr_o...  match   \n",
       "997      997  {'match': [{'addr_out_city': 'Balen', 'addr_ou...  match   \n",
       "998      998  {'match': [{'addr_out_city': 'Antwerpen', 'add...  match   \n",
       "999      999  {'match': [{'addr_out_city': 'Bruxelles - Brus...  match   \n",
       "\n",
       "         time                                             timing method  \\\n",
       "0    0.030375  {''t&p > transformer > libpostal': 0.0, ''t&p ...   fast   \n",
       "1    0.032265  {''t&p > transformer > libpostal': 0.0, ''t&p ...   fast   \n",
       "2    0.035799  {''t&p > transformer > libpostal': 0.0, ''t&p ...   fast   \n",
       "3    0.045275  {''t&p > transformer > libpostal': 0.0, ''t&p ...   fast   \n",
       "4    0.030662  {''t&p > transformer > libpostal': 0.0, ''t&p ...   fast   \n",
       "..        ...                                                ...    ...   \n",
       "995  0.029608  {''t&p > transformer > libpostal': 0.0, ''t&p ...   fast   \n",
       "996  0.024305  {''t&p > transformer > libpostal': 0.0, ''t&p ...   fast   \n",
       "997  0.022344  {''t&p > transformer > libpostal': 0.0, ''t&p ...   fast   \n",
       "998  0.022515  {''t&p > transformer > libpostal': 0.0, ''t&p ...   fast   \n",
       "999  0.019360  {''t&p > transformer > libpostal': 0.0, ''t&p ...   fast   \n",
       "\n",
       "                                addr_out_street addr_out_number  \\\n",
       "0                             Chaussée de Namur             198   \n",
       "1                               Rue de la Halle                   \n",
       "2    Avenue Jacques Sermon - Jacques Sermonlaan              38   \n",
       "3                                 Rue du Centre                   \n",
       "4                            Kleine Waterstraat               9   \n",
       "..                                          ...             ...   \n",
       "995         Rue Américaine - Amerikaanse straat                   \n",
       "996                              Kloosterstraat              60   \n",
       "997                                       Markt              13   \n",
       "998                         Lange Lobroekstraat              65   \n",
       "999                           Borgval - Borgwal               7   \n",
       "\n",
       "    addr_out_postcode        addr_out_city  \n",
       "0                5310                Leuze  \n",
       "1                5000                Namur  \n",
       "2                1083            Ganshoren  \n",
       "3                4950               Waimes  \n",
       "4                2235             Hulshout  \n",
       "..                ...                  ...  \n",
       "995              1050     Ixelles - Elsene  \n",
       "996              2180               Ekeren  \n",
       "997              2490                Balen  \n",
       "998              2060            Antwerpen  \n",
       "999              1000  Bruxelles - Brussel  \n",
       "\n",
       "[1000 rows x 15 columns]"
      ]
     },
     "execution_count": 370,
     "metadata": {},
     "output_type": "execute_result"
    }
   ],
   "source": [
    "expand_json(addresses_dask)\n",
    "addresses_dask"
   ]
  },
  {
   "cell_type": "code",
   "execution_count": 201,
   "metadata": {
    "ExecuteTime": {
     "end_time": "2022-12-15T13:33:20.886278Z",
     "start_time": "2022-12-15T13:33:20.879397Z"
    }
   },
   "outputs": [
    {
     "data": {
      "text/plain": [
       "fast                             979\n",
       "libpostal+regex[lpost]+photon     11\n",
       "nostreet                           7\n",
       "regex[init]                        2\n",
       "nonum                              1\n",
       "Name: method, dtype: int64"
      ]
     },
     "execution_count": 201,
     "metadata": {},
     "output_type": "execute_result"
    }
   ],
   "source": [
    "addresses_dask.method.value_counts()#.json.loc[550]"
   ]
  },
  {
   "cell_type": "code",
   "execution_count": 232,
   "metadata": {
    "ExecuteTime": {
     "end_time": "2022-12-15T13:55:18.965732Z",
     "start_time": "2022-12-15T13:55:18.938665Z"
    }
   },
   "outputs": [
    {
     "name": "stdout",
     "output_type": "stream",
     "text": [
      "Same result in seq and dask run!\n"
     ]
    }
   ],
   "source": [
    "mg = addresses_seq[[\"addr_key\", \"city\", \"postcode\",\"street\", \"housenumber\", \"addr_out_street\", \"addr_out_number\", \"addr_out_postcode\", \"addr_out_city\"]].merge(\n",
    "    addresses_dask[[\"addr_key\", \"city\", \"postcode\",\"street\", \"housenumber\", \"addr_out_street\", \"addr_out_number\", \"addr_out_postcode\", \"addr_out_city\"]], how=\"outer\", indicator=True)\n",
    "if mg.shape[0] == addresses.shape[0]:\n",
    "    print(\"Same result in seq and dask run!\")\n",
    "else: \n",
    "    print(\"!!! Not the same result in seq and dask run!\")\n",
    "    "
   ]
  },
  {
   "cell_type": "code",
   "execution_count": 233,
   "metadata": {
    "ExecuteTime": {
     "end_time": "2022-12-15T13:55:21.954288Z",
     "start_time": "2022-12-15T13:55:21.939029Z"
    },
    "scrolled": true
   },
   "outputs": [
    {
     "data": {
      "text/html": [
       "<div>\n",
       "<style scoped>\n",
       "    .dataframe tbody tr th:only-of-type {\n",
       "        vertical-align: middle;\n",
       "    }\n",
       "\n",
       "    .dataframe tbody tr th {\n",
       "        vertical-align: top;\n",
       "    }\n",
       "\n",
       "    .dataframe thead th {\n",
       "        text-align: right;\n",
       "    }\n",
       "</style>\n",
       "<table border=\"1\" class=\"dataframe\">\n",
       "  <thead>\n",
       "    <tr style=\"text-align: right;\">\n",
       "      <th></th>\n",
       "      <th>addr_key</th>\n",
       "      <th>city</th>\n",
       "      <th>postcode</th>\n",
       "      <th>street</th>\n",
       "      <th>housenumber</th>\n",
       "      <th>addr_out_street</th>\n",
       "      <th>addr_out_number</th>\n",
       "      <th>addr_out_postcode</th>\n",
       "      <th>addr_out_city</th>\n",
       "      <th>_merge</th>\n",
       "    </tr>\n",
       "  </thead>\n",
       "  <tbody>\n",
       "  </tbody>\n",
       "</table>\n",
       "</div>"
      ],
      "text/plain": [
       "Empty DataFrame\n",
       "Columns: [addr_key, city, postcode, street, housenumber, addr_out_street, addr_out_number, addr_out_postcode, addr_out_city, _merge]\n",
       "Index: []"
      ]
     },
     "execution_count": 233,
     "metadata": {},
     "output_type": "execute_result"
    }
   ],
   "source": [
    "mg[mg._merge != \"both\"].sort_values(\"addr_key\")\n"
   ]
  },
  {
   "cell_type": "markdown",
   "metadata": {
    "ExecuteTime": {
     "end_time": "2020-09-30T10:09:38.533274Z",
     "start_time": "2020-09-30T10:09:38.528729Z"
    }
   },
   "source": [
    "## Batch calls (batch WS)"
   ]
  },
  {
   "cell_type": "markdown",
   "metadata": {
    "ExecuteTime": {
     "end_time": "2020-09-30T10:13:11.087024Z",
     "start_time": "2020-09-30T10:13:11.082413Z"
    }
   },
   "source": [
    "### Single block"
   ]
  },
  {
   "cell_type": "code",
   "execution_count": 347,
   "metadata": {
    "ExecuteTime": {
     "end_time": "2022-12-15T15:14:33.903907Z",
     "start_time": "2022-12-15T15:14:09.897935Z"
    },
    "scrolled": true
   },
   "outputs": [
    {
     "ename": "KeyboardInterrupt",
     "evalue": "",
     "output_type": "error",
     "traceback": [
      "\u001b[0;31m---------------------------------------------------------------------------\u001b[0m",
      "\u001b[0;31mKeyboardInterrupt\u001b[0m                         Traceback (most recent call last)",
      "Input \u001b[0;32mIn [347]\u001b[0m, in \u001b[0;36m<cell line: 3>\u001b[0;34m()\u001b[0m\n\u001b[1;32m      1\u001b[0m t \u001b[38;5;241m=\u001b[39m datetime\u001b[38;5;241m.\u001b[39mnow()\n\u001b[0;32m----> 3\u001b[0m addresses_batch \u001b[38;5;241m=\u001b[39m \u001b[43mcall_ws_batch\u001b[49m\u001b[43m(\u001b[49m\u001b[43maddresses\u001b[49m\u001b[43m[\u001b[49m\u001b[43m[\u001b[49m\u001b[43maddr_key_field\u001b[49m\u001b[43m,\u001b[49m\u001b[43m \u001b[49m\u001b[43mstreet_field\u001b[49m\u001b[43m,\u001b[49m\u001b[43m \u001b[49m\u001b[43mhousenbr_field\u001b[49m\u001b[43m,\u001b[49m\u001b[43m \u001b[49m\u001b[43mpostcode_field\u001b[49m\u001b[43m,\u001b[49m\u001b[43m \u001b[49m\u001b[43mcity_field\u001b[49m\u001b[43m,\u001b[49m\u001b[43m \u001b[49m\u001b[43mcountry_field\u001b[49m\u001b[43m]\u001b[49m\u001b[43m]\u001b[49m\u001b[43m,\u001b[49m\u001b[43m \u001b[49m\n\u001b[1;32m      4\u001b[0m \u001b[43m                                \u001b[49m\u001b[43mmode\u001b[49m\u001b[38;5;241;43m=\u001b[39;49m\u001b[38;5;124;43m\"\u001b[39;49m\u001b[38;5;124;43mlong\u001b[39;49m\u001b[38;5;124;43m\"\u001b[39;49m\u001b[43m,\u001b[49m\u001b[43m \u001b[49m\n\u001b[1;32m      5\u001b[0m \u001b[43m                                \u001b[49m\u001b[43mcheck_result\u001b[49m\u001b[38;5;241;43m=\u001b[39;49m\u001b[38;5;28;43;01mFalse\u001b[39;49;00m\u001b[43m,\u001b[49m\u001b[43m \u001b[49m\n\u001b[1;32m      6\u001b[0m \u001b[43m                                \u001b[49m\u001b[43mstructured_osm\u001b[49m\u001b[38;5;241;43m=\u001b[39;49m\u001b[38;5;28;43;01mFalse\u001b[39;49;00m\u001b[43m)\u001b[49m\n\u001b[1;32m      8\u001b[0m tot_time \u001b[38;5;241m=\u001b[39m (datetime\u001b[38;5;241m.\u001b[39mnow() \u001b[38;5;241m-\u001b[39m t)\u001b[38;5;241m.\u001b[39mtotal_seconds()\n\u001b[1;32m      9\u001b[0m \u001b[38;5;28mprint\u001b[39m(\u001b[38;5;124mf\u001b[39m\u001b[38;5;124m\"\u001b[39m\u001b[38;5;132;01m{\u001b[39;00mtot_time\u001b[38;5;132;01m:\u001b[39;00m\u001b[38;5;124m.2f\u001b[39m\u001b[38;5;132;01m}\u001b[39;00m\u001b[38;5;124m seconds, \u001b[39m\u001b[38;5;132;01m{\u001b[39;00maddresses\u001b[38;5;241m.\u001b[39mshape[\u001b[38;5;241m0\u001b[39m]\u001b[38;5;241m/\u001b[39mtot_time\u001b[38;5;132;01m:\u001b[39;00m\u001b[38;5;124m.2f\u001b[39m\u001b[38;5;132;01m}\u001b[39;00m\u001b[38;5;124m it/s\u001b[39m\u001b[38;5;124m\"\u001b[39m)\n",
      "Input \u001b[0;32mIn [9]\u001b[0m, in \u001b[0;36mcall_ws_batch\u001b[0;34m(addr_data, mode, with_reject, check_result, structured_osm)\u001b[0m\n\u001b[1;32m      1\u001b[0m \u001b[38;5;28;01mdef\u001b[39;00m \u001b[38;5;21mcall_ws_batch\u001b[39m(addr_data, mode\u001b[38;5;241m=\u001b[39m\u001b[38;5;124m\"\u001b[39m\u001b[38;5;124mgeo\u001b[39m\u001b[38;5;124m\"\u001b[39m, with_reject\u001b[38;5;241m=\u001b[39m\u001b[38;5;28;01mFalse\u001b[39;00m, check_result\u001b[38;5;241m=\u001b[39m\u001b[38;5;28;01mTrue\u001b[39;00m, structured_osm\u001b[38;5;241m=\u001b[39m\u001b[38;5;28;01mFalse\u001b[39;00m): \u001b[38;5;66;03m#lg = \"en,fr,nl\"\u001b[39;00m\n\u001b[1;32m      2\u001b[0m \u001b[38;5;66;03m#     print(addr_data)\u001b[39;00m\n\u001b[1;32m      3\u001b[0m \u001b[38;5;66;03m#     print(addr_data.shape)\u001b[39;00m\n\u001b[1;32m      4\u001b[0m \u001b[38;5;66;03m#     print()\u001b[39;00m\n\u001b[1;32m      5\u001b[0m     file_data \u001b[38;5;241m=\u001b[39m addr_data\u001b[38;5;241m.\u001b[39mrename(columns \u001b[38;5;241m=\u001b[39m {\n\u001b[1;32m      6\u001b[0m         street_field : \u001b[38;5;124m\"\u001b[39m\u001b[38;5;124mstreet\u001b[39m\u001b[38;5;124m\"\u001b[39m,\n\u001b[1;32m      7\u001b[0m         housenbr_field: \u001b[38;5;124m\"\u001b[39m\u001b[38;5;124mhousenumber\u001b[39m\u001b[38;5;124m\"\u001b[39m,\n\u001b[0;32m   (...)\u001b[0m\n\u001b[1;32m     11\u001b[0m         addr_key_field : \u001b[38;5;124m\"\u001b[39m\u001b[38;5;124maddr_key\u001b[39m\u001b[38;5;124m\"\u001b[39m\n\u001b[1;32m     12\u001b[0m     })\u001b[38;5;241m.\u001b[39mto_csv(index\u001b[38;5;241m=\u001b[39m\u001b[38;5;28;01mFalse\u001b[39;00m)\n\u001b[0;32m---> 14\u001b[0m     r \u001b[38;5;241m=\u001b[39m \u001b[43mhttp\u001b[49m\u001b[38;5;241;43m.\u001b[39;49m\u001b[43mrequest\u001b[49m\u001b[43m(\u001b[49m\n\u001b[1;32m     15\u001b[0m \u001b[43m    \u001b[49m\u001b[38;5;124;43m'\u001b[39;49m\u001b[38;5;124;43mPOST\u001b[39;49m\u001b[38;5;124;43m'\u001b[39;49m\u001b[43m,\u001b[49m\n\u001b[1;32m     16\u001b[0m \u001b[43m    \u001b[49m\u001b[38;5;124;43mf\u001b[39;49m\u001b[38;5;124;43m'\u001b[39;49m\u001b[38;5;124;43mhttp://\u001b[39;49m\u001b[38;5;132;43;01m{\u001b[39;49;00m\u001b[43mws_hostname\u001b[49m\u001b[38;5;132;43;01m}\u001b[39;49;00m\u001b[38;5;124;43m:5000/batch\u001b[39;49m\u001b[38;5;124;43m'\u001b[39;49m\u001b[43m,\u001b[49m\n\u001b[1;32m     17\u001b[0m \u001b[43m    \u001b[49m\u001b[43mfields\u001b[49m\u001b[38;5;241;43m=\u001b[39;49m\u001b[43m \u001b[49m\u001b[43m{\u001b[49m\u001b[43m \u001b[49m\n\u001b[1;32m     18\u001b[0m \u001b[43m        \u001b[49m\u001b[38;5;124;43m'\u001b[39;49m\u001b[38;5;124;43mmedia\u001b[39;49m\u001b[38;5;124;43m'\u001b[39;49m\u001b[43m:\u001b[49m\u001b[43m \u001b[49m\u001b[43m(\u001b[49m\u001b[38;5;124;43m'\u001b[39;49m\u001b[38;5;124;43maddresses.csv\u001b[39;49m\u001b[38;5;124;43m'\u001b[39;49m\u001b[43m,\u001b[49m\u001b[43m \u001b[49m\u001b[43mfile_data\u001b[49m\u001b[43m)\u001b[49m\u001b[43m,\u001b[49m\n\u001b[1;32m     19\u001b[0m \u001b[43m        \u001b[49m\u001b[38;5;124;43m'\u001b[39;49m\u001b[38;5;124;43mmode\u001b[39;49m\u001b[38;5;124;43m'\u001b[39;49m\u001b[43m:\u001b[49m\u001b[43m \u001b[49m\u001b[43mmode\u001b[49m\u001b[43m,\u001b[49m\n\u001b[1;32m     20\u001b[0m \u001b[43m        \u001b[49m\u001b[38;5;124;43m\"\u001b[39;49m\u001b[38;5;124;43mwith_rejected\u001b[39;49m\u001b[38;5;124;43m\"\u001b[39;49m\u001b[43m \u001b[49m\u001b[43m:\u001b[49m\u001b[43m \u001b[49m\u001b[38;5;124;43m\"\u001b[39;49m\u001b[38;5;124;43myes\u001b[39;49m\u001b[38;5;124;43m\"\u001b[39;49m\u001b[43m \u001b[49m\u001b[38;5;28;43;01mif\u001b[39;49;00m\u001b[43m \u001b[49m\u001b[43mwith_reject\u001b[49m\u001b[43m \u001b[49m\u001b[38;5;28;43;01melse\u001b[39;49;00m\u001b[43m \u001b[49m\u001b[38;5;124;43m\"\u001b[39;49m\u001b[38;5;124;43mno\u001b[39;49m\u001b[38;5;124;43m\"\u001b[39;49m\u001b[43m,\u001b[49m\n\u001b[1;32m     21\u001b[0m \u001b[43m        \u001b[49m\u001b[38;5;124;43m\"\u001b[39;49m\u001b[38;5;124;43mcheck_result\u001b[39;49m\u001b[38;5;124;43m\"\u001b[39;49m\u001b[43m \u001b[49m\u001b[43m:\u001b[49m\u001b[43m \u001b[49m\u001b[38;5;124;43m\"\u001b[39;49m\u001b[38;5;124;43myes\u001b[39;49m\u001b[38;5;124;43m\"\u001b[39;49m\u001b[43m \u001b[49m\u001b[38;5;28;43;01mif\u001b[39;49;00m\u001b[43m \u001b[49m\u001b[43mcheck_result\u001b[49m\u001b[43m \u001b[49m\u001b[38;5;28;43;01melse\u001b[39;49;00m\u001b[43m \u001b[49m\u001b[38;5;124;43m\"\u001b[39;49m\u001b[38;5;124;43mno\u001b[39;49m\u001b[38;5;124;43m\"\u001b[39;49m\u001b[43m,\u001b[49m\n\u001b[1;32m     22\u001b[0m \u001b[43m        \u001b[49m\u001b[38;5;124;43m\"\u001b[39;49m\u001b[38;5;124;43mstruct_osm\u001b[39;49m\u001b[38;5;124;43m\"\u001b[39;49m\u001b[43m \u001b[49m\u001b[43m:\u001b[49m\u001b[43m \u001b[49m\u001b[38;5;124;43m\"\u001b[39;49m\u001b[38;5;124;43myes\u001b[39;49m\u001b[38;5;124;43m\"\u001b[39;49m\u001b[43m \u001b[49m\u001b[38;5;28;43;01mif\u001b[39;49;00m\u001b[43m \u001b[49m\u001b[43mstructured_osm\u001b[49m\u001b[43m \u001b[49m\u001b[38;5;28;43;01melse\u001b[39;49;00m\u001b[43m \u001b[49m\u001b[38;5;124;43m\"\u001b[39;49m\u001b[38;5;124;43mno\u001b[39;49m\u001b[38;5;124;43m\"\u001b[39;49m\u001b[43m,\u001b[49m\n\u001b[1;32m     23\u001b[0m \u001b[43m        \u001b[49m\u001b[38;5;66;43;03m#\"extra_house_nbr\": \"no\"\u001b[39;49;00m\n\u001b[1;32m     24\u001b[0m \u001b[43m    \u001b[49m\u001b[43m}\u001b[49m\u001b[43m)\u001b[49m\n\u001b[1;32m     26\u001b[0m     \u001b[38;5;28;01mtry\u001b[39;00m:\n\u001b[1;32m     27\u001b[0m         res \u001b[38;5;241m=\u001b[39m pd\u001b[38;5;241m.\u001b[39mDataFrame(json\u001b[38;5;241m.\u001b[39mloads(r\u001b[38;5;241m.\u001b[39mdata\u001b[38;5;241m.\u001b[39mdecode(\u001b[38;5;124m'\u001b[39m\u001b[38;5;124mutf-8\u001b[39m\u001b[38;5;124m'\u001b[39m)))\n",
      "File \u001b[0;32m~/anaconda3/lib/python3.9/site-packages/urllib3/request.py:78\u001b[0m, in \u001b[0;36mRequestMethods.request\u001b[0;34m(self, method, url, fields, headers, **urlopen_kw)\u001b[0m\n\u001b[1;32m     74\u001b[0m     \u001b[38;5;28;01mreturn\u001b[39;00m \u001b[38;5;28mself\u001b[39m\u001b[38;5;241m.\u001b[39mrequest_encode_url(\n\u001b[1;32m     75\u001b[0m         method, url, fields\u001b[38;5;241m=\u001b[39mfields, headers\u001b[38;5;241m=\u001b[39mheaders, \u001b[38;5;241m*\u001b[39m\u001b[38;5;241m*\u001b[39murlopen_kw\n\u001b[1;32m     76\u001b[0m     )\n\u001b[1;32m     77\u001b[0m \u001b[38;5;28;01melse\u001b[39;00m:\n\u001b[0;32m---> 78\u001b[0m     \u001b[38;5;28;01mreturn\u001b[39;00m \u001b[38;5;28;43mself\u001b[39;49m\u001b[38;5;241;43m.\u001b[39;49m\u001b[43mrequest_encode_body\u001b[49m\u001b[43m(\u001b[49m\n\u001b[1;32m     79\u001b[0m \u001b[43m        \u001b[49m\u001b[43mmethod\u001b[49m\u001b[43m,\u001b[49m\u001b[43m \u001b[49m\u001b[43murl\u001b[49m\u001b[43m,\u001b[49m\u001b[43m \u001b[49m\u001b[43mfields\u001b[49m\u001b[38;5;241;43m=\u001b[39;49m\u001b[43mfields\u001b[49m\u001b[43m,\u001b[49m\u001b[43m \u001b[49m\u001b[43mheaders\u001b[49m\u001b[38;5;241;43m=\u001b[39;49m\u001b[43mheaders\u001b[49m\u001b[43m,\u001b[49m\u001b[43m \u001b[49m\u001b[38;5;241;43m*\u001b[39;49m\u001b[38;5;241;43m*\u001b[39;49m\u001b[43murlopen_kw\u001b[49m\n\u001b[1;32m     80\u001b[0m \u001b[43m    \u001b[49m\u001b[43m)\u001b[49m\n",
      "File \u001b[0;32m~/anaconda3/lib/python3.9/site-packages/urllib3/request.py:170\u001b[0m, in \u001b[0;36mRequestMethods.request_encode_body\u001b[0;34m(self, method, url, fields, headers, encode_multipart, multipart_boundary, **urlopen_kw)\u001b[0m\n\u001b[1;32m    167\u001b[0m extra_kw[\u001b[38;5;124m\"\u001b[39m\u001b[38;5;124mheaders\u001b[39m\u001b[38;5;124m\"\u001b[39m]\u001b[38;5;241m.\u001b[39mupdate(headers)\n\u001b[1;32m    168\u001b[0m extra_kw\u001b[38;5;241m.\u001b[39mupdate(urlopen_kw)\n\u001b[0;32m--> 170\u001b[0m \u001b[38;5;28;01mreturn\u001b[39;00m \u001b[38;5;28;43mself\u001b[39;49m\u001b[38;5;241;43m.\u001b[39;49m\u001b[43murlopen\u001b[49m\u001b[43m(\u001b[49m\u001b[43mmethod\u001b[49m\u001b[43m,\u001b[49m\u001b[43m \u001b[49m\u001b[43murl\u001b[49m\u001b[43m,\u001b[49m\u001b[43m \u001b[49m\u001b[38;5;241;43m*\u001b[39;49m\u001b[38;5;241;43m*\u001b[39;49m\u001b[43mextra_kw\u001b[49m\u001b[43m)\u001b[49m\n",
      "File \u001b[0;32m~/anaconda3/lib/python3.9/site-packages/urllib3/poolmanager.py:418\u001b[0m, in \u001b[0;36mPoolManager.urlopen\u001b[0;34m(self, method, url, redirect, **kw)\u001b[0m\n\u001b[1;32m    415\u001b[0m log\u001b[38;5;241m.\u001b[39minfo(\u001b[38;5;124m\"\u001b[39m\u001b[38;5;124mRedirecting \u001b[39m\u001b[38;5;132;01m%s\u001b[39;00m\u001b[38;5;124m -> \u001b[39m\u001b[38;5;132;01m%s\u001b[39;00m\u001b[38;5;124m\"\u001b[39m, url, redirect_location)\n\u001b[1;32m    417\u001b[0m response\u001b[38;5;241m.\u001b[39mdrain_conn()\n\u001b[0;32m--> 418\u001b[0m \u001b[38;5;28;01mreturn\u001b[39;00m \u001b[38;5;28;43mself\u001b[39;49m\u001b[38;5;241;43m.\u001b[39;49m\u001b[43murlopen\u001b[49m\u001b[43m(\u001b[49m\u001b[43mmethod\u001b[49m\u001b[43m,\u001b[49m\u001b[43m \u001b[49m\u001b[43mredirect_location\u001b[49m\u001b[43m,\u001b[49m\u001b[43m \u001b[49m\u001b[38;5;241;43m*\u001b[39;49m\u001b[38;5;241;43m*\u001b[39;49m\u001b[43mkw\u001b[49m\u001b[43m)\u001b[49m\n",
      "File \u001b[0;32m~/anaconda3/lib/python3.9/site-packages/urllib3/poolmanager.py:376\u001b[0m, in \u001b[0;36mPoolManager.urlopen\u001b[0;34m(self, method, url, redirect, **kw)\u001b[0m\n\u001b[1;32m    374\u001b[0m     response \u001b[38;5;241m=\u001b[39m conn\u001b[38;5;241m.\u001b[39murlopen(method, url, \u001b[38;5;241m*\u001b[39m\u001b[38;5;241m*\u001b[39mkw)\n\u001b[1;32m    375\u001b[0m \u001b[38;5;28;01melse\u001b[39;00m:\n\u001b[0;32m--> 376\u001b[0m     response \u001b[38;5;241m=\u001b[39m \u001b[43mconn\u001b[49m\u001b[38;5;241;43m.\u001b[39;49m\u001b[43murlopen\u001b[49m\u001b[43m(\u001b[49m\u001b[43mmethod\u001b[49m\u001b[43m,\u001b[49m\u001b[43m \u001b[49m\u001b[43mu\u001b[49m\u001b[38;5;241;43m.\u001b[39;49m\u001b[43mrequest_uri\u001b[49m\u001b[43m,\u001b[49m\u001b[43m \u001b[49m\u001b[38;5;241;43m*\u001b[39;49m\u001b[38;5;241;43m*\u001b[39;49m\u001b[43mkw\u001b[49m\u001b[43m)\u001b[49m\n\u001b[1;32m    378\u001b[0m redirect_location \u001b[38;5;241m=\u001b[39m redirect \u001b[38;5;129;01mand\u001b[39;00m response\u001b[38;5;241m.\u001b[39mget_redirect_location()\n\u001b[1;32m    379\u001b[0m \u001b[38;5;28;01mif\u001b[39;00m \u001b[38;5;129;01mnot\u001b[39;00m redirect_location:\n",
      "File \u001b[0;32m~/anaconda3/lib/python3.9/site-packages/urllib3/connectionpool.py:703\u001b[0m, in \u001b[0;36mHTTPConnectionPool.urlopen\u001b[0;34m(self, method, url, body, headers, retries, redirect, assert_same_host, timeout, pool_timeout, release_conn, chunked, body_pos, **response_kw)\u001b[0m\n\u001b[1;32m    700\u001b[0m     \u001b[38;5;28mself\u001b[39m\u001b[38;5;241m.\u001b[39m_prepare_proxy(conn)\n\u001b[1;32m    702\u001b[0m \u001b[38;5;66;03m# Make the request on the httplib connection object.\u001b[39;00m\n\u001b[0;32m--> 703\u001b[0m httplib_response \u001b[38;5;241m=\u001b[39m \u001b[38;5;28;43mself\u001b[39;49m\u001b[38;5;241;43m.\u001b[39;49m\u001b[43m_make_request\u001b[49m\u001b[43m(\u001b[49m\n\u001b[1;32m    704\u001b[0m \u001b[43m    \u001b[49m\u001b[43mconn\u001b[49m\u001b[43m,\u001b[49m\n\u001b[1;32m    705\u001b[0m \u001b[43m    \u001b[49m\u001b[43mmethod\u001b[49m\u001b[43m,\u001b[49m\n\u001b[1;32m    706\u001b[0m \u001b[43m    \u001b[49m\u001b[43murl\u001b[49m\u001b[43m,\u001b[49m\n\u001b[1;32m    707\u001b[0m \u001b[43m    \u001b[49m\u001b[43mtimeout\u001b[49m\u001b[38;5;241;43m=\u001b[39;49m\u001b[43mtimeout_obj\u001b[49m\u001b[43m,\u001b[49m\n\u001b[1;32m    708\u001b[0m \u001b[43m    \u001b[49m\u001b[43mbody\u001b[49m\u001b[38;5;241;43m=\u001b[39;49m\u001b[43mbody\u001b[49m\u001b[43m,\u001b[49m\n\u001b[1;32m    709\u001b[0m \u001b[43m    \u001b[49m\u001b[43mheaders\u001b[49m\u001b[38;5;241;43m=\u001b[39;49m\u001b[43mheaders\u001b[49m\u001b[43m,\u001b[49m\n\u001b[1;32m    710\u001b[0m \u001b[43m    \u001b[49m\u001b[43mchunked\u001b[49m\u001b[38;5;241;43m=\u001b[39;49m\u001b[43mchunked\u001b[49m\u001b[43m,\u001b[49m\n\u001b[1;32m    711\u001b[0m \u001b[43m\u001b[49m\u001b[43m)\u001b[49m\n\u001b[1;32m    713\u001b[0m \u001b[38;5;66;03m# If we're going to release the connection in ``finally:``, then\u001b[39;00m\n\u001b[1;32m    714\u001b[0m \u001b[38;5;66;03m# the response doesn't need to know about the connection. Otherwise\u001b[39;00m\n\u001b[1;32m    715\u001b[0m \u001b[38;5;66;03m# it will also try to release it and we'll have a double-release\u001b[39;00m\n\u001b[1;32m    716\u001b[0m \u001b[38;5;66;03m# mess.\u001b[39;00m\n\u001b[1;32m    717\u001b[0m response_conn \u001b[38;5;241m=\u001b[39m conn \u001b[38;5;28;01mif\u001b[39;00m \u001b[38;5;129;01mnot\u001b[39;00m release_conn \u001b[38;5;28;01melse\u001b[39;00m \u001b[38;5;28;01mNone\u001b[39;00m\n",
      "File \u001b[0;32m~/anaconda3/lib/python3.9/site-packages/urllib3/connectionpool.py:449\u001b[0m, in \u001b[0;36mHTTPConnectionPool._make_request\u001b[0;34m(self, conn, method, url, timeout, chunked, **httplib_request_kw)\u001b[0m\n\u001b[1;32m    444\u001b[0m             httplib_response \u001b[38;5;241m=\u001b[39m conn\u001b[38;5;241m.\u001b[39mgetresponse()\n\u001b[1;32m    445\u001b[0m         \u001b[38;5;28;01mexcept\u001b[39;00m \u001b[38;5;167;01mBaseException\u001b[39;00m \u001b[38;5;28;01mas\u001b[39;00m e:\n\u001b[1;32m    446\u001b[0m             \u001b[38;5;66;03m# Remove the TypeError from the exception chain in\u001b[39;00m\n\u001b[1;32m    447\u001b[0m             \u001b[38;5;66;03m# Python 3 (including for exceptions like SystemExit).\u001b[39;00m\n\u001b[1;32m    448\u001b[0m             \u001b[38;5;66;03m# Otherwise it looks like a bug in the code.\u001b[39;00m\n\u001b[0;32m--> 449\u001b[0m             \u001b[43msix\u001b[49m\u001b[38;5;241;43m.\u001b[39;49m\u001b[43mraise_from\u001b[49m\u001b[43m(\u001b[49m\u001b[43me\u001b[49m\u001b[43m,\u001b[49m\u001b[43m \u001b[49m\u001b[38;5;28;43;01mNone\u001b[39;49;00m\u001b[43m)\u001b[49m\n\u001b[1;32m    450\u001b[0m \u001b[38;5;28;01mexcept\u001b[39;00m (SocketTimeout, BaseSSLError, SocketError) \u001b[38;5;28;01mas\u001b[39;00m e:\n\u001b[1;32m    451\u001b[0m     \u001b[38;5;28mself\u001b[39m\u001b[38;5;241m.\u001b[39m_raise_timeout(err\u001b[38;5;241m=\u001b[39me, url\u001b[38;5;241m=\u001b[39murl, timeout_value\u001b[38;5;241m=\u001b[39mread_timeout)\n",
      "File \u001b[0;32m<string>:3\u001b[0m, in \u001b[0;36mraise_from\u001b[0;34m(value, from_value)\u001b[0m\n",
      "File \u001b[0;32m~/anaconda3/lib/python3.9/site-packages/urllib3/connectionpool.py:444\u001b[0m, in \u001b[0;36mHTTPConnectionPool._make_request\u001b[0;34m(self, conn, method, url, timeout, chunked, **httplib_request_kw)\u001b[0m\n\u001b[1;32m    441\u001b[0m \u001b[38;5;28;01mexcept\u001b[39;00m \u001b[38;5;167;01mTypeError\u001b[39;00m:\n\u001b[1;32m    442\u001b[0m     \u001b[38;5;66;03m# Python 3\u001b[39;00m\n\u001b[1;32m    443\u001b[0m     \u001b[38;5;28;01mtry\u001b[39;00m:\n\u001b[0;32m--> 444\u001b[0m         httplib_response \u001b[38;5;241m=\u001b[39m \u001b[43mconn\u001b[49m\u001b[38;5;241;43m.\u001b[39;49m\u001b[43mgetresponse\u001b[49m\u001b[43m(\u001b[49m\u001b[43m)\u001b[49m\n\u001b[1;32m    445\u001b[0m     \u001b[38;5;28;01mexcept\u001b[39;00m \u001b[38;5;167;01mBaseException\u001b[39;00m \u001b[38;5;28;01mas\u001b[39;00m e:\n\u001b[1;32m    446\u001b[0m         \u001b[38;5;66;03m# Remove the TypeError from the exception chain in\u001b[39;00m\n\u001b[1;32m    447\u001b[0m         \u001b[38;5;66;03m# Python 3 (including for exceptions like SystemExit).\u001b[39;00m\n\u001b[1;32m    448\u001b[0m         \u001b[38;5;66;03m# Otherwise it looks like a bug in the code.\u001b[39;00m\n\u001b[1;32m    449\u001b[0m         six\u001b[38;5;241m.\u001b[39mraise_from(e, \u001b[38;5;28;01mNone\u001b[39;00m)\n",
      "File \u001b[0;32m~/anaconda3/lib/python3.9/http/client.py:1377\u001b[0m, in \u001b[0;36mHTTPConnection.getresponse\u001b[0;34m(self)\u001b[0m\n\u001b[1;32m   1375\u001b[0m \u001b[38;5;28;01mtry\u001b[39;00m:\n\u001b[1;32m   1376\u001b[0m     \u001b[38;5;28;01mtry\u001b[39;00m:\n\u001b[0;32m-> 1377\u001b[0m         \u001b[43mresponse\u001b[49m\u001b[38;5;241;43m.\u001b[39;49m\u001b[43mbegin\u001b[49m\u001b[43m(\u001b[49m\u001b[43m)\u001b[49m\n\u001b[1;32m   1378\u001b[0m     \u001b[38;5;28;01mexcept\u001b[39;00m \u001b[38;5;167;01mConnectionError\u001b[39;00m:\n\u001b[1;32m   1379\u001b[0m         \u001b[38;5;28mself\u001b[39m\u001b[38;5;241m.\u001b[39mclose()\n",
      "File \u001b[0;32m~/anaconda3/lib/python3.9/http/client.py:320\u001b[0m, in \u001b[0;36mHTTPResponse.begin\u001b[0;34m(self)\u001b[0m\n\u001b[1;32m    318\u001b[0m \u001b[38;5;66;03m# read until we get a non-100 response\u001b[39;00m\n\u001b[1;32m    319\u001b[0m \u001b[38;5;28;01mwhile\u001b[39;00m \u001b[38;5;28;01mTrue\u001b[39;00m:\n\u001b[0;32m--> 320\u001b[0m     version, status, reason \u001b[38;5;241m=\u001b[39m \u001b[38;5;28;43mself\u001b[39;49m\u001b[38;5;241;43m.\u001b[39;49m\u001b[43m_read_status\u001b[49m\u001b[43m(\u001b[49m\u001b[43m)\u001b[49m\n\u001b[1;32m    321\u001b[0m     \u001b[38;5;28;01mif\u001b[39;00m status \u001b[38;5;241m!=\u001b[39m CONTINUE:\n\u001b[1;32m    322\u001b[0m         \u001b[38;5;28;01mbreak\u001b[39;00m\n",
      "File \u001b[0;32m~/anaconda3/lib/python3.9/http/client.py:281\u001b[0m, in \u001b[0;36mHTTPResponse._read_status\u001b[0;34m(self)\u001b[0m\n\u001b[1;32m    280\u001b[0m \u001b[38;5;28;01mdef\u001b[39;00m \u001b[38;5;21m_read_status\u001b[39m(\u001b[38;5;28mself\u001b[39m):\n\u001b[0;32m--> 281\u001b[0m     line \u001b[38;5;241m=\u001b[39m \u001b[38;5;28mstr\u001b[39m(\u001b[38;5;28;43mself\u001b[39;49m\u001b[38;5;241;43m.\u001b[39;49m\u001b[43mfp\u001b[49m\u001b[38;5;241;43m.\u001b[39;49m\u001b[43mreadline\u001b[49m\u001b[43m(\u001b[49m\u001b[43m_MAXLINE\u001b[49m\u001b[43m \u001b[49m\u001b[38;5;241;43m+\u001b[39;49m\u001b[43m \u001b[49m\u001b[38;5;241;43m1\u001b[39;49m\u001b[43m)\u001b[49m, \u001b[38;5;124m\"\u001b[39m\u001b[38;5;124miso-8859-1\u001b[39m\u001b[38;5;124m\"\u001b[39m)\n\u001b[1;32m    282\u001b[0m     \u001b[38;5;28;01mif\u001b[39;00m \u001b[38;5;28mlen\u001b[39m(line) \u001b[38;5;241m>\u001b[39m _MAXLINE:\n\u001b[1;32m    283\u001b[0m         \u001b[38;5;28;01mraise\u001b[39;00m LineTooLong(\u001b[38;5;124m\"\u001b[39m\u001b[38;5;124mstatus line\u001b[39m\u001b[38;5;124m\"\u001b[39m)\n",
      "File \u001b[0;32m~/anaconda3/lib/python3.9/socket.py:704\u001b[0m, in \u001b[0;36mSocketIO.readinto\u001b[0;34m(self, b)\u001b[0m\n\u001b[1;32m    702\u001b[0m \u001b[38;5;28;01mwhile\u001b[39;00m \u001b[38;5;28;01mTrue\u001b[39;00m:\n\u001b[1;32m    703\u001b[0m     \u001b[38;5;28;01mtry\u001b[39;00m:\n\u001b[0;32m--> 704\u001b[0m         \u001b[38;5;28;01mreturn\u001b[39;00m \u001b[38;5;28;43mself\u001b[39;49m\u001b[38;5;241;43m.\u001b[39;49m\u001b[43m_sock\u001b[49m\u001b[38;5;241;43m.\u001b[39;49m\u001b[43mrecv_into\u001b[49m\u001b[43m(\u001b[49m\u001b[43mb\u001b[49m\u001b[43m)\u001b[49m\n\u001b[1;32m    705\u001b[0m     \u001b[38;5;28;01mexcept\u001b[39;00m timeout:\n\u001b[1;32m    706\u001b[0m         \u001b[38;5;28mself\u001b[39m\u001b[38;5;241m.\u001b[39m_timeout_occurred \u001b[38;5;241m=\u001b[39m \u001b[38;5;28;01mTrue\u001b[39;00m\n",
      "\u001b[0;31mKeyboardInterrupt\u001b[0m: "
     ]
    }
   ],
   "source": [
    "t = datetime.now()\n",
    "\n",
    "addresses_batch = call_ws_batch(addresses[[addr_key_field, street_field, housenbr_field, postcode_field, city_field, country_field]], \n",
    "                                mode=\"long\", \n",
    "                                check_result=False, \n",
    "                                structured_osm=False)\n",
    "\n",
    "tot_time = (datetime.now() - t).total_seconds()\n",
    "print(f\"{tot_time:.2f} seconds, {addresses.shape[0]/tot_time:.2f} it/s\")\n",
    "# KBO dataset: 33.94 seconds, 29.46 it/s\n",
    "# Best:        24.99 seconds, 40.01 it/s\n",
    "# Resto:       38.33 seconds, 26.09 it/s"
   ]
  },
  {
   "cell_type": "code",
   "execution_count": 344,
   "metadata": {
    "ExecuteTime": {
     "end_time": "2022-12-15T15:11:47.677003Z",
     "start_time": "2022-12-15T15:11:47.663439Z"
    },
    "scrolled": true
   },
   "outputs": [
    {
     "data": {
      "text/html": [
       "<div>\n",
       "<style scoped>\n",
       "    .dataframe tbody tr th:only-of-type {\n",
       "        vertical-align: middle;\n",
       "    }\n",
       "\n",
       "    .dataframe tbody tr th {\n",
       "        vertical-align: top;\n",
       "    }\n",
       "\n",
       "    .dataframe thead th {\n",
       "        text-align: right;\n",
       "    }\n",
       "</style>\n",
       "<table border=\"1\" class=\"dataframe\">\n",
       "  <thead>\n",
       "    <tr style=\"text-align: right;\">\n",
       "      <th></th>\n",
       "      <th>addr_key</th>\n",
       "      <th>CountryFR</th>\n",
       "      <th>postcode</th>\n",
       "      <th>city</th>\n",
       "      <th>street</th>\n",
       "      <th>housenumber</th>\n",
       "    </tr>\n",
       "  </thead>\n",
       "  <tbody>\n",
       "    <tr>\n",
       "      <th>424</th>\n",
       "      <td>1376463</td>\n",
       "      <td>Belgique</td>\n",
       "      <td>3511</td>\n",
       "      <td>Hasselt</td>\n",
       "      <td>Olmenbosstraat</td>\n",
       "      <td>25</td>\n",
       "    </tr>\n",
       "    <tr>\n",
       "      <th>654</th>\n",
       "      <td>2332135</td>\n",
       "      <td>Belgique</td>\n",
       "      <td>9820</td>\n",
       "      <td>Merelbeke</td>\n",
       "      <td>Waterstraat</td>\n",
       "      <td>2</td>\n",
       "    </tr>\n",
       "    <tr>\n",
       "      <th>707</th>\n",
       "      <td>1195503</td>\n",
       "      <td>Belgique</td>\n",
       "      <td>2660</td>\n",
       "      <td>Antwerpen</td>\n",
       "      <td>Aartselaarstraat</td>\n",
       "      <td>34</td>\n",
       "    </tr>\n",
       "    <tr>\n",
       "      <th>617</th>\n",
       "      <td>2651001</td>\n",
       "      <td>Belgique</td>\n",
       "      <td>1630</td>\n",
       "      <td>Linkebeek</td>\n",
       "      <td>Clos Roger Thiéry</td>\n",
       "      <td>2</td>\n",
       "    </tr>\n",
       "    <tr>\n",
       "      <th>257</th>\n",
       "      <td>2392434</td>\n",
       "      <td>Belgique</td>\n",
       "      <td>8850</td>\n",
       "      <td>Ardooie</td>\n",
       "      <td>Stationsstraat</td>\n",
       "      <td>3</td>\n",
       "    </tr>\n",
       "    <tr>\n",
       "      <th>...</th>\n",
       "      <td>...</td>\n",
       "      <td>...</td>\n",
       "      <td>...</td>\n",
       "      <td>...</td>\n",
       "      <td>...</td>\n",
       "      <td>...</td>\n",
       "    </tr>\n",
       "    <tr>\n",
       "      <th>822</th>\n",
       "      <td>1956739</td>\n",
       "      <td>Belgique</td>\n",
       "      <td>8400</td>\n",
       "      <td>Oostende</td>\n",
       "      <td>Nieuwpoortsesteenweg</td>\n",
       "      <td>604</td>\n",
       "    </tr>\n",
       "    <tr>\n",
       "      <th>121</th>\n",
       "      <td>2899607</td>\n",
       "      <td>Belgique</td>\n",
       "      <td>3500</td>\n",
       "      <td>Hasselt</td>\n",
       "      <td>Kempische steenweg</td>\n",
       "      <td>202</td>\n",
       "    </tr>\n",
       "    <tr>\n",
       "      <th>151</th>\n",
       "      <td>309015</td>\n",
       "      <td>Belgique</td>\n",
       "      <td>9451</td>\n",
       "      <td>Haaltert</td>\n",
       "      <td>Rijstraat(KE)</td>\n",
       "      <td>11</td>\n",
       "    </tr>\n",
       "    <tr>\n",
       "      <th>631</th>\n",
       "      <td>2489037</td>\n",
       "      <td>Belgique</td>\n",
       "      <td>8340</td>\n",
       "      <td>Damme</td>\n",
       "      <td>Stationsstraat</td>\n",
       "      <td>97</td>\n",
       "    </tr>\n",
       "    <tr>\n",
       "      <th>338</th>\n",
       "      <td>220390</td>\n",
       "      <td>Belgique</td>\n",
       "      <td>8800</td>\n",
       "      <td>Roeselare</td>\n",
       "      <td>Kerkstraat</td>\n",
       "      <td>33</td>\n",
       "    </tr>\n",
       "  </tbody>\n",
       "</table>\n",
       "<p>10000 rows × 6 columns</p>\n",
       "</div>"
      ],
      "text/plain": [
       "    addr_key CountryFR postcode       city                street housenumber\n",
       "424  1376463  Belgique     3511    Hasselt        Olmenbosstraat          25\n",
       "654  2332135  Belgique     9820  Merelbeke           Waterstraat           2\n",
       "707  1195503  Belgique     2660  Antwerpen      Aartselaarstraat          34\n",
       "617  2651001  Belgique     1630  Linkebeek     Clos Roger Thiéry           2\n",
       "257  2392434  Belgique     8850    Ardooie        Stationsstraat           3\n",
       "..       ...       ...      ...        ...                   ...         ...\n",
       "822  1956739  Belgique     8400   Oostende  Nieuwpoortsesteenweg         604\n",
       "121  2899607  Belgique     3500    Hasselt    Kempische steenweg         202\n",
       "151   309015  Belgique     9451   Haaltert         Rijstraat(KE)          11\n",
       "631  2489037  Belgique     8340      Damme        Stationsstraat          97\n",
       "338   220390  Belgique     8800  Roeselare            Kerkstraat          33\n",
       "\n",
       "[10000 rows x 6 columns]"
      ]
     },
     "execution_count": 344,
     "metadata": {},
     "output_type": "execute_result"
    }
   ],
   "source": [
    "addresses"
   ]
  },
  {
   "cell_type": "code",
   "execution_count": 242,
   "metadata": {
    "ExecuteTime": {
     "end_time": "2022-12-15T13:59:35.398244Z",
     "start_time": "2022-12-15T13:59:35.364403Z"
    }
   },
   "outputs": [
    {
     "name": "stdout",
     "output_type": "stream",
     "text": [
      "!!! Not the same result in seq and dask run!\n"
     ]
    }
   ],
   "source": [
    "mg = addresses_seq[[ \"city\", \"postcode\",\"street\", \"housenumber\", \"method\", \"addr_out_street\", \"addr_out_number\", \"addr_out_postcode\", \"addr_out_city\", \"addr_key\"]].fillna(\"\").replace(\"fast\", \"orig\").merge(\n",
    "    addresses_batch[[\"city\", \"postcode\",\"street\", \"housenumber\", \"method\", \"addr_out_street\", \"addr_out_number\", \"addr_out_postcode\", \"addr_out_city\", \"addr_key\"]].fillna(\"\"), how=\"outer\", indicator=True)\n",
    "if mg[mg._merge == \"both\"].shape[0] == addresses.shape[0]:\n",
    "    print(\"Same result in seq and dask run!\")\n",
    "else: \n",
    "    print(\"!!! Not the same result in seq and dask run!\")\n",
    "    "
   ]
  },
  {
   "cell_type": "code",
   "execution_count": 243,
   "metadata": {
    "ExecuteTime": {
     "end_time": "2022-12-15T13:59:38.643043Z",
     "start_time": "2022-12-15T13:59:38.630928Z"
    }
   },
   "outputs": [
    {
     "data": {
      "text/html": [
       "<div>\n",
       "<style scoped>\n",
       "    .dataframe tbody tr th:only-of-type {\n",
       "        vertical-align: middle;\n",
       "    }\n",
       "\n",
       "    .dataframe tbody tr th {\n",
       "        vertical-align: top;\n",
       "    }\n",
       "\n",
       "    .dataframe thead th {\n",
       "        text-align: right;\n",
       "    }\n",
       "</style>\n",
       "<table border=\"1\" class=\"dataframe\">\n",
       "  <thead>\n",
       "    <tr style=\"text-align: right;\">\n",
       "      <th></th>\n",
       "      <th>city</th>\n",
       "      <th>postcode</th>\n",
       "      <th>street</th>\n",
       "      <th>housenumber</th>\n",
       "      <th>method</th>\n",
       "      <th>addr_out_street</th>\n",
       "      <th>addr_out_number</th>\n",
       "      <th>addr_out_postcode</th>\n",
       "      <th>addr_out_city</th>\n",
       "      <th>addr_key</th>\n",
       "      <th>_merge</th>\n",
       "    </tr>\n",
       "  </thead>\n",
       "  <tbody>\n",
       "    <tr>\n",
       "      <th>46</th>\n",
       "      <td>LIVES-SUR-MEUSE</td>\n",
       "      <td>5101</td>\n",
       "      <td>Chaussée de Marche</td>\n",
       "      <td>563</td>\n",
       "      <td>none</td>\n",
       "      <td></td>\n",
       "      <td></td>\n",
       "      <td></td>\n",
       "      <td></td>\n",
       "      <td>46</td>\n",
       "      <td>left_only</td>\n",
       "    </tr>\n",
       "    <tr>\n",
       "      <th>784</th>\n",
       "      <td>SART-LEZ-SPA</td>\n",
       "      <td>4845</td>\n",
       "      <td>route de Balmoral</td>\n",
       "      <td>35</td>\n",
       "      <td>none</td>\n",
       "      <td></td>\n",
       "      <td></td>\n",
       "      <td></td>\n",
       "      <td></td>\n",
       "      <td>784</td>\n",
       "      <td>left_only</td>\n",
       "    </tr>\n",
       "  </tbody>\n",
       "</table>\n",
       "</div>"
      ],
      "text/plain": [
       "                city postcode              street housenumber method  \\\n",
       "46   LIVES-SUR-MEUSE     5101  Chaussée de Marche         563   none   \n",
       "784     SART-LEZ-SPA     4845   route de Balmoral          35   none   \n",
       "\n",
       "    addr_out_street addr_out_number addr_out_postcode addr_out_city addr_key  \\\n",
       "46                                                                        46   \n",
       "784                                                                      784   \n",
       "\n",
       "        _merge  \n",
       "46   left_only  \n",
       "784  left_only  "
      ]
     },
     "execution_count": 243,
     "metadata": {},
     "output_type": "execute_result"
    }
   ],
   "source": [
    "mg[mg._merge != \"both\"]"
   ]
  },
  {
   "cell_type": "code",
   "execution_count": 213,
   "metadata": {
    "ExecuteTime": {
     "end_time": "2022-12-15T13:37:52.950693Z",
     "start_time": "2022-12-15T13:37:28.939165Z"
    }
   },
   "outputs": [
    {
     "data": {
      "text/html": [
       "<div>\n",
       "<style scoped>\n",
       "    .dataframe tbody tr th:only-of-type {\n",
       "        vertical-align: middle;\n",
       "    }\n",
       "\n",
       "    .dataframe tbody tr th {\n",
       "        vertical-align: top;\n",
       "    }\n",
       "\n",
       "    .dataframe thead th {\n",
       "        text-align: right;\n",
       "    }\n",
       "</style>\n",
       "<table border=\"1\" class=\"dataframe\">\n",
       "  <thead>\n",
       "    <tr style=\"text-align: right;\">\n",
       "      <th></th>\n",
       "      <th>addr_key</th>\n",
       "      <th>lat</th>\n",
       "      <th>lon</th>\n",
       "      <th>place_rank</th>\n",
       "      <th>method</th>\n",
       "    </tr>\n",
       "  </thead>\n",
       "  <tbody>\n",
       "    <tr>\n",
       "      <th>0</th>\n",
       "      <td>0</td>\n",
       "      <td>50.956670</td>\n",
       "      <td>3.641552</td>\n",
       "      <td>26.0</td>\n",
       "      <td>orig</td>\n",
       "    </tr>\n",
       "    <tr>\n",
       "      <th>1</th>\n",
       "      <td>1</td>\n",
       "      <td>50.911196</td>\n",
       "      <td>4.715074</td>\n",
       "      <td>30.0</td>\n",
       "      <td>orig</td>\n",
       "    </tr>\n",
       "    <tr>\n",
       "      <th>2</th>\n",
       "      <td>2</td>\n",
       "      <td>50.826581</td>\n",
       "      <td>4.302950</td>\n",
       "      <td>30.0</td>\n",
       "      <td>orig</td>\n",
       "    </tr>\n",
       "    <tr>\n",
       "      <th>3</th>\n",
       "      <td>3</td>\n",
       "      <td>51.184610</td>\n",
       "      <td>3.567174</td>\n",
       "      <td>26.0</td>\n",
       "      <td>orig</td>\n",
       "    </tr>\n",
       "    <tr>\n",
       "      <th>4</th>\n",
       "      <td>4</td>\n",
       "      <td>51.028284</td>\n",
       "      <td>4.603456</td>\n",
       "      <td>30.0</td>\n",
       "      <td>orig</td>\n",
       "    </tr>\n",
       "    <tr>\n",
       "      <th>...</th>\n",
       "      <td>...</td>\n",
       "      <td>...</td>\n",
       "      <td>...</td>\n",
       "      <td>...</td>\n",
       "      <td>...</td>\n",
       "    </tr>\n",
       "    <tr>\n",
       "      <th>995</th>\n",
       "      <td>233</td>\n",
       "      <td>50.848531</td>\n",
       "      <td>3.537555</td>\n",
       "      <td>14.0</td>\n",
       "      <td>nostreet</td>\n",
       "    </tr>\n",
       "    <tr>\n",
       "      <th>996</th>\n",
       "      <td>874</td>\n",
       "      <td>50.848531</td>\n",
       "      <td>3.537555</td>\n",
       "      <td>14.0</td>\n",
       "      <td>nostreet</td>\n",
       "    </tr>\n",
       "    <tr>\n",
       "      <th>997</th>\n",
       "      <td>207</td>\n",
       "      <td>51.057013</td>\n",
       "      <td>3.799241</td>\n",
       "      <td>21.0</td>\n",
       "      <td>nostreet</td>\n",
       "    </tr>\n",
       "    <tr>\n",
       "      <th>998</th>\n",
       "      <td>460</td>\n",
       "      <td>50.816471</td>\n",
       "      <td>3.339828</td>\n",
       "      <td>21.0</td>\n",
       "      <td>nostreet</td>\n",
       "    </tr>\n",
       "    <tr>\n",
       "      <th>999</th>\n",
       "      <td>835</td>\n",
       "      <td>50.816471</td>\n",
       "      <td>3.339828</td>\n",
       "      <td>21.0</td>\n",
       "      <td>nostreet</td>\n",
       "    </tr>\n",
       "  </tbody>\n",
       "</table>\n",
       "<p>1000 rows × 5 columns</p>\n",
       "</div>"
      ],
      "text/plain": [
       "    addr_key        lat       lon  place_rank    method\n",
       "0          0  50.956670  3.641552        26.0      orig\n",
       "1          1  50.911196  4.715074        30.0      orig\n",
       "2          2  50.826581  4.302950        30.0      orig\n",
       "3          3  51.184610  3.567174        26.0      orig\n",
       "4          4  51.028284  4.603456        30.0      orig\n",
       "..       ...        ...       ...         ...       ...\n",
       "995      233  50.848531  3.537555        14.0  nostreet\n",
       "996      874  50.848531  3.537555        14.0  nostreet\n",
       "997      207  51.057013  3.799241        21.0  nostreet\n",
       "998      460  50.816471  3.339828        21.0  nostreet\n",
       "999      835  50.816471  3.339828        21.0  nostreet\n",
       "\n",
       "[1000 rows x 5 columns]"
      ]
     },
     "execution_count": 213,
     "metadata": {},
     "output_type": "execute_result"
    }
   ],
   "source": [
    "# Geocode + address\n",
    "call_ws_batch(addresses[[addr_key_field, street_field, housenbr_field, postcode_field, city_field, country_field]], mode=\"geo\", check_result=False) "
   ]
  },
  {
   "cell_type": "code",
   "execution_count": 249,
   "metadata": {
    "ExecuteTime": {
     "end_time": "2022-12-12T14:37:55.117890Z",
     "start_time": "2022-12-12T14:37:24.690849Z"
    },
    "scrolled": true
   },
   "outputs": [
    {
     "data": {
      "text/html": [
       "<div>\n",
       "<style scoped>\n",
       "    .dataframe tbody tr th:only-of-type {\n",
       "        vertical-align: middle;\n",
       "    }\n",
       "\n",
       "    .dataframe tbody tr th {\n",
       "        vertical-align: top;\n",
       "    }\n",
       "\n",
       "    .dataframe thead th {\n",
       "        text-align: right;\n",
       "    }\n",
       "</style>\n",
       "<table border=\"1\" class=\"dataframe\">\n",
       "  <thead>\n",
       "    <tr style=\"text-align: right;\">\n",
       "      <th></th>\n",
       "      <th>addr_key</th>\n",
       "      <th>lat</th>\n",
       "      <th>lon</th>\n",
       "      <th>place_rank</th>\n",
       "      <th>method</th>\n",
       "      <th>place_id</th>\n",
       "      <th>addr_out_street</th>\n",
       "      <th>addr_out_number</th>\n",
       "      <th>in_house_nbr</th>\n",
       "      <th>lpost_house_nbr</th>\n",
       "      <th>lpost_unit</th>\n",
       "      <th>addr_out_postcode</th>\n",
       "      <th>addr_out_city</th>\n",
       "      <th>addr_out_country</th>\n",
       "    </tr>\n",
       "  </thead>\n",
       "  <tbody>\n",
       "    <tr>\n",
       "      <th>0</th>\n",
       "      <td>2762939</td>\n",
       "      <td>51.211615</td>\n",
       "      <td>4.649820</td>\n",
       "      <td>30.0</td>\n",
       "      <td>orig</td>\n",
       "      <td>1032308.0</td>\n",
       "      <td>Kriekenlaan</td>\n",
       "      <td>22</td>\n",
       "      <td>22</td>\n",
       "      <td>22</td>\n",
       "      <td></td>\n",
       "      <td>2240</td>\n",
       "      <td>Zandhoven</td>\n",
       "      <td>België / Belgique / Belgien</td>\n",
       "    </tr>\n",
       "    <tr>\n",
       "      <th>1</th>\n",
       "      <td>2253494</td>\n",
       "      <td>51.059548</td>\n",
       "      <td>2.870803</td>\n",
       "      <td>21.0</td>\n",
       "      <td>nostreet</td>\n",
       "      <td>4005124.0</td>\n",
       "      <td>None</td>\n",
       "      <td>None</td>\n",
       "      <td>*</td>\n",
       "      <td></td>\n",
       "      <td></td>\n",
       "      <td>8600</td>\n",
       "      <td>Diksmuide</td>\n",
       "      <td>België / Belgique / Belgien</td>\n",
       "    </tr>\n",
       "    <tr>\n",
       "      <th>2</th>\n",
       "      <td>1764140</td>\n",
       "      <td>50.924678</td>\n",
       "      <td>3.788056</td>\n",
       "      <td>26.0</td>\n",
       "      <td>orig</td>\n",
       "      <td>436186.0</td>\n",
       "      <td>Poststraat</td>\n",
       "      <td>None</td>\n",
       "      <td>19</td>\n",
       "      <td>19</td>\n",
       "      <td></td>\n",
       "      <td>9860</td>\n",
       "      <td>Issegem</td>\n",
       "      <td>België / Belgique / Belgien</td>\n",
       "    </tr>\n",
       "    <tr>\n",
       "      <th>3</th>\n",
       "      <td>87070</td>\n",
       "      <td>51.351333</td>\n",
       "      <td>3.285724</td>\n",
       "      <td>30.0</td>\n",
       "      <td>orig</td>\n",
       "      <td>3675084.0</td>\n",
       "      <td>Sylvain Dupuisstraat</td>\n",
       "      <td>24;26;28</td>\n",
       "      <td>26</td>\n",
       "      <td>26</td>\n",
       "      <td></td>\n",
       "      <td>8300</td>\n",
       "      <td>Knokke-Heist</td>\n",
       "      <td>België / Belgique / Belgien</td>\n",
       "    </tr>\n",
       "    <tr>\n",
       "      <th>4</th>\n",
       "      <td>2261339</td>\n",
       "      <td>50.977155</td>\n",
       "      <td>5.690444</td>\n",
       "      <td>26.0</td>\n",
       "      <td>orig</td>\n",
       "      <td>379663.0</td>\n",
       "      <td>Oude Baan</td>\n",
       "      <td>None</td>\n",
       "      <td>338</td>\n",
       "      <td></td>\n",
       "      <td>m 338</td>\n",
       "      <td>3630</td>\n",
       "      <td>Maasmechelen</td>\n",
       "      <td>België / Belgique / Belgien</td>\n",
       "    </tr>\n",
       "    <tr>\n",
       "      <th>...</th>\n",
       "      <td>...</td>\n",
       "      <td>...</td>\n",
       "      <td>...</td>\n",
       "      <td>...</td>\n",
       "      <td>...</td>\n",
       "      <td>...</td>\n",
       "      <td>...</td>\n",
       "      <td>...</td>\n",
       "      <td>...</td>\n",
       "      <td>...</td>\n",
       "      <td>...</td>\n",
       "      <td>...</td>\n",
       "      <td>...</td>\n",
       "      <td>...</td>\n",
       "    </tr>\n",
       "    <tr>\n",
       "      <th>995</th>\n",
       "      <td>2720764</td>\n",
       "      <td>50.462361</td>\n",
       "      <td>4.596458</td>\n",
       "      <td>30.0</td>\n",
       "      <td>regex[init]</td>\n",
       "      <td>2657266.0</td>\n",
       "      <td>Rue du Wainage</td>\n",
       "      <td>62</td>\n",
       "      <td>62</td>\n",
       "      <td>62</td>\n",
       "      <td></td>\n",
       "      <td>5060</td>\n",
       "      <td>Sambreville</td>\n",
       "      <td>België / Belgique / Belgien</td>\n",
       "    </tr>\n",
       "    <tr>\n",
       "      <th>996</th>\n",
       "      <td>386196</td>\n",
       "      <td>50.639445</td>\n",
       "      <td>3.349058</td>\n",
       "      <td>26.0</td>\n",
       "      <td>orig</td>\n",
       "      <td>1983533.0</td>\n",
       "      <td>Chaussée de Tournai</td>\n",
       "      <td>None</td>\n",
       "      <td>4</td>\n",
       "      <td>4</td>\n",
       "      <td></td>\n",
       "      <td>7520</td>\n",
       "      <td>Ramegnies-Chin</td>\n",
       "      <td>België / Belgique / Belgien</td>\n",
       "    </tr>\n",
       "    <tr>\n",
       "      <th>997</th>\n",
       "      <td>1474962</td>\n",
       "      <td>50.479737</td>\n",
       "      <td>3.838976</td>\n",
       "      <td>26.0</td>\n",
       "      <td>orig</td>\n",
       "      <td>432987.0</td>\n",
       "      <td>Rue Louis Caty</td>\n",
       "      <td>None</td>\n",
       "      <td>32</td>\n",
       "      <td>32</td>\n",
       "      <td></td>\n",
       "      <td>7331</td>\n",
       "      <td>Saint-Ghislain</td>\n",
       "      <td>België / Belgique / Belgien</td>\n",
       "    </tr>\n",
       "    <tr>\n",
       "      <th>998</th>\n",
       "      <td>2424889</td>\n",
       "      <td>50.606398</td>\n",
       "      <td>4.159495</td>\n",
       "      <td>26.0</td>\n",
       "      <td>orig</td>\n",
       "      <td>379561.0</td>\n",
       "      <td>Drève des Bouleaux</td>\n",
       "      <td>None</td>\n",
       "      <td>5</td>\n",
       "      <td>5</td>\n",
       "      <td></td>\n",
       "      <td>7090</td>\n",
       "      <td>Braine-le-Comte</td>\n",
       "      <td>België / Belgique / Belgien</td>\n",
       "    </tr>\n",
       "    <tr>\n",
       "      <th>999</th>\n",
       "      <td>2751621</td>\n",
       "      <td>50.491929</td>\n",
       "      <td>5.866972</td>\n",
       "      <td>30.0</td>\n",
       "      <td>orig</td>\n",
       "      <td>1868481.0</td>\n",
       "      <td>Rue Rogier</td>\n",
       "      <td>1</td>\n",
       "      <td>1</td>\n",
       "      <td>1</td>\n",
       "      <td></td>\n",
       "      <td>4900</td>\n",
       "      <td>Spa</td>\n",
       "      <td>België / Belgique / Belgien</td>\n",
       "    </tr>\n",
       "  </tbody>\n",
       "</table>\n",
       "<p>1000 rows × 14 columns</p>\n",
       "</div>"
      ],
      "text/plain": [
       "    addr_key        lat       lon  place_rank       method   place_id  \\\n",
       "0    2762939  51.211615  4.649820        30.0         orig  1032308.0   \n",
       "1    2253494  51.059548  2.870803        21.0     nostreet  4005124.0   \n",
       "2    1764140  50.924678  3.788056        26.0         orig   436186.0   \n",
       "3      87070  51.351333  3.285724        30.0         orig  3675084.0   \n",
       "4    2261339  50.977155  5.690444        26.0         orig   379663.0   \n",
       "..       ...        ...       ...         ...          ...        ...   \n",
       "995  2720764  50.462361  4.596458        30.0  regex[init]  2657266.0   \n",
       "996   386196  50.639445  3.349058        26.0         orig  1983533.0   \n",
       "997  1474962  50.479737  3.838976        26.0         orig   432987.0   \n",
       "998  2424889  50.606398  4.159495        26.0         orig   379561.0   \n",
       "999  2751621  50.491929  5.866972        30.0         orig  1868481.0   \n",
       "\n",
       "          addr_out_street addr_out_number in_house_nbr lpost_house_nbr  \\\n",
       "0             Kriekenlaan              22           22              22   \n",
       "1                    None            None            *                   \n",
       "2              Poststraat            None           19              19   \n",
       "3    Sylvain Dupuisstraat        24;26;28           26              26   \n",
       "4               Oude Baan            None          338                   \n",
       "..                    ...             ...          ...             ...   \n",
       "995        Rue du Wainage              62           62              62   \n",
       "996   Chaussée de Tournai            None            4               4   \n",
       "997        Rue Louis Caty            None           32              32   \n",
       "998    Drève des Bouleaux            None            5               5   \n",
       "999            Rue Rogier               1            1               1   \n",
       "\n",
       "    lpost_unit addr_out_postcode    addr_out_city             addr_out_country  \n",
       "0                           2240        Zandhoven  België / Belgique / Belgien  \n",
       "1                           8600        Diksmuide  België / Belgique / Belgien  \n",
       "2                           9860          Issegem  België / Belgique / Belgien  \n",
       "3                           8300     Knokke-Heist  België / Belgique / Belgien  \n",
       "4        m 338              3630     Maasmechelen  België / Belgique / Belgien  \n",
       "..         ...               ...              ...                          ...  \n",
       "995                         5060      Sambreville  België / Belgique / Belgien  \n",
       "996                         7520   Ramegnies-Chin  België / Belgique / Belgien  \n",
       "997                         7331   Saint-Ghislain  België / Belgique / Belgien  \n",
       "998                         7090  Braine-le-Comte  België / Belgique / Belgien  \n",
       "999                         4900              Spa  België / Belgique / Belgien  \n",
       "\n",
       "[1000 rows x 14 columns]"
      ]
     },
     "execution_count": 249,
     "metadata": {},
     "output_type": "execute_result"
    }
   ],
   "source": [
    "# Geocode + address\n",
    "call_ws_batch(addresses[[addr_key_field, street_field, housenbr_field, postcode_field, city_field, country_field]], mode=\"short\", check_result=False) "
   ]
  },
  {
   "cell_type": "code",
   "execution_count": 360,
   "metadata": {
    "ExecuteTime": {
     "end_time": "2022-12-15T15:28:06.764708Z",
     "start_time": "2022-12-15T15:28:06.676592Z"
    },
    "scrolled": true
   },
   "outputs": [
    {
     "data": {
      "text/html": [
       "<div>\n",
       "<style scoped>\n",
       "    .dataframe tbody tr th:only-of-type {\n",
       "        vertical-align: middle;\n",
       "    }\n",
       "\n",
       "    .dataframe tbody tr th {\n",
       "        vertical-align: top;\n",
       "    }\n",
       "\n",
       "    .dataframe thead th {\n",
       "        text-align: right;\n",
       "    }\n",
       "</style>\n",
       "<table border=\"1\" class=\"dataframe\">\n",
       "  <thead>\n",
       "    <tr style=\"text-align: right;\">\n",
       "      <th></th>\n",
       "      <th>error</th>\n",
       "    </tr>\n",
       "  </thead>\n",
       "  <tbody>\n",
       "    <tr>\n",
       "      <th>0</th>\n",
       "      <td>Field 'addr_key' cannot contain duplicated val...</td>\n",
       "    </tr>\n",
       "  </tbody>\n",
       "</table>\n",
       "</div>"
      ],
      "text/plain": [
       "                                               error\n",
       "0  Field 'addr_key' cannot contain duplicated val..."
      ]
     },
     "execution_count": 360,
     "metadata": {},
     "output_type": "execute_result"
    }
   ],
   "source": [
    "# Geocode + address, with rejected addresses\n",
    "call_ws_batch(addresses, mode=\"long\", with_reject=True)"
   ]
  },
  {
   "cell_type": "markdown",
   "metadata": {
    "ExecuteTime": {
     "end_time": "2020-09-30T10:13:21.879291Z",
     "start_time": "2020-09-30T10:13:21.874241Z"
    }
   },
   "source": [
    "### Batch blocs"
   ]
  },
  {
   "cell_type": "code",
   "execution_count": 359,
   "metadata": {
    "ExecuteTime": {
     "end_time": "2022-12-15T15:28:03.065690Z",
     "start_time": "2022-12-15T15:28:03.060048Z"
    }
   },
   "outputs": [],
   "source": [
    "# addresses = addresses.sample(10000, replace=True)\n",
    "# addresses = addresses.reset_index(drop=True)\n",
    "# addresses[\"addr_key\"]= addresses.index.astype(str)"
   ]
  },
  {
   "cell_type": "code",
   "execution_count": 352,
   "metadata": {
    "ExecuteTime": {
     "end_time": "2022-12-15T15:20:31.222522Z",
     "start_time": "2022-12-15T15:20:07.826511Z"
    }
   },
   "outputs": [
    {
     "name": "stdout",
     "output_type": "stream",
     "text": [
      "20 chunks on 20 threads\n"
     ]
    },
    {
     "data": {
      "application/vnd.jupyter.widget-view+json": {
       "model_id": "b366a9af76044f6cbbf22d9475f922f5",
       "version_major": 2,
       "version_minor": 0
      },
      "text/plain": [
       "  0%|          | 0/20 [00:00<?, ?it/s]"
      ]
     },
     "metadata": {},
     "output_type": "display_data"
    },
    {
     "name": "stdout",
     "output_type": "stream",
     "text": [
      "23.39 seconds, 128.27 it/s\n"
     ]
    }
   ],
   "source": [
    "t = datetime.now()\n",
    "\n",
    "nb_threads=8\n",
    "\n",
    "chunks = np.array_split(addresses, nb_threads) # addresses.shape[0]//100)\n",
    "\n",
    "print(f\"{len(chunks)} chunks on {nb_threads} threads\")\n",
    "\n",
    "import multiprocess as mp\n",
    "\n",
    "p = mp.Pool(nb_threads)\n",
    "\n",
    "def f(chunk):\n",
    "    return call_ws_batch(chunk, mode=\"long\", \n",
    "                        check_result=False, \n",
    "                        structured_osm=False)\n",
    "\n",
    "with p:\n",
    "     res= list(tqdm(p.imap(f, chunks), total=len(chunks)))\n",
    "    \n",
    "addresses_batch2 = pd.concat(res).reset_index(drop=True)\n",
    "\n",
    "tot_time = (datetime.now() - t).total_seconds()\n",
    "print(f\"{tot_time:.2f} seconds, {addresses.shape[0]/tot_time:.2f} it/s\")\n",
    "# KBO:    9.28 seconds, 107.72 it/s\n",
    "# Best:   6.88 seconds, 145.43 it/s\n",
    "# Resto: 11.79 seconds,  84.85 it/s"
   ]
  },
  {
   "cell_type": "code",
   "execution_count": 361,
   "metadata": {
    "ExecuteTime": {
     "end_time": "2022-12-15T15:28:43.485926Z",
     "start_time": "2022-12-15T15:28:43.482099Z"
    }
   },
   "outputs": [],
   "source": [
    "# addresses_batch2"
   ]
  },
  {
   "cell_type": "code",
   "execution_count": 317,
   "metadata": {
    "ExecuteTime": {
     "end_time": "2022-12-15T14:57:19.903361Z",
     "start_time": "2022-12-15T14:57:19.867522Z"
    }
   },
   "outputs": [
    {
     "name": "stdout",
     "output_type": "stream",
     "text": [
      "Same result in seq and dask run!\n"
     ]
    }
   ],
   "source": [
    "mg = addresses_seq[[ \"city\", \"postcode\",\"street\", \"housenumber\", \"method\", \"addr_out_street\", \"addr_out_number\", \"addr_out_postcode\", \"addr_out_city\", \"addr_key\"]].fillna(\"\").replace(\"fast\", \"orig\").merge(\n",
    "    addresses_batch2[[\"city\", \"postcode\",\"street\", \"housenumber\", \"method\", \"addr_out_street\", \"addr_out_number\", \"addr_out_postcode\", \"addr_out_city\", \"addr_key\"]].fillna(\"\"), how=\"outer\", indicator=True)\n",
    "if mg[mg._merge == \"both\"].shape[0] == addresses.shape[0]:\n",
    "    print(\"Same result in seq and dask run!\")\n",
    "else: \n",
    "    print(\"!!! Not the same result in seq and dask run!\")\n",
    "    "
   ]
  },
  {
   "cell_type": "code",
   "execution_count": 318,
   "metadata": {
    "ExecuteTime": {
     "end_time": "2022-12-15T14:57:23.654433Z",
     "start_time": "2022-12-15T14:57:23.642629Z"
    }
   },
   "outputs": [
    {
     "data": {
      "text/html": [
       "<div>\n",
       "<style scoped>\n",
       "    .dataframe tbody tr th:only-of-type {\n",
       "        vertical-align: middle;\n",
       "    }\n",
       "\n",
       "    .dataframe tbody tr th {\n",
       "        vertical-align: top;\n",
       "    }\n",
       "\n",
       "    .dataframe thead th {\n",
       "        text-align: right;\n",
       "    }\n",
       "</style>\n",
       "<table border=\"1\" class=\"dataframe\">\n",
       "  <thead>\n",
       "    <tr style=\"text-align: right;\">\n",
       "      <th></th>\n",
       "      <th>city</th>\n",
       "      <th>postcode</th>\n",
       "      <th>street</th>\n",
       "      <th>housenumber</th>\n",
       "      <th>method</th>\n",
       "      <th>addr_out_street</th>\n",
       "      <th>addr_out_number</th>\n",
       "      <th>addr_out_postcode</th>\n",
       "      <th>addr_out_city</th>\n",
       "      <th>addr_key</th>\n",
       "      <th>_merge</th>\n",
       "    </tr>\n",
       "  </thead>\n",
       "  <tbody>\n",
       "  </tbody>\n",
       "</table>\n",
       "</div>"
      ],
      "text/plain": [
       "Empty DataFrame\n",
       "Columns: [city, postcode, street, housenumber, method, addr_out_street, addr_out_number, addr_out_postcode, addr_out_city, addr_key, _merge]\n",
       "Index: []"
      ]
     },
     "execution_count": 318,
     "metadata": {},
     "output_type": "execute_result"
    }
   ],
   "source": [
    "mg[mg._merge != \"both\"].sort_values(\"addr_key\")"
   ]
  },
  {
   "cell_type": "markdown",
   "metadata": {},
   "source": [
    "## Comparing options"
   ]
  },
  {
   "cell_type": "code",
   "execution_count": null,
   "metadata": {
    "ExecuteTime": {
     "end_time": "2021-06-17T12:03:05.162160Z",
     "start_time": "2021-06-17T12:02:57.219437Z"
    }
   },
   "outputs": [],
   "source": [
    "addresses = get_addresses(\"address.csv.gz\")\n",
    "addresses = addresses[addresses[country_field] == \"Belgique\"]\n",
    "addresses = addresses.sample(10000).copy()"
   ]
  },
  {
   "cell_type": "code",
   "execution_count": null,
   "metadata": {
    "ExecuteTime": {
     "end_time": "2021-06-17T13:36:34.740473Z",
     "start_time": "2021-06-17T12:03:16.803891Z"
    },
    "scrolled": true
   },
   "outputs": [],
   "source": [
    "results = {}\n",
    "it_per_seconds=pd.DataFrame()\n",
    "\n",
    "for check_label in [\"check\", \"nocheck\"]:\n",
    "    for struct_label in [\"struct\", \"unstruct\" ]:\n",
    "        print(check_label, struct_label)\n",
    "        start=datetime.now()\n",
    "        \n",
    "        results[(check_label, struct_label)] = call_ws_batch_chunks(addresses, \n",
    "                                                                    mode=\"short\", \n",
    "                                                                    check_result   =  check_label == \"check\", \n",
    "                                                                    structured_osm =  struct_label == \"struct\")\n",
    "        \n",
    "        it_per_seconds.loc[check_label, struct_label] = addresses.shape[0] / (datetime.now()-start).total_seconds()\n",
    "print(\"Iterations per seconds:\")\n",
    "it_per_seconds"
   ]
  },
  {
   "cell_type": "code",
   "execution_count": null,
   "metadata": {
    "ExecuteTime": {
     "end_time": "2021-06-17T13:37:26.026243Z",
     "start_time": "2021-06-17T13:37:26.006959Z"
    }
   },
   "outputs": [],
   "source": [
    "print(\"Match rate\")\n",
    "pd.DataFrame({k1: {k2: results[(k1,k2)].shape[0]/addresses.shape[0] for k2 in [\"struct\", \"unstruct\"]} \n",
    "                  for k1 in  [\"check\",\"nocheck\"]})"
   ]
  },
  {
   "cell_type": "code",
   "execution_count": null,
   "metadata": {
    "ExecuteTime": {
     "end_time": "2021-06-17T13:37:36.864209Z",
     "start_time": "2021-06-17T13:37:36.760314Z"
    }
   },
   "outputs": [],
   "source": [
    "print(\"Match rate (without nostreet)\")\n",
    "pd.DataFrame({k1: {k2: results[(k1,k2)].query(\"method!='nostreet'\").shape[0]/addresses.shape[0] for k2 in [\"struct\", \"unstruct\"]} \n",
    "                  for k1 in  [\"check\",\"nocheck\"]})"
   ]
  },
  {
   "cell_type": "code",
   "execution_count": null,
   "metadata": {
    "ExecuteTime": {
     "end_time": "2021-06-17T13:37:44.762541Z",
     "start_time": "2021-06-17T13:37:44.687047Z"
    }
   },
   "outputs": [],
   "source": [
    "print(\"Unmatched addresses\")\n",
    "for k1 in results:\n",
    "    print(k1)\n",
    "    nomatch=addresses[~addresses[addr_key_field].isin(results[k1][\"addr_key\"])]\n",
    "    display(nomatch)\n",
    "    print(nomatch[country_field].value_counts())"
   ]
  },
  {
   "cell_type": "code",
   "execution_count": null,
   "metadata": {
    "ExecuteTime": {
     "end_time": "2021-06-17T13:37:55.438762Z",
     "start_time": "2021-06-17T13:37:53.973554Z"
    },
    "scrolled": true
   },
   "outputs": [],
   "source": [
    "vc_values = pd.DataFrame(columns=results.keys(), index=results.keys())\n",
    "\n",
    "for k1 in results:\n",
    "    vc_values.loc[k1, k1] = results[k1].shape[0]\n",
    "    for k2 in results:\n",
    "        if k1>k2:\n",
    "            r1=results[k1]\n",
    "            r2=results[k2]\n",
    "            mg = r1[[\"addr_key\", \"place_id\"]].merge(r2[[\"addr_key\", \"place_id\"]], on=\"addr_key\", how=\"outer\", indicator=True)\n",
    " \n",
    "            vc = mg._merge.value_counts()\n",
    "\n",
    "            mismatches = mg[mg.place_id_x != mg.place_id_y][[\"addr_key\"]]\n",
    "            mismatches = mismatches.merge(addresses.rename({addr_key_field:\"addr_key\"}, axis=1))\n",
    "            mismatches = mismatches.merge(r1[[\"addr_key\", \"addr_out_street\", \"addr_out_number\", \"extra_house_nbr\", \"addr_out_postcode\", \"addr_out_city\"]], on=\"addr_key\")\n",
    "            mismatches = mismatches.merge(r2[[\"addr_key\", \"addr_out_street\", \"addr_out_number\", \"extra_house_nbr\", \"addr_out_postcode\", \"addr_out_city\"]], on=\"addr_key\")\n",
    "            mismatches.columns = pd.MultiIndex.from_arrays([[\"Input\"]*6 + [f\"x:{k1}\"]*5 + [f\"y:{k2}\"]*5, mismatches.columns])\n",
    "\n",
    "            mismatch_values = mismatches[(mismatches[f\"x:{k1}\"].rename(lambda x: x.replace(\"_x\", \"\"), axis=1).fillna(\"\") != \n",
    "                                          mismatches[f\"y:{k2}\"].rename(lambda x: x.replace(\"_y\", \"\"), axis=1).fillna(\"\")).any(axis=1)]\n",
    "            \n",
    "            mismatch_values_no_nmbr = mismatches[(mismatches[f\"x:{k1}\"].rename(lambda x: x.replace(\"_x\", \"\"), axis=1).drop(\"addr_out_number\", axis=1).fillna(\"\") != \n",
    "                                                  mismatches[f\"y:{k2}\"].rename(lambda x: x.replace(\"_y\", \"\"), axis=1).drop(\"addr_out_number\", axis=1).fillna(\"\")).any(axis=1)]\n",
    "            \n",
    "            \n",
    "            vc_label = f\"{vc['both']} ({mismatches.shape[0]} - {mismatch_values.shape[0]} - {mismatch_values_no_nmbr.shape[0]}) / {vc['left_only']} / {vc['right_only']}\"\n",
    "            vc_values.loc[k1, k2]=vc_label\n",
    "\n",
    "                \n",
    "            print(f\"{k1} vs {k2}\")\n",
    "            print(vc_label)\n",
    "            print(\"-----------------------------\")\n",
    "            \n",
    "            print(f\"Only in {k1}\")\n",
    "            display(r1[r1.addr_key.isin(mg[mg._merge==\"left_only\"].addr_key)].merge(addresses.rename({addr_key_field:\"addr_key\"}, axis=1)))\n",
    "            \n",
    "            print(f\"Only in {k2}\")\n",
    "            display(r2[r2.addr_key.isin(mg[mg._merge==\"right_only\"].addr_key)].merge(addresses.rename({addr_key_field:\"addr_key\"}, axis=1)))\n",
    "            \n",
    "            print(\"Mismatch on place_id\")\n",
    "            display(mismatches)\n",
    "            \n",
    "            print(\"Mismatch on values\")\n",
    "            \n",
    "            display(mismatch_values)\n",
    "            \n",
    "            print(\"Mismatch on values (no nbr)\")\n",
    "            display(mismatch_values_no_nmbr)\n",
    "            \n",
    "            print(\"#######################\")\n",
    "            \n",
    "# display(vc_values.fillna(\"\"))"
   ]
  },
  {
   "cell_type": "code",
   "execution_count": null,
   "metadata": {
    "ExecuteTime": {
     "end_time": "2021-06-17T13:37:59.656028Z",
     "start_time": "2021-06-17T13:37:59.626031Z"
    }
   },
   "outputs": [],
   "source": [
    "print(\"Common in both (disagree on place_id - disagree on values - disagree on values, ignoring number) / results only for row / results only for columns\")\n",
    "vc_values.fillna(\"\")"
   ]
  },
  {
   "cell_type": "markdown",
   "metadata": {},
   "source": [
    "# tests"
   ]
  },
  {
   "cell_type": "code",
   "execution_count": 100,
   "metadata": {
    "ExecuteTime": {
     "end_time": "2022-12-15T12:06:02.468145Z",
     "start_time": "2022-12-15T12:06:02.462439Z"
    }
   },
   "outputs": [],
   "source": [
    "osm_host =\"172.27.0.64:8080\"\n",
    "def get_osm(addr, accept_language = \"\"): #lg = \"en,fr,nl\"\n",
    "    params = urllib.parse.urlencode({\"q\": addr,\n",
    "                                    \"format\":\"jsonv2\",\n",
    "                                    \"accept-language\":accept_language,\n",
    "                                    \"addressdetails\":\"1\",\n",
    "                                    \"namedetails\" : \"1\",\n",
    "                                    \"limit\": \"50\"\n",
    "                                    })\n",
    "    \n",
    "    url = \"http://%s/search.php?%s\"%(osm_host, params)\n",
    "#     print(f\"Call to OSM: {url}\")\n",
    "    try: \n",
    "        with urllib.request.urlopen(url) as response:\n",
    "            res = response.read()\n",
    "            res = json.loads(res)\n",
    "#             return res\n",
    "            return [ {field: item[field] for field in [\"place_id\", \"lat\", \"lon\", \"display_name\", \"address\", \"namedetails\", \"place_rank\", \"category\", \"type\"]} for item in res] \n",
    "    except Exception as e:\n",
    "        raise Exception (f\"Cannot get OSM results ({osm_host}): {e}\") "
   ]
  },
  {
   "cell_type": "code",
   "execution_count": 322,
   "metadata": {
    "ExecuteTime": {
     "end_time": "2022-12-15T15:01:41.320119Z",
     "start_time": "2022-12-15T15:01:32.970311Z"
    }
   },
   "outputs": [
    {
     "name": "stdout",
     "output_type": "stream",
     "text": [
      "10.2 ms ± 100 µs per loop (mean ± std. dev. of 7 runs, 100 loops each)\n"
     ]
    }
   ],
   "source": [
    "%timeit get_osm(\"Av. Fonsny 20, 1060 Bruxelles\")"
   ]
  },
  {
   "cell_type": "code",
   "execution_count": 323,
   "metadata": {
    "ExecuteTime": {
     "end_time": "2022-12-15T15:01:50.158296Z",
     "start_time": "2022-12-15T15:01:41.322747Z"
    }
   },
   "outputs": [
    {
     "name": "stdout",
     "output_type": "stream",
     "text": [
      "1.09 ms ± 17.6 µs per loop (mean ± std. dev. of 7 runs, 1,000 loops each)\n"
     ]
    }
   ],
   "source": [
    "%timeit call_ws_test({street_field:   \"Av. Fonsny\", \\\n",
    "         housenbr_field: \"20\",\\\n",
    "         city_field:     \"Saint-Gilles\",\\\n",
    "         postcode_field: \"1060\",\\\n",
    "         country_field:  \"Belgium\"}, check_result=False, structured_osm=False)\n",
    "# res"
   ]
  }
 ],
 "metadata": {
  "kernelspec": {
   "display_name": "Python 3 (ipykernel)",
   "language": "python",
   "name": "python3"
  },
  "language_info": {
   "codemirror_mode": {
    "name": "ipython",
    "version": 3
   },
   "file_extension": ".py",
   "mimetype": "text/x-python",
   "name": "python",
   "nbconvert_exporter": "python",
   "pygments_lexer": "ipython3",
   "version": "3.9.12"
  },
  "toc": {
   "base_numbering": 1,
   "nav_menu": {},
   "number_sections": true,
   "sideBar": true,
   "skip_h1_title": false,
   "title_cell": "Table of Contents",
   "title_sidebar": "Contents",
   "toc_cell": false,
   "toc_position": {
    "height": "calc(100% - 180px)",
    "left": "10px",
    "top": "150px",
    "width": "304px"
   },
   "toc_section_display": true,
   "toc_window_display": true
  },
  "varInspector": {
   "cols": {
    "lenName": 16,
    "lenType": 16,
    "lenVar": 40
   },
   "kernels_config": {
    "python": {
     "delete_cmd_postfix": "",
     "delete_cmd_prefix": "del ",
     "library": "var_list.py",
     "varRefreshCmd": "print(var_dic_list())"
    },
    "r": {
     "delete_cmd_postfix": ") ",
     "delete_cmd_prefix": "rm(",
     "library": "var_list.r",
     "varRefreshCmd": "cat(var_dic_list()) "
    }
   },
   "types_to_exclude": [
    "module",
    "function",
    "builtin_function_or_method",
    "instance",
    "_Feature"
   ],
   "window_display": false
  }
 },
 "nbformat": 4,
 "nbformat_minor": 2
}
