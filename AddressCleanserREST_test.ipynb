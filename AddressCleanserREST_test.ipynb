{
 "cells": [
  {
   "cell_type": "code",
   "execution_count": null,
   "metadata": {
    "ExecuteTime": {
     "end_time": "2022-12-15T10:39:14.439271Z",
     "start_time": "2022-12-15T10:39:13.115085Z"
    }
   },
   "outputs": [],
   "source": [
    "import pandas as pd\n",
    "import urllib\n",
    "\n",
    "import numpy as np\n",
    "\n",
    "import json\n",
    "\n",
    "from tqdm.autonotebook import tqdm\n",
    "\n",
    "#%matplotlib inline\n",
    "\n",
    "tqdm.pandas()\n",
    "\n",
    "import dask.dataframe as dd\n",
    "\n",
    "from dask.multiprocessing import get\n",
    "from dask.diagnostics import ProgressBar\n",
    "\n",
    "from datetime import datetime\n",
    "import matplotlib.pyplot as plt\n",
    "\n",
    "from IPython.display import display\n"
   ]
  },
  {
   "cell_type": "code",
   "execution_count": null,
   "metadata": {
    "ExecuteTime": {
     "end_time": "2022-12-15T10:39:16.844111Z",
     "start_time": "2022-12-15T10:39:16.753119Z"
    }
   },
   "outputs": [],
   "source": [
    "import urllib3"
   ]
  },
  {
   "cell_type": "code",
   "execution_count": null,
   "metadata": {
    "ExecuteTime": {
     "end_time": "2022-12-15T10:39:17.043143Z",
     "start_time": "2022-12-15T10:39:17.040575Z"
    }
   },
   "outputs": [],
   "source": [
    "http = urllib3.PoolManager()"
   ]
  },
  {
   "cell_type": "code",
   "execution_count": null,
   "metadata": {
    "ExecuteTime": {
     "end_time": "2022-12-15T10:39:30.246539Z",
     "start_time": "2022-12-15T10:39:30.242328Z"
    }
   },
   "outputs": [],
   "source": [
    "from config_batch import * "
   ]
  },
  {
   "cell_type": "markdown",
   "metadata": {
    "ExecuteTime": {
     "end_time": "2020-05-06T13:50:43.162875Z",
     "start_time": "2020-05-06T13:50:43.151794Z"
    }
   },
   "source": [
    "# Functions"
   ]
  },
  {
   "cell_type": "code",
   "execution_count": null,
   "metadata": {
    "ExecuteTime": {
     "end_time": "2022-12-15T10:39:31.588365Z",
     "start_time": "2022-12-15T10:39:31.585736Z"
    }
   },
   "outputs": [],
   "source": [
    "ws_hostname = \"127.0.1.1\"\n",
    "ws_hostname = \"172.27.0.64\"\n",
    "\n",
    "# ws_hostname = \"192.168.1.3\""
   ]
  },
  {
   "cell_type": "code",
   "execution_count": null,
   "metadata": {
    "ExecuteTime": {
     "end_time": "2023-01-30T15:26:50.039368Z",
     "start_time": "2023-01-30T15:26:50.031481Z"
    }
   },
   "outputs": [],
   "source": [
    "def call_ws(addr_data, check_result=True, structured_osm=False): #lg = \"en,fr,nl\"\n",
    "    t = datetime.now()\n",
    "    \n",
    "    try: \n",
    "        r = http.request(\n",
    "        'POST',\n",
    "        f'http://{ws_hostname}:5000/search',\n",
    "        fields= { \n",
    "             \"street\": addr_data[street_field],\n",
    "             \"housenumber\": addr_data[housenbr_field],\n",
    "             \"city\": addr_data[city_field],\n",
    "             \"postcode\": addr_data[postcode_field],\n",
    "             \"country\": addr_data[country_field],\n",
    "             \"check_result\" : \"yes\" if check_result else \"no\",\n",
    "             \"struct_osm\" : \"yes\" if structured_osm else \"no\"\n",
    "\n",
    "        })\n",
    "    except Exception as e:\n",
    "        print(\"Exception !\")\n",
    "        print(addr_data)\n",
    "        print(e)\n",
    "        raise e\n",
    "        \n",
    "    if r.status == 204:\n",
    "        print(\"No result!\")\n",
    "        return\n",
    "    elif r.status == 200:\n",
    "        try:\n",
    "            res = json.loads(r.data.decode('utf-8'))\n",
    "            res[\"time\"] = (datetime.now() - t).total_seconds()\n",
    "        except ValueError as ve:\n",
    "\n",
    "            print(\"Cannot decode result:\")\n",
    "            print(ve)\n",
    "            print(r.data.decode('utf-8'))\n",
    "            return r.data\n",
    "        return res\n",
    "    else: \n",
    "        print(f\"Unknown return code: {r.status} \")\n",
    "\n"
   ]
  },
  {
   "cell_type": "code",
   "execution_count": null,
   "metadata": {
    "ExecuteTime": {
     "end_time": "2023-01-20T15:39:06.752522Z",
     "start_time": "2023-01-20T15:39:06.745712Z"
    }
   },
   "outputs": [],
   "source": [
    "def call_ws_batch(addr_data, mode=\"geo\", with_rejected=False, check_result=True, structured_osm=False): #lg = \"en,fr,nl\"\n",
    "    file_data = addr_data.rename(columns = {\n",
    "        street_field : \"street\",\n",
    "        housenbr_field: \"housenumber\",\n",
    "        postcode_field: \"postcode\",\n",
    "        city_field: \"city\",\n",
    "        country_field: \"country\",\n",
    "        addr_key_field : \"addr_key\"\n",
    "    }).to_csv(index=False)\n",
    "    \n",
    "    r = http.request(\n",
    "    'POST',\n",
    "    f'http://{ws_hostname}:5000/batch',\n",
    "    fields= { \n",
    "        'media': ('addresses.csv', file_data),\n",
    "        'mode': mode,\n",
    "        \"with_rejected\": \"yes\" if with_rejected else \"no\",\n",
    "        \"check_result\" : \"yes\" if check_result else \"no\",\n",
    "        \"struct_osm\"   : \"yes\" if structured_osm else \"no\",\n",
    "        #\"extra_house_nbr\": \"no\"\n",
    "    })\n",
    "    \n",
    "    try:\n",
    "        res = pd.DataFrame(json.loads(r.data.decode('utf-8')))\n",
    "    except ValueError as ve:\n",
    "        \n",
    "        print(\"Cannot decode result:\")\n",
    "        print(ve)\n",
    "        print(r.data.decode('utf-8'))\n",
    "     \n",
    "        return r.data\n",
    "#     display(res)\n",
    "    return res"
   ]
  },
  {
   "cell_type": "code",
   "execution_count": null,
   "metadata": {
    "ExecuteTime": {
     "end_time": "2023-01-16T13:06:20.215771Z",
     "start_time": "2023-01-16T13:06:20.210513Z"
    }
   },
   "outputs": [],
   "source": [
    "def expand_json(addresses):\n",
    "    addresses[\"status\"]= addresses.json.apply(lambda d: \"error\" if \"error\" in d else \"match\" if \"match\" in d else \"no_result\")\n",
    "    addresses[\"time\"]  = addresses.json.apply(lambda d: d[\"time\"])\n",
    "\n",
    "    addresses[\"timing\"]  = addresses.json.apply(lambda d: d[\"timing\"] if \"timing\" in d else {})\n",
    "    \n",
    "    for f in [\"method\", \"place_rank\"]:\n",
    "        addresses[f]= addresses.json.apply(lambda d: d[\"match\"][0][f] if len(d)>0 and \"match\" in d else \"none\")\n",
    "    \n",
    "    for field in [\"street\", \"number\", \"postcode\", \"city\"]:\n",
    "        addresses[\"addr_out_\"+field]= addresses.json.apply(lambda d: d[\"match\"][0][\"addr_out_\"+field] if len(d)>0 and \"match\" in d else \"\")\n",
    "    return "
   ]
  },
  {
   "cell_type": "markdown",
   "metadata": {},
   "source": [
    "# Calls"
   ]
  },
  {
   "cell_type": "markdown",
   "metadata": {
    "ExecuteTime": {
     "end_time": "2020-09-30T09:57:35.286293Z",
     "start_time": "2020-09-30T09:57:35.281457Z"
    }
   },
   "source": [
    "## Single address calls"
   ]
  },
  {
   "cell_type": "code",
   "execution_count": null,
   "metadata": {
    "ExecuteTime": {
     "end_time": "2023-01-30T09:17:48.777122Z",
     "start_time": "2023-01-30T09:17:48.739800Z"
    },
    "scrolled": true
   },
   "outputs": [],
   "source": [
    "res=call_ws({street_field:   \"Avenue Fonsny\", \\\n",
    "         housenbr_field: \"20\",\\\n",
    "         city_field:     \"Saint-Gilles\",\\\n",
    "         postcode_field: \"1060\",\\\n",
    "         country_field:  \"Belgique\"}, check_result=False, structured_osm=False)\n",
    "res"
   ]
  },
  {
   "cell_type": "markdown",
   "metadata": {},
   "source": [
    "## Batch calls (row by row)"
   ]
  },
  {
   "cell_type": "code",
   "execution_count": null,
   "metadata": {
    "ExecuteTime": {
     "end_time": "2023-01-30T15:18:05.714032Z",
     "start_time": "2023-01-30T15:18:05.695886Z"
    }
   },
   "outputs": [],
   "source": [
    "addresses = pd.concat([\n",
    "    #get_addresses(\"../GISAnalytics/data/geocoding/resto_1000_sample.csv.gz\"),\n",
    "    #get_addresses(\"../GISAnalytics/data/geocoding/best_1000_sample.csv.gz\"),\n",
    "    get_addresses(\"address.csv.gz\")])\n",
    "addresses = addresses.reset_index(drop=True)\n",
    "addresses[\"addr_key\"] = addresses.index.astype(str)\n",
    "addresses"
   ]
  },
  {
   "cell_type": "code",
   "execution_count": null,
   "metadata": {
    "ExecuteTime": {
     "end_time": "2022-12-15T14:53:40.223272Z",
     "start_time": "2022-12-15T14:53:40.221034Z"
    }
   },
   "outputs": [],
   "source": [
    "# addresses = addresses[addresses.addr_key.isin([ \"2078829\"])]#\"1622\",\n",
    "# addresses"
   ]
  },
  {
   "cell_type": "markdown",
   "metadata": {},
   "source": [
    "\n",
    "### Simple way"
   ]
  },
  {
   "cell_type": "code",
   "execution_count": null,
   "metadata": {
    "ExecuteTime": {
     "end_time": "2023-01-30T15:20:18.974693Z",
     "start_time": "2023-01-30T15:19:14.231537Z"
    },
    "scrolled": true
   },
   "outputs": [],
   "source": [
    "addresses_seq = addresses.copy()\n",
    "\n",
    "t = datetime.now()\n",
    "addresses_seq[\"json\"] = addresses_seq.fillna(\"\").progress_apply(call_ws, check_result=False, structured_osm=False, axis=1)\n",
    "tot_time = (datetime.now() - t).total_seconds()\n",
    "print(f\"{tot_time:.2f} seconds, {addresses_seq.shape[0]/tot_time:.2f} it/s\")\n",
    "# KBO dataset:\n",
    "# Normal mode: 128.78 seconds, 7.77 it/s\n",
    "# Fastmode:     68.80 seconds, 14.54 it/s\n",
    "\n",
    "#Resto dataset: \n",
    "# Normal mode: 145.73 seconds, 6.86 it/s\n",
    "# Fast mode:    82.99 seconds, 12.05 it/s\n",
    "\n",
    "# Best dataset:\n",
    "# Normal mode: 108.53 seconds, 9.21 it/s\n",
    "# Fast mode: 37.44 seconds, 26.71 it/s"
   ]
  },
  {
   "cell_type": "code",
   "execution_count": null,
   "metadata": {
    "ExecuteTime": {
     "end_time": "2023-01-30T15:20:37.274306Z",
     "start_time": "2023-01-30T15:20:37.233990Z"
    },
    "scrolled": true
   },
   "outputs": [],
   "source": [
    "expand_json(addresses_seq)\n",
    "addresses_seq"
   ]
  },
  {
   "cell_type": "code",
   "execution_count": null,
   "metadata": {
    "ExecuteTime": {
     "end_time": "2023-01-30T15:20:40.919085Z",
     "start_time": "2023-01-30T15:20:40.916441Z"
    }
   },
   "outputs": [],
   "source": [
    "# addresses_seq.iloc[0].json"
   ]
  },
  {
   "cell_type": "code",
   "execution_count": null,
   "metadata": {
    "ExecuteTime": {
     "end_time": "2023-01-30T15:20:41.363984Z",
     "start_time": "2023-01-30T15:20:41.357502Z"
    }
   },
   "outputs": [],
   "source": [
    "addresses_seq.method.value_counts()"
   ]
  },
  {
   "cell_type": "markdown",
   "metadata": {
    "ExecuteTime": {
     "end_time": "2020-09-30T10:03:50.368838Z",
     "start_time": "2020-09-30T10:03:50.364575Z"
    }
   },
   "source": [
    "### Using Dask"
   ]
  },
  {
   "cell_type": "code",
   "execution_count": null,
   "metadata": {
    "ExecuteTime": {
     "end_time": "2023-01-30T15:21:16.607503Z",
     "start_time": "2023-01-30T15:21:16.603533Z"
    }
   },
   "outputs": [],
   "source": [
    "addresses_dask = addresses.copy()"
   ]
  },
  {
   "cell_type": "code",
   "execution_count": null,
   "metadata": {
    "ExecuteTime": {
     "end_time": "2023-01-30T15:29:11.465457Z",
     "start_time": "2023-01-30T15:28:06.170316Z"
    }
   },
   "outputs": [],
   "source": [
    "t = datetime.now()\n",
    "dd_addresses = dd.from_pandas(addresses_dask.fillna(\"\"), npartitions=8)\n",
    "\n",
    "dask_task = dd_addresses.apply(call_ws, check_result=False, meta=('x', 'str'), axis=1)\n",
    "\n",
    "with ProgressBar(): \n",
    "    addresses_dask[\"json\"] = dask_task.compute()\n",
    "    \n",
    "tot_time = (datetime.now() - t).total_seconds()\n",
    "print(f\"{tot_time:.2f} seconds, {addresses_dask.shape[0]/tot_time:.2f} it/s\")\n",
    "# KBO dataset:\n",
    "# Normal mode: 24.52 seconds, 40.79 it/s\n",
    "# Fastmode:    15.81 seconds, 63.27 it/s\n",
    "\n",
    "\n",
    "# Resto dataset:\n",
    "# Normal mode: 27.86 seconds, 35.89 it/s\n",
    "# Fast mode:   18.44 seconds, 54.23 it/s\n",
    "\n",
    "# Best dataset: \n",
    "# Normal mode: 16.11 seconds, 62.07 it/s\n",
    "# Fast mode:    9.76 seconds, 102.42 it/s"
   ]
  },
  {
   "cell_type": "code",
   "execution_count": null,
   "metadata": {
    "ExecuteTime": {
     "end_time": "2022-12-15T12:03:26.279768Z",
     "start_time": "2022-12-15T12:03:26.276747Z"
    }
   },
   "outputs": [],
   "source": [
    "# 1000, 1 worker: 4m18\n",
    "# 4 workers, npart=4 : 1m20\n",
    "# 8 workers, npart=4 : 1m20\n",
    "# 8 workers, npart=8 : 44s\n",
    "\n",
    "# with checker=False:\n",
    "# 8 workers, npart=8 : 24s\n"
   ]
  },
  {
   "cell_type": "code",
   "execution_count": null,
   "metadata": {
    "ExecuteTime": {
     "end_time": "2023-01-30T15:29:16.843410Z",
     "start_time": "2023-01-30T15:29:16.802034Z"
    },
    "scrolled": true
   },
   "outputs": [],
   "source": [
    "expand_json(addresses_dask)\n",
    "addresses_dask"
   ]
  },
  {
   "cell_type": "code",
   "execution_count": null,
   "metadata": {
    "ExecuteTime": {
     "end_time": "2023-01-30T15:29:20.732320Z",
     "start_time": "2023-01-30T15:29:20.725239Z"
    }
   },
   "outputs": [],
   "source": [
    "addresses_dask.method.value_counts()#.json.loc[550]"
   ]
  },
  {
   "cell_type": "code",
   "execution_count": null,
   "metadata": {
    "ExecuteTime": {
     "end_time": "2023-01-30T15:29:23.222506Z",
     "start_time": "2023-01-30T15:29:23.134853Z"
    }
   },
   "outputs": [],
   "source": [
    "mg = addresses_seq[[\"addr_key\", \"city\", \"postcode\",\"street\", \"housenumber\", \"addr_out_street\", \"addr_out_number\", \"addr_out_postcode\", \"addr_out_city\"]].merge(\n",
    "    addresses_dask[[\"addr_key\", \"city\", \"postcode\",\"street\", \"housenumber\", \"addr_out_street\", \"addr_out_number\", \"addr_out_postcode\", \"addr_out_city\"]], how=\"outer\", indicator=True)\n",
    "if mg.shape[0] == addresses.shape[0]:\n",
    "    print(\"Same result in seq and dask run!\")\n",
    "else: \n",
    "    print(\"!!! Not the same result in seq and dask run!\")\n",
    "    "
   ]
  },
  {
   "cell_type": "code",
   "execution_count": null,
   "metadata": {
    "ExecuteTime": {
     "end_time": "2023-01-30T15:29:27.623273Z",
     "start_time": "2023-01-30T15:29:27.613079Z"
    },
    "scrolled": true
   },
   "outputs": [],
   "source": [
    "mg[mg._merge != \"both\"].sort_values(\"addr_key\")\n"
   ]
  },
  {
   "cell_type": "markdown",
   "metadata": {
    "ExecuteTime": {
     "end_time": "2020-09-30T10:09:38.533274Z",
     "start_time": "2020-09-30T10:09:38.528729Z"
    }
   },
   "source": [
    "## Batch calls (batch WS)"
   ]
  },
  {
   "cell_type": "markdown",
   "metadata": {
    "ExecuteTime": {
     "end_time": "2020-09-30T10:13:11.087024Z",
     "start_time": "2020-09-30T10:13:11.082413Z"
    }
   },
   "source": [
    "### Single block"
   ]
  },
  {
   "cell_type": "code",
   "execution_count": null,
   "metadata": {
    "ExecuteTime": {
     "end_time": "2023-01-30T15:32:05.079208Z",
     "start_time": "2023-01-30T15:31:33.925215Z"
    },
    "scrolled": true
   },
   "outputs": [],
   "source": [
    "t = datetime.now()\n",
    "\n",
    "addresses_batch = call_ws_batch(addresses[[addr_key_field, \n",
    "                                           street_field, housenbr_field, postcode_field, city_field, country_field]], \n",
    "                                mode=\"long\", \n",
    "                                check_result=False, \n",
    "                                structured_osm=False,\n",
    "                               with_rejected=True)\n",
    "\n",
    "tot_time = (datetime.now() - t).total_seconds()\n",
    "print(f\"{tot_time:.2f} seconds, {addresses.shape[0]/tot_time:.2f} it/s\")\n",
    "# KBO dataset: 33.94 seconds, 29.46 it/s\n",
    "# Best:        24.99 seconds, 40.01 it/s\n",
    "# Resto:       38.33 seconds, 26.09 it/s\n",
    "\n",
    "addresses_batch"
   ]
  },
  {
   "cell_type": "code",
   "execution_count": null,
   "metadata": {
    "ExecuteTime": {
     "end_time": "2023-01-30T15:30:07.000762Z",
     "start_time": "2023-01-30T15:30:06.768309Z"
    }
   },
   "outputs": [],
   "source": [
    "rejected_addresses = addresses_batch[addresses_batch.reject.apply(lambda lst: len(lst)>0)].reject.apply(pd.Series).unstack().dropna().apply(pd.Series)\n",
    "rejected_addresses"
   ]
  },
  {
   "cell_type": "code",
   "execution_count": null,
   "metadata": {
    "ExecuteTime": {
     "end_time": "2023-01-30T15:30:07.604857Z",
     "start_time": "2023-01-30T15:30:07.599118Z"
    }
   },
   "outputs": [],
   "source": [
    "rejected_addresses.reject_reason.value_counts()"
   ]
  },
  {
   "cell_type": "code",
   "execution_count": null,
   "metadata": {
    "ExecuteTime": {
     "end_time": "2023-01-30T15:30:08.037497Z",
     "start_time": "2023-01-30T15:30:08.012875Z"
    }
   },
   "outputs": [],
   "source": [
    "rejected_addresses[rejected_addresses.reject_reason==\"mismatch\"]"
   ]
  },
  {
   "cell_type": "code",
   "execution_count": null,
   "metadata": {
    "ExecuteTime": {
     "end_time": "2023-01-30T15:30:15.984232Z",
     "start_time": "2023-01-30T15:30:15.955781Z"
    }
   },
   "outputs": [],
   "source": [
    "addresses_batch"
   ]
  },
  {
   "cell_type": "code",
   "execution_count": null,
   "metadata": {
    "ExecuteTime": {
     "end_time": "2023-01-30T15:32:18.021237Z",
     "start_time": "2023-01-30T15:32:17.995853Z"
    }
   },
   "outputs": [],
   "source": [
    "mg = addresses_seq[[ \"city\", \"postcode\",\"street\", \"housenumber\", \"method\", \"addr_out_street\", \"addr_out_number\", \"addr_out_postcode\", \"addr_out_city\", \"addr_key\"]].fillna(\"\").replace(\"fast\", \"orig\").merge(\n",
    "    addresses_batch[[\"city\", \"postcode\",\"street\", \"housenumber\", \"method\", \"addr_out_street\", \"addr_out_number\", \"addr_out_postcode\", \"addr_out_city\", \"addr_key\"]].fillna(\"\"), how=\"outer\", indicator=True)\n",
    "if mg[mg._merge == \"both\"].shape[0] == addresses.shape[0]:\n",
    "    print(\"Same result in seq and dask run!\")\n",
    "else: \n",
    "    print(\"!!! Not the same result in seq and dask run!\")\n",
    "    "
   ]
  },
  {
   "cell_type": "code",
   "execution_count": null,
   "metadata": {
    "ExecuteTime": {
     "end_time": "2023-01-30T15:32:19.432881Z",
     "start_time": "2023-01-30T15:32:19.406467Z"
    },
    "scrolled": true
   },
   "outputs": [],
   "source": [
    "addresses_batch"
   ]
  },
  {
   "cell_type": "code",
   "execution_count": null,
   "metadata": {
    "ExecuteTime": {
     "end_time": "2023-01-30T15:32:20.180489Z",
     "start_time": "2023-01-30T15:32:20.172736Z"
    }
   },
   "outputs": [],
   "source": [
    "mg[mg._merge != \"both\"]"
   ]
  },
  {
   "cell_type": "code",
   "execution_count": null,
   "metadata": {
    "ExecuteTime": {
     "end_time": "2023-01-30T15:32:53.440130Z",
     "start_time": "2023-01-30T15:32:23.596211Z"
    }
   },
   "outputs": [],
   "source": [
    "# Geocode + address\n",
    "call_ws_batch(addresses[[addr_key_field, street_field, housenbr_field, postcode_field, city_field, country_field]], mode=\"geo\", check_result=False) "
   ]
  },
  {
   "cell_type": "code",
   "execution_count": null,
   "metadata": {
    "ExecuteTime": {
     "end_time": "2023-01-30T15:33:30.782175Z",
     "start_time": "2023-01-30T15:33:01.460146Z"
    },
    "scrolled": true
   },
   "outputs": [],
   "source": [
    "# Geocode + address\n",
    "call_ws_batch(addresses[[addr_key_field, street_field, housenbr_field, postcode_field, city_field, country_field]], mode=\"short\", check_result=False) "
   ]
  },
  {
   "cell_type": "code",
   "execution_count": null,
   "metadata": {
    "ExecuteTime": {
     "end_time": "2022-12-15T15:28:06.764708Z",
     "start_time": "2022-12-15T15:28:06.676592Z"
    },
    "scrolled": true
   },
   "outputs": [],
   "source": [
    "# Geocode + address, with rejected addresses\n",
    "call_ws_batch(addresses, mode=\"long\", with_reject=True)"
   ]
  },
  {
   "cell_type": "markdown",
   "metadata": {
    "ExecuteTime": {
     "end_time": "2020-09-30T10:13:21.879291Z",
     "start_time": "2020-09-30T10:13:21.874241Z"
    }
   },
   "source": [
    "### Batch blocs"
   ]
  },
  {
   "cell_type": "code",
   "execution_count": null,
   "metadata": {
    "ExecuteTime": {
     "end_time": "2022-12-15T15:28:03.065690Z",
     "start_time": "2022-12-15T15:28:03.060048Z"
    }
   },
   "outputs": [],
   "source": [
    "# addresses = addresses.sample(10000, replace=True)\n",
    "# addresses = addresses.reset_index(drop=True)\n",
    "# addresses[\"addr_key\"]= addresses.index.astype(str)"
   ]
  },
  {
   "cell_type": "code",
   "execution_count": null,
   "metadata": {
    "ExecuteTime": {
     "end_time": "2023-01-30T15:34:02.068771Z",
     "start_time": "2023-01-30T15:33:40.814516Z"
    }
   },
   "outputs": [],
   "source": [
    "t = datetime.now()\n",
    "\n",
    "nb_threads=8\n",
    "\n",
    "chunks = np.array_split(addresses, nb_threads) # addresses.shape[0]//100)\n",
    "\n",
    "print(f\"{len(chunks)} chunks on {nb_threads} threads\")\n",
    "\n",
    "import multiprocess as mp\n",
    "\n",
    "p = mp.Pool(nb_threads)\n",
    "\n",
    "def f(chunk):\n",
    "    return call_ws_batch(chunk, mode=\"long\", \n",
    "                        check_result=False, \n",
    "                        structured_osm=False)\n",
    "\n",
    "with p:\n",
    "     res= list(tqdm(p.imap(f, chunks), total=len(chunks)))\n",
    "    \n",
    "addresses_batch2 = pd.concat(res).reset_index(drop=True)\n",
    "\n",
    "tot_time = (datetime.now() - t).total_seconds()\n",
    "print(f\"{tot_time:.2f} seconds, {addresses.shape[0]/tot_time:.2f} it/s\")\n",
    "# KBO:    9.28 seconds, 107.72 it/s\n",
    "# Best:   6.88 seconds, 145.43 it/s\n",
    "# Resto: 11.79 seconds,  84.85 it/s"
   ]
  },
  {
   "cell_type": "code",
   "execution_count": null,
   "metadata": {
    "ExecuteTime": {
     "end_time": "2022-12-15T15:28:43.485926Z",
     "start_time": "2022-12-15T15:28:43.482099Z"
    }
   },
   "outputs": [],
   "source": [
    "# addresses_batch2"
   ]
  },
  {
   "cell_type": "code",
   "execution_count": null,
   "metadata": {
    "ExecuteTime": {
     "end_time": "2023-01-30T15:34:23.397585Z",
     "start_time": "2023-01-30T15:34:23.366727Z"
    }
   },
   "outputs": [],
   "source": [
    "mg = addresses_seq[[ \"city\", \"postcode\",\"street\", \"housenumber\", \"method\", \"addr_out_street\", \"addr_out_number\", \"addr_out_postcode\", \"addr_out_city\", \"addr_key\"]].fillna(\"\").replace(\"fast\", \"orig\").merge(\n",
    "    addresses_batch2[[\"city\", \"postcode\",\"street\", \"housenumber\", \"method\", \"addr_out_street\", \"addr_out_number\", \"addr_out_postcode\", \"addr_out_city\", \"addr_key\"]].fillna(\"\"), how=\"outer\", indicator=True)\n",
    "if mg[mg._merge == \"both\"].shape[0] == addresses.shape[0]:\n",
    "    print(\"Same result in seq and dask run!\")\n",
    "else: \n",
    "    print(\"!!! Not the same result in seq and dask run!\")\n",
    "    "
   ]
  },
  {
   "cell_type": "code",
   "execution_count": null,
   "metadata": {
    "ExecuteTime": {
     "end_time": "2022-12-15T14:57:23.654433Z",
     "start_time": "2022-12-15T14:57:23.642629Z"
    }
   },
   "outputs": [],
   "source": [
    "mg[mg._merge != \"both\"].sort_values(\"addr_key\")"
   ]
  },
  {
   "cell_type": "markdown",
   "metadata": {},
   "source": [
    "## Comparing options"
   ]
  },
  {
   "cell_type": "code",
   "execution_count": null,
   "metadata": {
    "ExecuteTime": {
     "end_time": "2021-06-17T12:03:05.162160Z",
     "start_time": "2021-06-17T12:02:57.219437Z"
    }
   },
   "outputs": [],
   "source": [
    "addresses = get_addresses(\"address.csv.gz\")\n",
    "addresses = addresses[addresses[country_field] == \"Belgique\"]\n",
    "addresses = addresses.sample(10000).copy()"
   ]
  },
  {
   "cell_type": "code",
   "execution_count": null,
   "metadata": {
    "ExecuteTime": {
     "end_time": "2021-06-17T13:36:34.740473Z",
     "start_time": "2021-06-17T12:03:16.803891Z"
    },
    "scrolled": true
   },
   "outputs": [],
   "source": [
    "results = {}\n",
    "it_per_seconds=pd.DataFrame()\n",
    "\n",
    "for check_label in [\"check\", \"nocheck\"]:\n",
    "    for struct_label in [\"struct\", \"unstruct\" ]:\n",
    "        print(check_label, struct_label)\n",
    "        start=datetime.now()\n",
    "        \n",
    "        results[(check_label, struct_label)] = call_ws_batch_chunks(addresses, \n",
    "                                                                    mode=\"short\", \n",
    "                                                                    check_result   =  check_label == \"check\", \n",
    "                                                                    structured_osm =  struct_label == \"struct\")\n",
    "        \n",
    "        it_per_seconds.loc[check_label, struct_label] = addresses.shape[0] / (datetime.now()-start).total_seconds()\n",
    "print(\"Iterations per seconds:\")\n",
    "it_per_seconds"
   ]
  },
  {
   "cell_type": "code",
   "execution_count": null,
   "metadata": {
    "ExecuteTime": {
     "end_time": "2021-06-17T13:37:26.026243Z",
     "start_time": "2021-06-17T13:37:26.006959Z"
    }
   },
   "outputs": [],
   "source": [
    "print(\"Match rate\")\n",
    "pd.DataFrame({k1: {k2: results[(k1,k2)].shape[0]/addresses.shape[0] for k2 in [\"struct\", \"unstruct\"]} \n",
    "                  for k1 in  [\"check\",\"nocheck\"]})"
   ]
  },
  {
   "cell_type": "code",
   "execution_count": null,
   "metadata": {
    "ExecuteTime": {
     "end_time": "2021-06-17T13:37:36.864209Z",
     "start_time": "2021-06-17T13:37:36.760314Z"
    }
   },
   "outputs": [],
   "source": [
    "print(\"Match rate (without nostreet)\")\n",
    "pd.DataFrame({k1: {k2: results[(k1,k2)].query(\"method!='nostreet'\").shape[0]/addresses.shape[0] for k2 in [\"struct\", \"unstruct\"]} \n",
    "                  for k1 in  [\"check\",\"nocheck\"]})"
   ]
  },
  {
   "cell_type": "code",
   "execution_count": null,
   "metadata": {
    "ExecuteTime": {
     "end_time": "2021-06-17T13:37:44.762541Z",
     "start_time": "2021-06-17T13:37:44.687047Z"
    }
   },
   "outputs": [],
   "source": [
    "print(\"Unmatched addresses\")\n",
    "for k1 in results:\n",
    "    print(k1)\n",
    "    nomatch=addresses[~addresses[addr_key_field].isin(results[k1][\"addr_key\"])]\n",
    "    display(nomatch)\n",
    "    print(nomatch[country_field].value_counts())"
   ]
  },
  {
   "cell_type": "code",
   "execution_count": null,
   "metadata": {
    "ExecuteTime": {
     "end_time": "2021-06-17T13:37:55.438762Z",
     "start_time": "2021-06-17T13:37:53.973554Z"
    },
    "scrolled": true
   },
   "outputs": [],
   "source": [
    "vc_values = pd.DataFrame(columns=results.keys(), index=results.keys())\n",
    "\n",
    "for k1 in results:\n",
    "    vc_values.loc[k1, k1] = results[k1].shape[0]\n",
    "    for k2 in results:\n",
    "        if k1>k2:\n",
    "            r1=results[k1]\n",
    "            r2=results[k2]\n",
    "            mg = r1[[\"addr_key\", \"place_id\"]].merge(r2[[\"addr_key\", \"place_id\"]], on=\"addr_key\", how=\"outer\", indicator=True)\n",
    " \n",
    "            vc = mg._merge.value_counts()\n",
    "\n",
    "            mismatches = mg[mg.place_id_x != mg.place_id_y][[\"addr_key\"]]\n",
    "            mismatches = mismatches.merge(addresses.rename({addr_key_field:\"addr_key\"}, axis=1))\n",
    "            mismatches = mismatches.merge(r1[[\"addr_key\", \"addr_out_street\", \"addr_out_number\", \"extra_house_nbr\", \"addr_out_postcode\", \"addr_out_city\"]], on=\"addr_key\")\n",
    "            mismatches = mismatches.merge(r2[[\"addr_key\", \"addr_out_street\", \"addr_out_number\", \"extra_house_nbr\", \"addr_out_postcode\", \"addr_out_city\"]], on=\"addr_key\")\n",
    "            mismatches.columns = pd.MultiIndex.from_arrays([[\"Input\"]*6 + [f\"x:{k1}\"]*5 + [f\"y:{k2}\"]*5, mismatches.columns])\n",
    "\n",
    "            mismatch_values = mismatches[(mismatches[f\"x:{k1}\"].rename(lambda x: x.replace(\"_x\", \"\"), axis=1).fillna(\"\") != \n",
    "                                          mismatches[f\"y:{k2}\"].rename(lambda x: x.replace(\"_y\", \"\"), axis=1).fillna(\"\")).any(axis=1)]\n",
    "            \n",
    "            mismatch_values_no_nmbr = mismatches[(mismatches[f\"x:{k1}\"].rename(lambda x: x.replace(\"_x\", \"\"), axis=1).drop(\"addr_out_number\", axis=1).fillna(\"\") != \n",
    "                                                  mismatches[f\"y:{k2}\"].rename(lambda x: x.replace(\"_y\", \"\"), axis=1).drop(\"addr_out_number\", axis=1).fillna(\"\")).any(axis=1)]\n",
    "            \n",
    "            \n",
    "            vc_label = f\"{vc['both']} ({mismatches.shape[0]} - {mismatch_values.shape[0]} - {mismatch_values_no_nmbr.shape[0]}) / {vc['left_only']} / {vc['right_only']}\"\n",
    "            vc_values.loc[k1, k2]=vc_label\n",
    "\n",
    "                \n",
    "            print(f\"{k1} vs {k2}\")\n",
    "            print(vc_label)\n",
    "            print(\"-----------------------------\")\n",
    "            \n",
    "            print(f\"Only in {k1}\")\n",
    "            display(r1[r1.addr_key.isin(mg[mg._merge==\"left_only\"].addr_key)].merge(addresses.rename({addr_key_field:\"addr_key\"}, axis=1)))\n",
    "            \n",
    "            print(f\"Only in {k2}\")\n",
    "            display(r2[r2.addr_key.isin(mg[mg._merge==\"right_only\"].addr_key)].merge(addresses.rename({addr_key_field:\"addr_key\"}, axis=1)))\n",
    "            \n",
    "            print(\"Mismatch on place_id\")\n",
    "            display(mismatches)\n",
    "            \n",
    "            print(\"Mismatch on values\")\n",
    "            \n",
    "            display(mismatch_values)\n",
    "            \n",
    "            print(\"Mismatch on values (no nbr)\")\n",
    "            display(mismatch_values_no_nmbr)\n",
    "            \n",
    "            print(\"#######################\")\n",
    "            \n",
    "# display(vc_values.fillna(\"\"))"
   ]
  },
  {
   "cell_type": "code",
   "execution_count": null,
   "metadata": {
    "ExecuteTime": {
     "end_time": "2021-06-17T13:37:59.656028Z",
     "start_time": "2021-06-17T13:37:59.626031Z"
    }
   },
   "outputs": [],
   "source": [
    "print(\"Common in both (disagree on place_id - disagree on values - disagree on values, ignoring number) / results only for row / results only for columns\")\n",
    "vc_values.fillna(\"\")"
   ]
  },
  {
   "cell_type": "markdown",
   "metadata": {},
   "source": [
    "# tests"
   ]
  },
  {
   "cell_type": "code",
   "execution_count": null,
   "metadata": {
    "ExecuteTime": {
     "end_time": "2022-12-15T12:06:02.468145Z",
     "start_time": "2022-12-15T12:06:02.462439Z"
    }
   },
   "outputs": [],
   "source": [
    "osm_host =\"172.27.0.64:8080\"\n",
    "def get_osm(addr, accept_language = \"\"): #lg = \"en,fr,nl\"\n",
    "    params = urllib.parse.urlencode({\"q\": addr,\n",
    "                                    \"format\":\"jsonv2\",\n",
    "                                    \"accept-language\":accept_language,\n",
    "                                    \"addressdetails\":\"1\",\n",
    "                                    \"namedetails\" : \"1\",\n",
    "                                    \"limit\": \"50\"\n",
    "                                    })\n",
    "    \n",
    "    url = \"http://%s/search.php?%s\"%(osm_host, params)\n",
    "#     print(f\"Call to OSM: {url}\")\n",
    "    try: \n",
    "        with urllib.request.urlopen(url) as response:\n",
    "            res = response.read()\n",
    "            res = json.loads(res)\n",
    "#             return res\n",
    "            return [ {field: item[field] for field in [\"place_id\", \"lat\", \"lon\", \"display_name\", \"address\", \"namedetails\", \"place_rank\", \"category\", \"type\"]} for item in res] \n",
    "    except Exception as e:\n",
    "        raise Exception (f\"Cannot get OSM results ({osm_host}): {e}\") "
   ]
  },
  {
   "cell_type": "code",
   "execution_count": null,
   "metadata": {
    "ExecuteTime": {
     "end_time": "2022-12-15T15:01:41.320119Z",
     "start_time": "2022-12-15T15:01:32.970311Z"
    }
   },
   "outputs": [],
   "source": [
    "%timeit get_osm(\"Av. Fonsny 20, 1060 Bruxelles\")"
   ]
  },
  {
   "cell_type": "code",
   "execution_count": null,
   "metadata": {
    "ExecuteTime": {
     "end_time": "2022-12-15T15:01:50.158296Z",
     "start_time": "2022-12-15T15:01:41.322747Z"
    }
   },
   "outputs": [],
   "source": [
    "%timeit call_ws_test({street_field:   \"Av. Fonsny\", \\\n",
    "         housenbr_field: \"20\",\\\n",
    "         city_field:     \"Saint-Gilles\",\\\n",
    "         postcode_field: \"1060\",\\\n",
    "         country_field:  \"Belgium\"}, check_result=False, structured_osm=False)\n",
    "# res"
   ]
  }
 ],
 "metadata": {
  "kernelspec": {
   "display_name": "Python 3 (ipykernel)",
   "language": "python",
   "name": "python3"
  },
  "language_info": {
   "codemirror_mode": {
    "name": "ipython",
    "version": 3
   },
   "file_extension": ".py",
   "mimetype": "text/x-python",
   "name": "python",
   "nbconvert_exporter": "python",
   "pygments_lexer": "ipython3",
   "version": "3.9.12"
  },
  "toc": {
   "base_numbering": 1,
   "nav_menu": {},
   "number_sections": true,
   "sideBar": true,
   "skip_h1_title": false,
   "title_cell": "Table of Contents",
   "title_sidebar": "Contents",
   "toc_cell": false,
   "toc_position": {
    "height": "calc(100% - 180px)",
    "left": "10px",
    "top": "150px",
    "width": "304px"
   },
   "toc_section_display": true,
   "toc_window_display": true
  },
  "varInspector": {
   "cols": {
    "lenName": 16,
    "lenType": 16,
    "lenVar": 40
   },
   "kernels_config": {
    "python": {
     "delete_cmd_postfix": "",
     "delete_cmd_prefix": "del ",
     "library": "var_list.py",
     "varRefreshCmd": "print(var_dic_list())"
    },
    "r": {
     "delete_cmd_postfix": ") ",
     "delete_cmd_prefix": "rm(",
     "library": "var_list.r",
     "varRefreshCmd": "cat(var_dic_list()) "
    }
   },
   "types_to_exclude": [
    "module",
    "function",
    "builtin_function_or_method",
    "instance",
    "_Feature"
   ],
   "window_display": false
  }
 },
 "nbformat": 4,
 "nbformat_minor": 4
}
