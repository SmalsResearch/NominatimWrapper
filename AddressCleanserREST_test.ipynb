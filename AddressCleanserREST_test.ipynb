{
 "cells": [
  {
   "cell_type": "code",
   "execution_count": null,
   "metadata": {
    "ExecuteTime": {
     "end_time": "2023-02-06T08:08:52.606337Z",
     "start_time": "2023-02-06T08:08:51.267879Z"
    }
   },
   "outputs": [],
   "source": [
    "import pandas as pd\n",
    "import urllib\n",
    "\n",
    "import numpy as np\n",
    "\n",
    "import json\n",
    "\n",
    "from tqdm.autonotebook import tqdm\n",
    "\n",
    "#%matplotlib inline\n",
    "\n",
    "tqdm.pandas()\n",
    "\n",
    "import dask.dataframe as dd\n",
    "\n",
    "from dask.multiprocessing import get\n",
    "from dask.diagnostics import ProgressBar\n",
    "\n",
    "from datetime import datetime\n",
    "import matplotlib.pyplot as plt\n",
    "\n",
    "from IPython.display import display\n"
   ]
  },
  {
   "cell_type": "code",
   "execution_count": null,
   "metadata": {
    "ExecuteTime": {
     "end_time": "2023-02-06T08:08:52.706036Z",
     "start_time": "2023-02-06T08:08:52.608723Z"
    }
   },
   "outputs": [],
   "source": [
    "import urllib3"
   ]
  },
  {
   "cell_type": "code",
   "execution_count": null,
   "metadata": {
    "ExecuteTime": {
     "end_time": "2023-02-06T08:08:52.811639Z",
     "start_time": "2023-02-06T08:08:52.708057Z"
    }
   },
   "outputs": [],
   "source": [
    "http = urllib3.PoolManager()"
   ]
  },
  {
   "cell_type": "markdown",
   "metadata": {
    "ExecuteTime": {
     "end_time": "2020-05-06T13:50:43.162875Z",
     "start_time": "2020-05-06T13:50:43.151794Z"
    }
   },
   "source": [
    "# Functions"
   ]
  },
  {
   "cell_type": "code",
   "execution_count": null,
   "metadata": {
    "ExecuteTime": {
     "end_time": "2023-02-06T08:08:52.914233Z",
     "start_time": "2023-02-06T08:08:52.875934Z"
    }
   },
   "outputs": [],
   "source": [
    "ws_hostname = \"127.0.1.1\"\n",
    "ws_hostname = \"172.27.0.64\"\n",
    "\n",
    "\n",
    "street_field  = \"streetName\"\n",
    "housenbr_field = \"houseNumber\"\n",
    "postcode_field = \"postCode\"\n",
    "city_field  =    \"city\"\n",
    "country_field =  \"country\"\n",
    "addr_key_field = \"addrKey\"\n",
    "\n",
    "# ws_hostname = \"192.168.1.3\""
   ]
  },
  {
   "cell_type": "code",
   "execution_count": null,
   "metadata": {
    "ExecuteTime": {
     "end_time": "2023-02-06T08:08:52.986458Z",
     "start_time": "2023-02-06T08:08:52.916018Z"
    }
   },
   "outputs": [],
   "source": [
    "\n",
    "sample_size = None# 1000\n",
    "def get_addresses(addresses_filename):\n",
    "    addresses = pd.read_csv(addresses_filename,  \n",
    "                            usecols = lambda x: x in [addr_key_field, \"addr_key\",\n",
    "                                       country_field, \n",
    "                                       postcode_field, \n",
    "                                       city_field, \n",
    "                                       street_field, \n",
    "                                       housenbr_field,\n",
    "                                       country_field], \n",
    "                           dtype={postcode_field: str, housenbr_field: str, country_field: str})\n",
    "    \n",
    "    \n",
    "    addresses = addresses.rename(columns={\"addr_key\": addr_key_field})\n",
    "    if country_field in addresses: \n",
    "        addresses[country_field] =addresses[country_field].fillna(\"Belgique\")\n",
    "    else: \n",
    "        addresses[country_field] = \"Belgique\"\n",
    "    #addresses = addresses.rename(columns={\"index\":addr_key_field})\n",
    "    \n",
    "    addresses = addresses[addresses[street_field].notnull() & addresses[city_field].notnull()] # & addresses[country_field].isnull() ]\n",
    "    \n",
    "    addresses[postcode_field] = addresses[postcode_field].astype(str)\n",
    "    \n",
    "    if sample_size: \n",
    "        addresses = addresses.sample(sample_size, random_state=0)\n",
    "    \n",
    "    return addresses#.drop(country_field, axis=1)"
   ]
  },
  {
   "cell_type": "code",
   "execution_count": null,
   "metadata": {
    "ExecuteTime": {
     "end_time": "2023-02-06T08:08:53.039983Z",
     "start_time": "2023-02-06T08:08:52.988187Z"
    }
   },
   "outputs": [],
   "source": [
    "def call_ws(addr_data, check_result=True, structured_osm=False): #lg = \"en,fr,nl\"\n",
    "    t = datetime.now()\n",
    "    \n",
    "    try: \n",
    "        r = http.request(\n",
    "        'POST',\n",
    "        f'http://{ws_hostname}:5000//REST/nominatimWrapper/v0.1/search',\n",
    "        fields= { \n",
    "             street_field: addr_data[street_field],\n",
    "             housenbr_field: addr_data[housenbr_field],\n",
    "             city_field: addr_data[city_field],\n",
    "             postcode_field: addr_data[postcode_field],\n",
    "             country_field: addr_data[country_field],\n",
    "             \"check_result\" : \"yes\" if check_result else \"no\",\n",
    "             \"struct_osm\" : \"yes\" if structured_osm else \"no\"\n",
    "\n",
    "        })\n",
    "    except Exception as e:\n",
    "        print(\"Exception !\")\n",
    "        print(addr_data)\n",
    "        print(e)\n",
    "        raise e\n",
    "        \n",
    "    if r.status == 204:\n",
    "        print(\"No result!\")\n",
    "        print(addr_data)\n",
    "        print(r.data)\n",
    "        return\n",
    "    elif r.status == 200:\n",
    "        try:\n",
    "            res = json.loads(r.data.decode('utf-8'))\n",
    "            res[\"time\"] = (datetime.now() - t).total_seconds()\n",
    "        except ValueError as ve:\n",
    "\n",
    "            print(\"Cannot decode result:\")\n",
    "            print(ve)\n",
    "            print(r.data.decode('utf-8'))\n",
    "            return r.data\n",
    "        return res\n",
    "    else: \n",
    "        print(f\"Unknown return code: {r.status} \")\n",
    "        print(r.data)\n",
    "\n"
   ]
  },
  {
   "cell_type": "code",
   "execution_count": null,
   "metadata": {
    "ExecuteTime": {
     "end_time": "2023-02-06T08:08:53.082260Z",
     "start_time": "2023-02-06T08:08:53.041647Z"
    }
   },
   "outputs": [],
   "source": [
    "def call_ws_batch(addr_data, mode=\"geo\", with_rejected=False, check_result=True, structured_osm=False): #lg = \"en,fr,nl\"\n",
    "    file_data = addr_data.to_csv(index=False)\n",
    "    \n",
    "    r = http.request(\n",
    "    'POST',\n",
    "    f'http://{ws_hostname}:5000/REST/nominatimWrapper/v0.1/batch',\n",
    "    fields= { \n",
    "        'media': ('addresses.csv', file_data),\n",
    "        'mode': mode,\n",
    "        \"withRejected\": \"yes\" if with_rejected else \"no\",\n",
    "        \"checkResult\" : \"yes\" if check_result else \"no\",\n",
    "        \"structOsm\"   : \"yes\" if structured_osm else \"no\",\n",
    "        #\"extra_house_nbr\": \"no\"\n",
    "    })\n",
    "    \n",
    "    try:\n",
    "        res = pd.DataFrame(json.loads(r.data.decode('utf-8')))\n",
    "    except ValueError as ve:\n",
    "        \n",
    "        print(\"Cannot decode result:\")\n",
    "        print(ve)\n",
    "        print(r.data.decode('utf-8'))\n",
    "     \n",
    "        return r.data\n",
    "#     display(res)\n",
    "    return res"
   ]
  },
  {
   "cell_type": "code",
   "execution_count": null,
   "metadata": {
    "ExecuteTime": {
     "end_time": "2023-02-06T08:08:53.149888Z",
     "start_time": "2023-02-06T08:08:53.083955Z"
    }
   },
   "outputs": [],
   "source": [
    "def expand_json(addresses):\n",
    "    addresses[\"status\"]= addresses.json.apply(lambda d:  \"NONE\" if d is None else \"error\" if \"error\" in d else \"match\" if \"match\" in d else \"no_result\")\n",
    "    addresses[\"time\"]  = addresses.json.apply(lambda d: \"NONE\" if d is None else d[\"time\"])\n",
    "\n",
    "    addresses[\"timing\"]  = addresses.json.apply(lambda d: \"NONE\" if d is None else d[\"timing\"] if \"timing\" in d else {})\n",
    "    \n",
    "    for f in [\"method\", \"placeRank\"]:\n",
    "        addresses[f]= addresses.json.apply(lambda d: d[\"match\"][0][f] if d is not None and len(d)>0 and \"match\" in d else \"none\")\n",
    "    \n",
    "    for field in [street_field, housenbr_field, postcode_field, city_field]:\n",
    "        addresses[\"addrOut\"+field]= addresses.json.apply(lambda d: d[\"match\"][0][\"address\"][field] if d is not None and len(d)>0 and \"match\" in d and field in d[\"match\"][0][\"address\"] else \"\")\n",
    "    return "
   ]
  },
  {
   "cell_type": "code",
   "execution_count": null,
   "metadata": {},
   "outputs": [],
   "source": [
    "def expand_batch_address(addresses):\n",
    "    for field in [street_field, housenbr_field, postcode_field, city_field]:\n",
    "        addresses[\"addrOut\"+field]= addresses.address.apply(lambda d: d[field] if d is not None and field in d else \"\")\n",
    "    return "
   ]
  },
  {
   "cell_type": "markdown",
   "metadata": {},
   "source": [
    "# Calls"
   ]
  },
  {
   "cell_type": "markdown",
   "metadata": {
    "ExecuteTime": {
     "end_time": "2020-09-30T09:57:35.286293Z",
     "start_time": "2020-09-30T09:57:35.281457Z"
    }
   },
   "source": [
    "## Single address calls"
   ]
  },
  {
   "cell_type": "code",
   "execution_count": null,
   "metadata": {},
   "outputs": [],
   "source": []
  },
  {
   "cell_type": "code",
   "execution_count": null,
   "metadata": {
    "ExecuteTime": {
     "end_time": "2023-02-06T08:08:53.347070Z",
     "start_time": "2023-02-06T08:08:53.153150Z"
    },
    "scrolled": true
   },
   "outputs": [],
   "source": [
    "res=call_ws({street_field:   \"Avenue Fonsny\", \\\n",
    "         housenbr_field: \"20\",\\\n",
    "         city_field:     \"Saint-Gilles\",\\\n",
    "         postcode_field: \"1060\",\\\n",
    "         country_field:  \"Belgique\"}, check_result=False, structured_osm=False)\n",
    "res"
   ]
  },
  {
   "cell_type": "markdown",
   "metadata": {},
   "source": [
    "## Batch calls (row by row)"
   ]
  },
  {
   "cell_type": "code",
   "execution_count": null,
   "metadata": {
    "ExecuteTime": {
     "end_time": "2023-02-06T08:08:53.370626Z",
     "start_time": "2023-02-06T08:08:53.349306Z"
    },
    "tags": []
   },
   "outputs": [],
   "source": [
    "addresses = pd.concat([\n",
    "    get_addresses(\"data/address_restobe.csv.gz\"),\n",
    "    get_addresses(\"data/address_best.csv.gz\"),\n",
    "    get_addresses(\"data/address_cbe.csv.gz\")])\n",
    "addresses = addresses.reset_index(drop=True)\n",
    "addresses[addr_key_field] = addresses.index.astype(str)\n",
    "addresses"
   ]
  },
  {
   "cell_type": "code",
   "execution_count": null,
   "metadata": {
    "ExecuteTime": {
     "end_time": "2023-02-06T08:08:53.452134Z",
     "start_time": "2023-02-06T08:08:53.372358Z"
    }
   },
   "outputs": [],
   "source": [
    "# addresses = addresses[addresses.addr_key.isin([ \"2078829\"])]#\"1622\",\n",
    "# addresses.dtypes"
   ]
  },
  {
   "cell_type": "markdown",
   "metadata": {},
   "source": [
    "\n",
    "### Simple way"
   ]
  },
  {
   "cell_type": "code",
   "execution_count": null,
   "metadata": {
    "ExecuteTime": {
     "end_time": "2023-02-06T08:09:19.724343Z",
     "start_time": "2023-02-06T08:08:53.454103Z"
    },
    "scrolled": true
   },
   "outputs": [],
   "source": [
    "addresses_seq = addresses.copy()\n",
    "\n",
    "t = datetime.now()\n",
    "addresses_seq[\"json\"] = addresses_seq.fillna(\"\").progress_apply(call_ws, check_result=False, structured_osm=False, axis=1)\n",
    "tot_time = (datetime.now() - t).total_seconds()\n",
    "print(f\"{tot_time:.2f} seconds, {addresses_seq.shape[0]/tot_time:.2f} it/s\")\n",
    "# KBO dataset:\n",
    "# Normal mode: 128.78 seconds, 7.77 it/s\n",
    "# Fastmode:     68.80 seconds, 14.54 it/s\n",
    "\n",
    "#Resto dataset: \n",
    "# Normal mode: 145.73 seconds, 6.86 it/s\n",
    "# Fast mode:    82.99 seconds, 12.05 it/s\n",
    "\n",
    "# Best dataset:\n",
    "# Normal mode: 108.53 seconds, 9.21 it/s\n",
    "# Fast mode: 37.44 seconds, 26.71 it/s"
   ]
  },
  {
   "cell_type": "code",
   "execution_count": null,
   "metadata": {
    "ExecuteTime": {
     "end_time": "2023-02-06T08:09:20.909544Z",
     "start_time": "2023-02-06T08:09:19.727100Z"
    },
    "scrolled": true
   },
   "outputs": [],
   "source": [
    "expand_json(addresses_seq)\n",
    "addresses_seq"
   ]
  },
  {
   "cell_type": "code",
   "execution_count": null,
   "metadata": {},
   "outputs": [],
   "source": []
  },
  {
   "cell_type": "code",
   "execution_count": null,
   "metadata": {
    "ExecuteTime": {
     "end_time": "2023-02-06T08:09:20.913462Z",
     "start_time": "2023-02-06T08:09:20.913448Z"
    }
   },
   "outputs": [],
   "source": [
    "addresses_seq.method.value_counts()"
   ]
  },
  {
   "cell_type": "markdown",
   "metadata": {
    "ExecuteTime": {
     "end_time": "2020-09-30T10:03:50.368838Z",
     "start_time": "2020-09-30T10:03:50.364575Z"
    }
   },
   "source": [
    "### Using Dask"
   ]
  },
  {
   "cell_type": "code",
   "execution_count": null,
   "metadata": {
    "ExecuteTime": {
     "end_time": "2023-02-06T08:09:20.920908Z",
     "start_time": "2023-02-06T08:09:20.920886Z"
    }
   },
   "outputs": [],
   "source": [
    "addresses_dask = addresses.copy()"
   ]
  },
  {
   "cell_type": "code",
   "execution_count": null,
   "metadata": {
    "ExecuteTime": {
     "end_time": "2023-02-06T08:09:20.922625Z",
     "start_time": "2023-02-06T08:09:20.922605Z"
    }
   },
   "outputs": [],
   "source": [
    "addresses_dask"
   ]
  },
  {
   "cell_type": "code",
   "execution_count": null,
   "metadata": {
    "ExecuteTime": {
     "end_time": "2023-02-06T08:09:20.924095Z",
     "start_time": "2023-02-06T08:09:20.924076Z"
    }
   },
   "outputs": [],
   "source": [
    "t = datetime.now()\n",
    "dd_addresses = dd.from_pandas(addresses_dask.fillna(\"\"), npartitions=8)\n",
    "\n",
    "dask_task = dd_addresses.apply(call_ws, check_result=False, meta=('x', 'str'), axis=1)\n",
    "\n",
    "with ProgressBar(): \n",
    "    addresses_dask[\"json\"] = dask_task.compute()\n",
    "    \n",
    "tot_time = (datetime.now() - t).total_seconds()\n",
    "print(f\"{tot_time:.2f} seconds, {addresses_dask.shape[0]/tot_time:.2f} it/s\")\n",
    "# KBO dataset:\n",
    "# Normal mode: 24.52 seconds, 40.79 it/s\n",
    "# Fastmode:    15.81 seconds, 63.27 it/s\n",
    "\n",
    "\n",
    "# Resto dataset:\n",
    "# Normal mode: 27.86 seconds, 35.89 it/s\n",
    "# Fast mode:   18.44 seconds, 54.23 it/s\n",
    "\n",
    "# Best dataset: \n",
    "# Normal mode: 16.11 seconds, 62.07 it/s\n",
    "# Fast mode:    9.76 seconds, 102.42 it/s"
   ]
  },
  {
   "cell_type": "code",
   "execution_count": null,
   "metadata": {
    "ExecuteTime": {
     "end_time": "2023-02-06T08:09:20.925719Z",
     "start_time": "2023-02-06T08:09:20.925696Z"
    }
   },
   "outputs": [],
   "source": [
    "# 1000, 1 worker: 4m18\n",
    "# 4 workers, npart=4 : 1m20\n",
    "# 8 workers, npart=4 : 1m20\n",
    "# 8 workers, npart=8 : 44s\n",
    "\n",
    "# with checker=False:\n",
    "# 8 workers, npart=8 : 24s\n"
   ]
  },
  {
   "cell_type": "code",
   "execution_count": null,
   "metadata": {
    "ExecuteTime": {
     "end_time": "2023-02-06T08:09:20.927330Z",
     "start_time": "2023-02-06T08:09:20.927311Z"
    },
    "scrolled": true
   },
   "outputs": [],
   "source": [
    "expand_json(addresses_dask)\n",
    "addresses_dask"
   ]
  },
  {
   "cell_type": "code",
   "execution_count": null,
   "metadata": {
    "ExecuteTime": {
     "end_time": "2023-02-06T08:09:20.928918Z",
     "start_time": "2023-02-06T08:09:20.928899Z"
    }
   },
   "outputs": [],
   "source": [
    "addresses_dask.method.value_counts()#.json.loc[550]"
   ]
  },
  {
   "cell_type": "code",
   "execution_count": null,
   "metadata": {
    "ExecuteTime": {
     "end_time": "2023-02-06T08:09:20.930477Z",
     "start_time": "2023-02-06T08:09:20.930459Z"
    }
   },
   "outputs": [],
   "source": [
    "mg = addresses_seq[[addr_key_field, city_field, postcode_field,street_field, housenbr_field, f\"addrOut{street_field}\", f\"addrOut{housenbr_field}\", f\"addrOut{postcode_field}\", f\"addrOut{city_field}\"]].merge(\n",
    "    addresses_dask[[addr_key_field, city_field, postcode_field,street_field, housenbr_field, f\"addrOut{street_field}\", f\"addrOut{housenbr_field}\", f\"addrOut{postcode_field}\", f\"addrOut{city_field}\"]], how=\"outer\", indicator=True)\n",
    "if mg.shape[0] == addresses.shape[0]:\n",
    "    print(\"Same result in seq and dask run!\")\n",
    "else: \n",
    "    print(\"!!! Not the same result in seq and dask run!\")\n",
    "    "
   ]
  },
  {
   "cell_type": "code",
   "execution_count": null,
   "metadata": {
    "ExecuteTime": {
     "end_time": "2023-02-06T08:09:20.932315Z",
     "start_time": "2023-02-06T08:09:20.932294Z"
    },
    "scrolled": true
   },
   "outputs": [],
   "source": [
    "mg[mg._merge != \"both\"].sort_values(\"addrKey\")\n"
   ]
  },
  {
   "cell_type": "markdown",
   "metadata": {
    "ExecuteTime": {
     "end_time": "2020-09-30T10:09:38.533274Z",
     "start_time": "2020-09-30T10:09:38.528729Z"
    }
   },
   "source": [
    "## Batch calls (batch WS)"
   ]
  },
  {
   "cell_type": "markdown",
   "metadata": {
    "ExecuteTime": {
     "end_time": "2020-09-30T10:13:11.087024Z",
     "start_time": "2020-09-30T10:13:11.082413Z"
    }
   },
   "source": [
    "### Single block"
   ]
  },
  {
   "cell_type": "code",
   "execution_count": null,
   "metadata": {
    "ExecuteTime": {
     "end_time": "2023-02-06T08:09:20.933844Z",
     "start_time": "2023-02-06T08:09:20.933821Z"
    },
    "scrolled": true
   },
   "outputs": [],
   "source": [
    "t = datetime.now()\n",
    "\n",
    "addresses_batch = call_ws_batch(addresses[[addr_key_field, \n",
    "                                           street_field, housenbr_field, postcode_field, city_field, country_field]], \n",
    "                                mode=\"long\", \n",
    "                                check_result=False, \n",
    "                                structured_osm=False,\n",
    "                               with_rejected=True)\n",
    "\n",
    "tot_time = (datetime.now() - t).total_seconds()\n",
    "print(f\"{tot_time:.2f} seconds, {addresses.shape[0]/tot_time:.2f} it/s\")\n",
    "# KBO dataset: 33.94 seconds, 29.46 it/s\n",
    "# Best:        24.99 seconds, 40.01 it/s\n",
    "# Resto:       38.33 seconds, 26.09 it/s\n",
    "\n",
    "addresses_batch"
   ]
  },
  {
   "cell_type": "code",
   "execution_count": null,
   "metadata": {},
   "outputs": [],
   "source": [
    "addresses_batch.placeRank.fillna(\"none\").value_counts()"
   ]
  },
  {
   "cell_type": "code",
   "execution_count": null,
   "metadata": {},
   "outputs": [],
   "source": [
    "expand_batch_address(addresses_batch)"
   ]
  },
  {
   "cell_type": "code",
   "execution_count": null,
   "metadata": {
    "ExecuteTime": {
     "end_time": "2023-02-06T08:09:20.935647Z",
     "start_time": "2023-02-06T08:09:20.935609Z"
    },
    "scrolled": true
   },
   "outputs": [],
   "source": [
    "addresses_batch.sort_values(\"addrKey\", key=lambda x: x.astype(int))"
   ]
  },
  {
   "cell_type": "code",
   "execution_count": null,
   "metadata": {
    "ExecuteTime": {
     "end_time": "2023-02-06T08:09:20.937249Z",
     "start_time": "2023-02-06T08:09:20.937229Z"
    }
   },
   "outputs": [],
   "source": [
    "# addresses_batch[addresses_batch.method.str.contains(\"error\")]"
   ]
  },
  {
   "cell_type": "code",
   "execution_count": null,
   "metadata": {
    "ExecuteTime": {
     "end_time": "2023-02-06T08:09:20.938964Z",
     "start_time": "2023-02-06T08:09:20.938941Z"
    }
   },
   "outputs": [],
   "source": [
    "rejected_addresses = addresses_batch[addresses_batch.reject.apply(lambda lst: len(lst)>0)].reject.apply(pd.Series).unstack().dropna().apply(pd.Series)\n",
    "rejected_addresses"
   ]
  },
  {
   "cell_type": "code",
   "execution_count": null,
   "metadata": {
    "ExecuteTime": {
     "end_time": "2023-02-06T08:09:20.942609Z",
     "start_time": "2023-02-06T08:09:20.942587Z"
    }
   },
   "outputs": [],
   "source": [
    "mg = addresses_seq[[addr_key_field, city_field, postcode_field,street_field, housenbr_field, f\"addrOut{street_field}\", f\"addrOut{housenbr_field}\", f\"addrOut{postcode_field}\", f\"addrOut{city_field}\"]].fillna(\"\").replace(\"fast\", \"orig\").merge(\n",
    "    addresses_batch[[addr_key_field, city_field, postcode_field,street_field, housenbr_field, f\"addrOut{street_field}\", f\"addrOut{housenbr_field}\", f\"addrOut{postcode_field}\", f\"addrOut{city_field}\"]].fillna(\"\"), how=\"outer\", indicator=True)\n",
    "\n",
    "# mg = addresses_seq[[ \"city\", \"postcode\",\"street\", \"housenumber\", \"method\", \"addrOutStreet\", \"addrOutNumber\", \"addrOutPostcode\", \"addrOutCity\", \"addrKey\"]].fillna(\"\").replace(\"fast\", \"orig\").merge(\n",
    "#      addresses_batch[[\"city\", \"postcode\",\"street\", \"housenumber\", \"method\", \"addrOutStreet\", \"addrOutNumber\", \"addrOutPostcode\", \"addrOutCity\", \"addrKey\"]].fillna(\"\"), how=\"outer\", indicator=True)\n",
    "if mg[mg._merge == \"both\"].shape[0] == addresses.shape[0]:\n",
    "    print(\"Same result in seq and dask run!\")\n",
    "else: \n",
    "    print(\"!!! Not the same result in seq and dask run!\")\n",
    "    "
   ]
  },
  {
   "cell_type": "code",
   "execution_count": null,
   "metadata": {
    "ExecuteTime": {
     "end_time": "2023-02-06T08:09:20.947024Z",
     "start_time": "2023-02-06T08:09:20.947001Z"
    }
   },
   "outputs": [],
   "source": [
    "mg[mg._merge != \"both\"]"
   ]
  },
  {
   "cell_type": "code",
   "execution_count": null,
   "metadata": {
    "ExecuteTime": {
     "end_time": "2023-02-06T08:09:20.948476Z",
     "start_time": "2023-02-06T08:09:20.948448Z"
    }
   },
   "outputs": [],
   "source": [
    "# Geocode + address\n",
    "call_ws_batch(addresses[[addr_key_field, street_field, housenbr_field, postcode_field, city_field, country_field]], mode=\"geo\", check_result=False, with_rejected=True) "
   ]
  },
  {
   "cell_type": "code",
   "execution_count": null,
   "metadata": {
    "ExecuteTime": {
     "end_time": "2023-02-06T08:09:20.950884Z",
     "start_time": "2023-02-06T08:09:20.950864Z"
    },
    "scrolled": true
   },
   "outputs": [],
   "source": [
    "# Geocode + address\n",
    "call_ws_batch(addresses[[addr_key_field, street_field, housenbr_field, postcode_field, city_field, country_field]], mode=\"short\", check_result=False) "
   ]
  },
  {
   "cell_type": "code",
   "execution_count": null,
   "metadata": {
    "ExecuteTime": {
     "end_time": "2023-02-06T08:09:20.952729Z",
     "start_time": "2023-02-06T08:09:20.952706Z"
    },
    "scrolled": true
   },
   "outputs": [],
   "source": [
    "# Geocode + address, with rejected addresses\n",
    "call_ws_batch(addresses, mode=\"long\", with_rejected=True)"
   ]
  },
  {
   "cell_type": "markdown",
   "metadata": {
    "ExecuteTime": {
     "end_time": "2020-09-30T10:13:21.879291Z",
     "start_time": "2020-09-30T10:13:21.874241Z"
    }
   },
   "source": [
    "### Batch blocs"
   ]
  },
  {
   "cell_type": "code",
   "execution_count": null,
   "metadata": {
    "ExecuteTime": {
     "end_time": "2023-02-06T08:09:20.954296Z",
     "start_time": "2023-02-06T08:09:20.954273Z"
    }
   },
   "outputs": [],
   "source": [
    "# addresses = addresses.sample(10000, replace=True)\n",
    "# addresses = addresses.reset_index(drop=True)\n",
    "# addresses[\"addr_key\"]= addresses.index.astype(str)"
   ]
  },
  {
   "cell_type": "code",
   "execution_count": null,
   "metadata": {
    "ExecuteTime": {
     "end_time": "2023-02-06T08:09:20.955979Z",
     "start_time": "2023-02-06T08:09:20.955957Z"
    }
   },
   "outputs": [],
   "source": [
    "t = datetime.now()\n",
    "\n",
    "nb_threads=8\n",
    "\n",
    "chunks = np.array_split(addresses, nb_threads) # addresses.shape[0]//100)\n",
    "\n",
    "print(f\"{len(chunks)} chunks on {nb_threads} threads\")\n",
    "\n",
    "import multiprocess as mp\n",
    "\n",
    "p = mp.Pool(nb_threads)\n",
    "\n",
    "def f(chunk):\n",
    "    return call_ws_batch(chunk, mode=\"long\", \n",
    "                        check_result=False, \n",
    "                        structured_osm=False)\n",
    "\n",
    "with p:\n",
    "     res= list(tqdm(p.imap(f, chunks), total=len(chunks)))\n",
    "    \n",
    "addresses_batch2 = pd.concat(res).reset_index(drop=True)\n",
    "\n",
    "tot_time = (datetime.now() - t).total_seconds()\n",
    "print(f\"{tot_time:.2f} seconds, {addresses.shape[0]/tot_time:.2f} it/s\")\n",
    "# KBO:    9.28 seconds, 107.72 it/s\n",
    "# Best:   6.88 seconds, 145.43 it/s\n",
    "# Resto: 11.79 seconds,  84.85 it/s"
   ]
  },
  {
   "cell_type": "code",
   "execution_count": null,
   "metadata": {
    "ExecuteTime": {
     "end_time": "2023-02-06T08:09:20.957742Z",
     "start_time": "2023-02-06T08:09:20.957719Z"
    }
   },
   "outputs": [],
   "source": [
    "# addresses_batch2\n",
    "expand_batch_address(addresses_batch2)"
   ]
  },
  {
   "cell_type": "code",
   "execution_count": null,
   "metadata": {
    "ExecuteTime": {
     "end_time": "2023-02-06T08:09:20.959646Z",
     "start_time": "2023-02-06T08:09:20.959623Z"
    }
   },
   "outputs": [],
   "source": [
    "mg = addresses_seq[[addr_key_field, city_field, postcode_field,street_field, housenbr_field, f\"addrOut{street_field}\", f\"addrOut{housenbr_field}\", f\"addrOut{postcode_field}\", f\"addrOut{city_field}\"]].fillna(\"\").replace(\"fast\", \"orig\").merge(\n",
    "     addresses_batch2[[addr_key_field, city_field, postcode_field,street_field, housenbr_field, f\"addrOut{street_field}\", f\"addrOut{housenbr_field}\", f\"addrOut{postcode_field}\", f\"addrOut{city_field}\"]].fillna(\"\"), how=\"outer\", indicator=True)\n",
    "\n",
    "# mg = addresses_seq[[  \"city\", \"postcode\",\"street\", \"housenumber\", \"method\", \"addrOutStreet\", \"addrOutNumber\", \"addrOutPostcode\", \"addrOutCity\", \"addrKey\"]].fillna(\"\").replace(\"fast\", \"orig\").merge(\n",
    "#     addresses_batch2[[\"city\", \"postcode\",\"street\", \"housenumber\", \"method\", \"addrOutStreet\", \"addrOutNumber\", \"addrOutPostcode\", \"addrOutCity\", \"addrKey\"]].fillna(\"\"), how=\"outer\", indicator=True)\n",
    "if mg[mg._merge == \"both\"].shape[0] == addresses.shape[0]:\n",
    "    print(\"Same result in seq and dask run!\")\n",
    "else: \n",
    "    print(\"!!! Not the same result in seq and dask run!\")\n",
    "    "
   ]
  },
  {
   "cell_type": "code",
   "execution_count": null,
   "metadata": {
    "ExecuteTime": {
     "end_time": "2023-02-06T08:09:20.961419Z",
     "start_time": "2023-02-06T08:09:20.961395Z"
    }
   },
   "outputs": [],
   "source": [
    "mg[mg._merge != \"both\"].sort_values(\"addrKey\")"
   ]
  },
  {
   "cell_type": "markdown",
   "metadata": {},
   "source": [
    "## Comparing options"
   ]
  },
  {
   "cell_type": "code",
   "execution_count": null,
   "metadata": {
    "ExecuteTime": {
     "end_time": "2023-02-06T08:09:20.962969Z",
     "start_time": "2023-02-06T08:09:20.962947Z"
    }
   },
   "outputs": [],
   "source": [
    "# addresses = get_addresses(\"address.csv.gz\")\n",
    "# addresses = addresses[addresses[country_field] == \"Belgique\"]\n",
    "# # addresses = addresses.sample(10000).copy()"
   ]
  },
  {
   "cell_type": "code",
   "execution_count": null,
   "metadata": {
    "ExecuteTime": {
     "end_time": "2023-02-06T08:09:20.964643Z",
     "start_time": "2023-02-06T08:09:20.964622Z"
    },
    "scrolled": true
   },
   "outputs": [],
   "source": [
    "results = {}\n",
    "it_per_seconds=pd.DataFrame()\n",
    "\n",
    "for check_label in [\"check\", \"nocheck\"]:\n",
    "    for struct_label in [\"struct\", \"unstruct\" ]:\n",
    "        print(check_label, struct_label)\n",
    "        start=datetime.now()\n",
    "        \n",
    "        results[(check_label, struct_label)] = call_ws_batch(addresses, \n",
    "                                                                    mode=\"short\", \n",
    "                                                                    check_result   =  check_label == \"check\", \n",
    "                                                                    structured_osm =  struct_label == \"struct\")\n",
    "        \n",
    "        expand_batch_address(results[(check_label, struct_label)])\n",
    "        it_per_seconds.loc[check_label, struct_label] = addresses.shape[0] / (datetime.now()-start).total_seconds()\n",
    "print(\"Iterations per seconds:\")\n",
    "it_per_seconds"
   ]
  },
  {
   "cell_type": "code",
   "execution_count": null,
   "metadata": {
    "ExecuteTime": {
     "end_time": "2023-02-06T08:09:20.966041Z",
     "start_time": "2023-02-06T08:09:20.966023Z"
    }
   },
   "outputs": [],
   "source": [
    "print(\"Match rate\")\n",
    "pd.DataFrame({k1: {k2: results[(k1,k2)].shape[0]/addresses.shape[0] for k2 in [\"struct\", \"unstruct\"]} \n",
    "                  for k1 in  [\"check\",\"nocheck\"]})"
   ]
  },
  {
   "cell_type": "code",
   "execution_count": null,
   "metadata": {
    "ExecuteTime": {
     "end_time": "2023-02-06T08:09:20.968006Z",
     "start_time": "2023-02-06T08:09:20.967983Z"
    }
   },
   "outputs": [],
   "source": [
    "print(\"Match rate (without nostreet)\")\n",
    "pd.DataFrame({k1: {k2: results[(k1,k2)].query(\"method!='nostreet'\").shape[0]/addresses.shape[0] for k2 in [\"struct\", \"unstruct\"]} \n",
    "                  for k1 in  [\"check\",\"nocheck\"]})"
   ]
  },
  {
   "cell_type": "code",
   "execution_count": null,
   "metadata": {
    "ExecuteTime": {
     "end_time": "2023-02-06T08:09:20.969433Z",
     "start_time": "2023-02-06T08:09:20.969413Z"
    }
   },
   "outputs": [],
   "source": [
    "print(\"Unmatched addresses\")\n",
    "for k1 in results:\n",
    "    print(k1)\n",
    "    nomatch=addresses[~addresses[addr_key_field].isin(results[k1][\"addrKey\"])]\n",
    "    display(nomatch)\n",
    "    print(nomatch[country_field].value_counts())"
   ]
  },
  {
   "cell_type": "code",
   "execution_count": null,
   "metadata": {},
   "outputs": [],
   "source": []
  },
  {
   "cell_type": "code",
   "execution_count": null,
   "metadata": {
    "ExecuteTime": {
     "end_time": "2023-02-06T08:09:20.971185Z",
     "start_time": "2023-02-06T08:09:20.971163Z"
    },
    "scrolled": true
   },
   "outputs": [],
   "source": [
    "vc_values = pd.DataFrame(columns=results.keys(), index=results.keys())\n",
    "\n",
    "for k1 in results:\n",
    "    vc_values.loc[k1, k1] = results[k1].shape[0]\n",
    "    for k2 in results:\n",
    "        if k1>k2:\n",
    "            r1=results[k1]\n",
    "            r2=results[k2]\n",
    "            mg = r1[[\"addrKey\", \"placeId\"]].merge(r2[[\"addrKey\", \"placeId\"]], on=\"addrKey\", how=\"outer\", indicator=True)\n",
    " \n",
    "            vc = mg._merge.value_counts()\n",
    "\n",
    "            mismatches = mg[mg.placeId_x != mg.placeId_y][[\"addrKey\"]]\n",
    "            mismatches = mismatches.merge(addresses)\n",
    "            mismatches = mismatches.merge(r1[[addr_key_field, \"placeId\", \"method\", f\"addrOut{street_field}\", f\"addrOut{housenbr_field}\", f\"addrOut{postcode_field}\", f\"addrOut{city_field}\", \"lpostHouseNbr\"]], on=addr_key_field)\n",
    "            mismatches = mismatches.merge(r2[[addr_key_field, \"placeId\", \"method\", f\"addrOut{street_field}\", f\"addrOut{housenbr_field}\", f\"addrOut{postcode_field}\", f\"addrOut{city_field}\", \"lpostHouseNbr\"]], on=addr_key_field)\n",
    "            mismatches.columns = pd.MultiIndex.from_arrays([[\"Input\"]*6 + [f\"x:{k1}\"]*7 + [f\"y:{k2}\"]*7, mismatches.columns])\n",
    "\n",
    "            mismatch_values = mismatches[(mismatches[f\"x:{k1}\"].rename(lambda x: x.replace(\"_x\", \"\"), axis=1).fillna(\"\") != \n",
    "                                          mismatches[f\"y:{k2}\"].rename(lambda x: x.replace(\"_y\", \"\"), axis=1).fillna(\"\")).any(axis=1)]\n",
    "            \n",
    "            mismatch_values_no_nmbr = mismatches[(mismatches[f\"x:{k1}\"].rename(lambda x: x.replace(\"_x\", \"\"), axis=1).drop(f\"addrOut{housenbr_field}\", axis=1).fillna(\"\") != \n",
    "                                                  mismatches[f\"y:{k2}\"].rename(lambda x: x.replace(\"_y\", \"\"), axis=1).drop(f\"addrOut{housenbr_field}\", axis=1).fillna(\"\")).any(axis=1)]\n",
    "            \n",
    "            \n",
    "            vc_label = f\"{vc['both']} ({mismatches.shape[0]} - {mismatch_values.shape[0]} - {mismatch_values_no_nmbr.shape[0]}) / {vc['left_only']} / {vc['right_only']}\"\n",
    "            vc_values.loc[k1, k2]=vc_label\n",
    "\n",
    "                \n",
    "            print(f\"{k1} vs {k2}\")\n",
    "            print(vc_label)\n",
    "            print(\"-----------------------------\")\n",
    "            \n",
    "            print(f\"Only in {k1}\")\n",
    "            display(r1[r1[addr_key_field].isin(mg[mg._merge==\"left_only\"][addr_key_field])].merge(addresses))\n",
    "            \n",
    "            print(f\"Only in {k2}\")\n",
    "            display(r2[r2[addr_key_field].isin(mg[mg._merge==\"right_only\"][addr_key_field])].merge(addresses))\n",
    "            \n",
    "            print(\"Mismatch on place_id\")\n",
    "            display(mismatches)\n",
    "            \n",
    "            print(\"Mismatch on values\")\n",
    "            \n",
    "            display(mismatch_values)\n",
    "            \n",
    "            print(\"Mismatch on values (no nbr)\")\n",
    "            display(mismatch_values_no_nmbr)\n",
    "            \n",
    "            print(\"#######################\")\n",
    "            \n",
    "# display(vc_values.fillna(\"\"))"
   ]
  },
  {
   "cell_type": "code",
   "execution_count": null,
   "metadata": {},
   "outputs": [],
   "source": [
    "# r1=results[('check', 'unstruct')].merge(addresses)\n",
    "# r2=results[('check', 'struct')].merge(addresses)\n",
    "r1=results[('nocheck', 'struct')].merge(addresses)\n",
    "r2=results[('check', 'struct')].merge(addresses)\n",
    "k = 2969\n",
    "display(r1.query(f\"addrKey=='{k}'\"))\n",
    "display(r2.query(f\"addrKey=='{k}'\"))"
   ]
  },
  {
   "cell_type": "code",
   "execution_count": null,
   "metadata": {
    "ExecuteTime": {
     "end_time": "2023-02-06T08:09:20.972678Z",
     "start_time": "2023-02-06T08:09:20.972659Z"
    }
   },
   "outputs": [],
   "source": [
    "# addresses.iloc[0:60]#.dtypes"
   ]
  },
  {
   "cell_type": "code",
   "execution_count": null,
   "metadata": {
    "ExecuteTime": {
     "end_time": "2023-02-06T08:09:20.974149Z",
     "start_time": "2023-02-06T08:09:20.974130Z"
    }
   },
   "outputs": [],
   "source": [
    "print(\"Common in both (disagree on place_id - disagree on values - disagree on values, ignoring number) / results only for row / results only for columns\")\n",
    "vc_values.fillna(\"\")"
   ]
  },
  {
   "cell_type": "markdown",
   "metadata": {},
   "source": [
    "# tests"
   ]
  },
  {
   "cell_type": "code",
   "execution_count": null,
   "metadata": {
    "ExecuteTime": {
     "end_time": "2023-02-06T08:09:20.975847Z",
     "start_time": "2023-02-06T08:09:20.975827Z"
    }
   },
   "outputs": [],
   "source": [
    "osm_host =\"172.27.0.64:8080\"\n",
    "def get_osm(addr, accept_language = \"\"): #lg = \"en,fr,nl\"\n",
    "    params = urllib.parse.urlencode({\"q\": addr,\n",
    "                                    \"format\":\"jsonv2\",\n",
    "                                    \"accept-language\":accept_language,\n",
    "                                    \"addressdetails\":\"1\",\n",
    "                                    \"namedetails\" : \"1\",\n",
    "                                    \"limit\": \"50\"\n",
    "                                    })\n",
    "    \n",
    "    url = \"http://%s/search.php?%s\"%(osm_host, params)\n",
    "#     print(f\"Call to OSM: {url}\")\n",
    "    try: \n",
    "        with urllib.request.urlopen(url) as response:\n",
    "            res = response.read()\n",
    "            res = json.loads(res)\n",
    "#             return res\n",
    "            return [ {field: item[field] for field in [\"place_id\", \"lat\", \"lon\", \"display_name\", \"address\", \"namedetails\", \"place_rank\", \"category\", \"type\"]} for item in res] \n",
    "    except Exception as e:\n",
    "        raise Exception (f\"Cannot get OSM results ({osm_host}): {e}\") "
   ]
  },
  {
   "cell_type": "code",
   "execution_count": null,
   "metadata": {
    "ExecuteTime": {
     "end_time": "2023-02-06T08:09:20.977573Z",
     "start_time": "2023-02-06T08:09:20.977552Z"
    }
   },
   "outputs": [],
   "source": [
    "%timeit get_osm(\"Av. Fonsny 20, 1060 Bruxelles\")"
   ]
  },
  {
   "cell_type": "code",
   "execution_count": null,
   "metadata": {},
   "outputs": [],
   "source": []
  }
 ],
 "metadata": {
  "kernelspec": {
   "display_name": "Python 3 (ipykernel)",
   "language": "python",
   "name": "python3"
  },
  "language_info": {
   "codemirror_mode": {
    "name": "ipython",
    "version": 3
   },
   "file_extension": ".py",
   "mimetype": "text/x-python",
   "name": "python",
   "nbconvert_exporter": "python",
   "pygments_lexer": "ipython3",
   "version": "3.9.12"
  },
  "toc": {
   "base_numbering": 1,
   "nav_menu": {},
   "number_sections": true,
   "sideBar": true,
   "skip_h1_title": false,
   "title_cell": "Table of Contents",
   "title_sidebar": "Contents",
   "toc_cell": false,
   "toc_position": {
    "height": "calc(100% - 180px)",
    "left": "10px",
    "top": "150px",
    "width": "304px"
   },
   "toc_section_display": true,
   "toc_window_display": true
  },
  "varInspector": {
   "cols": {
    "lenName": 16,
    "lenType": 16,
    "lenVar": 40
   },
   "kernels_config": {
    "python": {
     "delete_cmd_postfix": "",
     "delete_cmd_prefix": "del ",
     "library": "var_list.py",
     "varRefreshCmd": "print(var_dic_list())"
    },
    "r": {
     "delete_cmd_postfix": ") ",
     "delete_cmd_prefix": "rm(",
     "library": "var_list.r",
     "varRefreshCmd": "cat(var_dic_list()) "
    }
   },
   "types_to_exclude": [
    "module",
    "function",
    "builtin_function_or_method",
    "instance",
    "_Feature"
   ],
   "window_display": false
  }
 },
 "nbformat": 4,
 "nbformat_minor": 4
}
